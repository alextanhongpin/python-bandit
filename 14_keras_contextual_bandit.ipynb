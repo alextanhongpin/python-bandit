{
 "cells": [
  {
   "cell_type": "code",
   "execution_count": 211,
   "id": "74c7c8af-6570-46a2-bf2e-f979c8a0a5cd",
   "metadata": {
    "execution": {
     "iopub.execute_input": "2024-02-06T09:07:56.641350Z",
     "iopub.status.busy": "2024-02-06T09:07:56.636789Z",
     "iopub.status.idle": "2024-02-06T09:07:56.676712Z",
     "shell.execute_reply": "2024-02-06T09:07:56.674220Z",
     "shell.execute_reply.started": "2024-02-06T09:07:56.641308Z"
    }
   },
   "outputs": [],
   "source": [
    "import os\n",
    "\n",
    "import matplotlib.pyplot as plt\n",
    "import numpy as np\n",
    "import pandas as pd\n",
    "import seaborn as sns\n",
    "from scipy.sparse import csr_matrix\n",
    "from tqdm.autonotebook import tqdm\n",
    "\n",
    "import bandit.environment as env\n",
    "from bandit.policy import EGreedy, Softmax\n",
    "from bandit.tensorflow import (\n",
    "    NeuralBandit,\n",
    "    NeuralPerArmBandit,\n",
    "    NeuralPolicyBandit,\n",
    "    create_models,\n",
    ")\n",
    "\n",
    "sns.set_theme()"
   ]
  },
  {
   "cell_type": "code",
   "execution_count": 210,
   "id": "cd3bf555-8984-4717-a6bf-957d0a5413de",
   "metadata": {
    "execution": {
     "iopub.execute_input": "2024-02-06T09:07:55.103612Z",
     "iopub.status.busy": "2024-02-06T09:07:55.103012Z",
     "iopub.status.idle": "2024-02-06T09:07:56.233585Z",
     "shell.execute_reply": "2024-02-06T09:07:56.232357Z",
     "shell.execute_reply.started": "2024-02-06T09:07:55.103564Z"
    }
   },
   "outputs": [
    {
     "data": {
      "text/plain": [
       "<module 'bandit.tensorflow' from '/Users/alextanhongpin/Documents/python/python-bandit/bandit/tensorflow.py'>"
      ]
     },
     "execution_count": 210,
     "metadata": {},
     "output_type": "execute_result"
    }
   ],
   "source": [
    "import importlib\n",
    "\n",
    "import bandit\n",
    "\n",
    "importlib.reload(bandit)\n",
    "importlib.reload(bandit.tensorflow)"
   ]
  },
  {
   "cell_type": "code",
   "execution_count": 181,
   "id": "41e39611-dc39-4ac5-bcc9-cb3f7abf63f6",
   "metadata": {
    "execution": {
     "iopub.execute_input": "2024-02-06T08:54:53.476222Z",
     "iopub.status.busy": "2024-02-06T08:54:53.475797Z",
     "iopub.status.idle": "2024-02-06T08:54:53.528994Z",
     "shell.execute_reply": "2024-02-06T08:54:53.512700Z",
     "shell.execute_reply.started": "2024-02-06T08:54:53.476195Z"
    }
   },
   "outputs": [
    {
     "data": {
      "text/plain": [
       "'2.15.0'"
      ]
     },
     "execution_count": 181,
     "metadata": {},
     "output_type": "execute_result"
    }
   ],
   "source": [
    "import keras\n",
    "\n",
    "keras.__version__"
   ]
  },
  {
   "cell_type": "code",
   "execution_count": 111,
   "id": "e90ab376-269a-4e69-bb5e-7780094515d6",
   "metadata": {
    "execution": {
     "iopub.execute_input": "2024-02-06T08:41:28.982346Z",
     "iopub.status.busy": "2024-02-06T08:41:28.981685Z",
     "iopub.status.idle": "2024-02-06T08:41:29.000969Z",
     "shell.execute_reply": "2024-02-06T08:41:28.999956Z",
     "shell.execute_reply.started": "2024-02-06T08:41:28.982312Z"
    }
   },
   "outputs": [],
   "source": [
    "N = 1000\n",
    "\n",
    "\n",
    "def run_simulation(bandit, policy, n=N, dynamic=False):\n",
    "    total_reward = 0\n",
    "    avg_rewards = []\n",
    "    rng = np.random.RandomState(42)\n",
    "\n",
    "    for i in tqdm(range(n), disable=False):\n",
    "        state = env.observe(rng)\n",
    "\n",
    "        # 1. Predict the action.\n",
    "        rewards = bandit.pull(state)\n",
    "\n",
    "        action = policy(rewards)\n",
    "\n",
    "        # 2. Act and get the reward.\n",
    "        if dynamic and i > n // 2:\n",
    "            get_cost = env.get_cost_new\n",
    "        else:\n",
    "            get_cost = env.get_cost\n",
    "        reward = get_cost(state, env.actions[action])\n",
    "        # Change reward to 0 or 1 instead of -1 or 1\n",
    "\n",
    "        # 3. Update the model.\n",
    "        bandit.update(state, action, reward)\n",
    "\n",
    "        # 4. Save the reward.\n",
    "        total_reward += max(0, reward)\n",
    "        avg_rewards.append(total_reward / (i + 1))\n",
    "    return avg_rewards, total_reward\n",
    "\n",
    "\n",
    "expected = [\n",
    "    ({\"user\": \"Tom\", \"time_of_day\": \"morning\"}, \"politics\"),\n",
    "    ({\"user\": \"Tom\", \"time_of_day\": \"afternoon\"}, \"music\"),\n",
    "    ({\"user\": \"Anna\", \"time_of_day\": \"morning\"}, \"sports\"),\n",
    "    ({\"user\": \"Anna\", \"time_of_day\": \"afternoon\"}, \"politics\"),\n",
    "]\n",
    "\n",
    "\n",
    "def debug_bandit(bandit):\n",
    "    for i, act in enumerate(env.actions):\n",
    "        print(i, act)\n",
    "    print()\n",
    "    policy = EGreedy(epsilon=0.0)\n",
    "\n",
    "    for state, want in expected:\n",
    "        rewards = bandit.pull(state)\n",
    "        got = env.actions[policy(rewards)]\n",
    "        if got != want:\n",
    "            encoded = bandit.preprocess.transform(\n",
    "                [env.feature_interaction(state, env.actions.index(want))]\n",
    "            ).toarray()\n",
    "            print(\n",
    "                f\"state({state}): got {got} ({env.actions.index(got)}), want {want} ({env.actions.index(want)})\"\n",
    "            )\n",
    "            print(f\"encoded {encoded}\")\n",
    "            print(f\"rewards {np.round(rewards, 2)}, {np.argmax(rewards)}\")\n",
    "            print()"
   ]
  },
  {
   "cell_type": "markdown",
   "id": "6fba9ec4-c232-4d32-b6c1-d8f6867d94b1",
   "metadata": {},
   "source": [
    "## Neural Bandit - Static"
   ]
  },
  {
   "cell_type": "code",
   "execution_count": 5,
   "id": "b2b5615c-7b50-4d95-8134-97353c098b18",
   "metadata": {
    "execution": {
     "iopub.execute_input": "2024-02-06T05:36:15.654573Z",
     "iopub.status.busy": "2024-02-06T05:36:15.653396Z",
     "iopub.status.idle": "2024-02-06T05:38:19.827381Z",
     "shell.execute_reply": "2024-02-06T05:38:19.826016Z",
     "shell.execute_reply.started": "2024-02-06T05:36:15.654539Z"
    }
   },
   "outputs": [
    {
     "name": "stderr",
     "output_type": "stream",
     "text": [
      "100%|██████████████████████████████████████████████████████████████████████████████████████████████████████████████| 1000/1000 [02:04<00:00,  8.06it/s]\n"
     ]
    }
   ],
   "source": [
    "policy = EGreedy(epsilon=0.0)\n",
    "bandit = NeuralBandit(n_arms=len(env.actions), batch=1)\n",
    "\n",
    "avg_rewards, total_reward = run_simulation(bandit, policy, n=N, dynamic=False)"
   ]
  },
  {
   "cell_type": "code",
   "execution_count": 6,
   "id": "dec1b152-ebac-4631-bf31-69a52099c2ff",
   "metadata": {
    "execution": {
     "iopub.execute_input": "2024-02-06T05:38:19.830472Z",
     "iopub.status.busy": "2024-02-06T05:38:19.829477Z",
     "iopub.status.idle": "2024-02-06T05:38:20.029113Z",
     "shell.execute_reply": "2024-02-06T05:38:20.020322Z",
     "shell.execute_reply.started": "2024-02-06T05:38:19.830418Z"
    }
   },
   "outputs": [
    {
     "data": {
      "text/plain": [
       "691.0"
      ]
     },
     "execution_count": 6,
     "metadata": {},
     "output_type": "execute_result"
    }
   ],
   "source": [
    "total_reward"
   ]
  },
  {
   "cell_type": "code",
   "execution_count": 7,
   "id": "760fc3db-8bd9-4085-9401-75f7c19c404c",
   "metadata": {
    "execution": {
     "iopub.execute_input": "2024-02-06T05:38:20.119851Z",
     "iopub.status.busy": "2024-02-06T05:38:20.115226Z",
     "iopub.status.idle": "2024-02-06T05:38:20.508131Z",
     "shell.execute_reply": "2024-02-06T05:38:20.506613Z",
     "shell.execute_reply.started": "2024-02-06T05:38:20.119801Z"
    }
   },
   "outputs": [
    {
     "name": "stdout",
     "output_type": "stream",
     "text": [
      "0 politics\n",
      "1 sports\n",
      "2 music\n",
      "3 food\n",
      "4 finance\n",
      "5 health\n",
      "6 camping\n",
      "\n",
      "state({'user': 'Tom', 'time_of_day': 'afternoon'}): got finance (4), want music (2)\n",
      "encoded [[-1.  0.  1.  0.  1.  0. -1. -1.]]\n",
      "rewards [0. 0. 0. 0. 0. 0. 0.], 4\n",
      "\n"
     ]
    }
   ],
   "source": [
    "debug_bandit(bandit)"
   ]
  },
  {
   "cell_type": "code",
   "execution_count": 8,
   "id": "9afa58a4-1934-41a8-9f91-fb158af3b145",
   "metadata": {
    "execution": {
     "iopub.execute_input": "2024-02-06T05:38:20.511000Z",
     "iopub.status.busy": "2024-02-06T05:38:20.509757Z",
     "iopub.status.idle": "2024-02-06T05:38:20.839114Z",
     "shell.execute_reply": "2024-02-06T05:38:20.837939Z",
     "shell.execute_reply.started": "2024-02-06T05:38:20.510952Z"
    },
    "scrolled": true
   },
   "outputs": [
    {
     "data": {
      "text/plain": [
       "[<matplotlib.lines.Line2D at 0x1348239d0>]"
      ]
     },
     "execution_count": 8,
     "metadata": {},
     "output_type": "execute_result"
    },
    {
     "data": {
      "image/png": "[encoded data removed]",
      "text/plain": [
       "<Figure size 640x480 with 1 Axes>"
      ]
     },
     "metadata": {},
     "output_type": "display_data"
    }
   ],
   "source": [
    "plt.plot(range(N), avg_rewards)"
   ]
  },
  {
   "cell_type": "markdown",
   "id": "8fe8459a-beab-4c4c-bc82-47f4b6ce8b18",
   "metadata": {},
   "source": [
    "## Neural Bandit - Dynamic"
   ]
  },
  {
   "cell_type": "code",
   "execution_count": 9,
   "id": "9308a116-d33a-40d6-b9c4-42889d6217ee",
   "metadata": {
    "execution": {
     "iopub.execute_input": "2024-02-06T05:38:20.841357Z",
     "iopub.status.busy": "2024-02-06T05:38:20.840472Z",
     "iopub.status.idle": "2024-02-06T05:40:25.194615Z",
     "shell.execute_reply": "2024-02-06T05:40:25.193265Z",
     "shell.execute_reply.started": "2024-02-06T05:38:20.841274Z"
    }
   },
   "outputs": [
    {
     "name": "stderr",
     "output_type": "stream",
     "text": [
      "100%|██████████████████████████████████████████████████████████████████████████████████████████████████████████████| 1000/1000 [02:04<00:00,  8.04it/s]\n"
     ]
    }
   ],
   "source": [
    "policy = EGreedy(epsilon=0.0)\n",
    "bandit = NeuralBandit(n_arms=len(env.actions), batch=1)\n",
    "\n",
    "avg_rewards, total_reward = run_simulation(bandit, policy, n=N, dynamic=True)"
   ]
  },
  {
   "cell_type": "code",
   "execution_count": 10,
   "id": "54d3eb14-855f-4135-8409-ecedbcba5952",
   "metadata": {
    "execution": {
     "iopub.execute_input": "2024-02-06T05:40:25.197397Z",
     "iopub.status.busy": "2024-02-06T05:40:25.196225Z",
     "iopub.status.idle": "2024-02-06T05:40:25.326710Z",
     "shell.execute_reply": "2024-02-06T05:40:25.323012Z",
     "shell.execute_reply.started": "2024-02-06T05:40:25.197298Z"
    }
   },
   "outputs": [
    {
     "data": {
      "text/plain": [
       "722.0"
      ]
     },
     "execution_count": 10,
     "metadata": {},
     "output_type": "execute_result"
    }
   ],
   "source": [
    "total_reward"
   ]
  },
  {
   "cell_type": "code",
   "execution_count": 11,
   "id": "3d3da041-7db7-4b58-a6ca-8259e1aff66e",
   "metadata": {
    "execution": {
     "iopub.execute_input": "2024-02-06T05:40:25.345471Z",
     "iopub.status.busy": "2024-02-06T05:40:25.344081Z",
     "iopub.status.idle": "2024-02-06T05:40:25.788984Z",
     "shell.execute_reply": "2024-02-06T05:40:25.787534Z",
     "shell.execute_reply.started": "2024-02-06T05:40:25.345421Z"
    }
   },
   "outputs": [
    {
     "data": {
      "text/plain": [
       "[<matplotlib.lines.Line2D at 0x133e7e0b0>]"
      ]
     },
     "execution_count": 11,
     "metadata": {},
     "output_type": "execute_result"
    },
    {
     "data": {
      "image/png": "[encoded data removed]",
      "text/plain": [
       "<Figure size 640x480 with 1 Axes>"
      ]
     },
     "metadata": {},
     "output_type": "display_data"
    }
   ],
   "source": [
    "plt.plot(range(N), avg_rewards)"
   ]
  },
  {
   "cell_type": "code",
   "execution_count": 12,
   "id": "3ae62aba-7b2d-4929-86a9-d6042f895438",
   "metadata": {
    "execution": {
     "iopub.execute_input": "2024-02-06T05:40:25.794907Z",
     "iopub.status.busy": "2024-02-06T05:40:25.790726Z",
     "iopub.status.idle": "2024-02-06T05:40:26.052298Z",
     "shell.execute_reply": "2024-02-06T05:40:26.051172Z",
     "shell.execute_reply.started": "2024-02-06T05:40:25.794823Z"
    }
   },
   "outputs": [
    {
     "name": "stdout",
     "output_type": "stream",
     "text": [
      "0 politics\n",
      "1 sports\n",
      "2 music\n",
      "3 food\n",
      "4 finance\n",
      "5 health\n",
      "6 camping\n",
      "\n",
      "state({'user': 'Tom', 'time_of_day': 'afternoon'}): got camping (6), want music (2)\n",
      "encoded [[-1.  0.  1.  0.  1.  0. -1. -1.]]\n",
      "rewards [0. 0. 0. 0. 0. 0. 0.], 4\n",
      "\n",
      "state({'user': 'Anna', 'time_of_day': 'afternoon'}): got sports (1), want politics (0)\n",
      "encoded [[-1.  0. -1.  0.  0.  0. -1.  0.]]\n",
      "rewards [0. 0. 0. 0. 0. 0. 0.], 1\n",
      "\n"
     ]
    }
   ],
   "source": [
    "debug_bandit(bandit)"
   ]
  },
  {
   "cell_type": "markdown",
   "id": "ec2f0459-3d08-46f8-b024-11ad3f124908",
   "metadata": {},
   "source": [
    "Why is the tensorflow version performing worse than the scikit-learn MultiLayerPerceptron? The example has been modified to ue the `one_hot_encoding` instead of `feature_interaction`, but the result is still the same.\n",
    "\n",
    "How about the pytorch version?"
   ]
  },
  {
   "cell_type": "markdown",
   "id": "a1a3b0f8-de6a-4fa1-9655-006c6003de80",
   "metadata": {},
   "source": [
    "## Per-arm Bandit"
   ]
  },
  {
   "cell_type": "code",
   "execution_count": 13,
   "id": "f218280a-984c-443e-b385-7bb0742d8286",
   "metadata": {
    "execution": {
     "iopub.execute_input": "2024-02-06T05:40:26.057374Z",
     "iopub.status.busy": "2024-02-06T05:40:26.053668Z",
     "iopub.status.idle": "2024-02-06T05:41:55.506179Z",
     "shell.execute_reply": "2024-02-06T05:41:55.504274Z",
     "shell.execute_reply.started": "2024-02-06T05:40:26.057334Z"
    },
    "scrolled": true
   },
   "outputs": [
    {
     "name": "stderr",
     "output_type": "stream",
     "text": [
      "  0%|                                                                                                                         | 0/1000 [00:00<?, ?it/s]"
     ]
    },
    {
     "name": "stdout",
     "output_type": "stream",
     "text": [
      "WARNING:tensorflow:5 out of the last 2012 calls to <function Model.make_predict_function.<locals>.predict_function at 0x1347ea200> triggered tf.function retracing. Tracing is expensive and the excessive number of tracings could be due to (1) creating @tf.function repeatedly in a loop, (2) passing tensors with different shapes, (3) passing Python objects instead of tensors. For (1), please define your @tf.function outside of the loop. For (2), @tf.function has reduce_retracing=True option that can avoid unnecessary retracing. For (3), please refer to https://www.tensorflow.org/guide/function#controlling_retracing and https://www.tensorflow.org/api_docs/python/tf/function for  more details.\n",
      "WARNING:tensorflow:6 out of the last 2013 calls to <function Model.make_predict_function.<locals>.predict_function at 0x1347ea8c0> triggered tf.function retracing. Tracing is expensive and the excessive number of tracings could be due to (1) creating @tf.function repeatedly in a loop, (2) passing tensors with different shapes, (3) passing Python objects instead of tensors. For (1), please define your @tf.function outside of the loop. For (2), @tf.function has reduce_retracing=True option that can avoid unnecessary retracing. For (3), please refer to https://www.tensorflow.org/guide/function#controlling_retracing and https://www.tensorflow.org/api_docs/python/tf/function for  more details.\n"
     ]
    },
    {
     "name": "stderr",
     "output_type": "stream",
     "text": [
      "100%|██████████████████████████████████████████████████████████████████████████████████████████████████████████████| 1000/1000 [01:29<00:00, 11.23it/s]\n"
     ]
    }
   ],
   "source": [
    "policy = EGreedy(epsilon=0.0)\n",
    "bandit = NeuralPerArmBandit(batch=1, models=create_models(len(env.actions)))\n",
    "\n",
    "avg_rewards, total_reward = run_simulation(bandit, policy, n=N, dynamic=False)"
   ]
  },
  {
   "cell_type": "code",
   "execution_count": 14,
   "id": "4609d506-dc0d-4527-9482-753c40e5b97c",
   "metadata": {
    "execution": {
     "iopub.execute_input": "2024-02-06T05:41:55.508838Z",
     "iopub.status.busy": "2024-02-06T05:41:55.508245Z",
     "iopub.status.idle": "2024-02-06T05:41:55.725350Z",
     "shell.execute_reply": "2024-02-06T05:41:55.717565Z",
     "shell.execute_reply.started": "2024-02-06T05:41:55.508784Z"
    }
   },
   "outputs": [
    {
     "data": {
      "text/plain": [
       "622.0"
      ]
     },
     "execution_count": 14,
     "metadata": {},
     "output_type": "execute_result"
    }
   ],
   "source": [
    "total_reward"
   ]
  },
  {
   "cell_type": "code",
   "execution_count": 15,
   "id": "45e0d32a-9167-4107-8e9f-e746ef98bd0a",
   "metadata": {
    "execution": {
     "iopub.execute_input": "2024-02-06T05:41:55.729612Z",
     "iopub.status.busy": "2024-02-06T05:41:55.729071Z",
     "iopub.status.idle": "2024-02-06T05:41:56.272470Z",
     "shell.execute_reply": "2024-02-06T05:41:56.271419Z",
     "shell.execute_reply.started": "2024-02-06T05:41:55.729545Z"
    }
   },
   "outputs": [
    {
     "data": {
      "text/plain": [
       "[<matplotlib.lines.Line2D at 0x134f25480>]"
      ]
     },
     "execution_count": 15,
     "metadata": {},
     "output_type": "execute_result"
    },
    {
     "data": {
      "image/png": "[encoded data removed]",
      "text/plain": [
       "<Figure size 640x480 with 1 Axes>"
      ]
     },
     "metadata": {},
     "output_type": "display_data"
    }
   ],
   "source": [
    "plt.plot(range(N), avg_rewards)"
   ]
  },
  {
   "cell_type": "code",
   "execution_count": 16,
   "id": "7231146f-9f45-4047-aa1e-b19ca2213a51",
   "metadata": {
    "execution": {
     "iopub.execute_input": "2024-02-06T05:41:56.278248Z",
     "iopub.status.busy": "2024-02-06T05:41:56.273998Z",
     "iopub.status.idle": "2024-02-06T05:41:56.632135Z",
     "shell.execute_reply": "2024-02-06T05:41:56.631149Z",
     "shell.execute_reply.started": "2024-02-06T05:41:56.278212Z"
    }
   },
   "outputs": [
    {
     "name": "stdout",
     "output_type": "stream",
     "text": [
      "0 politics\n",
      "1 sports\n",
      "2 music\n",
      "3 food\n",
      "4 finance\n",
      "5 health\n",
      "6 camping\n",
      "\n",
      "state({'user': 'Tom', 'time_of_day': 'afternoon'}): got politics (0), want music (2)\n",
      "encoded [[-1.  0.  1.  0.  1.  0. -1. -1.]]\n",
      "rewards [0.98 0.09 0.06 0.27 0.15 0.35 0.53], 0\n",
      "\n"
     ]
    }
   ],
   "source": [
    "debug_bandit(bandit)"
   ]
  },
  {
   "cell_type": "markdown",
   "id": "be6916b6-3adf-4a24-962b-4a7a0fbfd1c1",
   "metadata": {},
   "source": [
    "## REINFORCE Policy - static"
   ]
  },
  {
   "cell_type": "code",
   "execution_count": 217,
   "id": "ee12fd17-60ca-420d-a3b8-72b92e0e76d4",
   "metadata": {
    "execution": {
     "iopub.execute_input": "2024-02-06T09:08:44.568244Z",
     "iopub.status.busy": "2024-02-06T09:08:44.567265Z",
     "iopub.status.idle": "2024-02-06T09:09:50.686779Z",
     "shell.execute_reply": "2024-02-06T09:09:50.685024Z",
     "shell.execute_reply.started": "2024-02-06T09:08:44.568184Z"
    }
   },
   "outputs": [
    {
     "name": "stderr",
     "output_type": "stream",
     "text": [
      "100%|████████████████████████████████████████████████████████████████████████████████████████████████████████████████| 500/500 [01:05<00:00,  7.58it/s]\n"
     ]
    }
   ],
   "source": [
    "N = 500\n",
    "policy = EGreedy(epsilon=0.0)\n",
    "bandit = NeuralPolicyBandit(n_arms=len(env.actions))\n",
    "\n",
    "avg_rewards, total_reward = run_simulation(bandit, policy, n=N, dynamic=False)"
   ]
  },
  {
   "cell_type": "code",
   "execution_count": 218,
   "id": "a2e353eb-e29a-474a-9cf3-bbf59eec7321",
   "metadata": {
    "execution": {
     "iopub.execute_input": "2024-02-06T09:09:50.713214Z",
     "iopub.status.busy": "2024-02-06T09:09:50.691643Z",
     "iopub.status.idle": "2024-02-06T09:09:50.905583Z",
     "shell.execute_reply": "2024-02-06T09:09:50.896996Z",
     "shell.execute_reply.started": "2024-02-06T09:09:50.713149Z"
    }
   },
   "outputs": [
    {
     "data": {
      "text/plain": [
       "360.0"
      ]
     },
     "execution_count": 218,
     "metadata": {},
     "output_type": "execute_result"
    }
   ],
   "source": [
    "total_reward"
   ]
  },
  {
   "cell_type": "code",
   "execution_count": 219,
   "id": "5d278b8f-00ad-45b0-b6dc-8cedbb6cac1b",
   "metadata": {
    "execution": {
     "iopub.execute_input": "2024-02-06T09:09:50.978937Z",
     "iopub.status.busy": "2024-02-06T09:09:50.971214Z",
     "iopub.status.idle": "2024-02-06T09:09:51.455663Z",
     "shell.execute_reply": "2024-02-06T09:09:51.454401Z",
     "shell.execute_reply.started": "2024-02-06T09:09:50.978878Z"
    }
   },
   "outputs": [
    {
     "data": {
      "text/plain": [
       "[<matplotlib.lines.Line2D at 0x13ed98340>]"
      ]
     },
     "execution_count": 219,
     "metadata": {},
     "output_type": "execute_result"
    },
    {
     "data": {
      "image/png": "[encoded data removed]",
      "text/plain": [
       "<Figure size 640x480 with 1 Axes>"
      ]
     },
     "metadata": {},
     "output_type": "display_data"
    }
   ],
   "source": [
    "plt.plot(range(N), avg_rewards)"
   ]
  },
  {
   "cell_type": "code",
   "execution_count": 220,
   "id": "2c21e131-1045-4db4-b2a8-0b03880ec965",
   "metadata": {
    "execution": {
     "iopub.execute_input": "2024-02-06T09:09:51.472252Z",
     "iopub.status.busy": "2024-02-06T09:09:51.471758Z",
     "iopub.status.idle": "2024-02-06T09:09:51.803014Z",
     "shell.execute_reply": "2024-02-06T09:09:51.802094Z",
     "shell.execute_reply.started": "2024-02-06T09:09:51.472204Z"
    }
   },
   "outputs": [
    {
     "name": "stdout",
     "output_type": "stream",
     "text": [
      "0 politics\n",
      "1 sports\n",
      "2 music\n",
      "3 food\n",
      "4 finance\n",
      "5 health\n",
      "6 camping\n",
      "\n"
     ]
    }
   ],
   "source": [
    "debug_bandit(bandit)"
   ]
  },
  {
   "cell_type": "markdown",
   "id": "708a2e6b-739c-4f96-b43e-10f972fcdd03",
   "metadata": {
    "execution": {
     "iopub.execute_input": "2024-02-06T09:02:07.451614Z",
     "iopub.status.busy": "2024-02-06T09:02:07.449070Z",
     "iopub.status.idle": "2024-02-06T09:02:07.480163Z",
     "shell.execute_reply": "2024-02-06T09:02:07.460537Z",
     "shell.execute_reply.started": "2024-02-06T09:02:07.451547Z"
    }
   },
   "source": [
    "## REINFORCE Policy - dynamic"
   ]
  },
  {
   "cell_type": "code",
   "execution_count": 221,
   "id": "0eb34f9b-a8ad-47f9-9459-2caf46ae7de4",
   "metadata": {
    "execution": {
     "iopub.execute_input": "2024-02-06T09:09:51.804559Z",
     "iopub.status.busy": "2024-02-06T09:09:51.804218Z",
     "iopub.status.idle": "2024-02-06T09:11:00.729736Z",
     "shell.execute_reply": "2024-02-06T09:11:00.728169Z",
     "shell.execute_reply.started": "2024-02-06T09:09:51.804534Z"
    }
   },
   "outputs": [
    {
     "name": "stderr",
     "output_type": "stream",
     "text": [
      "100%|████████████████████████████████████████████████████████████████████████████████████████████████████████████████| 500/500 [01:08<00:00,  7.27it/s]\n"
     ]
    }
   ],
   "source": [
    "N = 500\n",
    "policy = EGreedy(epsilon=0.0)\n",
    "bandit = NeuralPolicyBandit(n_arms=len(env.actions))\n",
    "\n",
    "avg_rewards, total_reward = run_simulation(bandit, policy, n=N, dynamic=True)"
   ]
  },
  {
   "cell_type": "code",
   "execution_count": 222,
   "id": "d06f85e7-cf0c-4c38-8afb-5556067220c3",
   "metadata": {
    "execution": {
     "iopub.execute_input": "2024-02-06T09:11:00.734203Z",
     "iopub.status.busy": "2024-02-06T09:11:00.731958Z",
     "iopub.status.idle": "2024-02-06T09:11:00.853179Z",
     "shell.execute_reply": "2024-02-06T09:11:00.848528Z",
     "shell.execute_reply.started": "2024-02-06T09:11:00.734093Z"
    }
   },
   "outputs": [
    {
     "data": {
      "text/plain": [
       "371.0"
      ]
     },
     "execution_count": 222,
     "metadata": {},
     "output_type": "execute_result"
    }
   ],
   "source": [
    "total_reward"
   ]
  },
  {
   "cell_type": "code",
   "execution_count": 223,
   "id": "eb62ff92-e189-479d-8dd0-fc49c444a153",
   "metadata": {
    "execution": {
     "iopub.execute_input": "2024-02-06T09:11:00.856951Z",
     "iopub.status.busy": "2024-02-06T09:11:00.856189Z",
     "iopub.status.idle": "2024-02-06T09:11:01.433352Z",
     "shell.execute_reply": "2024-02-06T09:11:01.432364Z",
     "shell.execute_reply.started": "2024-02-06T09:11:00.856901Z"
    }
   },
   "outputs": [
    {
     "data": {
      "text/plain": [
       "[<matplotlib.lines.Line2D at 0x13cc8fb50>]"
      ]
     },
     "execution_count": 223,
     "metadata": {},
     "output_type": "execute_result"
    },
    {
     "data": {
      "image/png": "[encoded data removed]",
      "text/plain": [
       "<Figure size 640x480 with 1 Axes>"
      ]
     },
     "metadata": {},
     "output_type": "display_data"
    }
   ],
   "source": [
    "plt.plot(range(N), avg_rewards)"
   ]
  },
  {
   "cell_type": "code",
   "execution_count": 224,
   "id": "265991f3-dd1f-4ece-a729-f4dbc70e15c7",
   "metadata": {
    "execution": {
     "iopub.execute_input": "2024-02-06T09:11:01.435324Z",
     "iopub.status.busy": "2024-02-06T09:11:01.434412Z",
     "iopub.status.idle": "2024-02-06T09:11:02.001749Z",
     "shell.execute_reply": "2024-02-06T09:11:02.000857Z",
     "shell.execute_reply.started": "2024-02-06T09:11:01.435294Z"
    }
   },
   "outputs": [
    {
     "name": "stdout",
     "output_type": "stream",
     "text": [
      "0 politics\n",
      "1 sports\n",
      "2 music\n",
      "3 food\n",
      "4 finance\n",
      "5 health\n",
      "6 camping\n",
      "\n",
      "state({'user': 'Tom', 'time_of_day': 'afternoon'}): got sports (1), want music (2)\n",
      "encoded [[-1.  0.  1.  0.  1.  0. -1. -1.]]\n",
      "rewards [0.   0.96 0.   0.01 0.01 0.01 0.01], 1\n",
      "\n",
      "state({'user': 'Anna', 'time_of_day': 'afternoon'}): got sports (1), want politics (0)\n",
      "encoded [[-1.  0. -1.  0.  0.  0. -1.  0.]]\n",
      "rewards [0. 1. 0. 0. 0. 0. 0.], 1\n",
      "\n"
     ]
    }
   ],
   "source": [
    "debug_bandit(bandit)"
   ]
  },
  {
   "cell_type": "code",
   "execution_count": null,
   "id": "daa5d67e-a1c8-4978-85fe-784799ea6d26",
   "metadata": {},
   "outputs": [],
   "source": []
  }
 ],
 "metadata": {
  "kernelspec": {
   "display_name": "Python 3 (ipykernel)",
   "language": "python",
   "name": "python3"
  },
  "language_info": {
   "codemirror_mode": {
    "name": "ipython",
    "version": 3
   },
   "file_extension": ".py",
   "mimetype": "text/x-python",
   "name": "python",
   "nbconvert_exporter": "python",
   "pygments_lexer": "ipython3",
   "version": "3.10.13"
  },
  "widgets": {
   "application/vnd.jupyter.widget-state+json": {
    "state": {},
    "version_major": 2,
    "version_minor": 0
   }
  }
 },
 "nbformat": 4,
 "nbformat_minor": 5
}
