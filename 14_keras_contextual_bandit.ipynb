{
 "cells": [
  {
   "cell_type": "code",
   "execution_count": 1,
   "id": "74c7c8af-6570-46a2-bf2e-f979c8a0a5cd",
   "metadata": {
    "execution": {
     "iopub.execute_input": "2024-02-05T18:17:02.176452Z",
     "iopub.status.busy": "2024-02-05T18:17:02.172092Z",
     "iopub.status.idle": "2024-02-05T18:17:08.302158Z",
     "shell.execute_reply": "2024-02-05T18:17:08.300776Z",
     "shell.execute_reply.started": "2024-02-05T18:17:02.176357Z"
    }
   },
   "outputs": [
    {
     "name": "stderr",
     "output_type": "stream",
     "text": [
      "/var/folders/7m/74_ct3hx33d878n626w1wxyc0000gn/T/ipykernel_15069/3320508521.py:5: DeprecationWarning: \n",
      "Pyarrow will become a required dependency of pandas in the next major release of pandas (pandas 3.0),\n",
      "(to allow more performant data types, such as the Arrow string type, and better interoperability with other libraries)\n",
      "but was not found to be installed on your system.\n",
      "If this would cause problems for you,\n",
      "please provide us feedback at https://github.com/pandas-dev/pandas/issues/54466\n",
      "        \n",
      "  import pandas as pd\n",
      "/var/folders/7m/74_ct3hx33d878n626w1wxyc0000gn/T/ipykernel_15069/3320508521.py:8: TqdmWarning: IProgress not found. Please update jupyter and ipywidgets. See https://ipywidgets.readthedocs.io/en/stable/user_install.html\n",
      "  from tqdm.autonotebook import tqdm\n",
      "2024-02-06 02:17:05.878000: I tensorflow/core/platform/cpu_feature_guard.cc:182] This TensorFlow binary is optimized to use available CPU instructions in performance-critical operations.\n",
      "To enable the following instructions: AVX2 FMA, in other operations, rebuild TensorFlow with the appropriate compiler flags.\n"
     ]
    }
   ],
   "source": [
    "import os\n",
    "\n",
    "import matplotlib.pyplot as plt\n",
    "import numpy as np\n",
    "import pandas as pd\n",
    "import seaborn as sns\n",
    "from scipy.sparse import csr_matrix\n",
    "from tqdm.autonotebook import tqdm\n",
    "\n",
    "import bandit.environment as env\n",
    "from bandit.policy import EGreedy, Softmax\n",
    "from bandit.tensorflow import NeuralBandit, NeuralPerArmBandit, create_models\n",
    "from bandit.utils import snapshot\n",
    "\n",
    "sns.set_theme()"
   ]
  },
  {
   "cell_type": "code",
   "execution_count": 2,
   "id": "cd3bf555-8984-4717-a6bf-957d0a5413de",
   "metadata": {
    "execution": {
     "iopub.execute_input": "2024-02-05T18:17:08.305490Z",
     "iopub.status.busy": "2024-02-05T18:17:08.305007Z",
     "iopub.status.idle": "2024-02-05T18:17:08.644916Z",
     "shell.execute_reply": "2024-02-05T18:17:08.644090Z",
     "shell.execute_reply.started": "2024-02-05T18:17:08.305459Z"
    }
   },
   "outputs": [
    {
     "data": {
      "text/plain": [
       "<module 'bandit.tensorflow' from '/Users/alextanhongpin/Documents/python/python-bandit/bandit/tensorflow.py'>"
      ]
     },
     "execution_count": 2,
     "metadata": {},
     "output_type": "execute_result"
    }
   ],
   "source": [
    "import importlib\n",
    "\n",
    "import bandit\n",
    "\n",
    "importlib.reload(bandit)\n",
    "importlib.reload(bandit.tensorflow)"
   ]
  },
  {
   "cell_type": "code",
   "execution_count": 3,
   "id": "41e39611-dc39-4ac5-bcc9-cb3f7abf63f6",
   "metadata": {
    "execution": {
     "iopub.execute_input": "2024-02-05T18:17:08.646797Z",
     "iopub.status.busy": "2024-02-05T18:17:08.646369Z",
     "iopub.status.idle": "2024-02-05T18:17:08.695103Z",
     "shell.execute_reply": "2024-02-05T18:17:08.686319Z",
     "shell.execute_reply.started": "2024-02-05T18:17:08.646771Z"
    }
   },
   "outputs": [
    {
     "data": {
      "text/plain": [
       "'2.15.0'"
      ]
     },
     "execution_count": 3,
     "metadata": {},
     "output_type": "execute_result"
    }
   ],
   "source": [
    "import keras\n",
    "\n",
    "keras.__version__"
   ]
  },
  {
   "cell_type": "code",
   "execution_count": 4,
   "id": "e90ab376-269a-4e69-bb5e-7780094515d6",
   "metadata": {
    "execution": {
     "iopub.execute_input": "2024-02-05T18:17:08.709298Z",
     "iopub.status.busy": "2024-02-05T18:17:08.707345Z",
     "iopub.status.idle": "2024-02-05T18:17:08.756481Z",
     "shell.execute_reply": "2024-02-05T18:17:08.752541Z",
     "shell.execute_reply.started": "2024-02-05T18:17:08.709184Z"
    }
   },
   "outputs": [],
   "source": [
    "N = 1000\n",
    "\n",
    "\n",
    "def run_simulation(bandit, policy, n=N, dynamic=False):\n",
    "    total_reward = 0\n",
    "    avg_rewards = []\n",
    "    rng = np.random.RandomState(42)\n",
    "\n",
    "    for i in tqdm(range(n), disable=False):\n",
    "        state = env.observe(rng)\n",
    "\n",
    "        # 1. Predict the action.\n",
    "        rewards = bandit.pull(state)\n",
    "\n",
    "        action = policy(rewards)\n",
    "\n",
    "        # 2. Act and get the reward.\n",
    "        if dynamic and i > n // 2:\n",
    "            get_cost = env.get_cost_new\n",
    "        else:\n",
    "            get_cost = env.get_cost\n",
    "        reward = get_cost(state, env.actions[action])\n",
    "        # Change reward to 0 or 1 instead of -1 or 1\n",
    "        reward = max(0, reward)\n",
    "\n",
    "        # 3. Update the model.\n",
    "        bandit.update(state, action, reward)\n",
    "\n",
    "        # 4. Save the reward.\n",
    "        total_reward += max(0, reward)\n",
    "        avg_rewards.append(total_reward / (i + 1))\n",
    "    return avg_rewards, total_reward"
   ]
  },
  {
   "cell_type": "code",
   "execution_count": 5,
   "id": "b2b5615c-7b50-4d95-8134-97353c098b18",
   "metadata": {
    "execution": {
     "iopub.execute_input": "2024-02-05T18:17:08.759056Z",
     "iopub.status.busy": "2024-02-05T18:17:08.758197Z",
     "iopub.status.idle": "2024-02-05T18:17:26.535779Z",
     "shell.execute_reply": "2024-02-05T18:17:26.534573Z",
     "shell.execute_reply.started": "2024-02-05T18:17:08.759011Z"
    }
   },
   "outputs": [
    {
     "name": "stderr",
     "output_type": "stream",
     "text": [
      "100%|██████████████████████████████████████████████████████████████████████████████████████████████████████████████| 1000/1000 [00:17<00:00, 56.46it/s]\n"
     ]
    }
   ],
   "source": [
    "policy = EGreedy(epsilon=0.0)\n",
    "bandit = NeuralBandit(n_arms=len(env.actions), batch=1)\n",
    "\n",
    "avg_rewards, total_reward = run_simulation(bandit, policy, n=N, dynamic=True)"
   ]
  },
  {
   "cell_type": "code",
   "execution_count": 6,
   "id": "dec1b152-ebac-4631-bf31-69a52099c2ff",
   "metadata": {
    "execution": {
     "iopub.execute_input": "2024-02-05T18:17:26.545350Z",
     "iopub.status.busy": "2024-02-05T18:17:26.538755Z",
     "iopub.status.idle": "2024-02-05T18:17:26.589285Z",
     "shell.execute_reply": "2024-02-05T18:17:26.587065Z",
     "shell.execute_reply.started": "2024-02-05T18:17:26.545295Z"
    }
   },
   "outputs": [
    {
     "data": {
      "text/plain": [
       "562.0"
      ]
     },
     "execution_count": 6,
     "metadata": {},
     "output_type": "execute_result"
    }
   ],
   "source": [
    "total_reward"
   ]
  },
  {
   "cell_type": "code",
   "execution_count": 7,
   "id": "760fc3db-8bd9-4085-9401-75f7c19c404c",
   "metadata": {
    "execution": {
     "iopub.execute_input": "2024-02-05T18:17:26.620027Z",
     "iopub.status.busy": "2024-02-05T18:17:26.619531Z",
     "iopub.status.idle": "2024-02-05T18:17:26.708547Z",
     "shell.execute_reply": "2024-02-05T18:17:26.707702Z",
     "shell.execute_reply.started": "2024-02-05T18:17:26.619996Z"
    }
   },
   "outputs": [
    {
     "name": "stdout",
     "output_type": "stream",
     "text": [
      "0 politics\n",
      "1 sports\n",
      "2 music\n",
      "3 food\n",
      "4 finance\n",
      "5 health\n",
      "6 camping\n",
      "state({'user': 'Tom', 'time_of_day': 'afternoon'}): got sports, want music\n",
      "encoded [[-1.  0.  0.  0.  0.  0.  1.  0.  0. -1.]]\n",
      "rewards [[-6.6064298e-05]\n",
      " [ 9.9999529e-01]\n",
      " [-6.6064298e-05]\n",
      " [ 2.1926022e-01]\n",
      " [ 4.0393263e-01]\n",
      " [ 2.0322855e-01]\n",
      " [ 2.3775479e-01]]\n",
      "\n",
      "state({'user': 'Anna', 'time_of_day': 'afternoon'}): got sports, want politics\n",
      "encoded [[-1.  0. -1.  0.  0.  0.  0.  0. -1.  0.]]\n",
      "rewards [[ 5.6717545e-05]\n",
      " [ 1.0000300e+00]\n",
      " [-1.1298396e-01]\n",
      " [ 1.2178445e-01]\n",
      " [ 3.4411025e-01]\n",
      " [ 3.4593001e-02]\n",
      " [ 1.3953865e-01]]\n",
      "\n"
     ]
    }
   ],
   "source": [
    "# bandit = NeuralBandit(n_arms=len(env.actions))\n",
    "expected = [\n",
    "    ({\"user\": \"Tom\", \"time_of_day\": \"morning\"}, \"politics\"),\n",
    "    ({\"user\": \"Tom\", \"time_of_day\": \"afternoon\"}, \"music\"),\n",
    "    ({\"user\": \"Anna\", \"time_of_day\": \"morning\"}, \"sports\"),\n",
    "    ({\"user\": \"Anna\", \"time_of_day\": \"afternoon\"}, \"politics\"),\n",
    "]\n",
    "for i, act in enumerate(env.actions):\n",
    "    print(i, act)\n",
    "\n",
    "for state, want in expected:\n",
    "    rewards = bandit.pull(state)\n",
    "    got = env.actions[policy(rewards)]\n",
    "    if got != want:\n",
    "        encoded = bandit.preprocess.transform(\n",
    "            [env.feature_interaction(state, env.actions.index(want))]\n",
    "        ).toarray()\n",
    "        print(f\"state({state}): got {got}, want {want}\")\n",
    "        print(f\"encoded {encoded}\")\n",
    "        print(f\"rewards {rewards}\")\n",
    "        print()"
   ]
  },
  {
   "cell_type": "code",
   "execution_count": 8,
   "id": "9afa58a4-1934-41a8-9f91-fb158af3b145",
   "metadata": {
    "execution": {
     "iopub.execute_input": "2024-02-05T18:17:26.710353Z",
     "iopub.status.busy": "2024-02-05T18:17:26.709827Z",
     "iopub.status.idle": "2024-02-05T18:17:27.020952Z",
     "shell.execute_reply": "2024-02-05T18:17:27.019799Z",
     "shell.execute_reply.started": "2024-02-05T18:17:26.710328Z"
    },
    "scrolled": true
   },
   "outputs": [
    {
     "data": {
      "text/plain": [
       "[<matplotlib.lines.Line2D at 0x12c45bc10>]"
      ]
     },
     "execution_count": 8,
     "metadata": {},
     "output_type": "execute_result"
    },
    {
     "data": {
      "image/png": "[encoded data removed]",
      "text/plain": [
       "<Figure size 640x480 with 1 Axes>"
      ]
     },
     "metadata": {},
     "output_type": "display_data"
    }
   ],
   "source": [
    "plt.plot(range(N), avg_rewards)"
   ]
  },
  {
   "cell_type": "code",
   "execution_count": 9,
   "id": "9308a116-d33a-40d6-b9c4-42889d6217ee",
   "metadata": {
    "execution": {
     "iopub.execute_input": "2024-02-05T18:17:27.024281Z",
     "iopub.status.busy": "2024-02-05T18:17:27.022737Z",
     "iopub.status.idle": "2024-02-05T18:17:45.875339Z",
     "shell.execute_reply": "2024-02-05T18:17:45.873294Z",
     "shell.execute_reply.started": "2024-02-05T18:17:27.024237Z"
    }
   },
   "outputs": [
    {
     "name": "stderr",
     "output_type": "stream",
     "text": [
      "100%|██████████████████████████████████████████████████████████████████████████████████████████████████████████████| 1000/1000 [00:18<00:00, 53.17it/s]\n"
     ]
    }
   ],
   "source": [
    "policy = EGreedy(epsilon=0.0)\n",
    "bandit = NeuralBandit(n_arms=len(env.actions), batch=1)\n",
    "\n",
    "avg_rewards, total_reward = run_simulation(bandit, policy, n=N, dynamic=False)"
   ]
  },
  {
   "cell_type": "code",
   "execution_count": 10,
   "id": "54d3eb14-855f-4135-8409-ecedbcba5952",
   "metadata": {
    "execution": {
     "iopub.execute_input": "2024-02-05T18:17:45.877619Z",
     "iopub.status.busy": "2024-02-05T18:17:45.877126Z",
     "iopub.status.idle": "2024-02-05T18:17:45.915523Z",
     "shell.execute_reply": "2024-02-05T18:17:45.914088Z",
     "shell.execute_reply.started": "2024-02-05T18:17:45.877576Z"
    }
   },
   "outputs": [
    {
     "data": {
      "text/plain": [
       "644.0"
      ]
     },
     "execution_count": 10,
     "metadata": {},
     "output_type": "execute_result"
    }
   ],
   "source": [
    "total_reward"
   ]
  },
  {
   "cell_type": "code",
   "execution_count": 11,
   "id": "3d3da041-7db7-4b58-a6ca-8259e1aff66e",
   "metadata": {
    "execution": {
     "iopub.execute_input": "2024-02-05T18:17:45.935415Z",
     "iopub.status.busy": "2024-02-05T18:17:45.918132Z",
     "iopub.status.idle": "2024-02-05T18:17:46.210120Z",
     "shell.execute_reply": "2024-02-05T18:17:46.209156Z",
     "shell.execute_reply.started": "2024-02-05T18:17:45.935371Z"
    }
   },
   "outputs": [
    {
     "data": {
      "text/plain": [
       "[<matplotlib.lines.Line2D at 0x12c562770>]"
      ]
     },
     "execution_count": 11,
     "metadata": {},
     "output_type": "execute_result"
    },
    {
     "data": {
      "image/png": "[encoded data removed]",
      "text/plain": [
       "<Figure size 640x480 with 1 Axes>"
      ]
     },
     "metadata": {},
     "output_type": "display_data"
    }
   ],
   "source": [
    "plt.plot(range(N), avg_rewards)"
   ]
  },
  {
   "cell_type": "code",
   "execution_count": 12,
   "id": "3ae62aba-7b2d-4929-86a9-d6042f895438",
   "metadata": {
    "execution": {
     "iopub.execute_input": "2024-02-05T18:17:46.212088Z",
     "iopub.status.busy": "2024-02-05T18:17:46.211470Z",
     "iopub.status.idle": "2024-02-05T18:17:46.287731Z",
     "shell.execute_reply": "2024-02-05T18:17:46.286899Z",
     "shell.execute_reply.started": "2024-02-05T18:17:46.212060Z"
    }
   },
   "outputs": [
    {
     "name": "stdout",
     "output_type": "stream",
     "text": [
      "0 politics\n",
      "1 sports\n",
      "2 music\n",
      "3 food\n",
      "4 finance\n",
      "5 health\n",
      "6 camping\n",
      "state({'user': 'Tom', 'time_of_day': 'afternoon'}): got politics, want music\n",
      "encoded [[-1.  0.  0.  0.  0.  0.  1.  0.  0. -1.]]\n",
      "rewards [[ 0.22437066]\n",
      " [-0.08021288]\n",
      " [ 0.22437066]\n",
      " [-0.03242065]\n",
      " [-0.01296663]\n",
      " [ 0.01165186]\n",
      " [ 0.05830336]]\n",
      "\n"
     ]
    }
   ],
   "source": [
    "# bandit = NeuralBandit(n_arms=len(env.actions))\n",
    "expected = [\n",
    "    ({\"user\": \"Tom\", \"time_of_day\": \"morning\"}, \"politics\"),\n",
    "    ({\"user\": \"Tom\", \"time_of_day\": \"afternoon\"}, \"music\"),\n",
    "    ({\"user\": \"Anna\", \"time_of_day\": \"morning\"}, \"sports\"),\n",
    "    ({\"user\": \"Anna\", \"time_of_day\": \"afternoon\"}, \"politics\"),\n",
    "]\n",
    "for i, act in enumerate(env.actions):\n",
    "    print(i, act)\n",
    "\n",
    "for state, want in expected:\n",
    "    rewards = bandit.pull(state)\n",
    "    got = env.actions[policy(rewards)]\n",
    "    if got != want:\n",
    "        encoded = bandit.preprocess.transform(\n",
    "            [env.feature_interaction(state, env.actions.index(want))]\n",
    "        ).toarray()\n",
    "        print(f\"state({state}): got {got}, want {want}\")\n",
    "        print(f\"encoded {encoded}\")\n",
    "        print(f\"rewards {rewards}\")\n",
    "        print()"
   ]
  },
  {
   "cell_type": "markdown",
   "id": "ec2f0459-3d08-46f8-b024-11ad3f124908",
   "metadata": {},
   "source": [
    "Why is the tensorflow version performing worse than the scikit-learn MultiLayerPerceptron? The example has been modified to ue the `one_hot_encoding` instead of `feature_interaction`, but the result is still the same.\n",
    "\n",
    "How about the pytorch version?"
   ]
  },
  {
   "cell_type": "markdown",
   "id": "a1a3b0f8-de6a-4fa1-9655-006c6003de80",
   "metadata": {},
   "source": [
    "## Per-arm Bandit"
   ]
  },
  {
   "cell_type": "markdown",
   "id": "098d89f6-edfa-4983-a5fe-421e644d02ea",
   "metadata": {},
   "source": []
  },
  {
   "cell_type": "code",
   "execution_count": 13,
   "id": "f218280a-984c-443e-b385-7bb0742d8286",
   "metadata": {
    "execution": {
     "iopub.execute_input": "2024-02-05T18:17:46.289423Z",
     "iopub.status.busy": "2024-02-05T18:17:46.288908Z",
     "iopub.status.idle": "2024-02-05T18:19:10.707490Z",
     "shell.execute_reply": "2024-02-05T18:19:10.705564Z",
     "shell.execute_reply.started": "2024-02-05T18:17:46.289396Z"
    },
    "scrolled": true
   },
   "outputs": [
    {
     "name": "stderr",
     "output_type": "stream",
     "text": [
      "  0%|                                                                                                                         | 0/1000 [00:00<?, ?it/s]"
     ]
    },
    {
     "name": "stdout",
     "output_type": "stream",
     "text": [
      "WARNING:tensorflow:5 out of the last 2012 calls to <function Model.make_predict_function.<locals>.predict_function at 0x12c60a200> triggered tf.function retracing. Tracing is expensive and the excessive number of tracings could be due to (1) creating @tf.function repeatedly in a loop, (2) passing tensors with different shapes, (3) passing Python objects instead of tensors. For (1), please define your @tf.function outside of the loop. For (2), @tf.function has reduce_retracing=True option that can avoid unnecessary retracing. For (3), please refer to https://www.tensorflow.org/guide/function#controlling_retracing and https://www.tensorflow.org/api_docs/python/tf/function for  more details.\n",
      "WARNING:tensorflow:6 out of the last 2013 calls to <function Model.make_predict_function.<locals>.predict_function at 0x12c60a680> triggered tf.function retracing. Tracing is expensive and the excessive number of tracings could be due to (1) creating @tf.function repeatedly in a loop, (2) passing tensors with different shapes, (3) passing Python objects instead of tensors. For (1), please define your @tf.function outside of the loop. For (2), @tf.function has reduce_retracing=True option that can avoid unnecessary retracing. For (3), please refer to https://www.tensorflow.org/guide/function#controlling_retracing and https://www.tensorflow.org/api_docs/python/tf/function for  more details.\n"
     ]
    },
    {
     "name": "stderr",
     "output_type": "stream",
     "text": [
      "100%|██████████████████████████████████████████████████████████████████████████████████████████████████████████████| 1000/1000 [01:24<00:00, 11.89it/s]\n"
     ]
    }
   ],
   "source": [
    "policy = EGreedy(epsilon=0.0)\n",
    "bandit = NeuralPerArmBandit(batch=1, models=create_models(len(env.actions)))\n",
    "\n",
    "avg_rewards, total_reward = run_simulation(bandit, policy, n=N, dynamic=False)"
   ]
  },
  {
   "cell_type": "code",
   "execution_count": 14,
   "id": "4609d506-dc0d-4527-9482-753c40e5b97c",
   "metadata": {
    "execution": {
     "iopub.execute_input": "2024-02-05T18:19:10.710311Z",
     "iopub.status.busy": "2024-02-05T18:19:10.709452Z",
     "iopub.status.idle": "2024-02-05T18:19:11.000298Z",
     "shell.execute_reply": "2024-02-05T18:19:10.994221Z",
     "shell.execute_reply.started": "2024-02-05T18:19:10.710215Z"
    }
   },
   "outputs": [
    {
     "data": {
      "text/plain": [
       "476.0"
      ]
     },
     "execution_count": 14,
     "metadata": {},
     "output_type": "execute_result"
    }
   ],
   "source": [
    "total_reward"
   ]
  },
  {
   "cell_type": "code",
   "execution_count": 15,
   "id": "45e0d32a-9167-4107-8e9f-e746ef98bd0a",
   "metadata": {
    "execution": {
     "iopub.execute_input": "2024-02-05T18:19:11.040246Z",
     "iopub.status.busy": "2024-02-05T18:19:11.039252Z",
     "iopub.status.idle": "2024-02-05T18:19:11.355267Z",
     "shell.execute_reply": "2024-02-05T18:19:11.354262Z",
     "shell.execute_reply.started": "2024-02-05T18:19:11.040212Z"
    }
   },
   "outputs": [
    {
     "data": {
      "text/plain": [
       "[<matplotlib.lines.Line2D at 0x12c89fb20>]"
      ]
     },
     "execution_count": 15,
     "metadata": {},
     "output_type": "execute_result"
    },
    {
     "data": {
      "image/png": "[encoded data removed]",
      "text/plain": [
       "<Figure size 640x480 with 1 Axes>"
      ]
     },
     "metadata": {},
     "output_type": "display_data"
    }
   ],
   "source": [
    "plt.plot(range(N), avg_rewards)"
   ]
  },
  {
   "cell_type": "code",
   "execution_count": 16,
   "id": "7231146f-9f45-4047-aa1e-b19ca2213a51",
   "metadata": {
    "execution": {
     "iopub.execute_input": "2024-02-05T18:19:11.357204Z",
     "iopub.status.busy": "2024-02-05T18:19:11.356756Z",
     "iopub.status.idle": "2024-02-05T18:19:11.811884Z",
     "shell.execute_reply": "2024-02-05T18:19:11.808671Z",
     "shell.execute_reply.started": "2024-02-05T18:19:11.357168Z"
    }
   },
   "outputs": [
    {
     "name": "stdout",
     "output_type": "stream",
     "text": [
      "0 politics\n",
      "1 sports\n",
      "2 music\n",
      "3 food\n",
      "4 finance\n",
      "5 health\n",
      "6 camping\n",
      "state({'user': 'Tom', 'time_of_day': 'afternoon'}): got politics, want music\n",
      "encoded [[-1.  0.  0.  0.  0.  0.  1.  0.  0. -1.]]\n",
      "rewards [[ 0.22627357]\n",
      " [-0.3499384 ]\n",
      " [ 0.03242877]\n",
      " [-0.07697888]\n",
      " [ 0.12833731]\n",
      " [ 0.06759531]\n",
      " [-0.25452793]]\n",
      "\n",
      "state({'user': 'Anna', 'time_of_day': 'morning'}): got politics, want sports\n",
      "encoded [[ 0.  1. -1.  0.  0.  0.  0. -1. -1.  1.]]\n",
      "rewards [[ 3.0950049e-01]\n",
      " [-1.1314898e-01]\n",
      " [-3.3739531e-01]\n",
      " [-5.3374738e-02]\n",
      " [-6.7323498e-02]\n",
      " [ 2.8152815e-01]\n",
      " [ 3.8087368e-05]]\n",
      "\n"
     ]
    }
   ],
   "source": [
    "# bandit = NeuralBandit(n_arms=len(env.actions))\n",
    "expected = [\n",
    "    ({\"user\": \"Tom\", \"time_of_day\": \"morning\"}, \"politics\"),\n",
    "    ({\"user\": \"Tom\", \"time_of_day\": \"afternoon\"}, \"music\"),\n",
    "    ({\"user\": \"Anna\", \"time_of_day\": \"morning\"}, \"sports\"),\n",
    "    ({\"user\": \"Anna\", \"time_of_day\": \"afternoon\"}, \"politics\"),\n",
    "]\n",
    "for i, act in enumerate(env.actions):\n",
    "    print(i, act)\n",
    "\n",
    "for state, want in expected:\n",
    "    rewards = bandit.pull(state)\n",
    "    got = env.actions[policy(rewards)]\n",
    "    if got != want:\n",
    "        encoded = bandit.preprocess.transform(\n",
    "            [env.feature_interaction(state, env.actions.index(want))]\n",
    "        ).toarray()\n",
    "        print(f\"state({state}): got {got}, want {want}\")\n",
    "        print(f\"encoded {encoded}\")\n",
    "        print(f\"rewards {rewards}\")\n",
    "        print()"
   ]
  },
  {
   "cell_type": "code",
   "execution_count": null,
   "id": "bad30e8e-445c-4e04-8986-f416a2375925",
   "metadata": {},
   "outputs": [],
   "source": []
  }
 ],
 "metadata": {
  "kernelspec": {
   "display_name": "Python 3 (ipykernel)",
   "language": "python",
   "name": "python3"
  },
  "language_info": {
   "codemirror_mode": {
    "name": "ipython",
    "version": 3
   },
   "file_extension": ".py",
   "mimetype": "text/x-python",
   "name": "python",
   "nbconvert_exporter": "python",
   "pygments_lexer": "ipython3",
   "version": "3.10.13"
  },
  "widgets": {
   "application/vnd.jupyter.widget-state+json": {
    "state": {},
    "version_major": 2,
    "version_minor": 0
   }
  }
 },
 "nbformat": 4,
 "nbformat_minor": 5
}
