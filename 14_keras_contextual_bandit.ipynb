{
 "cells": [
  {
   "cell_type": "code",
   "execution_count": 1,
   "id": "74c7c8af-6570-46a2-bf2e-f979c8a0a5cd",
   "metadata": {
    "execution": {
     "iopub.execute_input": "2024-02-05T15:37:20.520650Z",
     "iopub.status.busy": "2024-02-05T15:37:20.514244Z",
     "iopub.status.idle": "2024-02-05T15:37:30.717490Z",
     "shell.execute_reply": "2024-02-05T15:37:30.716693Z",
     "shell.execute_reply.started": "2024-02-05T15:37:20.520592Z"
    }
   },
   "outputs": [
    {
     "name": "stderr",
     "output_type": "stream",
     "text": [
      "/var/folders/7m/74_ct3hx33d878n626w1wxyc0000gn/T/ipykernel_7556/3225486162.py:5: DeprecationWarning: \n",
      "Pyarrow will become a required dependency of pandas in the next major release of pandas (pandas 3.0),\n",
      "(to allow more performant data types, such as the Arrow string type, and better interoperability with other libraries)\n",
      "but was not found to be installed on your system.\n",
      "If this would cause problems for you,\n",
      "please provide us feedback at https://github.com/pandas-dev/pandas/issues/54466\n",
      "        \n",
      "  import pandas as pd\n",
      "/var/folders/7m/74_ct3hx33d878n626w1wxyc0000gn/T/ipykernel_7556/3225486162.py:8: TqdmWarning: IProgress not found. Please update jupyter and ipywidgets. See https://ipywidgets.readthedocs.io/en/stable/user_install.html\n",
      "  from tqdm.autonotebook import tqdm\n",
      "2024-02-05 23:37:26.474348: I tensorflow/core/platform/cpu_feature_guard.cc:182] This TensorFlow binary is optimized to use available CPU instructions in performance-critical operations.\n",
      "To enable the following instructions: AVX2 FMA, in other operations, rebuild TensorFlow with the appropriate compiler flags.\n"
     ]
    }
   ],
   "source": [
    "import os\n",
    "\n",
    "import matplotlib.pyplot as plt\n",
    "import numpy as np\n",
    "import pandas as pd\n",
    "import seaborn as sns\n",
    "from scipy.sparse import csr_matrix\n",
    "from tqdm.autonotebook import tqdm\n",
    "\n",
    "import bandit.environment as env\n",
    "from bandit.policy import EGreedy, Softmax\n",
    "from bandit.tensorflow import NeuralBandit, NeuralBanditPerArm, create_models\n",
    "from bandit.utils import snapshot\n",
    "\n",
    "sns.set_theme()"
   ]
  },
  {
   "cell_type": "code",
   "execution_count": 2,
   "id": "41e39611-dc39-4ac5-bcc9-cb3f7abf63f6",
   "metadata": {
    "execution": {
     "iopub.execute_input": "2024-02-05T15:37:30.721792Z",
     "iopub.status.busy": "2024-02-05T15:37:30.721375Z",
     "iopub.status.idle": "2024-02-05T15:37:30.748272Z",
     "shell.execute_reply": "2024-02-05T15:37:30.744995Z",
     "shell.execute_reply.started": "2024-02-05T15:37:30.721764Z"
    }
   },
   "outputs": [
    {
     "data": {
      "text/plain": [
       "'2.15.0'"
      ]
     },
     "execution_count": 2,
     "metadata": {},
     "output_type": "execute_result"
    }
   ],
   "source": [
    "import keras\n",
    "\n",
    "keras.__version__"
   ]
  },
  {
   "cell_type": "code",
   "execution_count": 3,
   "id": "e90ab376-269a-4e69-bb5e-7780094515d6",
   "metadata": {
    "execution": {
     "iopub.execute_input": "2024-02-05T15:37:30.752898Z",
     "iopub.status.busy": "2024-02-05T15:37:30.750125Z",
     "iopub.status.idle": "2024-02-05T15:37:30.804068Z",
     "shell.execute_reply": "2024-02-05T15:37:30.788125Z",
     "shell.execute_reply.started": "2024-02-05T15:37:30.752842Z"
    }
   },
   "outputs": [],
   "source": [
    "N = 500\n",
    "\n",
    "\n",
    "def run_simulation(bandit, policy, n=N, dynamic=False):\n",
    "    total_reward = 0\n",
    "    avg_rewards = []\n",
    "    rng = np.random.RandomState(42)\n",
    "\n",
    "    for i in tqdm(range(n), disable=False):\n",
    "        state = env.observe(rng)\n",
    "\n",
    "        # 1. Predict the action.\n",
    "        rewards = bandit.pull(state)\n",
    "\n",
    "        action = policy(rewards)\n",
    "\n",
    "        # 2. Act and get the reward.\n",
    "        if dynamic and i > n // 2:\n",
    "            get_cost = env.get_cost_new\n",
    "        else:\n",
    "            get_cost = env.get_cost\n",
    "        reward = get_cost(state, env.actions[action])\n",
    "\n",
    "        # 3. Update the model.\n",
    "        bandit.update(state, action, reward)\n",
    "\n",
    "        # 4. Save the reward.\n",
    "        total_reward += max(0, reward)\n",
    "        avg_rewards.append(total_reward / (i + 1))\n",
    "    return avg_rewards, total_reward"
   ]
  },
  {
   "cell_type": "code",
   "execution_count": 4,
   "id": "b2b5615c-7b50-4d95-8134-97353c098b18",
   "metadata": {
    "execution": {
     "iopub.execute_input": "2024-02-05T15:37:30.807370Z",
     "iopub.status.busy": "2024-02-05T15:37:30.806092Z",
     "iopub.status.idle": "2024-02-05T15:38:44.566413Z",
     "shell.execute_reply": "2024-02-05T15:38:44.564200Z",
     "shell.execute_reply.started": "2024-02-05T15:37:30.807319Z"
    }
   },
   "outputs": [
    {
     "name": "stderr",
     "output_type": "stream",
     "text": [
      "100%|████████████████████████████████████████████████████████████████████████████████████████████████████████████████| 500/500 [01:13<00:00,  6.78it/s]\n"
     ]
    }
   ],
   "source": [
    "policy = EGreedy(epsilon=0.0)\n",
    "bandit = NeuralBandit(n_arms=len(env.actions), batch=1)\n",
    "\n",
    "avg_rewards, total_reward = run_simulation(bandit, policy, n=N, dynamic=True)"
   ]
  },
  {
   "cell_type": "code",
   "execution_count": 5,
   "id": "dec1b152-ebac-4631-bf31-69a52099c2ff",
   "metadata": {
    "execution": {
     "iopub.execute_input": "2024-02-05T15:38:44.569457Z",
     "iopub.status.busy": "2024-02-05T15:38:44.568445Z",
     "iopub.status.idle": "2024-02-05T15:38:44.810237Z",
     "shell.execute_reply": "2024-02-05T15:38:44.735739Z",
     "shell.execute_reply.started": "2024-02-05T15:38:44.569409Z"
    }
   },
   "outputs": [
    {
     "data": {
      "text/plain": [
       "215.0"
      ]
     },
     "execution_count": 5,
     "metadata": {},
     "output_type": "execute_result"
    }
   ],
   "source": [
    "total_reward"
   ]
  },
  {
   "cell_type": "code",
   "execution_count": 6,
   "id": "760fc3db-8bd9-4085-9401-75f7c19c404c",
   "metadata": {
    "execution": {
     "iopub.execute_input": "2024-02-05T15:38:44.829722Z",
     "iopub.status.busy": "2024-02-05T15:38:44.827384Z",
     "iopub.status.idle": "2024-02-05T15:38:44.900549Z",
     "shell.execute_reply": "2024-02-05T15:38:44.895255Z",
     "shell.execute_reply.started": "2024-02-05T15:38:44.829668Z"
    }
   },
   "outputs": [
    {
     "data": {
      "text/plain": [
       "{'user': 'Tom', 'time_of_day': 'afternoon'}"
      ]
     },
     "execution_count": 6,
     "metadata": {},
     "output_type": "execute_result"
    }
   ],
   "source": [
    "rng = np.random.RandomState(42)\n",
    "state = env.observe(rng)\n",
    "state"
   ]
  },
  {
   "cell_type": "code",
   "execution_count": 7,
   "id": "c5ef7ea4-b4e0-41a9-b056-09623048d56b",
   "metadata": {
    "execution": {
     "iopub.execute_input": "2024-02-05T15:38:44.940059Z",
     "iopub.status.busy": "2024-02-05T15:38:44.936401Z",
     "iopub.status.idle": "2024-02-05T15:38:45.187614Z",
     "shell.execute_reply": "2024-02-05T15:38:45.178703Z",
     "shell.execute_reply.started": "2024-02-05T15:38:44.940009Z"
    }
   },
   "outputs": [
    {
     "data": {
      "text/plain": [
       "'food'"
      ]
     },
     "execution_count": 7,
     "metadata": {},
     "output_type": "execute_result"
    }
   ],
   "source": [
    "env.actions[policy(bandit.pull(state))]"
   ]
  },
  {
   "cell_type": "code",
   "execution_count": 8,
   "id": "9afa58a4-1934-41a8-9f91-fb158af3b145",
   "metadata": {
    "execution": {
     "iopub.execute_input": "2024-02-05T15:38:45.202561Z",
     "iopub.status.busy": "2024-02-05T15:38:45.201768Z",
     "iopub.status.idle": "2024-02-05T15:38:45.886947Z",
     "shell.execute_reply": "2024-02-05T15:38:45.885845Z",
     "shell.execute_reply.started": "2024-02-05T15:38:45.202508Z"
    }
   },
   "outputs": [
    {
     "data": {
      "text/plain": [
       "[<matplotlib.lines.Line2D at 0x13525b5e0>]"
      ]
     },
     "execution_count": 8,
     "metadata": {},
     "output_type": "execute_result"
    },
    {
     "data": {
      "image/png": "[encoded data removed]",
      "text/plain": [
       "<Figure size 640x480 with 1 Axes>"
      ]
     },
     "metadata": {},
     "output_type": "display_data"
    }
   ],
   "source": [
    "plt.plot(range(N), avg_rewards)"
   ]
  },
  {
   "cell_type": "markdown",
   "id": "ec2f0459-3d08-46f8-b024-11ad3f124908",
   "metadata": {},
   "source": [
    "Why is the tensorflow version performing worse than the scikit-learn MultiLayerPerceptron? The example has been modified to ue the `one_hot_encoding` instead of `feature_interaction`, but the result is still the same.\n",
    "\n",
    "How about the pytorch version?"
   ]
  },
  {
   "cell_type": "markdown",
   "id": "a1a3b0f8-de6a-4fa1-9655-006c6003de80",
   "metadata": {},
   "source": [
    "## Per-arm Bandit"
   ]
  },
  {
   "cell_type": "markdown",
   "id": "098d89f6-edfa-4983-a5fe-421e644d02ea",
   "metadata": {},
   "source": []
  },
  {
   "cell_type": "code",
   "execution_count": null,
   "id": "f218280a-984c-443e-b385-7bb0742d8286",
   "metadata": {
    "execution": {
     "iopub.execute_input": "2024-02-05T15:38:45.888954Z",
     "iopub.status.busy": "2024-02-05T15:38:45.888475Z"
    },
    "scrolled": true
   },
   "outputs": [
    {
     "name": "stderr",
     "output_type": "stream",
     "text": [
      "  0%|                                                                                                                          | 0/500 [00:00<?, ?it/s]"
     ]
    },
    {
     "name": "stdout",
     "output_type": "stream",
     "text": [
      "WARNING:tensorflow:5 out of the last 505 calls to <function Model.make_predict_function.<locals>.predict_function at 0x135f132e0> triggered tf.function retracing. Tracing is expensive and the excessive number of tracings could be due to (1) creating @tf.function repeatedly in a loop, (2) passing tensors with different shapes, (3) passing Python objects instead of tensors. For (1), please define your @tf.function outside of the loop. For (2), @tf.function has reduce_retracing=True option that can avoid unnecessary retracing. For (3), please refer to https://www.tensorflow.org/guide/function#controlling_retracing and https://www.tensorflow.org/api_docs/python/tf/function for  more details.\n",
      "WARNING:tensorflow:6 out of the last 506 calls to <function Model.make_predict_function.<locals>.predict_function at 0x135f13c70> triggered tf.function retracing. Tracing is expensive and the excessive number of tracings could be due to (1) creating @tf.function repeatedly in a loop, (2) passing tensors with different shapes, (3) passing Python objects instead of tensors. For (1), please define your @tf.function outside of the loop. For (2), @tf.function has reduce_retracing=True option that can avoid unnecessary retracing. For (3), please refer to https://www.tensorflow.org/guide/function#controlling_retracing and https://www.tensorflow.org/api_docs/python/tf/function for  more details.\n"
     ]
    },
    {
     "name": "stderr",
     "output_type": "stream",
     "text": [
      "  1%|█▌                                                                                                                | 7/500 [00:05<05:16,  1.56it/s]"
     ]
    },
    {
     "name": "stdout",
     "output_type": "stream",
     "text": [
      "WARNING:tensorflow:5 out of the last 508 calls to <function Model.make_train_function.<locals>.train_function at 0x1361ec550> triggered tf.function retracing. Tracing is expensive and the excessive number of tracings could be due to (1) creating @tf.function repeatedly in a loop, (2) passing tensors with different shapes, (3) passing Python objects instead of tensors. For (1), please define your @tf.function outside of the loop. For (2), @tf.function has reduce_retracing=True option that can avoid unnecessary retracing. For (3), please refer to https://www.tensorflow.org/guide/function#controlling_retracing and https://www.tensorflow.org/api_docs/python/tf/function for  more details.\n"
     ]
    },
    {
     "name": "stderr",
     "output_type": "stream",
     "text": [
      " 52%|██████████████████████████████████████████████████████████▏                                                     | 260/500 [02:26<02:04,  1.92it/s]"
     ]
    }
   ],
   "source": [
    "policy = EGreedy(epsilon=0.0)\n",
    "bandit = NeuralBanditPerArm(batch=1, models=create_models(len(env.actions)))\n",
    "\n",
    "avg_rewards, total_reward = run_simulation(bandit, policy, n=N, dynamic=True)"
   ]
  },
  {
   "cell_type": "code",
   "execution_count": null,
   "id": "4609d506-dc0d-4527-9482-753c40e5b97c",
   "metadata": {},
   "outputs": [],
   "source": [
    "total_reward"
   ]
  },
  {
   "cell_type": "code",
   "execution_count": null,
   "id": "45e0d32a-9167-4107-8e9f-e746ef98bd0a",
   "metadata": {},
   "outputs": [],
   "source": [
    "plt.plot(range(N), avg_rewards)"
   ]
  }
 ],
 "metadata": {
  "kernelspec": {
   "display_name": "Python 3 (ipykernel)",
   "language": "python",
   "name": "python3"
  },
  "language_info": {
   "codemirror_mode": {
    "name": "ipython",
    "version": 3
   },
   "file_extension": ".py",
   "mimetype": "text/x-python",
   "name": "python",
   "nbconvert_exporter": "python",
   "pygments_lexer": "ipython3",
   "version": "3.10.13"
  },
  "widgets": {
   "application/vnd.jupyter.widget-state+json": {
    "state": {},
    "version_major": 2,
    "version_minor": 0
   }
  }
 },
 "nbformat": 4,
 "nbformat_minor": 5
}
