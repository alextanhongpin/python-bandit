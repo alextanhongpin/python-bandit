{
 "cells": [
  {
   "cell_type": "markdown",
   "id": "cfe9b236-654e-4e88-9a5c-87127b9b9916",
   "metadata": {},
   "source": [
    "# Paper\n",
    "\n",
    "\n",
    "https://arxiv.org/pdf/2003.12699.pdf"
   ]
  },
  {
   "cell_type": "code",
   "execution_count": 8,
   "id": "238ab42b-8d77-41c1-ade5-a333239c145c",
   "metadata": {
    "execution": {
     "iopub.execute_input": "2024-02-12T06:18:54.814140Z",
     "iopub.status.busy": "2024-02-12T06:18:54.813010Z",
     "iopub.status.idle": "2024-02-12T06:18:54.819263Z",
     "shell.execute_reply": "2024-02-12T06:18:54.817619Z",
     "shell.execute_reply.started": "2024-02-12T06:18:54.814094Z"
    }
   },
   "outputs": [],
   "source": [
    "from random import choices\n",
    "\n",
    "import numpy as np"
   ]
  },
  {
   "cell_type": "code",
   "execution_count": 9,
   "id": "b4469f50-8341-4a3f-9988-bde61e1940bb",
   "metadata": {
    "execution": {
     "iopub.execute_input": "2024-02-12T06:18:55.894186Z",
     "iopub.status.busy": "2024-02-12T06:18:55.892129Z",
     "iopub.status.idle": "2024-02-12T06:18:55.918844Z",
     "shell.execute_reply": "2024-02-12T06:18:55.912644Z",
     "shell.execute_reply.started": "2024-02-12T06:18:55.894135Z"
    }
   },
   "outputs": [
    {
     "ename": "SyntaxError",
     "evalue": "invalid syntax (2395707662.py, line 9)",
     "output_type": "error",
     "traceback": [
      "\u001b[0;36m  Cell \u001b[0;32mIn[9], line 9\u001b[0;36m\u001b[0m\n\u001b[0;31m    F = set of all possible models  # Replace with your actual model set\u001b[0m\n\u001b[0m            ^\u001b[0m\n\u001b[0;31mSyntaxError\u001b[0m\u001b[0;31m:\u001b[0m invalid syntax\n"
     ]
    }
   ],
   "source": [
    "def offline_least_squares_oracle(data, target):\n",
    "    # Implement your least squares solver or use an existing library\n",
    "    # This function should take data points and targets as input\n",
    "    # and return the fitted model parameters\n",
    "    pass\n",
    "\n",
    "\n",
    "def falcon(epoch_schedule, confidence_parameter, tuning_parameter):\n",
    "    F = set of all possible models  # Replace with your actual model set\n",
    "    K = len(F)  # Number of models\n",
    "\n",
    "    # Initialize variables\n",
    "    gamma = [1.0]  # Initialize gamma for epoch 1\n",
    "    f_models = []  # Store fitted models for each epoch\n",
    "\n",
    "    for epoch in range(1, len(epoch_schedule)):\n",
    "        # Update gamma for current epoch\n",
    "        gamma.append(tuning_parameter * K * (epoch_schedule[epoch] - epoch_schedule[epoch-1]) / np.log(K * np.log(epoch_schedule[epoch-1]) * epoch / confidence_parameter))\n",
    "\n",
    "        # Train model for current epoch\n",
    "        data = []  # Collect data for least squares problem\n",
    "        for t in range(epoch_schedule[epoch-1] + 1, epoch_schedule[epoch]):\n",
    "            # Get context and action-reward pairs for this round\n",
    "            # (replace with your data access logic)\n",
    "            context = x_t\n",
    "            action = a_t\n",
    "            reward = r_t(a_t)\n",
    "            data.append((context, action, reward))\n",
    "\n",
    "        # Solve least squares problem using offline oracle\n",
    "        model_params = offline_least_squares_oracle(data, [reward for _, _, reward in data])\n",
    "        f_models.append(model_params)  # Store model for this epoch\n",
    "\n",
    "        # Decision making and exploration for remaining rounds in epoch\n",
    "        for t in range(epoch_schedule[epoch-1] + 1, epoch_schedule[epoch]):\n",
    "            # Get current context\n",
    "            context = x_t\n",
    "\n",
    "            # Evaluate each model on the current context\n",
    "            predictions = [model(context) for model in f_models]\n",
    "\n",
    "            # Select action with highest prediction for current model\n",
    "            chosen_action = np.argmax(predictions[-1])\n",
    "\n",
    "            # Calculate exploration probabilities\n",
    "            pt = np.zeros_like(predictions[-1])\n",
    "            pt[chosen_action] = 1 - K + gamma[-1] * (predictions[-1][chosen_action] - np.max(predictions[-1]))\n",
    "            for i in range(len(pt)):\n",
    "                if i != chosen_action:\n",
    "                    pt[i] = 1 / K + gamma[-1] * (predictions[-1][i] - predictions[-1][chosen_action])\n",
    "\n",
    "            # Sample action based on exploration probabilities\n",
    "            next_action = choices(list(range(len(pt))), weights=pt)[0]\n",
    "\n",
    "            # Receive reward and update data for next round\n",
    "            # (replace with your environment interaction logic)\n",
    "            reward = r_t(next_action)\n",
    "            # ...\n",
    "\n",
    "    # Use the learned models for further interaction or analysis\n",
    "\n",
    "# Example usage:\n",
    "epoch_schedule = [0, 10, 20, 30]\n",
    "confidence_parameter = 0.1\n",
    "tuning_parameter = 1.0\n",
    "falcon(epoch_schedule, confidence_parameter, tuning_parameter)"
   ]
  },
  {
   "cell_type": "code",
   "execution_count": null,
   "id": "b60313af-6a6b-43ba-a9ac-f23e7f0b8208",
   "metadata": {},
   "outputs": [],
   "source": []
  }
 ],
 "metadata": {
  "kernelspec": {
   "display_name": "Python 3 (ipykernel)",
   "language": "python",
   "name": "python3"
  },
  "language_info": {
   "codemirror_mode": {
    "name": "ipython",
    "version": 3
   },
   "file_extension": ".py",
   "mimetype": "text/x-python",
   "name": "python",
   "nbconvert_exporter": "python",
   "pygments_lexer": "ipython3",
   "version": "3.10.13"
  },
  "widgets": {
   "application/vnd.jupyter.widget-state+json": {
    "state": {},
    "version_major": 2,
    "version_minor": 0
   }
  }
 },
 "nbformat": 4,
 "nbformat_minor": 5
}
