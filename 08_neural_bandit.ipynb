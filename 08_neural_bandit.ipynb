{
 "cells": [
  {
   "cell_type": "markdown",
   "id": "b0b588fa-bc2f-46c4-93e3-953fcd709661",
   "metadata": {},
   "source": [
    "# Neural Bandit\n",
    "\n",
    "Implementing neural bandit using scikit-learn's multilayer perceptron."
   ]
  },
  {
   "cell_type": "code",
   "execution_count": 59,
   "id": "76537ca5-6fa4-4c31-969b-da6b4f744750",
   "metadata": {},
   "outputs": [],
   "source": [
    "import random\n",
    "\n",
    "import matplotlib.pyplot as plt\n",
    "import numpy as np"
   ]
  },
  {
   "cell_type": "code",
   "execution_count": 60,
   "id": "dc16fe41-5cfd-458d-bb0b-e7a3959613f2",
   "metadata": {},
   "outputs": [],
   "source": [
    "USER_LIKED_ARTICLE = 1.0\n",
    "USER_DISLIKED_ARTICLE = 0.0"
   ]
  },
  {
   "cell_type": "code",
   "execution_count": 61,
   "id": "f0a6ace2-ccda-4772-9ec6-18abd864af0e",
   "metadata": {},
   "outputs": [],
   "source": [
    "def get_cost(context, action):\n",
    "    match (context[\"user\"], context[\"time_of_day\"], action):\n",
    "        case (\"Tom\", \"morning\", \"politics\"):\n",
    "            return USER_LIKED_ARTICLE\n",
    "        case (\"Tom\", \"afternoon\", \"music\"):\n",
    "            return USER_LIKED_ARTICLE\n",
    "        case (\"Anna\", \"morning\", \"sports\"):\n",
    "            return USER_LIKED_ARTICLE\n",
    "        case (\"Anna\", \"afternoon\", \"politics\"):\n",
    "            return USER_LIKED_ARTICLE\n",
    "        case _:\n",
    "            return USER_DISLIKED_ARTICLE"
   ]
  },
  {
   "cell_type": "code",
   "execution_count": 62,
   "id": "23c0ab8f-3205-4922-9784-ced6aa14f865",
   "metadata": {},
   "outputs": [
    {
     "data": {
      "text/plain": [
       "[1, 1, 1, 0, 0, 0, 0, 0, 0]"
      ]
     },
     "execution_count": 62,
     "metadata": {},
     "output_type": "execute_result"
    }
   ],
   "source": [
    "users = [\"Tom\", \"Anna\"]\n",
    "times_of_day = [\"morning\", \"afternoon\"]\n",
    "actions = [\"politics\", \"sports\", \"music\", \"food\", \"finance\", \"health\", \"camping\"]\n",
    "\n",
    "\n",
    "def one_hot_encode(user, time_of_day, action):\n",
    "    return [users.index(user) + 1, times_of_day.index(time_of_day) + 1] + [\n",
    "        1 if a == action else 0 for a in actions\n",
    "    ]\n",
    "\n",
    "\n",
    "one_hot_encode(\"Tom\", \"morning\", \"politics\")"
   ]
  },
  {
   "cell_type": "code",
   "execution_count": 63,
   "id": "8ef5d672-e753-469b-a36e-67575aef8ec9",
   "metadata": {},
   "outputs": [
    {
     "name": "stdout",
     "output_type": "stream",
     "text": [
      "[[ 1. -1.  0.  0.  0.  0.  0. -1.  0.  0.]]\n",
      "[[ 1. -1.  0.  0.  0.  0.  0. -1.  0.  0.]]\n"
     ]
    }
   ],
   "source": [
    "from sklearn.feature_extraction import FeatureHasher\n",
    "\n",
    "hasher = FeatureHasher(n_features=10, input_type=\"string\")\n",
    "print(hasher.transform([[\"a\", \"b\", \"c\"]]).toarray())\n",
    "print(hasher.transform([[\"c\", \"a\", \"b\"]]).toarray())"
   ]
  },
  {
   "cell_type": "code",
   "execution_count": 64,
   "id": "bffe1a5a-ce95-4e1c-a74d-7f4fe9572138",
   "metadata": {},
   "outputs": [
    {
     "name": "stdout",
     "output_type": "stream",
     "text": [
      "[('a', 'a'), ('a', 'b'), ('a', 'c'), ('b', 'b'), ('b', 'c'), ('c', 'c')]\n",
      "[('Tom', 'Tom'), ('Tom', 'politics'), ('politics', 'politics')]\n"
     ]
    }
   ],
   "source": [
    "from itertools import combinations_with_replacement\n",
    "\n",
    "# This is similar to how vowpal wabbit does the feature interaction.\n",
    "print(list(combinations_with_replacement(\"abc\", 2)))\n",
    "print(list(combinations_with_replacement([\"Tom\", \"politics\"], 2)))"
   ]
  },
  {
   "cell_type": "code",
   "execution_count": 65,
   "id": "bc819dc2-8b55-4ce1-af53-ca571114bf7b",
   "metadata": {},
   "outputs": [],
   "source": [
    "# https://github.com/VowpalWabbit/vowpal_wabbit/wiki/Feature-interactions\n",
    "# https://vowpalwabbit.org/docs/vowpal_wabbit/python/latest/tutorials/python_Simulating_a_news_personalization_scenario_using_Contextual_Bandits.html#:~:text=supply%20to%20VW-,%2C%20we%20include%20%2Dq%20UA,-.%20This%20is%20telling\n",
    "def feature_interaction(user, time_of_day, action):\n",
    "    \"\"\"perform feature interactions, similar to how vowpal wabbit does it.\n",
    "    We create additional features which are the features in the (U)ser namespace and (A)ction\n",
    "    namespaces multiplied together.\n",
    "    This allows us to learn the interaction between when certain actions are good in certain times of days and for particular users.\n",
    "    If we didn’t do that, the learning wouldn’t really work.\n",
    "    We can see that in action below.\n",
    "    \"\"\"\n",
    "    features = [\n",
    "        user,\n",
    "        time_of_day,\n",
    "        user + \":\" + action,\n",
    "        time_of_day + \":\" + action,\n",
    "        action,\n",
    "    ]\n",
    "    return hasher.transform([features]).toarray()[0]"
   ]
  },
  {
   "cell_type": "code",
   "execution_count": 66,
   "id": "730c6841-efb9-4535-a774-5c903dc57246",
   "metadata": {},
   "outputs": [
    {
     "data": {
      "text/plain": [
       "array([ 0.,  0., -1.,  1.,  0.,  0.,  2.,  0.,  1.,  0.])"
      ]
     },
     "execution_count": 66,
     "metadata": {},
     "output_type": "execute_result"
    }
   ],
   "source": [
    "feature_interaction(\"Tom\", \"morning\", \"politics\")"
   ]
  },
  {
   "cell_type": "code",
   "execution_count": 67,
   "id": "e8cbb282-bff9-4156-9182-fef3f0d2306a",
   "metadata": {},
   "outputs": [],
   "source": [
    "def sample_custom_pmf(pmf):\n",
    "    total = sum(pmf)\n",
    "    scale = 1 / total\n",
    "    pmf = [x * scale for x in pmf]\n",
    "    draw = random.random()\n",
    "    sum_prob = 0.0\n",
    "    for index, prob in enumerate(pmf):\n",
    "        sum_prob += prob\n",
    "        if sum_prob > draw:\n",
    "            return index, prob"
   ]
  },
  {
   "cell_type": "code",
   "execution_count": 68,
   "id": "9bc194ad-718c-4b47-9c96-ac8dcbed1a06",
   "metadata": {},
   "outputs": [
    {
     "data": {
      "text/plain": [
       "array([0.20727216])"
      ]
     },
     "execution_count": 68,
     "metadata": {},
     "output_type": "execute_result"
    }
   ],
   "source": [
    "from sklearn.neural_network import MLPRegressor\n",
    "\n",
    "model = MLPRegressor(activation=\"relu\", random_state=42)\n",
    "model.partial_fit([one_hot_encode(\"Tom\", \"morning\", \"politics\")], [1])\n",
    "model.predict([one_hot_encode(\"Tom\", \"morning\", \"politics\")])"
   ]
  },
  {
   "cell_type": "code",
   "execution_count": 69,
   "id": "034ae60e-84f0-4f34-9648-d0f4cae706bb",
   "metadata": {},
   "outputs": [
    {
     "data": {
      "text/plain": [
       "(array([ 0.20727216,  0.11697445,  0.33291172,  0.24473987,  0.35555384,\n",
       "         0.13795523, -0.00638099]),\n",
       " 1,\n",
       " 0.08421327220560895)"
      ]
     },
     "execution_count": 69,
     "metadata": {},
     "output_type": "execute_result"
    }
   ],
   "source": [
    "# Sampling best reward for the action taken.\n",
    "pmf = model.predict([one_hot_encode(\"Tom\", \"morning\", action) for action in actions])\n",
    "action, prob = sample_custom_pmf(pmf)\n",
    "pmf, action, prob"
   ]
  },
  {
   "cell_type": "code",
   "execution_count": 70,
   "id": "b2d06c17-5cb6-497a-82d9-8c7d94afa208",
   "metadata": {},
   "outputs": [],
   "source": [
    "def choose_user(users):\n",
    "    return random.choice(users)\n",
    "\n",
    "\n",
    "def choose_time_of_day(times_of_day):\n",
    "    return random.choice(times_of_day)\n",
    "\n",
    "\n",
    "def get_action(model, context, actions, preprocess):\n",
    "    pmf = model.predict(\n",
    "        [\n",
    "            preprocess(context[\"user\"], context[\"time_of_day\"], action)\n",
    "            for action in actions\n",
    "        ]\n",
    "    )\n",
    "    chosen_action_index, prob = sample_custom_pmf(pmf)\n",
    "    return actions[chosen_action_index], prob"
   ]
  },
  {
   "cell_type": "code",
   "execution_count": 71,
   "id": "24d0b72e-01a9-4408-b53c-f76f5efec0a8",
   "metadata": {},
   "outputs": [],
   "source": [
    "def run_simulation(\n",
    "    model,\n",
    "    num_iterations,\n",
    "    users,\n",
    "    times_of_day,\n",
    "    actions,\n",
    "    cost_function,\n",
    "    do_learn=True,\n",
    "    preprocess=one_hot_encode,\n",
    "):\n",
    "    cost_sum = 0.0\n",
    "    ctr = []\n",
    "\n",
    "    for i in range(1, num_iterations + 1):\n",
    "        # 1. In each simulation choose a user\n",
    "        user = choose_user(users)\n",
    "        # 2. Choose time of day for a given user\n",
    "        time_of_day = choose_time_of_day(times_of_day)\n",
    "\n",
    "        # 3. Pass context to vw to get an action\n",
    "        context = {\"user\": user, \"time_of_day\": time_of_day}\n",
    "        action, prob = get_action(model, context, actions, preprocess)\n",
    "\n",
    "        # 4. Get cost of the action we chose\n",
    "        cost = cost_function(context, action)\n",
    "        cost_sum += cost\n",
    "\n",
    "        if do_learn:\n",
    "            # 5. Learn\n",
    "            model.partial_fit([preprocess(user, time_of_day, action)], [cost])\n",
    "\n",
    "        # We negate this so that on the plot instead of minimizing cost, we are maximizing reward\n",
    "        ctr.append(1 * cost_sum / i)\n",
    "\n",
    "    return ctr"
   ]
  },
  {
   "cell_type": "code",
   "execution_count": 72,
   "id": "f80205d6-20e7-468c-99ef-72adfef0363e",
   "metadata": {},
   "outputs": [],
   "source": [
    "def plot_ctr(num_iterations, ctr):\n",
    "    plt.plot(range(1, num_iterations + 1), ctr)\n",
    "    plt.xlabel(\"num_iterations\", fontsize=14)\n",
    "    plt.ylabel(\"ctr\", fontsize=14)\n",
    "    plt.ylim([0, 1])"
   ]
  },
  {
   "cell_type": "code",
   "execution_count": 73,
   "id": "88a48d61-ed54-4e2d-9cc8-cad9574de3e8",
   "metadata": {},
   "outputs": [
    {
     "data": {
      "image/png": "[encoded data removed]",
      "text/plain": [
       "<Figure size 640x480 with 1 Axes>"
      ]
     },
     "metadata": {},
     "output_type": "display_data"
    }
   ],
   "source": [
    "num_iterations = 5000\n",
    "# Need to fit at least once.\n",
    "model = MLPRegressor(activation=\"relu\", random_state=42)\n",
    "model.partial_fit([one_hot_encode(\"Tom\", \"morning\", \"politics\")], [1])\n",
    "ctr = run_simulation(model, num_iterations, users, times_of_day, actions, get_cost)\n",
    "old_ctr = ctr\n",
    "plot_ctr(num_iterations, ctr)"
   ]
  },
  {
   "cell_type": "code",
   "execution_count": 75,
   "id": "4c6dadf4-50ab-4285-bb59-ff59f2d4f5ba",
   "metadata": {},
   "outputs": [
    {
     "data": {
      "text/plain": [
       "<matplotlib.legend.Legend at 0x1197b49a0>"
      ]
     },
     "execution_count": 75,
     "metadata": {},
     "output_type": "execute_result"
    },
    {
     "data": {
      "image/png": "[encoded data removed]",
      "text/plain": [
       "<Figure size 640x480 with 1 Axes>"
      ]
     },
     "metadata": {},
     "output_type": "display_data"
    }
   ],
   "source": [
    "num_iterations = 5000\n",
    "# Need to fit at least once.\n",
    "model = MLPRegressor(activation=\"relu\", random_state=42)\n",
    "model.partial_fit([feature_interaction(\"Tom\", \"morning\", \"politics\")], [1])\n",
    "ctr = run_simulation(\n",
    "    model,\n",
    "    num_iterations,\n",
    "    users,\n",
    "    times_of_day,\n",
    "    actions,\n",
    "    get_cost,\n",
    "    preprocess=feature_interaction,\n",
    ")\n",
    "\n",
    "plt.plot(range(1, num_iterations + 1), old_ctr)\n",
    "plot_ctr(num_iterations, ctr)\n",
    "plt.legend([\"one_hot_encode\", \"feature_interaction\"])"
   ]
  },
  {
   "cell_type": "code",
   "execution_count": 76,
   "id": "4889f931-b201-4e00-b552-44b0bd983878",
   "metadata": {},
   "outputs": [
    {
     "data": {
      "text/plain": [
       "('sports', 1.1332483854814464)"
      ]
     },
     "execution_count": 76,
     "metadata": {},
     "output_type": "execute_result"
    }
   ],
   "source": [
    "context = {\"user\": \"Anna\", \"time_of_day\": \"morning\"}\n",
    "action, prob = get_action(model, context, actions, feature_interaction)\n",
    "action, prob"
   ]
  },
  {
   "cell_type": "code",
   "execution_count": 77,
   "id": "f00afef7-0702-4117-b052-d4b0baac9148",
   "metadata": {},
   "outputs": [
    {
     "data": {
      "text/plain": [
       "('politics', 0.9507944715662973)"
      ]
     },
     "execution_count": 77,
     "metadata": {},
     "output_type": "execute_result"
    }
   ],
   "source": [
    "context = {\"user\": \"Anna\", \"time_of_day\": \"afternoon\"}\n",
    "action, prob = get_action(model, context, actions, feature_interaction)\n",
    "action, prob"
   ]
  },
  {
   "cell_type": "code",
   "execution_count": 35,
   "id": "e21ec938-3d10-4af1-99f5-65f3db5accbe",
   "metadata": {},
   "outputs": [],
   "source": [
    "def get_cost_new1(context, action):\n",
    "    match (context[\"user\"], context[\"time_of_day\"], action):\n",
    "        case (\"Tom\", \"morning\", \"politics\"):\n",
    "            return USER_LIKED_ARTICLE\n",
    "        case (\"Tom\", \"afternoon\", \"sports\"):\n",
    "            return USER_LIKED_ARTICLE\n",
    "        case (\"Anna\", \"morning\", \"sports\"):\n",
    "            return USER_LIKED_ARTICLE\n",
    "        case (\"Anna\", \"afternoon\", \"sports\"):\n",
    "            return USER_LIKED_ARTICLE\n",
    "        case _:\n",
    "            return USER_DISLIKED_ARTICLE"
   ]
  },
  {
   "cell_type": "code",
   "execution_count": 79,
   "id": "13ce6cb2-d6f8-4ceb-94ca-8910b81396e2",
   "metadata": {},
   "outputs": [],
   "source": [
    "def run_simulation_multiple_cost_functions(\n",
    "    model,\n",
    "    num_iterations,\n",
    "    users,\n",
    "    times_of_day,\n",
    "    actions,\n",
    "    cost_functions,\n",
    "    do_learn=True,\n",
    "    preprocess=feature_interaction,\n",
    "):\n",
    "    cost_sum = 0.0\n",
    "    ctr = []\n",
    "\n",
    "    start_counter = 1\n",
    "    end_counter = start_counter + num_iterations\n",
    "    for cost_function in cost_functions:\n",
    "        for i in range(start_counter, end_counter):\n",
    "            # 1. in each simulation choose a user\n",
    "            user = choose_user(users)\n",
    "            # 2. choose time of day for a given user\n",
    "            time_of_day = choose_time_of_day(times_of_day)\n",
    "\n",
    "            # Construct context based on chosen user and time of day\n",
    "            context = {\"user\": user, \"time_of_day\": time_of_day}\n",
    "\n",
    "            # 3. Use the get_action function we defined earlier\n",
    "            action, prob = get_action(model, context, actions, preprocess)\n",
    "\n",
    "            # 4. Get cost of the action we chose\n",
    "            cost = cost_function(context, action)\n",
    "            cost_sum += cost\n",
    "\n",
    "            if do_learn:\n",
    "                # 5. Inform VW of what happened so we can learn from it\n",
    "                model.partial_fit([preprocess(user, time_of_day, action)], [cost])\n",
    "\n",
    "            ctr.append(1 * cost_sum / i)\n",
    "        start_counter = end_counter\n",
    "        end_counter = start_counter + num_iterations\n",
    "\n",
    "    return ctr"
   ]
  },
  {
   "cell_type": "code",
   "execution_count": 84,
   "id": "0747739f-3d1f-4fce-962a-057b3202b6ec",
   "metadata": {},
   "outputs": [
    {
     "data": {
      "image/png": "[encoded data removed]",
      "text/plain": [
       "<Figure size 640x480 with 1 Axes>"
      ]
     },
     "metadata": {},
     "output_type": "display_data"
    }
   ],
   "source": [
    "model = MLPRegressor(activation=\"relu\", random_state=42)\n",
    "# Need to fit at least one data before using.\\n\",\n",
    "model.partial_fit([feature_interaction(\"Tom\", \"morning\", \"politics\")], [1])\n",
    "ctr = run_simulation_multiple_cost_functions(\n",
    "    model,\n",
    "    num_iterations_per_cost_func,\n",
    "    users,\n",
    "    times_of_day,\n",
    "    actions,\n",
    "    cost_functions,\n",
    "    preprocess=feature_interaction,\n",
    ")\n",
    "plot_ctr(total_iterations, ctr)"
   ]
  }
 ],
 "metadata": {
  "kernelspec": {
   "display_name": "Python 3 (ipykernel)",
   "language": "python",
   "name": "python3"
  },
  "language_info": {
   "codemirror_mode": {
    "name": "ipython",
    "version": 3
   },
   "file_extension": ".py",
   "mimetype": "text/x-python",
   "name": "python",
   "nbconvert_exporter": "python",
   "pygments_lexer": "ipython3",
   "version": "3.10.13"
  },
  "widgets": {
   "application/vnd.jupyter.widget-state+json": {
    "state": {},
    "version_major": 2,
    "version_minor": 0
   }
  }
 },
 "nbformat": 4,
 "nbformat_minor": 5
}
