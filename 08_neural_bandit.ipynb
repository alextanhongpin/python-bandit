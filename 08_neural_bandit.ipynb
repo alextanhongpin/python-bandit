{
 "cells": [
  {
   "cell_type": "markdown",
   "id": "b0b588fa-bc2f-46c4-93e3-953fcd709661",
   "metadata": {},
   "source": [
    "# Neural Bandit\n",
    "\n",
    "Implementing neural bandit using scikit-learn's multilayer perceptron."
   ]
  },
  {
   "cell_type": "code",
   "execution_count": 1,
   "id": "76537ca5-6fa4-4c31-969b-da6b4f744750",
   "metadata": {
    "execution": {
     "iopub.execute_input": "2024-01-17T18:51:07.735436Z",
     "iopub.status.busy": "2024-01-17T18:51:07.734900Z",
     "iopub.status.idle": "2024-01-17T18:51:08.873484Z",
     "shell.execute_reply": "2024-01-17T18:51:08.872419Z",
     "shell.execute_reply.started": "2024-01-17T18:51:07.735383Z"
    }
   },
   "outputs": [],
   "source": [
    "import random\n",
    "\n",
    "import matplotlib.pyplot as plt\n",
    "import numpy as np"
   ]
  },
  {
   "cell_type": "code",
   "execution_count": 2,
   "id": "dc16fe41-5cfd-458d-bb0b-e7a3959613f2",
   "metadata": {
    "execution": {
     "iopub.execute_input": "2024-01-17T18:51:08.877321Z",
     "iopub.status.busy": "2024-01-17T18:51:08.876542Z",
     "iopub.status.idle": "2024-01-17T18:51:08.918874Z",
     "shell.execute_reply": "2024-01-17T18:51:08.895550Z",
     "shell.execute_reply.started": "2024-01-17T18:51:08.877290Z"
    }
   },
   "outputs": [],
   "source": [
    "USER_LIKED_ARTICLE = 1.0\n",
    "USER_DISLIKED_ARTICLE = 0.0"
   ]
  },
  {
   "cell_type": "code",
   "execution_count": 3,
   "id": "f0a6ace2-ccda-4772-9ec6-18abd864af0e",
   "metadata": {
    "execution": {
     "iopub.execute_input": "2024-01-17T18:51:08.923568Z",
     "iopub.status.busy": "2024-01-17T18:51:08.922255Z",
     "iopub.status.idle": "2024-01-17T18:51:08.978699Z",
     "shell.execute_reply": "2024-01-17T18:51:08.973338Z",
     "shell.execute_reply.started": "2024-01-17T18:51:08.923511Z"
    }
   },
   "outputs": [],
   "source": [
    "def get_cost(context, action):\n",
    "    match (context[\"user\"], context[\"time_of_day\"], action):\n",
    "        case (\"Tom\", \"morning\", \"politics\"):\n",
    "            return USER_LIKED_ARTICLE\n",
    "        case (\"Tom\", \"afternoon\", \"music\"):\n",
    "            return USER_LIKED_ARTICLE\n",
    "        case (\"Anna\", \"morning\", \"sports\"):\n",
    "            return USER_LIKED_ARTICLE\n",
    "        case (\"Anna\", \"afternoon\", \"politics\"):\n",
    "            return USER_LIKED_ARTICLE\n",
    "        case _:\n",
    "            return USER_DISLIKED_ARTICLE"
   ]
  },
  {
   "cell_type": "code",
   "execution_count": 4,
   "id": "23c0ab8f-3205-4922-9784-ced6aa14f865",
   "metadata": {
    "execution": {
     "iopub.execute_input": "2024-01-17T18:51:08.985304Z",
     "iopub.status.busy": "2024-01-17T18:51:08.983271Z",
     "iopub.status.idle": "2024-01-17T18:51:09.025187Z",
     "shell.execute_reply": "2024-01-17T18:51:09.023018Z",
     "shell.execute_reply.started": "2024-01-17T18:51:08.985248Z"
    }
   },
   "outputs": [
    {
     "data": {
      "text/plain": [
       "[1, 1, 1, 0, 0, 0, 0, 0, 0]"
      ]
     },
     "execution_count": 4,
     "metadata": {},
     "output_type": "execute_result"
    }
   ],
   "source": [
    "users = [\"Tom\", \"Anna\"]\n",
    "times_of_day = [\"morning\", \"afternoon\"]\n",
    "actions = [\"politics\", \"sports\", \"music\", \"food\", \"finance\", \"health\", \"camping\"]\n",
    "\n",
    "\n",
    "def one_hot_encode(user, time_of_day, action):\n",
    "    return [users.index(user) + 1, times_of_day.index(time_of_day) + 1] + [\n",
    "        1 if a == action else 0 for a in actions\n",
    "    ]\n",
    "\n",
    "\n",
    "one_hot_encode(\"Tom\", \"morning\", \"politics\")"
   ]
  },
  {
   "cell_type": "code",
   "execution_count": 5,
   "id": "8ef5d672-e753-469b-a36e-67575aef8ec9",
   "metadata": {
    "execution": {
     "iopub.execute_input": "2024-01-17T18:51:09.028954Z",
     "iopub.status.busy": "2024-01-17T18:51:09.027827Z",
     "iopub.status.idle": "2024-01-17T18:51:10.369519Z",
     "shell.execute_reply": "2024-01-17T18:51:10.365754Z",
     "shell.execute_reply.started": "2024-01-17T18:51:09.028905Z"
    }
   },
   "outputs": [
    {
     "name": "stdout",
     "output_type": "stream",
     "text": [
      "[[ 1. -1.  0.  0.  0.  0.  0. -1.  0.  0.]]\n",
      "[[ 1. -1.  0.  0.  0.  0.  0. -1.  0.  0.]]\n"
     ]
    }
   ],
   "source": [
    "from sklearn.feature_extraction import FeatureHasher\n",
    "\n",
    "hasher = FeatureHasher(n_features=10, input_type=\"string\")\n",
    "print(hasher.transform([[\"a\", \"b\", \"c\"]]).toarray())\n",
    "print(hasher.transform([[\"c\", \"a\", \"b\"]]).toarray())"
   ]
  },
  {
   "cell_type": "code",
   "execution_count": 6,
   "id": "bffe1a5a-ce95-4e1c-a74d-7f4fe9572138",
   "metadata": {
    "execution": {
     "iopub.execute_input": "2024-01-17T18:51:10.372668Z",
     "iopub.status.busy": "2024-01-17T18:51:10.371855Z",
     "iopub.status.idle": "2024-01-17T18:51:10.424985Z",
     "shell.execute_reply": "2024-01-17T18:51:10.412548Z",
     "shell.execute_reply.started": "2024-01-17T18:51:10.372624Z"
    }
   },
   "outputs": [
    {
     "name": "stdout",
     "output_type": "stream",
     "text": [
      "[('a', 'a'), ('a', 'b'), ('a', 'c'), ('b', 'b'), ('b', 'c'), ('c', 'c')]\n",
      "[('Tom', 'Tom'), ('Tom', 'politics'), ('politics', 'politics')]\n"
     ]
    }
   ],
   "source": [
    "from itertools import combinations_with_replacement\n",
    "\n",
    "# This is similar to how vowpal wabbit does the feature interaction.\n",
    "print(list(combinations_with_replacement(\"abc\", 2)))\n",
    "print(list(combinations_with_replacement([\"Tom\", \"politics\"], 2)))"
   ]
  },
  {
   "cell_type": "code",
   "execution_count": 7,
   "id": "bc819dc2-8b55-4ce1-af53-ca571114bf7b",
   "metadata": {
    "execution": {
     "iopub.execute_input": "2024-01-17T18:51:10.470949Z",
     "iopub.status.busy": "2024-01-17T18:51:10.470091Z",
     "iopub.status.idle": "2024-01-17T18:51:10.511837Z",
     "shell.execute_reply": "2024-01-17T18:51:10.507042Z",
     "shell.execute_reply.started": "2024-01-17T18:51:10.470895Z"
    }
   },
   "outputs": [],
   "source": [
    "# https://github.com/VowpalWabbit/vowpal_wabbit/wiki/Feature-interactions\n",
    "# https://vowpalwabbit.org/docs/vowpal_wabbit/python/latest/tutorials/python_Simulating_a_news_personalization_scenario_using_Contextual_Bandits.html#:~:text=supply%20to%20VW-,%2C%20we%20include%20%2Dq%20UA,-.%20This%20is%20telling\n",
    "def feature_interaction(user, time_of_day, action):\n",
    "    \"\"\"perform feature interactions, similar to how vowpal wabbit does it.\n",
    "    We create additional features which are the features in the (U)ser namespace and (A)ction\n",
    "    namespaces multiplied together.\n",
    "    This allows us to learn the interaction between when certain actions are good in certain times of days and for particular users.\n",
    "    If we didn’t do that, the learning wouldn’t really work.\n",
    "    We can see that in action below.\n",
    "    \"\"\"\n",
    "    features = [\n",
    "        user,\n",
    "        time_of_day,\n",
    "        user + \":\" + action,\n",
    "        time_of_day + \":\" + action,\n",
    "        action,\n",
    "    ]\n",
    "    return hasher.transform([features]).toarray()[0]"
   ]
  },
  {
   "cell_type": "code",
   "execution_count": 8,
   "id": "730c6841-efb9-4535-a774-5c903dc57246",
   "metadata": {
    "execution": {
     "iopub.execute_input": "2024-01-17T18:51:10.513647Z",
     "iopub.status.busy": "2024-01-17T18:51:10.513172Z",
     "iopub.status.idle": "2024-01-17T18:51:10.523674Z",
     "shell.execute_reply": "2024-01-17T18:51:10.521817Z",
     "shell.execute_reply.started": "2024-01-17T18:51:10.513606Z"
    }
   },
   "outputs": [
    {
     "data": {
      "text/plain": [
       "array([ 0.,  0., -1.,  1.,  0.,  0.,  2.,  0.,  1.,  0.])"
      ]
     },
     "execution_count": 8,
     "metadata": {},
     "output_type": "execute_result"
    }
   ],
   "source": [
    "feature_interaction(\"Tom\", \"morning\", \"politics\")"
   ]
  },
  {
   "cell_type": "code",
   "execution_count": 56,
   "id": "9b03b4b6-452b-460e-a223-b9837700f688",
   "metadata": {
    "execution": {
     "iopub.execute_input": "2024-01-17T18:56:58.176282Z",
     "iopub.status.busy": "2024-01-17T18:56:58.174427Z",
     "iopub.status.idle": "2024-01-17T18:56:58.186465Z",
     "shell.execute_reply": "2024-01-17T18:56:58.184772Z",
     "shell.execute_reply.started": "2024-01-17T18:56:58.176226Z"
    }
   },
   "outputs": [],
   "source": [
    "import numpy as np\n",
    "\n",
    "\n",
    "def softmax(lst, tau=1.0):\n",
    "    lst = np.array(lst) / tau\n",
    "    exps = np.exp(lst)\n",
    "    return exps / np.sum(exps)"
   ]
  },
  {
   "cell_type": "code",
   "execution_count": 57,
   "id": "9bc194ad-718c-4b47-9c96-ac8dcbed1a06",
   "metadata": {
    "execution": {
     "iopub.execute_input": "2024-01-17T18:56:59.042741Z",
     "iopub.status.busy": "2024-01-17T18:56:59.040937Z",
     "iopub.status.idle": "2024-01-17T18:56:59.058747Z",
     "shell.execute_reply": "2024-01-17T18:56:59.057318Z",
     "shell.execute_reply.started": "2024-01-17T18:56:59.042652Z"
    }
   },
   "outputs": [
    {
     "data": {
      "text/plain": [
       "array([0.20727216])"
      ]
     },
     "execution_count": 57,
     "metadata": {},
     "output_type": "execute_result"
    }
   ],
   "source": [
    "from sklearn.neural_network import MLPRegressor\n",
    "\n",
    "model = MLPRegressor(activation=\"relu\", random_state=42)\n",
    "model.partial_fit([one_hot_encode(\"Tom\", \"morning\", \"politics\")], [1])\n",
    "model.predict([one_hot_encode(\"Tom\", \"morning\", \"politics\")])"
   ]
  },
  {
   "cell_type": "code",
   "execution_count": 58,
   "id": "034ae60e-84f0-4f34-9648-d0f4cae706bb",
   "metadata": {
    "execution": {
     "iopub.execute_input": "2024-01-17T18:57:00.139176Z",
     "iopub.status.busy": "2024-01-17T18:57:00.138657Z",
     "iopub.status.idle": "2024-01-17T18:57:00.152461Z",
     "shell.execute_reply": "2024-01-17T18:57:00.150672Z",
     "shell.execute_reply.started": "2024-01-17T18:57:00.139125Z"
    }
   },
   "outputs": [
    {
     "data": {
      "text/plain": [
       "(array([ 0.20727216,  0.11697445,  0.33291172,  0.24473987,  0.35555384,\n",
       "         0.13795523, -0.00638099]),\n",
       " array([0.14313913, 0.13078037, 0.16230165, 0.14860396, 0.16601842,\n",
       "        0.13355323, 0.11560323]),\n",
       " 'camping')"
      ]
     },
     "execution_count": 58,
     "metadata": {},
     "output_type": "execute_result"
    }
   ],
   "source": [
    "# Sampling best reward for the action taken.\n",
    "rewards = model.predict(\n",
    "    [one_hot_encode(\"Tom\", \"morning\", action) for action in actions]\n",
    ")\n",
    "p = softmax(rewards)\n",
    "action = np.random.choice(actions, p=p)\n",
    "rewards, p, action"
   ]
  },
  {
   "cell_type": "code",
   "execution_count": 59,
   "id": "e8854879-d1a7-4519-a7e5-996bb0fe971d",
   "metadata": {
    "execution": {
     "iopub.execute_input": "2024-01-17T18:57:00.902637Z",
     "iopub.status.busy": "2024-01-17T18:57:00.902221Z",
     "iopub.status.idle": "2024-01-17T18:57:00.926113Z",
     "shell.execute_reply": "2024-01-17T18:57:00.924612Z",
     "shell.execute_reply.started": "2024-01-17T18:57:00.902607Z"
    }
   },
   "outputs": [
    {
     "data": {
      "text/plain": [
       "array([0.30681819])"
      ]
     },
     "execution_count": 59,
     "metadata": {},
     "output_type": "execute_result"
    }
   ],
   "source": [
    "model = MLPRegressor(activation=\"relu\", random_state=42)\n",
    "model.partial_fit([feature_interaction(\"Tom\", \"morning\", \"politics\")], [1])\n",
    "model.predict([feature_interaction(\"Tom\", \"morning\", \"politics\")])"
   ]
  },
  {
   "cell_type": "code",
   "execution_count": 62,
   "id": "c2653d3c-1521-4646-ae60-251e3524a2ad",
   "metadata": {
    "execution": {
     "iopub.execute_input": "2024-01-17T18:57:19.121978Z",
     "iopub.status.busy": "2024-01-17T18:57:19.121391Z",
     "iopub.status.idle": "2024-01-17T18:57:19.139587Z",
     "shell.execute_reply": "2024-01-17T18:57:19.135885Z",
     "shell.execute_reply.started": "2024-01-17T18:57:19.121934Z"
    }
   },
   "outputs": [
    {
     "data": {
      "text/plain": [
       "(array([0.30681819, 0.82605623, 0.57201208, 0.39640068, 0.28572226,\n",
       "        0.5167437 , 0.44741572]),\n",
       " array([0.11845786, 0.19909764, 0.15443159, 0.12955945, 0.11598506,\n",
       "        0.14612798, 0.13634042]),\n",
       " 'finance')"
      ]
     },
     "execution_count": 62,
     "metadata": {},
     "output_type": "execute_result"
    }
   ],
   "source": [
    "# Sampling best reward for the action taken.\n",
    "rewards = model.predict(\n",
    "    [feature_interaction(\"Tom\", \"morning\", action) for action in actions]\n",
    ")\n",
    "p = softmax(rewards)\n",
    "action = np.random.choice(actions, p=p)\n",
    "rewards, p, action"
   ]
  },
  {
   "cell_type": "code",
   "execution_count": 63,
   "id": "20eda3dd-c5b7-423e-9a0e-aa76e7984b4e",
   "metadata": {
    "execution": {
     "iopub.execute_input": "2024-01-17T18:57:19.569930Z",
     "iopub.status.busy": "2024-01-17T18:57:19.568930Z",
     "iopub.status.idle": "2024-01-17T18:57:19.579829Z",
     "shell.execute_reply": "2024-01-17T18:57:19.578841Z",
     "shell.execute_reply.started": "2024-01-17T18:57:19.569878Z"
    }
   },
   "outputs": [
    {
     "data": {
      "text/plain": [
       "(array([0.30681819, 0.82605623, 0.57201208, 0.39640068, 0.28572226,\n",
       "        0.5167437 , 0.44741572]),\n",
       " array([0.03918545, 0.5255765 , 0.14756592, 0.06132687, 0.0352627 ,\n",
       "        0.11193665, 0.07914592]),\n",
       " array([0.11845786, 0.19909764, 0.15443159, 0.12955945, 0.11598506,\n",
       "        0.14612798, 0.13634042]),\n",
       " 'sports')"
      ]
     },
     "execution_count": 63,
     "metadata": {},
     "output_type": "execute_result"
    }
   ],
   "source": [
    "p = softmax(rewards, tau=0.2)\n",
    "action = np.random.choice(actions, p=p)\n",
    "rewards, p, softmax(rewards), action"
   ]
  },
  {
   "cell_type": "code",
   "execution_count": 65,
   "id": "b2d06c17-5cb6-497a-82d9-8c7d94afa208",
   "metadata": {
    "execution": {
     "iopub.execute_input": "2024-01-17T18:57:28.248450Z",
     "iopub.status.busy": "2024-01-17T18:57:28.246631Z",
     "iopub.status.idle": "2024-01-17T18:57:28.266531Z",
     "shell.execute_reply": "2024-01-17T18:57:28.261662Z",
     "shell.execute_reply.started": "2024-01-17T18:57:28.248361Z"
    }
   },
   "outputs": [],
   "source": [
    "def choose_user(users):\n",
    "    return random.choice(users)\n",
    "\n",
    "\n",
    "def choose_time_of_day(times_of_day):\n",
    "    return random.choice(times_of_day)\n",
    "\n",
    "\n",
    "def get_action(model, context, actions, preprocess):\n",
    "    rewards = model.predict(\n",
    "        [\n",
    "            preprocess(context[\"user\"], context[\"time_of_day\"], action)\n",
    "            for action in actions\n",
    "        ]\n",
    "    )\n",
    "    action = np.random.choice(actions, p=softmax(rewards, tau=0.2))\n",
    "    return action"
   ]
  },
  {
   "cell_type": "code",
   "execution_count": 66,
   "id": "24d0b72e-01a9-4408-b53c-f76f5efec0a8",
   "metadata": {
    "execution": {
     "iopub.execute_input": "2024-01-17T18:57:29.842421Z",
     "iopub.status.busy": "2024-01-17T18:57:29.841735Z",
     "iopub.status.idle": "2024-01-17T18:57:29.872956Z",
     "shell.execute_reply": "2024-01-17T18:57:29.871024Z",
     "shell.execute_reply.started": "2024-01-17T18:57:29.842372Z"
    }
   },
   "outputs": [],
   "source": [
    "def run_simulation(\n",
    "    model,\n",
    "    num_iterations,\n",
    "    users,\n",
    "    times_of_day,\n",
    "    actions,\n",
    "    cost_function,\n",
    "    do_learn=True,\n",
    "    preprocess=one_hot_encode,\n",
    "):\n",
    "    cost_sum = 0.0\n",
    "    ctr = []\n",
    "\n",
    "    for i in range(1, num_iterations + 1):\n",
    "        # 1. In each simulation choose a user\n",
    "        user = choose_user(users)\n",
    "        # 2. Choose time of day for a given user\n",
    "        time_of_day = choose_time_of_day(times_of_day)\n",
    "\n",
    "        # 3. Pass context to vw to get an action\n",
    "        context = {\"user\": user, \"time_of_day\": time_of_day}\n",
    "        action = get_action(model, context, actions, preprocess)\n",
    "\n",
    "        # 4. Get cost of the action we chose\n",
    "        cost = cost_function(context, action)\n",
    "        cost_sum += cost\n",
    "\n",
    "        if do_learn:\n",
    "            # 5. Learn\n",
    "            model.partial_fit([preprocess(user, time_of_day, action)], [cost])\n",
    "\n",
    "        # We negate this so that on the plot instead of minimizing cost, we are maximizing reward\n",
    "        ctr.append(1 * cost_sum / i)\n",
    "\n",
    "    return ctr"
   ]
  },
  {
   "cell_type": "code",
   "execution_count": 67,
   "id": "f80205d6-20e7-468c-99ef-72adfef0363e",
   "metadata": {
    "execution": {
     "iopub.execute_input": "2024-01-17T18:57:30.139874Z",
     "iopub.status.busy": "2024-01-17T18:57:30.138731Z",
     "iopub.status.idle": "2024-01-17T18:57:30.148720Z",
     "shell.execute_reply": "2024-01-17T18:57:30.146233Z",
     "shell.execute_reply.started": "2024-01-17T18:57:30.139823Z"
    }
   },
   "outputs": [],
   "source": [
    "def plot_ctr(num_iterations, ctr):\n",
    "    plt.plot(range(1, num_iterations + 1), ctr)\n",
    "    plt.xlabel(\"num_iterations\", fontsize=14)\n",
    "    plt.ylabel(\"ctr\", fontsize=14)\n",
    "    plt.ylim([0, 1])"
   ]
  },
  {
   "cell_type": "code",
   "execution_count": 68,
   "id": "88a48d61-ed54-4e2d-9cc8-cad9574de3e8",
   "metadata": {
    "execution": {
     "iopub.execute_input": "2024-01-17T18:57:30.323575Z",
     "iopub.status.busy": "2024-01-17T18:57:30.323021Z",
     "iopub.status.idle": "2024-01-17T18:57:41.636771Z",
     "shell.execute_reply": "2024-01-17T18:57:41.635457Z",
     "shell.execute_reply.started": "2024-01-17T18:57:30.323540Z"
    }
   },
   "outputs": [
    {
     "data": {
      "image/png": "[encoded data removed]",
      "text/plain": [
       "<Figure size 640x480 with 1 Axes>"
      ]
     },
     "metadata": {},
     "output_type": "display_data"
    }
   ],
   "source": [
    "num_iterations = 5000\n",
    "# Need to fit at least once.\n",
    "model = MLPRegressor(random_state=42)\n",
    "model.partial_fit([one_hot_encode(\"Tom\", \"morning\", \"politics\")], [1])\n",
    "ctr = run_simulation(model, num_iterations, users, times_of_day, actions, get_cost)\n",
    "old_ctr = ctr\n",
    "plot_ctr(num_iterations, ctr)"
   ]
  },
  {
   "cell_type": "code",
   "execution_count": 69,
   "id": "4c6dadf4-50ab-4285-bb59-ff59f2d4f5ba",
   "metadata": {
    "execution": {
     "iopub.execute_input": "2024-01-17T18:57:41.646715Z",
     "iopub.status.busy": "2024-01-17T18:57:41.646273Z",
     "iopub.status.idle": "2024-01-17T18:57:54.714582Z",
     "shell.execute_reply": "2024-01-17T18:57:54.712904Z",
     "shell.execute_reply.started": "2024-01-17T18:57:41.646666Z"
    }
   },
   "outputs": [
    {
     "data": {
      "text/plain": [
       "<matplotlib.legend.Legend at 0x12005abf0>"
      ]
     },
     "execution_count": 69,
     "metadata": {},
     "output_type": "execute_result"
    },
    {
     "data": {
      "image/png": "[encoded data removed]",
      "text/plain": [
       "<Figure size 640x480 with 1 Axes>"
      ]
     },
     "metadata": {},
     "output_type": "display_data"
    }
   ],
   "source": [
    "num_iterations = 5000\n",
    "# Need to fit at least once.\n",
    "model = MLPRegressor(activation=\"relu\", random_state=42)\n",
    "model.partial_fit([feature_interaction(\"Tom\", \"morning\", \"politics\")], [1])\n",
    "ctr = run_simulation(\n",
    "    model,\n",
    "    num_iterations,\n",
    "    users,\n",
    "    times_of_day,\n",
    "    actions,\n",
    "    get_cost,\n",
    "    preprocess=feature_interaction,\n",
    ")\n",
    "\n",
    "plt.plot(range(1, num_iterations + 1), old_ctr)\n",
    "plot_ctr(num_iterations, ctr)\n",
    "plt.legend([\"one_hot_encode\", \"feature_interaction\"])"
   ]
  },
  {
   "cell_type": "code",
   "execution_count": 70,
   "id": "4889f931-b201-4e00-b552-44b0bd983878",
   "metadata": {
    "execution": {
     "iopub.execute_input": "2024-01-17T18:57:54.717216Z",
     "iopub.status.busy": "2024-01-17T18:57:54.716646Z",
     "iopub.status.idle": "2024-01-17T18:57:54.752839Z",
     "shell.execute_reply": "2024-01-17T18:57:54.748801Z",
     "shell.execute_reply.started": "2024-01-17T18:57:54.717169Z"
    }
   },
   "outputs": [
    {
     "data": {
      "text/plain": [
       "'sports'"
      ]
     },
     "execution_count": 70,
     "metadata": {},
     "output_type": "execute_result"
    }
   ],
   "source": [
    "context = {\"user\": \"Anna\", \"time_of_day\": \"morning\"}\n",
    "get_action(model, context, actions, feature_interaction)"
   ]
  },
  {
   "cell_type": "code",
   "execution_count": 71,
   "id": "f00afef7-0702-4117-b052-d4b0baac9148",
   "metadata": {
    "execution": {
     "iopub.execute_input": "2024-01-17T18:57:54.766303Z",
     "iopub.status.busy": "2024-01-17T18:57:54.765337Z",
     "iopub.status.idle": "2024-01-17T18:57:54.794747Z",
     "shell.execute_reply": "2024-01-17T18:57:54.792731Z",
     "shell.execute_reply.started": "2024-01-17T18:57:54.766250Z"
    }
   },
   "outputs": [
    {
     "data": {
      "text/plain": [
       "'politics'"
      ]
     },
     "execution_count": 71,
     "metadata": {},
     "output_type": "execute_result"
    }
   ],
   "source": [
    "context = {\"user\": \"Anna\", \"time_of_day\": \"afternoon\"}\n",
    "get_action(model, context, actions, feature_interaction)"
   ]
  },
  {
   "cell_type": "code",
   "execution_count": 72,
   "id": "e21ec938-3d10-4af1-99f5-65f3db5accbe",
   "metadata": {
    "execution": {
     "iopub.execute_input": "2024-01-17T18:57:54.798180Z",
     "iopub.status.busy": "2024-01-17T18:57:54.796961Z",
     "iopub.status.idle": "2024-01-17T18:57:54.826994Z",
     "shell.execute_reply": "2024-01-17T18:57:54.820078Z",
     "shell.execute_reply.started": "2024-01-17T18:57:54.798126Z"
    }
   },
   "outputs": [],
   "source": [
    "def get_cost_new1(context, action):\n",
    "    match (context[\"user\"], context[\"time_of_day\"], action):\n",
    "        case (\"Tom\", \"morning\", \"politics\"):\n",
    "            return USER_LIKED_ARTICLE\n",
    "        case (\"Tom\", \"afternoon\", \"sports\"):\n",
    "            return USER_LIKED_ARTICLE\n",
    "        case (\"Anna\", \"morning\", \"sports\"):\n",
    "            return USER_LIKED_ARTICLE\n",
    "        case (\"Anna\", \"afternoon\", \"sports\"):\n",
    "            return USER_LIKED_ARTICLE\n",
    "        case _:\n",
    "            return USER_DISLIKED_ARTICLE"
   ]
  },
  {
   "cell_type": "code",
   "execution_count": 73,
   "id": "13ce6cb2-d6f8-4ceb-94ca-8910b81396e2",
   "metadata": {
    "execution": {
     "iopub.execute_input": "2024-01-17T18:57:54.839734Z",
     "iopub.status.busy": "2024-01-17T18:57:54.839046Z",
     "iopub.status.idle": "2024-01-17T18:57:54.860336Z",
     "shell.execute_reply": "2024-01-17T18:57:54.851378Z",
     "shell.execute_reply.started": "2024-01-17T18:57:54.839688Z"
    }
   },
   "outputs": [],
   "source": [
    "def run_simulation_multiple_cost_functions(\n",
    "    model,\n",
    "    num_iterations,\n",
    "    users,\n",
    "    times_of_day,\n",
    "    actions,\n",
    "    cost_functions,\n",
    "    do_learn=True,\n",
    "    preprocess=feature_interaction,\n",
    "):\n",
    "    cost_sum = 0.0\n",
    "    ctr = []\n",
    "\n",
    "    start_counter = 1\n",
    "    end_counter = start_counter + num_iterations\n",
    "    for cost_function in cost_functions:\n",
    "        for i in range(start_counter, end_counter):\n",
    "            # 1. in each simulation choose a user\n",
    "            user = choose_user(users)\n",
    "            # 2. choose time of day for a given user\n",
    "            time_of_day = choose_time_of_day(times_of_day)\n",
    "\n",
    "            # Construct context based on chosen user and time of day\n",
    "            context = {\"user\": user, \"time_of_day\": time_of_day}\n",
    "\n",
    "            # 3. Use the get_action function we defined earlier\n",
    "            action = get_action(model, context, actions, preprocess)\n",
    "\n",
    "            # 4. Get cost of the action we chose\n",
    "            cost = cost_function(context, action)\n",
    "            cost_sum += cost\n",
    "\n",
    "            if do_learn:\n",
    "                # 5. Inform VW of what happened so we can learn from it\n",
    "                model.partial_fit([preprocess(user, time_of_day, action)], [cost])\n",
    "\n",
    "            ctr.append(1 * cost_sum / i)\n",
    "        start_counter = end_counter\n",
    "        end_counter = start_counter + num_iterations\n",
    "\n",
    "    return ctr"
   ]
  },
  {
   "cell_type": "code",
   "execution_count": 74,
   "id": "0747739f-3d1f-4fce-962a-057b3202b6ec",
   "metadata": {
    "execution": {
     "iopub.execute_input": "2024-01-17T18:57:54.867174Z",
     "iopub.status.busy": "2024-01-17T18:57:54.865709Z",
     "iopub.status.idle": "2024-01-17T18:58:23.583354Z",
     "shell.execute_reply": "2024-01-17T18:58:23.582302Z",
     "shell.execute_reply.started": "2024-01-17T18:57:54.867122Z"
    }
   },
   "outputs": [
    {
     "data": {
      "image/png": "[encoded data removed]",
      "text/plain": [
       "<Figure size 640x480 with 1 Axes>"
      ]
     },
     "metadata": {},
     "output_type": "display_data"
    }
   ],
   "source": [
    "model = MLPRegressor(activation=\"relu\", random_state=42)\n",
    "cost_functions = [get_cost, get_cost_new1]\n",
    "num_iterations_per_cost_func = 5000\n",
    "total_iterations = num_iterations_per_cost_func * len(cost_functions)\n",
    "\n",
    "# Need to fit at least one data before using.\\n\",\n",
    "model.partial_fit([feature_interaction(\"Tom\", \"morning\", \"politics\")], [1])\n",
    "ctr = run_simulation_multiple_cost_functions(\n",
    "    model,\n",
    "    num_iterations_per_cost_func,\n",
    "    users,\n",
    "    times_of_day,\n",
    "    actions,\n",
    "    cost_functions,\n",
    "    preprocess=feature_interaction,\n",
    ")\n",
    "plot_ctr(total_iterations, ctr)"
   ]
  }
 ],
 "metadata": {
  "kernelspec": {
   "display_name": "Python 3 (ipykernel)",
   "language": "python",
   "name": "python3"
  },
  "language_info": {
   "codemirror_mode": {
    "name": "ipython",
    "version": 3
   },
   "file_extension": ".py",
   "mimetype": "text/x-python",
   "name": "python",
   "nbconvert_exporter": "python",
   "pygments_lexer": "ipython3",
   "version": "3.10.13"
  },
  "widgets": {
   "application/vnd.jupyter.widget-state+json": {
    "state": {},
    "version_major": 2,
    "version_minor": 0
   }
  }
 },
 "nbformat": 4,
 "nbformat_minor": 5
}
