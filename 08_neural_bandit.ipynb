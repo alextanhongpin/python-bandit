{
 "cells": [
  {
   "cell_type": "markdown",
   "id": "b0b588fa-bc2f-46c4-93e3-953fcd709661",
   "metadata": {},
   "source": [
    "# Neural Bandit\n",
    "\n",
    "Implementing neural bandit using scikit-learn's multilayer perceptron.\n",
    "\n",
    "In this example, we use a simple neural network to predict the action's value. This has the advantage of being able to just use the neural network to map all the possible states (context).\n",
    "\n",
    "We can pick the action with the highest predicted reward, or apply other policies such as e-greedy or softmax."
   ]
  },
  {
   "cell_type": "code",
   "execution_count": 1,
   "id": "76537ca5-6fa4-4c31-969b-da6b4f744750",
   "metadata": {
    "execution": {
     "iopub.execute_input": "2024-01-18T18:27:18.707677Z",
     "iopub.status.busy": "2024-01-18T18:27:18.699203Z",
     "iopub.status.idle": "2024-01-18T18:27:20.662711Z",
     "shell.execute_reply": "2024-01-18T18:27:20.661631Z",
     "shell.execute_reply.started": "2024-01-18T18:27:18.707605Z"
    }
   },
   "outputs": [],
   "source": [
    "import random\n",
    "\n",
    "import matplotlib.pyplot as plt\n",
    "import numpy as np"
   ]
  },
  {
   "cell_type": "code",
   "execution_count": 2,
   "id": "dc16fe41-5cfd-458d-bb0b-e7a3959613f2",
   "metadata": {
    "execution": {
     "iopub.execute_input": "2024-01-18T18:27:20.666298Z",
     "iopub.status.busy": "2024-01-18T18:27:20.665784Z",
     "iopub.status.idle": "2024-01-18T18:27:20.673374Z",
     "shell.execute_reply": "2024-01-18T18:27:20.671720Z",
     "shell.execute_reply.started": "2024-01-18T18:27:20.666261Z"
    }
   },
   "outputs": [],
   "source": [
    "USER_LIKED_ARTICLE = 1.0\n",
    "USER_DISLIKED_ARTICLE = -1.0"
   ]
  },
  {
   "cell_type": "markdown",
   "id": "cf970937-9c3f-4c90-8529-35b4addad747",
   "metadata": {},
   "source": [
    "## Initial Cost Function"
   ]
  },
  {
   "cell_type": "code",
   "execution_count": 3,
   "id": "f0a6ace2-ccda-4772-9ec6-18abd864af0e",
   "metadata": {
    "execution": {
     "iopub.execute_input": "2024-01-18T18:27:20.684189Z",
     "iopub.status.busy": "2024-01-18T18:27:20.674513Z",
     "iopub.status.idle": "2024-01-18T18:27:20.749252Z",
     "shell.execute_reply": "2024-01-18T18:27:20.723162Z",
     "shell.execute_reply.started": "2024-01-18T18:27:20.684137Z"
    }
   },
   "outputs": [],
   "source": [
    "def get_cost(context, action):\n",
    "    match (context[\"user\"], context[\"time_of_day\"], action):\n",
    "        case (\"Tom\", \"morning\", \"politics\"):\n",
    "            return USER_LIKED_ARTICLE\n",
    "        case (\"Tom\", \"afternoon\", \"music\"):\n",
    "            return USER_LIKED_ARTICLE\n",
    "        case (\"Anna\", \"morning\", \"sports\"):\n",
    "            return USER_LIKED_ARTICLE\n",
    "        case (\"Anna\", \"afternoon\", \"politics\"):\n",
    "            return USER_LIKED_ARTICLE\n",
    "        case _:\n",
    "            return USER_DISLIKED_ARTICLE"
   ]
  },
  {
   "cell_type": "markdown",
   "id": "08797e51-e7c6-4500-b766-d7762b71954d",
   "metadata": {
    "execution": {
     "iopub.execute_input": "2024-01-18T16:39:23.335213Z",
     "iopub.status.busy": "2024-01-18T16:39:23.326304Z",
     "iopub.status.idle": "2024-01-18T16:39:23.342663Z",
     "shell.execute_reply": "2024-01-18T16:39:23.341304Z",
     "shell.execute_reply.started": "2024-01-18T16:39:23.335149Z"
    }
   },
   "source": [
    "## Preprocessing"
   ]
  },
  {
   "cell_type": "markdown",
   "id": "f38cde71-033a-4660-889e-901a3b8901a7",
   "metadata": {},
   "source": [
    "### One Hot Encoding\n",
    "\n",
    "One hot encoding can be used to convert the categorical features to numbers. However, there is a limitation where the input has to be of fixed size. So if there are new features introduced, we may not be able to fit the neural network. An alternative approach is to use **feature hashing**, which we will explore later.\n",
    "\n",
    "We still demonstrate the usage of one hot encoding as a comparison."
   ]
  },
  {
   "cell_type": "code",
   "execution_count": 4,
   "id": "23c0ab8f-3205-4922-9784-ced6aa14f865",
   "metadata": {
    "execution": {
     "iopub.execute_input": "2024-01-18T18:27:20.752674Z",
     "iopub.status.busy": "2024-01-18T18:27:20.751907Z",
     "iopub.status.idle": "2024-01-18T18:27:20.822162Z",
     "shell.execute_reply": "2024-01-18T18:27:20.812902Z",
     "shell.execute_reply.started": "2024-01-18T18:27:20.752599Z"
    }
   },
   "outputs": [
    {
     "data": {
      "text/plain": [
       "[1, 1, 1, 0, 0, 0, 0, 0, 0]"
      ]
     },
     "execution_count": 4,
     "metadata": {},
     "output_type": "execute_result"
    }
   ],
   "source": [
    "users = [\"Tom\", \"Anna\"]\n",
    "times_of_day = [\"morning\", \"afternoon\"]\n",
    "actions = [\"politics\", \"sports\", \"music\", \"food\", \"finance\", \"health\", \"camping\"]\n",
    "\n",
    "\n",
    "def one_hot_encode(user, time_of_day, action):\n",
    "    return [users.index(user) + 1, times_of_day.index(time_of_day) + 1] + [\n",
    "        1 if a == action else 0 for a in actions\n",
    "    ]\n",
    "\n",
    "\n",
    "one_hot_encode(\"Tom\", \"morning\", \"politics\")"
   ]
  },
  {
   "cell_type": "markdown",
   "id": "92eec7f0-2234-438a-a0a3-97f5c640866d",
   "metadata": {},
   "source": [
    "### Feature Hashing\n",
    "\n",
    "Feature hashing allows us to work with a larger set of dynamic features. The disadvantage is that as the feature size grow, it is prone to collision which might lead to the neural network learning the wrong thing."
   ]
  },
  {
   "cell_type": "code",
   "execution_count": 5,
   "id": "8ef5d672-e753-469b-a36e-67575aef8ec9",
   "metadata": {
    "execution": {
     "iopub.execute_input": "2024-01-18T18:27:20.826829Z",
     "iopub.status.busy": "2024-01-18T18:27:20.825201Z",
     "iopub.status.idle": "2024-01-18T18:27:23.358529Z",
     "shell.execute_reply": "2024-01-18T18:27:23.356858Z",
     "shell.execute_reply.started": "2024-01-18T18:27:20.826755Z"
    }
   },
   "outputs": [
    {
     "name": "stdout",
     "output_type": "stream",
     "text": [
      "[[ 1. -1.  0.  0.  0.  0.  0. -1.  0.  0.]]\n",
      "[[ 1. -1.  0.  0.  0.  0.  0. -1.  0.  0.]]\n"
     ]
    }
   ],
   "source": [
    "from sklearn.feature_extraction import FeatureHasher\n",
    "\n",
    "hasher = FeatureHasher(n_features=10, input_type=\"string\")\n",
    "\n",
    "# The order does not matter.\n",
    "print(hasher.transform([[\"a\", \"b\", \"c\"]]).toarray())\n",
    "print(hasher.transform([[\"c\", \"a\", \"b\"]]).toarray())"
   ]
  },
  {
   "cell_type": "code",
   "execution_count": 6,
   "id": "f1da0859-6e84-4ed5-886e-c8c0da2f8a5c",
   "metadata": {
    "execution": {
     "iopub.execute_input": "2024-01-18T18:27:23.362953Z",
     "iopub.status.busy": "2024-01-18T18:27:23.361422Z",
     "iopub.status.idle": "2024-01-18T18:27:23.419788Z",
     "shell.execute_reply": "2024-01-18T18:27:23.392865Z",
     "shell.execute_reply.started": "2024-01-18T18:27:23.362917Z"
    }
   },
   "outputs": [
    {
     "name": "stdout",
     "output_type": "stream",
     "text": [
      "[[ 1. -1.  0.  0.  0.  0.  0.  0.  0.  0.]]\n",
      "[[ 1. -1.  0.  0.  0.  0.  0. -1.  0.  0.]]\n",
      "[[ 1. -2.  0.  0.  0.  0.  0.  0.  0.  0.]]\n"
     ]
    }
   ],
   "source": [
    "# The input size does not matter.\n",
    "print(hasher.transform([[\"a\", \"b\"]]).toarray())\n",
    "print(hasher.transform([[\"a\", \"b\", \"c\"]]).toarray())\n",
    "\n",
    "# The input numbers matter.\n",
    "print(hasher.transform([[\"a\", \"b\", \"b\"]]).toarray())"
   ]
  },
  {
   "cell_type": "code",
   "execution_count": 7,
   "id": "bffe1a5a-ce95-4e1c-a74d-7f4fe9572138",
   "metadata": {
    "execution": {
     "iopub.execute_input": "2024-01-18T18:27:23.450001Z",
     "iopub.status.busy": "2024-01-18T18:27:23.449467Z",
     "iopub.status.idle": "2024-01-18T18:27:23.457244Z",
     "shell.execute_reply": "2024-01-18T18:27:23.455786Z",
     "shell.execute_reply.started": "2024-01-18T18:27:23.449961Z"
    }
   },
   "outputs": [
    {
     "name": "stdout",
     "output_type": "stream",
     "text": [
      "[('a', 'a'), ('a', 'b'), ('a', 'c'), ('b', 'b'), ('b', 'c'), ('c', 'c')]\n",
      "[('Tom', 'Tom'), ('Tom', 'politics'), ('politics', 'politics')]\n"
     ]
    }
   ],
   "source": [
    "from itertools import combinations_with_replacement\n",
    "\n",
    "# This is similar to how vowpal wabbit does the feature interaction.\n",
    "print(list(combinations_with_replacement(\"abc\", 2)))\n",
    "print(list(combinations_with_replacement([\"Tom\", \"politics\"], 2)))"
   ]
  },
  {
   "cell_type": "code",
   "execution_count": 34,
   "id": "bc819dc2-8b55-4ce1-af53-ca571114bf7b",
   "metadata": {
    "execution": {
     "iopub.execute_input": "2024-01-18T18:32:47.612304Z",
     "iopub.status.busy": "2024-01-18T18:32:47.611849Z",
     "iopub.status.idle": "2024-01-18T18:32:47.633604Z",
     "shell.execute_reply": "2024-01-18T18:32:47.626658Z",
     "shell.execute_reply.started": "2024-01-18T18:32:47.612270Z"
    }
   },
   "outputs": [],
   "source": [
    "hasher = FeatureHasher(n_features=100, input_type=\"string\")\n",
    "\n",
    "\n",
    "# https://github.com/VowpalWabbit/vowpal_wabbit/wiki/Feature-interactions\n",
    "# https://vowpalwabbit.org/docs/vowpal_wabbit/python/latest/tutorials/python_Simulating_a_news_personalization_scenario_using_Contextual_Bandits.html#:~:text=supply%20to%20VW-,%2C%20we%20include%20%2Dq%20UA,-.%20This%20is%20telling\n",
    "def feature_interaction(user, time_of_day, action, debug=False):\n",
    "    \"\"\"perform feature interactions, similar to how vowpal wabbit does it.\n",
    "    We create additional features which are the features in the (U)ser namespace and (A)ction\n",
    "    namespaces multiplied together.\n",
    "    This allows us to learn the interaction between when certain actions are good in certain times of days and for particular users.\n",
    "    If we didn’t do that, the learning wouldn’t really work.\n",
    "    We can see that in action below.\n",
    "    \"\"\"\n",
    "    features = [\n",
    "        f\"user:{user}\",\n",
    "        f\"action:{action}^user:{user}\",\n",
    "        f\"time_of_day:{time_of_day}^user:{user}\",\n",
    "    ]\n",
    "\n",
    "    # X_times_of_day = [f\"time_of_day:{tod}:{tod==time_of_day}\" for tod in times_of_day]\n",
    "    # features += X_times_of_day\n",
    "    # features += [f\"{f}^user:{user}\" for f in X_times_of_day]\n",
    "\n",
    "    # X_actions = [f\"action:{a}:{a==action}\" for a in actions]\n",
    "    # features += X_actions\n",
    "    # features += [f\"{f}^user:{user}\" for f in X_actions]\n",
    "    if debug:\n",
    "        print(features)\n",
    "    return hasher.transform([features]).toarray()[0]"
   ]
  },
  {
   "cell_type": "markdown",
   "id": "2d798f8f-7f67-494e-acb4-7629d4356f6f",
   "metadata": {},
   "source": [
    "Here we can see that the encoded output will be different for different input."
   ]
  },
  {
   "cell_type": "code",
   "execution_count": 35,
   "id": "730c6841-efb9-4535-a774-5c903dc57246",
   "metadata": {
    "execution": {
     "iopub.execute_input": "2024-01-18T18:32:48.339352Z",
     "iopub.status.busy": "2024-01-18T18:32:48.338483Z",
     "iopub.status.idle": "2024-01-18T18:32:48.355748Z",
     "shell.execute_reply": "2024-01-18T18:32:48.354548Z",
     "shell.execute_reply.started": "2024-01-18T18:32:48.339318Z"
    }
   },
   "outputs": [
    {
     "name": "stdout",
     "output_type": "stream",
     "text": [
      "['user:Tom', 'action:politics^user:Tom', 'time_of_day:morning^user:Tom']\n"
     ]
    },
    {
     "data": {
      "text/plain": [
       "array([0., 0., 0., 0., 0., 0., 0., 0., 0., 0., 0., 0., 0., 0., 0., 0., 0.,\n",
       "       0., 0., 0., 0., 0., 0., 0., 0., 0., 0., 0., 0., 0., 0., 0., 0., 0.,\n",
       "       0., 0., 0., 0., 0., 0., 0., 0., 0., 0., 0., 0., 0., 0., 0., 0., 0.,\n",
       "       0., 0., 0., 0., 0., 0., 0., 0., 0., 0., 0., 0., 0., 0., 0., 0., 0.,\n",
       "       0., 0., 0., 0., 0., 1., 0., 0., 0., 0., 0., 0., 0., 0., 0., 0., 0.,\n",
       "       0., 0., 0., 0., 0., 0., 0., 0., 0., 0., 0., 0., 0., 0., 0.])"
      ]
     },
     "execution_count": 35,
     "metadata": {},
     "output_type": "execute_result"
    }
   ],
   "source": [
    "feature_interaction(\"Tom\", \"morning\", \"politics\", debug=True)"
   ]
  },
  {
   "cell_type": "code",
   "execution_count": 36,
   "id": "d40949ff-28da-473b-981d-ab723ca15ca6",
   "metadata": {
    "execution": {
     "iopub.execute_input": "2024-01-18T18:32:48.593810Z",
     "iopub.status.busy": "2024-01-18T18:32:48.593319Z",
     "iopub.status.idle": "2024-01-18T18:32:48.603584Z",
     "shell.execute_reply": "2024-01-18T18:32:48.602350Z",
     "shell.execute_reply.started": "2024-01-18T18:32:48.593779Z"
    }
   },
   "outputs": [
    {
     "data": {
      "text/plain": [
       "array([0., 0., 0., 0., 0., 0., 0., 0., 0., 0., 0., 0., 0., 0., 0., 0., 0.,\n",
       "       0., 0., 0., 0., 0., 0., 1., 0., 0., 0., 0., 0., 0., 0., 0., 0., 0.,\n",
       "       0., 0., 0., 0., 0., 0., 0., 0., 0., 0., 0., 0., 0., 0., 0., 0., 0.,\n",
       "       0., 0., 0., 0., 0., 0., 0., 0., 0., 0., 0., 0., 0., 0., 0., 0., 0.,\n",
       "       0., 0., 0., 0., 0., 0., 0., 0., 0., 0., 0., 0., 0., 0., 0., 0., 0.,\n",
       "       0., 0., 0., 0., 0., 0., 0., 0., 0., 0., 0., 0., 0., 0., 0.])"
      ]
     },
     "execution_count": 36,
     "metadata": {},
     "output_type": "execute_result"
    }
   ],
   "source": [
    "feature_interaction(\"Tom\", \"afternoon\", \"politics\")"
   ]
  },
  {
   "cell_type": "markdown",
   "id": "560ce8bb-7348-4c15-afd4-5ebb26ccba17",
   "metadata": {},
   "source": [
    "## Policy\n",
    "\n",
    "### Softmax"
   ]
  },
  {
   "cell_type": "code",
   "execution_count": 37,
   "id": "9b03b4b6-452b-460e-a223-b9837700f688",
   "metadata": {
    "execution": {
     "iopub.execute_input": "2024-01-18T18:32:48.925611Z",
     "iopub.status.busy": "2024-01-18T18:32:48.924990Z",
     "iopub.status.idle": "2024-01-18T18:32:48.938118Z",
     "shell.execute_reply": "2024-01-18T18:32:48.936791Z",
     "shell.execute_reply.started": "2024-01-18T18:32:48.925580Z"
    }
   },
   "outputs": [],
   "source": [
    "import numpy as np\n",
    "\n",
    "\n",
    "def softmax(lst, tau=1.0):\n",
    "    lst = np.array(lst) / tau\n",
    "    exps = np.exp(lst)\n",
    "    return exps / np.sum(exps)"
   ]
  },
  {
   "cell_type": "code",
   "execution_count": 38,
   "id": "f53105ca-5d95-4044-a8d7-ae9cae6da338",
   "metadata": {
    "execution": {
     "iopub.execute_input": "2024-01-18T18:32:49.166533Z",
     "iopub.status.busy": "2024-01-18T18:32:49.164562Z",
     "iopub.status.idle": "2024-01-18T18:32:49.927126Z",
     "shell.execute_reply": "2024-01-18T18:32:49.925809Z",
     "shell.execute_reply.started": "2024-01-18T18:32:49.166478Z"
    }
   },
   "outputs": [
    {
     "data": {
      "text/plain": [
       "<Axes: title={'center': 'Probabilities against temperature'}, xlabel='Probabilities', ylabel='Temperature'>"
      ]
     },
     "execution_count": 38,
     "metadata": {},
     "output_type": "execute_result"
    },
    {
     "data": {
      "image/png": "[encoded data removed]",
      "text/plain": [
       "<Figure size 640x480 with 1 Axes>"
      ]
     },
     "metadata": {},
     "output_type": "display_data"
    }
   ],
   "source": [
    "import pandas as pd\n",
    "import seaborn as sns\n",
    "\n",
    "# Apply the default theme\n",
    "sns.set_theme()\n",
    "\n",
    "taus = [1.0, 0.5, 0.4, 0.3, 0.2, 0.1]\n",
    "probs = np.linspace(0, 1, 10)\n",
    "pd.DataFrame({tau: softmax(probs, tau) for tau in taus}, index=probs).plot(\n",
    "    xlabel=\"Probabilities\",\n",
    "    ylabel=\"Temperature\",\n",
    "    title=\"Probabilities against temperature\",\n",
    ")"
   ]
  },
  {
   "cell_type": "code",
   "execution_count": 39,
   "id": "9bc194ad-718c-4b47-9c96-ac8dcbed1a06",
   "metadata": {
    "execution": {
     "iopub.execute_input": "2024-01-18T18:32:49.932421Z",
     "iopub.status.busy": "2024-01-18T18:32:49.931669Z",
     "iopub.status.idle": "2024-01-18T18:32:49.945571Z",
     "shell.execute_reply": "2024-01-18T18:32:49.944651Z",
     "shell.execute_reply.started": "2024-01-18T18:32:49.932367Z"
    }
   },
   "outputs": [
    {
     "data": {
      "text/plain": [
       "array([0.20727216])"
      ]
     },
     "execution_count": 39,
     "metadata": {},
     "output_type": "execute_result"
    }
   ],
   "source": [
    "from sklearn.neural_network import MLPRegressor\n",
    "\n",
    "model = MLPRegressor(random_state=42)\n",
    "model.partial_fit([one_hot_encode(\"Tom\", \"morning\", \"politics\")], [1])\n",
    "model.predict([one_hot_encode(\"Tom\", \"morning\", \"politics\")])"
   ]
  },
  {
   "cell_type": "code",
   "execution_count": 40,
   "id": "034ae60e-84f0-4f34-9648-d0f4cae706bb",
   "metadata": {
    "execution": {
     "iopub.execute_input": "2024-01-18T18:32:50.147750Z",
     "iopub.status.busy": "2024-01-18T18:32:50.146322Z",
     "iopub.status.idle": "2024-01-18T18:32:50.169117Z",
     "shell.execute_reply": "2024-01-18T18:32:50.167890Z",
     "shell.execute_reply.started": "2024-01-18T18:32:50.147692Z"
    }
   },
   "outputs": [
    {
     "data": {
      "text/plain": [
       "(array([ 0.20727216,  0.11697445,  0.33291172,  0.24473987,  0.35555384,\n",
       "         0.13795523, -0.00638099]),\n",
       " array([0.14313913, 0.13078037, 0.16230165, 0.14860396, 0.16601842,\n",
       "        0.13355323, 0.11560323]),\n",
       " 'food')"
      ]
     },
     "execution_count": 40,
     "metadata": {},
     "output_type": "execute_result"
    }
   ],
   "source": [
    "# Sampling best reward for the action taken.\n",
    "rewards = model.predict(\n",
    "    [one_hot_encode(\"Tom\", \"morning\", action) for action in actions]\n",
    ")\n",
    "p = softmax(rewards)\n",
    "action = np.random.choice(actions, p=p)\n",
    "rewards, p, action"
   ]
  },
  {
   "cell_type": "code",
   "execution_count": 41,
   "id": "e8854879-d1a7-4519-a7e5-996bb0fe971d",
   "metadata": {
    "execution": {
     "iopub.execute_input": "2024-01-18T18:32:50.752253Z",
     "iopub.status.busy": "2024-01-18T18:32:50.751089Z",
     "iopub.status.idle": "2024-01-18T18:32:50.774227Z",
     "shell.execute_reply": "2024-01-18T18:32:50.772291Z",
     "shell.execute_reply.started": "2024-01-18T18:32:50.752200Z"
    }
   },
   "outputs": [
    {
     "data": {
      "text/plain": [
       "array([-0.13757706])"
      ]
     },
     "execution_count": 41,
     "metadata": {},
     "output_type": "execute_result"
    }
   ],
   "source": [
    "model = MLPRegressor(activation=\"relu\", random_state=42)\n",
    "model.partial_fit([feature_interaction(\"Tom\", \"morning\", \"politics\")], [1])\n",
    "model.predict([feature_interaction(\"Tom\", \"morning\", \"politics\")])"
   ]
  },
  {
   "cell_type": "code",
   "execution_count": 42,
   "id": "c2653d3c-1521-4646-ae60-251e3524a2ad",
   "metadata": {
    "execution": {
     "iopub.execute_input": "2024-01-18T18:32:51.766360Z",
     "iopub.status.busy": "2024-01-18T18:32:51.765723Z",
     "iopub.status.idle": "2024-01-18T18:32:51.781937Z",
     "shell.execute_reply": "2024-01-18T18:32:51.780088Z",
     "shell.execute_reply.started": "2024-01-18T18:32:51.766325Z"
    }
   },
   "outputs": [
    {
     "data": {
      "text/plain": [
       "(array([-0.13757706, -0.23955037, -0.16971928, -0.25616586, -0.22696235,\n",
       "        -0.20543623, -0.22881596]),\n",
       " array([0.15334412, 0.13847797, 0.14849367, 0.1361961 , 0.14023215,\n",
       "        0.14328353, 0.13997246]),\n",
       " 'politics')"
      ]
     },
     "execution_count": 42,
     "metadata": {},
     "output_type": "execute_result"
    }
   ],
   "source": [
    "# Sampling best reward for the action taken.\n",
    "rewards = model.predict(\n",
    "    [feature_interaction(\"Tom\", \"morning\", action) for action in actions]\n",
    ")\n",
    "p = softmax(rewards)\n",
    "action = np.random.choice(actions, p=p)\n",
    "rewards, p, action"
   ]
  },
  {
   "cell_type": "code",
   "execution_count": 43,
   "id": "20eda3dd-c5b7-423e-9a0e-aa76e7984b4e",
   "metadata": {
    "execution": {
     "iopub.execute_input": "2024-01-18T18:32:52.124298Z",
     "iopub.status.busy": "2024-01-18T18:32:52.123688Z",
     "iopub.status.idle": "2024-01-18T18:32:52.139150Z",
     "shell.execute_reply": "2024-01-18T18:32:52.136638Z",
     "shell.execute_reply.started": "2024-01-18T18:32:52.124262Z"
    }
   },
   "outputs": [
    {
     "data": {
      "text/plain": [
       "(array([-0.13757706, -0.23955037, -0.16971928, -0.25616586, -0.22696235,\n",
       "        -0.20543623, -0.22881596]),\n",
       " array([0.20038616, 0.12034706, 0.17063644, 0.11075298, 0.12816517,\n",
       "        0.14272938, 0.12698281]),\n",
       " array([0.15334412, 0.13847797, 0.14849367, 0.1361961 , 0.14023215,\n",
       "        0.14328353, 0.13997246]),\n",
       " 'politics')"
      ]
     },
     "execution_count": 43,
     "metadata": {},
     "output_type": "execute_result"
    }
   ],
   "source": [
    "p = softmax(rewards, tau=0.2)\n",
    "action = np.random.choice(actions, p=p)\n",
    "rewards, p, softmax(rewards), action"
   ]
  },
  {
   "cell_type": "code",
   "execution_count": 44,
   "id": "b2d06c17-5cb6-497a-82d9-8c7d94afa208",
   "metadata": {
    "execution": {
     "iopub.execute_input": "2024-01-18T18:32:52.533795Z",
     "iopub.status.busy": "2024-01-18T18:32:52.533197Z",
     "iopub.status.idle": "2024-01-18T18:32:52.544850Z",
     "shell.execute_reply": "2024-01-18T18:32:52.543732Z",
     "shell.execute_reply.started": "2024-01-18T18:32:52.533740Z"
    }
   },
   "outputs": [],
   "source": [
    "def choose_user(users):\n",
    "    return random.choice(users)\n",
    "\n",
    "\n",
    "def choose_time_of_day(times_of_day):\n",
    "    return random.choice(times_of_day)\n",
    "\n",
    "\n",
    "def get_action(model, context, actions, preprocess, /, policy=\"greedy\"):\n",
    "    rewards = model.predict(\n",
    "        [\n",
    "            preprocess(context[\"user\"], context[\"time_of_day\"], action)\n",
    "            for action in actions\n",
    "        ]\n",
    "    )\n",
    "    action = None\n",
    "    match policy:\n",
    "        case \"greedy\":\n",
    "            action = actions[np.argmax(rewards)]\n",
    "        case \"softmax\":\n",
    "            action = np.random.choice(actions, p=softmax(rewards, tau=0.2))\n",
    "        case _:\n",
    "            raise ValueError(f'unknown policy \"{policy}\"')\n",
    "\n",
    "    return action"
   ]
  },
  {
   "cell_type": "code",
   "execution_count": 45,
   "id": "396734da-ef09-4e24-a1a6-488bb8b5a825",
   "metadata": {
    "execution": {
     "iopub.execute_input": "2024-01-18T18:32:52.999611Z",
     "iopub.status.busy": "2024-01-18T18:32:52.999181Z",
     "iopub.status.idle": "2024-01-18T18:32:53.008230Z",
     "shell.execute_reply": "2024-01-18T18:32:53.007184Z",
     "shell.execute_reply.started": "2024-01-18T18:32:52.999579Z"
    }
   },
   "outputs": [
    {
     "data": {
      "text/plain": [
       "'politics'"
      ]
     },
     "execution_count": 45,
     "metadata": {},
     "output_type": "execute_result"
    }
   ],
   "source": [
    "get_action(\n",
    "    model,\n",
    "    {\"user\": \"Tom\", \"time_of_day\": \"morning\"},\n",
    "    [\"politics\", \"sports\"],\n",
    "    feature_interaction,\n",
    ")"
   ]
  },
  {
   "cell_type": "code",
   "execution_count": 46,
   "id": "24d0b72e-01a9-4408-b53c-f76f5efec0a8",
   "metadata": {
    "execution": {
     "iopub.execute_input": "2024-01-18T18:32:53.520841Z",
     "iopub.status.busy": "2024-01-18T18:32:53.520163Z",
     "iopub.status.idle": "2024-01-18T18:32:53.532050Z",
     "shell.execute_reply": "2024-01-18T18:32:53.530639Z",
     "shell.execute_reply.started": "2024-01-18T18:32:53.520809Z"
    }
   },
   "outputs": [],
   "source": [
    "from tqdm import tqdm\n",
    "\n",
    "\n",
    "def run_simulation(\n",
    "    model,\n",
    "    num_iterations,\n",
    "    users,\n",
    "    times_of_day,\n",
    "    actions,\n",
    "    cost_function,\n",
    "    do_learn=True,\n",
    "    preprocess=one_hot_encode,\n",
    "    policy=\"greedy\",\n",
    "):\n",
    "    cost_sum = 0.0\n",
    "    ctr = []\n",
    "\n",
    "    for i in tqdm(range(1, num_iterations + 1)):\n",
    "        # 1. In each simulation choose a user\n",
    "        user = choose_user(users)\n",
    "\n",
    "        # 2. Choose time of day for a given user\n",
    "        time_of_day = choose_time_of_day(times_of_day)\n",
    "\n",
    "        # 3. Pass context to vw to get an action\n",
    "        context = {\"user\": user, \"time_of_day\": time_of_day}\n",
    "\n",
    "        action = None\n",
    "        if i == 1:\n",
    "            action = np.random.choice(actions)\n",
    "        else:\n",
    "            action = get_action(\n",
    "                model,\n",
    "                context,\n",
    "                actions,\n",
    "                preprocess,\n",
    "                policy=policy,\n",
    "            )\n",
    "\n",
    "        # 4. Get cost of the action we chose\n",
    "        cost = cost_function(context, action)\n",
    "        # We use negative scores for training the neural network, but only add up positive scores for rewards.\n",
    "        cost_sum += max(cost, 0)\n",
    "\n",
    "        if do_learn:\n",
    "            # 5. Learn\n",
    "            model.partial_fit([preprocess(user, time_of_day, action)], [cost])\n",
    "\n",
    "        ctr.append(cost_sum / i)\n",
    "\n",
    "    return ctr"
   ]
  },
  {
   "cell_type": "code",
   "execution_count": 47,
   "id": "88a48d61-ed54-4e2d-9cc8-cad9574de3e8",
   "metadata": {
    "execution": {
     "iopub.execute_input": "2024-01-18T18:32:53.863214Z",
     "iopub.status.busy": "2024-01-18T18:32:53.862567Z",
     "iopub.status.idle": "2024-01-18T18:33:35.255088Z",
     "shell.execute_reply": "2024-01-18T18:33:35.252011Z",
     "shell.execute_reply.started": "2024-01-18T18:32:53.863132Z"
    }
   },
   "outputs": [
    {
     "name": "stderr",
     "output_type": "stream",
     "text": [
      "100%|█████████████████████████████████████████████████████████████████████████████████████████████████████████████| 5000/5000 [00:06<00:00, 746.28it/s]\n",
      "100%|█████████████████████████████████████████████████████████████████████████████████████████████████████████████| 5000/5000 [00:06<00:00, 739.38it/s]\n",
      "100%|█████████████████████████████████████████████████████████████████████████████████████████████████████████████| 5000/5000 [00:13<00:00, 363.15it/s]\n",
      "100%|█████████████████████████████████████████████████████████████████████████████████████████████████████████████| 5000/5000 [00:14<00:00, 353.77it/s]\n"
     ]
    }
   ],
   "source": [
    "import pandas as pd\n",
    "\n",
    "preprocessors = [\n",
    "    one_hot_encode,\n",
    "    one_hot_encode,\n",
    "    feature_interaction,\n",
    "    feature_interaction,\n",
    "]\n",
    "policies = [\"greedy\", \"softmax\", \"greedy\", \"softmax\"]\n",
    "\n",
    "num_iterations = 5000\n",
    "\n",
    "df = pd.DataFrame(index=range(num_iterations))\n",
    "\n",
    "for preprocess, policy in zip(preprocessors, policies):\n",
    "    name = f\"{preprocess.__name__}_{policy}\"\n",
    "\n",
    "    # Create a new model for each tests.\n",
    "    model = MLPRegressor(random_state=42)\n",
    "    df[name] = run_simulation(\n",
    "        model,\n",
    "        num_iterations,\n",
    "        users,\n",
    "        times_of_day,\n",
    "        actions,\n",
    "        get_cost,\n",
    "        preprocess=preprocess,\n",
    "        policy=policy,\n",
    "    )"
   ]
  },
  {
   "cell_type": "code",
   "execution_count": 48,
   "id": "6cf25c88-ffd6-4a06-b5f5-322c675645bb",
   "metadata": {
    "execution": {
     "iopub.execute_input": "2024-01-18T18:33:35.258066Z",
     "iopub.status.busy": "2024-01-18T18:33:35.257464Z",
     "iopub.status.idle": "2024-01-18T18:33:36.162318Z",
     "shell.execute_reply": "2024-01-18T18:33:36.160476Z",
     "shell.execute_reply.started": "2024-01-18T18:33:35.258004Z"
    }
   },
   "outputs": [
    {
     "data": {
      "text/plain": [
       "<Axes: >"
      ]
     },
     "execution_count": 48,
     "metadata": {},
     "output_type": "execute_result"
    },
    {
     "data": {
      "image/png": "[encoded data removed]",
      "text/plain": [
       "<Figure size 640x480 with 1 Axes>"
      ]
     },
     "metadata": {},
     "output_type": "display_data"
    }
   ],
   "source": [
    "df.plot()"
   ]
  },
  {
   "cell_type": "code",
   "execution_count": 49,
   "id": "4889f931-b201-4e00-b552-44b0bd983878",
   "metadata": {
    "execution": {
     "iopub.execute_input": "2024-01-18T18:33:49.332186Z",
     "iopub.status.busy": "2024-01-18T18:33:49.329098Z",
     "iopub.status.idle": "2024-01-18T18:33:49.377161Z",
     "shell.execute_reply": "2024-01-18T18:33:49.375315Z",
     "shell.execute_reply.started": "2024-01-18T18:33:49.332120Z"
    }
   },
   "outputs": [
    {
     "data": {
      "text/plain": [
       "'sports'"
      ]
     },
     "execution_count": 49,
     "metadata": {},
     "output_type": "execute_result"
    }
   ],
   "source": [
    "context = {\"user\": \"Anna\", \"time_of_day\": \"morning\"}\n",
    "get_action(model, context, actions, feature_interaction)"
   ]
  },
  {
   "cell_type": "code",
   "execution_count": 50,
   "id": "f00afef7-0702-4117-b052-d4b0baac9148",
   "metadata": {
    "execution": {
     "iopub.execute_input": "2024-01-18T18:33:49.870243Z",
     "iopub.status.busy": "2024-01-18T18:33:49.869613Z",
     "iopub.status.idle": "2024-01-18T18:33:49.885270Z",
     "shell.execute_reply": "2024-01-18T18:33:49.883879Z",
     "shell.execute_reply.started": "2024-01-18T18:33:49.870205Z"
    }
   },
   "outputs": [
    {
     "data": {
      "text/plain": [
       "'politics'"
      ]
     },
     "execution_count": 50,
     "metadata": {},
     "output_type": "execute_result"
    }
   ],
   "source": [
    "context = {\"user\": \"Anna\", \"time_of_day\": \"afternoon\"}\n",
    "get_action(model, context, actions, feature_interaction)"
   ]
  },
  {
   "cell_type": "markdown",
   "id": "061606cd-82dd-485f-ba59-828ceb224665",
   "metadata": {},
   "source": [
    "## Updated Cost Function"
   ]
  },
  {
   "cell_type": "code",
   "execution_count": 51,
   "id": "e21ec938-3d10-4af1-99f5-65f3db5accbe",
   "metadata": {
    "execution": {
     "iopub.execute_input": "2024-01-18T18:33:50.688568Z",
     "iopub.status.busy": "2024-01-18T18:33:50.688140Z",
     "iopub.status.idle": "2024-01-18T18:33:50.697959Z",
     "shell.execute_reply": "2024-01-18T18:33:50.693685Z",
     "shell.execute_reply.started": "2024-01-18T18:33:50.688536Z"
    }
   },
   "outputs": [],
   "source": [
    "def get_cost_new1(context, action):\n",
    "    match (context[\"user\"], context[\"time_of_day\"], action):\n",
    "        case (\"Tom\", \"morning\", \"politics\"):\n",
    "            return USER_LIKED_ARTICLE\n",
    "        case (\"Tom\", \"afternoon\", \"sports\"):\n",
    "            return USER_LIKED_ARTICLE\n",
    "        case (\"Anna\", \"morning\", \"sports\"):\n",
    "            return USER_LIKED_ARTICLE\n",
    "        case (\"Anna\", \"afternoon\", \"sports\"):\n",
    "            return USER_LIKED_ARTICLE\n",
    "        case _:\n",
    "            return USER_DISLIKED_ARTICLE"
   ]
  },
  {
   "cell_type": "code",
   "execution_count": 52,
   "id": "13ce6cb2-d6f8-4ceb-94ca-8910b81396e2",
   "metadata": {
    "execution": {
     "iopub.execute_input": "2024-01-18T18:33:50.962660Z",
     "iopub.status.busy": "2024-01-18T18:33:50.962017Z",
     "iopub.status.idle": "2024-01-18T18:33:50.974602Z",
     "shell.execute_reply": "2024-01-18T18:33:50.973001Z",
     "shell.execute_reply.started": "2024-01-18T18:33:50.962629Z"
    }
   },
   "outputs": [],
   "source": [
    "def run_simulation_multiple_cost_functions(\n",
    "    model,\n",
    "    num_iterations,\n",
    "    users,\n",
    "    times_of_day,\n",
    "    actions,\n",
    "    cost_functions,\n",
    "    do_learn=True,\n",
    "    preprocess=feature_interaction,\n",
    "    policy=\"greedy\",\n",
    "):\n",
    "    cost_sum = 0.0\n",
    "    ctr = []\n",
    "\n",
    "    start_counter = 1\n",
    "    end_counter = start_counter + num_iterations\n",
    "    for cost_function in cost_functions:\n",
    "        for i in tqdm(range(start_counter, end_counter)):\n",
    "            # 1. in each simulation choose a user\n",
    "            user = choose_user(users)\n",
    "            # 2. choose time of day for a given user\n",
    "            time_of_day = choose_time_of_day(times_of_day)\n",
    "\n",
    "            # Construct context based on chosen user and time of day\n",
    "            context = {\"user\": user, \"time_of_day\": time_of_day}\n",
    "\n",
    "            # 3. Use the get_action function we defined earlier\n",
    "            if i == 1:\n",
    "                action = np.random.choice(actions)\n",
    "            else:\n",
    "                action = get_action(model, context, actions, preprocess, policy=policy)\n",
    "\n",
    "            # 4. Get cost of the action we chose\n",
    "            cost = cost_function(context, action)\n",
    "            cost_sum += max(cost, 0)\n",
    "\n",
    "            if do_learn:\n",
    "                # 5. Inform VW of what happened so we can learn from it\n",
    "                model.partial_fit([preprocess(user, time_of_day, action)], [cost])\n",
    "\n",
    "            ctr.append(cost_sum / i)\n",
    "        start_counter = end_counter\n",
    "        end_counter = start_counter + num_iterations\n",
    "\n",
    "    return ctr"
   ]
  },
  {
   "cell_type": "code",
   "execution_count": 53,
   "id": "ac7c5cf8-7a89-43d5-b9e0-257a820c2db0",
   "metadata": {
    "execution": {
     "iopub.execute_input": "2024-01-18T18:33:51.172054Z",
     "iopub.status.busy": "2024-01-18T18:33:51.170766Z",
     "iopub.status.idle": "2024-01-18T18:36:03.538535Z",
     "shell.execute_reply": "2024-01-18T18:36:03.536739Z",
     "shell.execute_reply.started": "2024-01-18T18:33:51.171994Z"
    }
   },
   "outputs": [
    {
     "name": "stderr",
     "output_type": "stream",
     "text": [
      "100%|█████████████████████████████████████████████████████████████████████████████████████████████████████████████| 5000/5000 [00:07<00:00, 661.93it/s]\n",
      "100%|█████████████████████████████████████████████████████████████████████████████████████████████████████████████| 5000/5000 [00:06<00:00, 811.52it/s]\n",
      "100%|█████████████████████████████████████████████████████████████████████████████████████████████████████████████| 5000/5000 [00:06<00:00, 797.97it/s]\n",
      "100%|█████████████████████████████████████████████████████████████████████████████████████████████████████████████| 5000/5000 [00:06<00:00, 751.93it/s]\n",
      "100%|█████████████████████████████████████████████████████████████████████████████████████████████████████████████| 5000/5000 [00:09<00:00, 537.00it/s]\n",
      "100%|█████████████████████████████████████████████████████████████████████████████████████████████████████████████| 5000/5000 [00:06<00:00, 772.98it/s]\n",
      "100%|█████████████████████████████████████████████████████████████████████████████████████████████████████████████| 5000/5000 [00:14<00:00, 341.39it/s]\n",
      "100%|█████████████████████████████████████████████████████████████████████████████████████████████████████████████| 5000/5000 [00:13<00:00, 363.97it/s]\n",
      "100%|█████████████████████████████████████████████████████████████████████████████████████████████████████████████| 5000/5000 [00:16<00:00, 298.74it/s]\n",
      "100%|█████████████████████████████████████████████████████████████████████████████████████████████████████████████| 5000/5000 [00:13<00:00, 369.85it/s]\n",
      "100%|█████████████████████████████████████████████████████████████████████████████████████████████████████████████| 5000/5000 [00:14<00:00, 352.20it/s]\n",
      "100%|█████████████████████████████████████████████████████████████████████████████████████████████████████████████| 5000/5000 [00:17<00:00, 293.74it/s]\n"
     ]
    }
   ],
   "source": [
    "import pandas as pd\n",
    "\n",
    "preprocessors = [\n",
    "    one_hot_encode,\n",
    "    one_hot_encode,\n",
    "    feature_interaction,\n",
    "    feature_interaction,\n",
    "]\n",
    "policies = [\"greedy\", \"softmax\", \"greedy\", \"softmax\"]\n",
    "cost_functions = [get_cost, get_cost_new1, get_cost_new1]\n",
    "num_iterations_per_cost_func = 5000\n",
    "total_iterations = num_iterations_per_cost_func * len(cost_functions)\n",
    "\n",
    "df = pd.DataFrame(index=range(total_iterations))\n",
    "\n",
    "for preprocess, policy in zip(preprocessors, policies):\n",
    "    name = f\"{preprocess.__name__}_{policy}\"\n",
    "\n",
    "    # Create a new model for each tests.\n",
    "    model = MLPRegressor(random_state=42)\n",
    "    df[name] = run_simulation_multiple_cost_functions(\n",
    "        model,\n",
    "        num_iterations,\n",
    "        users,\n",
    "        times_of_day,\n",
    "        actions,\n",
    "        cost_functions,\n",
    "        preprocess=preprocess,\n",
    "        policy=policy,\n",
    "    )"
   ]
  },
  {
   "cell_type": "code",
   "execution_count": 54,
   "id": "a226dba3-41b9-461d-8206-1ddf39e3986e",
   "metadata": {
    "execution": {
     "iopub.execute_input": "2024-01-18T18:36:03.543860Z",
     "iopub.status.busy": "2024-01-18T18:36:03.542986Z",
     "iopub.status.idle": "2024-01-18T18:36:04.766518Z",
     "shell.execute_reply": "2024-01-18T18:36:04.765120Z",
     "shell.execute_reply.started": "2024-01-18T18:36:03.543795Z"
    }
   },
   "outputs": [
    {
     "data": {
      "text/plain": [
       "<Axes: >"
      ]
     },
     "execution_count": 54,
     "metadata": {},
     "output_type": "execute_result"
    },
    {
     "data": {
      "image/png": "[encoded data removed]",
      "text/plain": [
       "<Figure size 640x480 with 1 Axes>"
      ]
     },
     "metadata": {},
     "output_type": "display_data"
    }
   ],
   "source": [
    "df.plot()"
   ]
  }
 ],
 "metadata": {
  "kernelspec": {
   "display_name": "Python 3 (ipykernel)",
   "language": "python",
   "name": "python3"
  },
  "language_info": {
   "codemirror_mode": {
    "name": "ipython",
    "version": 3
   },
   "file_extension": ".py",
   "mimetype": "text/x-python",
   "name": "python",
   "nbconvert_exporter": "python",
   "pygments_lexer": "ipython3",
   "version": "3.10.13"
  },
  "widgets": {
   "application/vnd.jupyter.widget-state+json": {
    "state": {},
    "version_major": 2,
    "version_minor": 0
   }
  }
 },
 "nbformat": 4,
 "nbformat_minor": 5
}
