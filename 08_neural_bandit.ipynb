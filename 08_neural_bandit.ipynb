{
 "cells": [
  {
   "cell_type": "markdown",
   "id": "b0b588fa-bc2f-46c4-93e3-953fcd709661",
   "metadata": {},
   "source": [
    "# Neural Bandit\n",
    "\n",
    "Implementing neural bandit using scikit-learn's multilayer perceptron."
   ]
  },
  {
   "cell_type": "code",
   "execution_count": 1,
   "id": "76537ca5-6fa4-4c31-969b-da6b4f744750",
   "metadata": {
    "execution": {
     "iopub.execute_input": "2024-01-17T19:43:41.067008Z",
     "iopub.status.busy": "2024-01-17T19:43:41.064459Z",
     "iopub.status.idle": "2024-01-17T19:43:41.819720Z",
     "shell.execute_reply": "2024-01-17T19:43:41.818566Z",
     "shell.execute_reply.started": "2024-01-17T19:43:41.066945Z"
    }
   },
   "outputs": [],
   "source": [
    "import random\n",
    "\n",
    "import matplotlib.pyplot as plt\n",
    "import numpy as np"
   ]
  },
  {
   "cell_type": "code",
   "execution_count": 35,
   "id": "dc16fe41-5cfd-458d-bb0b-e7a3959613f2",
   "metadata": {
    "execution": {
     "iopub.execute_input": "2024-01-17T19:47:03.597438Z",
     "iopub.status.busy": "2024-01-17T19:47:03.596496Z",
     "iopub.status.idle": "2024-01-17T19:47:03.618646Z",
     "shell.execute_reply": "2024-01-17T19:47:03.616524Z",
     "shell.execute_reply.started": "2024-01-17T19:47:03.597381Z"
    }
   },
   "outputs": [],
   "source": [
    "USER_LIKED_ARTICLE = 1.0\n",
    "USER_DISLIKED_ARTICLE = 0.0"
   ]
  },
  {
   "cell_type": "markdown",
   "id": "cf970937-9c3f-4c90-8529-35b4addad747",
   "metadata": {},
   "source": [
    "## Initial Cost Function"
   ]
  },
  {
   "cell_type": "code",
   "execution_count": 3,
   "id": "f0a6ace2-ccda-4772-9ec6-18abd864af0e",
   "metadata": {
    "execution": {
     "iopub.execute_input": "2024-01-17T19:43:41.847122Z",
     "iopub.status.busy": "2024-01-17T19:43:41.846398Z",
     "iopub.status.idle": "2024-01-17T19:43:41.878242Z",
     "shell.execute_reply": "2024-01-17T19:43:41.876785Z",
     "shell.execute_reply.started": "2024-01-17T19:43:41.847062Z"
    }
   },
   "outputs": [],
   "source": [
    "def get_cost(context, action):\n",
    "    match (context[\"user\"], context[\"time_of_day\"], action):\n",
    "        case (\"Tom\", \"morning\", \"politics\"):\n",
    "            return USER_LIKED_ARTICLE\n",
    "        case (\"Tom\", \"afternoon\", \"music\"):\n",
    "            return USER_LIKED_ARTICLE\n",
    "        case (\"Anna\", \"morning\", \"sports\"):\n",
    "            return USER_LIKED_ARTICLE\n",
    "        case (\"Anna\", \"afternoon\", \"politics\"):\n",
    "            return USER_LIKED_ARTICLE\n",
    "        case _:\n",
    "            return USER_DISLIKED_ARTICLE"
   ]
  },
  {
   "cell_type": "code",
   "execution_count": 4,
   "id": "23c0ab8f-3205-4922-9784-ced6aa14f865",
   "metadata": {
    "execution": {
     "iopub.execute_input": "2024-01-17T19:43:41.894747Z",
     "iopub.status.busy": "2024-01-17T19:43:41.880639Z",
     "iopub.status.idle": "2024-01-17T19:43:41.921631Z",
     "shell.execute_reply": "2024-01-17T19:43:41.920401Z",
     "shell.execute_reply.started": "2024-01-17T19:43:41.894700Z"
    }
   },
   "outputs": [
    {
     "data": {
      "text/plain": [
       "[1, 1, 1, 0, 0, 0, 0, 0, 0]"
      ]
     },
     "execution_count": 4,
     "metadata": {},
     "output_type": "execute_result"
    }
   ],
   "source": [
    "users = [\"Tom\", \"Anna\"]\n",
    "times_of_day = [\"morning\", \"afternoon\"]\n",
    "actions = [\"politics\", \"sports\", \"music\", \"food\", \"finance\", \"health\", \"camping\"]\n",
    "\n",
    "\n",
    "def one_hot_encode(user, time_of_day, action):\n",
    "    return [users.index(user) + 1, times_of_day.index(time_of_day) + 1] + [\n",
    "        1 if a == action else 0 for a in actions\n",
    "    ]\n",
    "\n",
    "\n",
    "one_hot_encode(\"Tom\", \"morning\", \"politics\")"
   ]
  },
  {
   "cell_type": "code",
   "execution_count": 5,
   "id": "8ef5d672-e753-469b-a36e-67575aef8ec9",
   "metadata": {
    "execution": {
     "iopub.execute_input": "2024-01-17T19:43:41.937625Z",
     "iopub.status.busy": "2024-01-17T19:43:41.937142Z",
     "iopub.status.idle": "2024-01-17T19:43:43.252491Z",
     "shell.execute_reply": "2024-01-17T19:43:43.250750Z",
     "shell.execute_reply.started": "2024-01-17T19:43:41.937594Z"
    }
   },
   "outputs": [
    {
     "name": "stdout",
     "output_type": "stream",
     "text": [
      "[[ 0.  0.  0.  0.  0.  0.  0.  0.  0.  0.  0.  0.  0.  0.  0.  0.  0. -1.\n",
      "   0.  0.  0.  0.  0.  0.  0.  0.  0.  0.  0.  0.  0.  0.  0.  0.  0.  0.\n",
      "   0.  0.  0.  0.  0.  0.  0.  0.  0.  0.  0.  0.  0.  0.  1.  0.  0.  0.\n",
      "   0.  0.  0.  0.  0.  0.  0. -1.  0.  0.  0.  0.  0.  0.  0.  0.  0.  0.\n",
      "   0.  0.  0.  0.  0.  0.  0.  0.  0.  0.  0.  0.  0.  0.  0.  0.  0.  0.\n",
      "   0.  0.  0.  0.  0.  0.  0.  0.  0.  0.]]\n",
      "[[ 0.  0.  0.  0.  0.  0.  0.  0.  0.  0.  0.  0.  0.  0.  0.  0.  0. -1.\n",
      "   0.  0.  0.  0.  0.  0.  0.  0.  0.  0.  0.  0.  0.  0.  0.  0.  0.  0.\n",
      "   0.  0.  0.  0.  0.  0.  0.  0.  0.  0.  0.  0.  0.  0.  1.  0.  0.  0.\n",
      "   0.  0.  0.  0.  0.  0.  0. -1.  0.  0.  0.  0.  0.  0.  0.  0.  0.  0.\n",
      "   0.  0.  0.  0.  0.  0.  0.  0.  0.  0.  0.  0.  0.  0.  0.  0.  0.  0.\n",
      "   0.  0.  0.  0.  0.  0.  0.  0.  0.  0.]]\n"
     ]
    }
   ],
   "source": [
    "from sklearn.feature_extraction import FeatureHasher\n",
    "\n",
    "hasher = FeatureHasher(n_features=100, input_type=\"string\")\n",
    "print(hasher.transform([[\"a\", \"b\", \"c\"]]).toarray())\n",
    "print(hasher.transform([[\"c\", \"a\", \"b\"]]).toarray())"
   ]
  },
  {
   "cell_type": "code",
   "execution_count": 6,
   "id": "bffe1a5a-ce95-4e1c-a74d-7f4fe9572138",
   "metadata": {
    "execution": {
     "iopub.execute_input": "2024-01-17T19:43:43.254798Z",
     "iopub.status.busy": "2024-01-17T19:43:43.254163Z",
     "iopub.status.idle": "2024-01-17T19:43:43.283317Z",
     "shell.execute_reply": "2024-01-17T19:43:43.277757Z",
     "shell.execute_reply.started": "2024-01-17T19:43:43.254748Z"
    }
   },
   "outputs": [
    {
     "name": "stdout",
     "output_type": "stream",
     "text": [
      "[('a', 'a'), ('a', 'b'), ('a', 'c'), ('b', 'b'), ('b', 'c'), ('c', 'c')]\n",
      "[('Tom', 'Tom'), ('Tom', 'politics'), ('politics', 'politics')]\n"
     ]
    }
   ],
   "source": [
    "from itertools import combinations_with_replacement\n",
    "\n",
    "# This is similar to how vowpal wabbit does the feature interaction.\n",
    "print(list(combinations_with_replacement(\"abc\", 2)))\n",
    "print(list(combinations_with_replacement([\"Tom\", \"politics\"], 2)))"
   ]
  },
  {
   "cell_type": "code",
   "execution_count": 7,
   "id": "bc819dc2-8b55-4ce1-af53-ca571114bf7b",
   "metadata": {
    "execution": {
     "iopub.execute_input": "2024-01-17T19:43:43.301289Z",
     "iopub.status.busy": "2024-01-17T19:43:43.300966Z",
     "iopub.status.idle": "2024-01-17T19:43:43.320652Z",
     "shell.execute_reply": "2024-01-17T19:43:43.313919Z",
     "shell.execute_reply.started": "2024-01-17T19:43:43.301263Z"
    }
   },
   "outputs": [],
   "source": [
    "# https://github.com/VowpalWabbit/vowpal_wabbit/wiki/Feature-interactions\n",
    "# https://vowpalwabbit.org/docs/vowpal_wabbit/python/latest/tutorials/python_Simulating_a_news_personalization_scenario_using_Contextual_Bandits.html#:~:text=supply%20to%20VW-,%2C%20we%20include%20%2Dq%20UA,-.%20This%20is%20telling\n",
    "def feature_interaction(user, time_of_day, action):\n",
    "    \"\"\"perform feature interactions, similar to how vowpal wabbit does it.\n",
    "    We create additional features which are the features in the (U)ser namespace and (A)ction\n",
    "    namespaces multiplied together.\n",
    "    This allows us to learn the interaction between when certain actions are good in certain times of days and for particular users.\n",
    "    If we didn’t do that, the learning wouldn’t really work.\n",
    "    We can see that in action below.\n",
    "    \"\"\"\n",
    "    features = [\n",
    "        user,\n",
    "        time_of_day,\n",
    "        user + \":\" + action,\n",
    "        time_of_day + \":\" + action,\n",
    "        action,\n",
    "    ]\n",
    "    return hasher.transform([features]).toarray()[0]"
   ]
  },
  {
   "cell_type": "code",
   "execution_count": 8,
   "id": "730c6841-efb9-4535-a774-5c903dc57246",
   "metadata": {
    "execution": {
     "iopub.execute_input": "2024-01-17T19:43:43.324213Z",
     "iopub.status.busy": "2024-01-17T19:43:43.322352Z",
     "iopub.status.idle": "2024-01-17T19:43:43.357619Z",
     "shell.execute_reply": "2024-01-17T19:43:43.355271Z",
     "shell.execute_reply.started": "2024-01-17T19:43:43.324164Z"
    }
   },
   "outputs": [
    {
     "data": {
      "text/plain": [
       "array([ 0.,  0.,  0.,  0.,  0.,  0.,  0.,  0.,  0.,  0.,  0.,  0.,  0.,\n",
       "        0.,  0.,  0.,  1.,  0.,  0.,  0.,  0.,  0., -1.,  0.,  0.,  0.,\n",
       "        0.,  0.,  1.,  0.,  0.,  0.,  0.,  0.,  0.,  0.,  0.,  0.,  0.,\n",
       "        0.,  0.,  0.,  0.,  0.,  0.,  0.,  0.,  0.,  0.,  0.,  0.,  0.,\n",
       "        0.,  0.,  0.,  0.,  0.,  0.,  0.,  0.,  0.,  0.,  0.,  1.,  0.,\n",
       "        0.,  1.,  0.,  0.,  0.,  0.,  0.,  0.,  0.,  0.,  0.,  0.,  0.,\n",
       "        0.,  0.,  0.,  0.,  0.,  0.,  0.,  0.,  0.,  0.,  0.,  0.,  0.,\n",
       "        0.,  0.,  0.,  0.,  0.,  0.,  0.,  0.,  0.])"
      ]
     },
     "execution_count": 8,
     "metadata": {},
     "output_type": "execute_result"
    }
   ],
   "source": [
    "feature_interaction(\"Tom\", \"morning\", \"politics\")"
   ]
  },
  {
   "cell_type": "code",
   "execution_count": 9,
   "id": "9b03b4b6-452b-460e-a223-b9837700f688",
   "metadata": {
    "execution": {
     "iopub.execute_input": "2024-01-17T19:43:43.363493Z",
     "iopub.status.busy": "2024-01-17T19:43:43.360832Z",
     "iopub.status.idle": "2024-01-17T19:43:43.400363Z",
     "shell.execute_reply": "2024-01-17T19:43:43.399138Z",
     "shell.execute_reply.started": "2024-01-17T19:43:43.363443Z"
    }
   },
   "outputs": [],
   "source": [
    "import numpy as np\n",
    "\n",
    "\n",
    "def softmax(lst, tau=1.0):\n",
    "    lst = np.array(lst) / tau\n",
    "    exps = np.exp(lst)\n",
    "    return exps / np.sum(exps)"
   ]
  },
  {
   "cell_type": "code",
   "execution_count": 10,
   "id": "9bc194ad-718c-4b47-9c96-ac8dcbed1a06",
   "metadata": {
    "execution": {
     "iopub.execute_input": "2024-01-17T19:43:43.403959Z",
     "iopub.status.busy": "2024-01-17T19:43:43.403191Z",
     "iopub.status.idle": "2024-01-17T19:43:43.507088Z",
     "shell.execute_reply": "2024-01-17T19:43:43.505964Z",
     "shell.execute_reply.started": "2024-01-17T19:43:43.403912Z"
    }
   },
   "outputs": [
    {
     "data": {
      "text/plain": [
       "array([0.20727216])"
      ]
     },
     "execution_count": 10,
     "metadata": {},
     "output_type": "execute_result"
    }
   ],
   "source": [
    "from sklearn.neural_network import MLPRegressor\n",
    "\n",
    "model = MLPRegressor(activation=\"relu\", random_state=42)\n",
    "model.partial_fit([one_hot_encode(\"Tom\", \"morning\", \"politics\")], [1])\n",
    "model.predict([one_hot_encode(\"Tom\", \"morning\", \"politics\")])"
   ]
  },
  {
   "cell_type": "code",
   "execution_count": 11,
   "id": "034ae60e-84f0-4f34-9648-d0f4cae706bb",
   "metadata": {
    "execution": {
     "iopub.execute_input": "2024-01-17T19:43:43.509333Z",
     "iopub.status.busy": "2024-01-17T19:43:43.508658Z",
     "iopub.status.idle": "2024-01-17T19:43:43.541105Z",
     "shell.execute_reply": "2024-01-17T19:43:43.540155Z",
     "shell.execute_reply.started": "2024-01-17T19:43:43.509283Z"
    }
   },
   "outputs": [
    {
     "data": {
      "text/plain": [
       "(array([ 0.20727216,  0.11697445,  0.33291172,  0.24473987,  0.35555384,\n",
       "         0.13795523, -0.00638099]),\n",
       " array([0.14313913, 0.13078037, 0.16230165, 0.14860396, 0.16601842,\n",
       "        0.13355323, 0.11560323]),\n",
       " 'music')"
      ]
     },
     "execution_count": 11,
     "metadata": {},
     "output_type": "execute_result"
    }
   ],
   "source": [
    "# Sampling best reward for the action taken.\n",
    "rewards = model.predict(\n",
    "    [one_hot_encode(\"Tom\", \"morning\", action) for action in actions]\n",
    ")\n",
    "p = softmax(rewards)\n",
    "action = np.random.choice(actions, p=p)\n",
    "rewards, p, action"
   ]
  },
  {
   "cell_type": "code",
   "execution_count": 12,
   "id": "e8854879-d1a7-4519-a7e5-996bb0fe971d",
   "metadata": {
    "execution": {
     "iopub.execute_input": "2024-01-17T19:43:43.543224Z",
     "iopub.status.busy": "2024-01-17T19:43:43.542612Z",
     "iopub.status.idle": "2024-01-17T19:43:43.573407Z",
     "shell.execute_reply": "2024-01-17T19:43:43.571937Z",
     "shell.execute_reply.started": "2024-01-17T19:43:43.543180Z"
    }
   },
   "outputs": [
    {
     "data": {
      "text/plain": [
       "array([-0.2630957])"
      ]
     },
     "execution_count": 12,
     "metadata": {},
     "output_type": "execute_result"
    }
   ],
   "source": [
    "model = MLPRegressor(activation=\"relu\", random_state=42)\n",
    "model.partial_fit([feature_interaction(\"Tom\", \"morning\", \"politics\")], [1])\n",
    "model.predict([feature_interaction(\"Tom\", \"morning\", \"politics\")])"
   ]
  },
  {
   "cell_type": "code",
   "execution_count": 13,
   "id": "c2653d3c-1521-4646-ae60-251e3524a2ad",
   "metadata": {
    "execution": {
     "iopub.execute_input": "2024-01-17T19:43:43.582901Z",
     "iopub.status.busy": "2024-01-17T19:43:43.577823Z",
     "iopub.status.idle": "2024-01-17T19:43:43.616743Z",
     "shell.execute_reply": "2024-01-17T19:43:43.615464Z",
     "shell.execute_reply.started": "2024-01-17T19:43:43.582852Z"
    }
   },
   "outputs": [
    {
     "data": {
      "text/plain": [
       "(array([-0.2630957 ,  0.00163442,  0.11983192, -0.16832187, -0.17202174,\n",
       "        -0.50245108, -0.25462197]),\n",
       " array([0.12886505, 0.16792137, 0.18898985, 0.14167554, 0.14115233,\n",
       "        0.1014342 , 0.12996165]),\n",
       " 'finance')"
      ]
     },
     "execution_count": 13,
     "metadata": {},
     "output_type": "execute_result"
    }
   ],
   "source": [
    "# Sampling best reward for the action taken.\n",
    "rewards = model.predict(\n",
    "    [feature_interaction(\"Tom\", \"morning\", action) for action in actions]\n",
    ")\n",
    "p = softmax(rewards)\n",
    "action = np.random.choice(actions, p=p)\n",
    "rewards, p, action"
   ]
  },
  {
   "cell_type": "code",
   "execution_count": 14,
   "id": "20eda3dd-c5b7-423e-9a0e-aa76e7984b4e",
   "metadata": {
    "execution": {
     "iopub.execute_input": "2024-01-17T19:43:43.619912Z",
     "iopub.status.busy": "2024-01-17T19:43:43.618589Z",
     "iopub.status.idle": "2024-01-17T19:43:43.650316Z",
     "shell.execute_reply": "2024-01-17T19:43:43.649010Z",
     "shell.execute_reply.started": "2024-01-17T19:43:43.619864Z"
    }
   },
   "outputs": [
    {
     "data": {
      "text/plain": [
       "(array([-0.2630957 ,  0.00163442,  0.11983192, -0.16832187, -0.17202174,\n",
       "        -0.50245108, -0.25462197]),\n",
       " array([0.06222778, 0.23379674, 0.4221833 , 0.09995006, 0.09811804,\n",
       "        0.01880315, 0.06492093]),\n",
       " array([0.12886505, 0.16792137, 0.18898985, 0.14167554, 0.14115233,\n",
       "        0.1014342 , 0.12996165]),\n",
       " 'music')"
      ]
     },
     "execution_count": 14,
     "metadata": {},
     "output_type": "execute_result"
    }
   ],
   "source": [
    "p = softmax(rewards, tau=0.2)\n",
    "action = np.random.choice(actions, p=p)\n",
    "rewards, p, softmax(rewards), action"
   ]
  },
  {
   "cell_type": "code",
   "execution_count": 15,
   "id": "b2d06c17-5cb6-497a-82d9-8c7d94afa208",
   "metadata": {
    "execution": {
     "iopub.execute_input": "2024-01-17T19:43:43.662117Z",
     "iopub.status.busy": "2024-01-17T19:43:43.661612Z",
     "iopub.status.idle": "2024-01-17T19:43:43.680218Z",
     "shell.execute_reply": "2024-01-17T19:43:43.676165Z",
     "shell.execute_reply.started": "2024-01-17T19:43:43.662072Z"
    }
   },
   "outputs": [],
   "source": [
    "def choose_user(users):\n",
    "    return random.choice(users)\n",
    "\n",
    "\n",
    "def choose_time_of_day(times_of_day):\n",
    "    return random.choice(times_of_day)\n",
    "\n",
    "\n",
    "def get_action(model, context, actions, preprocess):\n",
    "    rewards = model.predict(\n",
    "        [\n",
    "            preprocess(context[\"user\"], context[\"time_of_day\"], action)\n",
    "            for action in actions\n",
    "        ]\n",
    "    )\n",
    "    action = actions[np.argmax(rewards)]\n",
    "    # action = np.random.choice(actions, p=softmax(rewards, tau=0.2))\n",
    "    return action"
   ]
  },
  {
   "cell_type": "code",
   "execution_count": 16,
   "id": "396734da-ef09-4e24-a1a6-488bb8b5a825",
   "metadata": {
    "execution": {
     "iopub.execute_input": "2024-01-17T19:43:43.693909Z",
     "iopub.status.busy": "2024-01-17T19:43:43.692409Z",
     "iopub.status.idle": "2024-01-17T19:43:43.744186Z",
     "shell.execute_reply": "2024-01-17T19:43:43.740600Z",
     "shell.execute_reply.started": "2024-01-17T19:43:43.693854Z"
    }
   },
   "outputs": [
    {
     "data": {
      "text/plain": [
       "'sports'"
      ]
     },
     "execution_count": 16,
     "metadata": {},
     "output_type": "execute_result"
    }
   ],
   "source": [
    "get_action(\n",
    "    model,\n",
    "    {\"user\": \"Tom\", \"time_of_day\": \"morning\"},\n",
    "    [\"politics\", \"sports\"],\n",
    "    feature_interaction,\n",
    ")"
   ]
  },
  {
   "cell_type": "code",
   "execution_count": 17,
   "id": "24d0b72e-01a9-4408-b53c-f76f5efec0a8",
   "metadata": {
    "execution": {
     "iopub.execute_input": "2024-01-17T19:43:43.749321Z",
     "iopub.status.busy": "2024-01-17T19:43:43.747541Z",
     "iopub.status.idle": "2024-01-17T19:43:43.764627Z",
     "shell.execute_reply": "2024-01-17T19:43:43.760502Z",
     "shell.execute_reply.started": "2024-01-17T19:43:43.749247Z"
    }
   },
   "outputs": [],
   "source": [
    "def run_simulation(\n",
    "    model,\n",
    "    num_iterations,\n",
    "    users,\n",
    "    times_of_day,\n",
    "    actions,\n",
    "    cost_function,\n",
    "    do_learn=True,\n",
    "    preprocess=one_hot_encode,\n",
    "):\n",
    "    print(f\"Learn: {do_learn}\")\n",
    "    cost_sum = 0.0\n",
    "    ctr = []\n",
    "\n",
    "    for i in range(1, num_iterations + 1):\n",
    "        # 1. In each simulation choose a user\n",
    "        user = choose_user(users)\n",
    "        # 2. Choose time of day for a given user\n",
    "        time_of_day = choose_time_of_day(times_of_day)\n",
    "\n",
    "        # 3. Pass context to vw to get an action\n",
    "        context = {\"user\": user, \"time_of_day\": time_of_day}\n",
    "        action = get_action(model, context, actions, preprocess)\n",
    "\n",
    "        # 4. Get cost of the action we chose\n",
    "        cost = cost_function(context, action)\n",
    "        cost_sum += cost\n",
    "\n",
    "        if do_learn:\n",
    "            # 5. Learn\n",
    "            model.partial_fit([preprocess(user, time_of_day, action)], [cost])\n",
    "\n",
    "        ctr.append(cost_sum / i)\n",
    "\n",
    "    return ctr"
   ]
  },
  {
   "cell_type": "code",
   "execution_count": 27,
   "id": "f80205d6-20e7-468c-99ef-72adfef0363e",
   "metadata": {
    "execution": {
     "iopub.execute_input": "2024-01-17T19:44:44.329755Z",
     "iopub.status.busy": "2024-01-17T19:44:44.322473Z",
     "iopub.status.idle": "2024-01-17T19:44:44.369064Z",
     "shell.execute_reply": "2024-01-17T19:44:44.353300Z",
     "shell.execute_reply.started": "2024-01-17T19:44:44.329716Z"
    }
   },
   "outputs": [],
   "source": [
    "def plot_ctr(num_iterations, ctr):\n",
    "    plt.plot(range(1, num_iterations + 1), ctr)\n",
    "    plt.xlabel(\"num_iterations\", fontsize=14)\n",
    "    plt.ylabel(\"ctr\", fontsize=14)\n",
    "    plt.ylim([0, 1])"
   ]
  },
  {
   "cell_type": "code",
   "execution_count": 28,
   "id": "88a48d61-ed54-4e2d-9cc8-cad9574de3e8",
   "metadata": {
    "execution": {
     "iopub.execute_input": "2024-01-17T19:44:44.384286Z",
     "iopub.status.busy": "2024-01-17T19:44:44.371266Z",
     "iopub.status.idle": "2024-01-17T19:44:50.740311Z",
     "shell.execute_reply": "2024-01-17T19:44:50.739420Z",
     "shell.execute_reply.started": "2024-01-17T19:44:44.384220Z"
    }
   },
   "outputs": [
    {
     "name": "stdout",
     "output_type": "stream",
     "text": [
      "Learn: True\n"
     ]
    },
    {
     "data": {
      "image/png": "[encoded data removed]",
      "text/plain": [
       "<Figure size 640x480 with 1 Axes>"
      ]
     },
     "metadata": {},
     "output_type": "display_data"
    }
   ],
   "source": [
    "num_iterations = 5000\n",
    "# Need to fit at least once.\n",
    "model = MLPRegressor(random_state=42)\n",
    "model.partial_fit([one_hot_encode(\"Tom\", \"morning\", \"politics\")], [1])\n",
    "ctr = run_simulation(model, num_iterations, users, times_of_day, actions, get_cost)\n",
    "old_ctr = ctr\n",
    "plot_ctr(num_iterations, ctr)"
   ]
  },
  {
   "cell_type": "code",
   "execution_count": 29,
   "id": "4c6dadf4-50ab-4285-bb59-ff59f2d4f5ba",
   "metadata": {
    "execution": {
     "iopub.execute_input": "2024-01-17T19:44:50.744965Z",
     "iopub.status.busy": "2024-01-17T19:44:50.744093Z",
     "iopub.status.idle": "2024-01-17T19:45:04.286684Z",
     "shell.execute_reply": "2024-01-17T19:45:04.282661Z",
     "shell.execute_reply.started": "2024-01-17T19:44:50.744859Z"
    }
   },
   "outputs": [
    {
     "name": "stdout",
     "output_type": "stream",
     "text": [
      "Learn: True\n"
     ]
    },
    {
     "data": {
      "text/plain": [
       "<matplotlib.legend.Legend at 0x11fc829b0>"
      ]
     },
     "execution_count": 29,
     "metadata": {},
     "output_type": "execute_result"
    },
    {
     "data": {
      "image/png": "[encoded data removed]",
      "text/plain": [
       "<Figure size 640x480 with 1 Axes>"
      ]
     },
     "metadata": {},
     "output_type": "display_data"
    }
   ],
   "source": [
    "num_iterations = 5000\n",
    "# Need to fit at least once.\n",
    "model = MLPRegressor(random_state=42)\n",
    "model.partial_fit([feature_interaction(\"Tom\", \"morning\", \"politics\")], [0])\n",
    "\n",
    "ctr = run_simulation(\n",
    "    model,\n",
    "    num_iterations,\n",
    "    users,\n",
    "    times_of_day,\n",
    "    actions,\n",
    "    get_cost,\n",
    "    preprocess=feature_interaction,\n",
    ")\n",
    "\n",
    "plt.plot(range(1, num_iterations + 1), old_ctr)\n",
    "plot_ctr(num_iterations, ctr)\n",
    "plt.legend([\"one_hot_encode\", \"feature_interaction\"])"
   ]
  },
  {
   "cell_type": "code",
   "execution_count": 30,
   "id": "4889f931-b201-4e00-b552-44b0bd983878",
   "metadata": {
    "execution": {
     "iopub.execute_input": "2024-01-17T19:45:04.289104Z",
     "iopub.status.busy": "2024-01-17T19:45:04.288483Z",
     "iopub.status.idle": "2024-01-17T19:45:04.355891Z",
     "shell.execute_reply": "2024-01-17T19:45:04.354005Z",
     "shell.execute_reply.started": "2024-01-17T19:45:04.289060Z"
    }
   },
   "outputs": [
    {
     "data": {
      "text/plain": [
       "'politics'"
      ]
     },
     "execution_count": 30,
     "metadata": {},
     "output_type": "execute_result"
    }
   ],
   "source": [
    "context = {\"user\": \"Anna\", \"time_of_day\": \"morning\"}\n",
    "get_action(model, context, actions, feature_interaction)"
   ]
  },
  {
   "cell_type": "code",
   "execution_count": 31,
   "id": "f00afef7-0702-4117-b052-d4b0baac9148",
   "metadata": {
    "execution": {
     "iopub.execute_input": "2024-01-17T19:45:04.359522Z",
     "iopub.status.busy": "2024-01-17T19:45:04.357862Z",
     "iopub.status.idle": "2024-01-17T19:45:04.422997Z",
     "shell.execute_reply": "2024-01-17T19:45:04.421803Z",
     "shell.execute_reply.started": "2024-01-17T19:45:04.359459Z"
    }
   },
   "outputs": [
    {
     "data": {
      "text/plain": [
       "'politics'"
      ]
     },
     "execution_count": 31,
     "metadata": {},
     "output_type": "execute_result"
    }
   ],
   "source": [
    "context = {\"user\": \"Anna\", \"time_of_day\": \"afternoon\"}\n",
    "get_action(model, context, actions, feature_interaction)"
   ]
  },
  {
   "cell_type": "markdown",
   "id": "061606cd-82dd-485f-ba59-828ceb224665",
   "metadata": {},
   "source": [
    "## Updated Cost Function"
   ]
  },
  {
   "cell_type": "code",
   "execution_count": 32,
   "id": "e21ec938-3d10-4af1-99f5-65f3db5accbe",
   "metadata": {
    "execution": {
     "iopub.execute_input": "2024-01-17T19:45:04.428144Z",
     "iopub.status.busy": "2024-01-17T19:45:04.426076Z",
     "iopub.status.idle": "2024-01-17T19:45:04.441160Z",
     "shell.execute_reply": "2024-01-17T19:45:04.439844Z",
     "shell.execute_reply.started": "2024-01-17T19:45:04.428087Z"
    }
   },
   "outputs": [],
   "source": [
    "def get_cost_new1(context, action):\n",
    "    match (context[\"user\"], context[\"time_of_day\"], action):\n",
    "        case (\"Tom\", \"morning\", \"politics\"):\n",
    "            return USER_LIKED_ARTICLE\n",
    "        case (\"Tom\", \"afternoon\", \"sports\"):\n",
    "            return USER_LIKED_ARTICLE\n",
    "        case (\"Anna\", \"morning\", \"sports\"):\n",
    "            return USER_LIKED_ARTICLE\n",
    "        case (\"Anna\", \"afternoon\", \"sports\"):\n",
    "            return USER_LIKED_ARTICLE\n",
    "        case _:\n",
    "            return USER_DISLIKED_ARTICLE"
   ]
  },
  {
   "cell_type": "code",
   "execution_count": 33,
   "id": "13ce6cb2-d6f8-4ceb-94ca-8910b81396e2",
   "metadata": {
    "execution": {
     "iopub.execute_input": "2024-01-17T19:45:04.473361Z",
     "iopub.status.busy": "2024-01-17T19:45:04.444721Z",
     "iopub.status.idle": "2024-01-17T19:45:04.493410Z",
     "shell.execute_reply": "2024-01-17T19:45:04.490430Z",
     "shell.execute_reply.started": "2024-01-17T19:45:04.473227Z"
    }
   },
   "outputs": [],
   "source": [
    "def run_simulation_multiple_cost_functions(\n",
    "    model,\n",
    "    num_iterations,\n",
    "    users,\n",
    "    times_of_day,\n",
    "    actions,\n",
    "    cost_functions,\n",
    "    do_learn=True,\n",
    "    preprocess=feature_interaction,\n",
    "):\n",
    "    cost_sum = 0.0\n",
    "    ctr = []\n",
    "\n",
    "    start_counter = 1\n",
    "    end_counter = start_counter + num_iterations\n",
    "    for cost_function in cost_functions:\n",
    "        for i in range(start_counter, end_counter):\n",
    "            # 1. in each simulation choose a user\n",
    "            user = choose_user(users)\n",
    "            # 2. choose time of day for a given user\n",
    "            time_of_day = choose_time_of_day(times_of_day)\n",
    "\n",
    "            # Construct context based on chosen user and time of day\n",
    "            context = {\"user\": user, \"time_of_day\": time_of_day}\n",
    "\n",
    "            # 3. Use the get_action function we defined earlier\n",
    "            action = get_action(model, context, actions, preprocess)\n",
    "\n",
    "            # 4. Get cost of the action we chose\n",
    "            cost = cost_function(context, action)\n",
    "            cost_sum += cost\n",
    "\n",
    "            if do_learn:\n",
    "                # 5. Inform VW of what happened so we can learn from it\n",
    "                model.partial_fit([preprocess(user, time_of_day, action)], [cost])\n",
    "\n",
    "            ctr.append(cost_sum / i)\n",
    "        start_counter = end_counter\n",
    "        end_counter = start_counter + num_iterations\n",
    "\n",
    "    return ctr"
   ]
  },
  {
   "cell_type": "code",
   "execution_count": 37,
   "id": "0747739f-3d1f-4fce-962a-057b3202b6ec",
   "metadata": {
    "execution": {
     "iopub.execute_input": "2024-01-17T19:49:06.417402Z",
     "iopub.status.busy": "2024-01-17T19:49:06.415013Z",
     "iopub.status.idle": "2024-01-17T19:49:44.366996Z",
     "shell.execute_reply": "2024-01-17T19:49:44.365899Z",
     "shell.execute_reply.started": "2024-01-17T19:49:06.417331Z"
    }
   },
   "outputs": [
    {
     "data": {
      "image/png": "[encoded data removed]",
      "text/plain": [
       "<Figure size 640x480 with 1 Axes>"
      ]
     },
     "metadata": {},
     "output_type": "display_data"
    }
   ],
   "source": [
    "model = MLPRegressor(random_state=42)\n",
    "cost_functions = [get_cost, get_cost_new1, get_cost_new1]\n",
    "num_iterations_per_cost_func = 5000\n",
    "total_iterations = num_iterations_per_cost_func * len(cost_functions)\n",
    "\n",
    "# Need to fit at least one data before using.\\n\",\n",
    "model.partial_fit([feature_interaction(\"Tom\", \"morning\", \"politics\")], [1])\n",
    "ctr = run_simulation_multiple_cost_functions(\n",
    "    model,\n",
    "    num_iterations_per_cost_func,\n",
    "    users,\n",
    "    times_of_day,\n",
    "    actions,\n",
    "    cost_functions,\n",
    "    preprocess=feature_interaction,\n",
    ")\n",
    "plot_ctr(total_iterations, ctr)"
   ]
  },
  {
   "cell_type": "markdown",
   "id": "72ef0d39-27fc-41b4-9f5a-3970a4cf67eb",
   "metadata": {},
   "source": [
    "## Using softmax for faster convergence"
   ]
  },
  {
   "cell_type": "code",
   "execution_count": 42,
   "id": "00f8799d-def7-408f-bc1b-f827585e31bd",
   "metadata": {
    "execution": {
     "iopub.execute_input": "2024-01-17T19:53:16.299587Z",
     "iopub.status.busy": "2024-01-17T19:53:16.298925Z",
     "iopub.status.idle": "2024-01-17T19:53:16.314790Z",
     "shell.execute_reply": "2024-01-17T19:53:16.313380Z",
     "shell.execute_reply.started": "2024-01-17T19:53:16.299532Z"
    }
   },
   "outputs": [],
   "source": [
    "def get_action(model, context, actions, preprocess):\n",
    "    rewards = model.predict(\n",
    "        [\n",
    "            preprocess(context[\"user\"], context[\"time_of_day\"], action)\n",
    "            for action in actions\n",
    "        ]\n",
    "    )\n",
    "    # action = actions[np.argmax(rewards)]\n",
    "    action = np.random.choice(actions, p=softmax(rewards, tau=0.2))\n",
    "    return action"
   ]
  },
  {
   "cell_type": "code",
   "execution_count": 43,
   "id": "ff969bf4-a8d3-432b-9a9b-0bf5f7ae0029",
   "metadata": {
    "execution": {
     "iopub.execute_input": "2024-01-17T19:53:17.011517Z",
     "iopub.status.busy": "2024-01-17T19:53:17.011091Z",
     "iopub.status.idle": "2024-01-17T19:53:59.311272Z",
     "shell.execute_reply": "2024-01-17T19:53:59.309438Z",
     "shell.execute_reply.started": "2024-01-17T19:53:17.011485Z"
    }
   },
   "outputs": [
    {
     "data": {
      "image/png": "[encoded data removed]",
      "text/plain": [
       "<Figure size 640x480 with 1 Axes>"
      ]
     },
     "metadata": {},
     "output_type": "display_data"
    }
   ],
   "source": [
    "# TODO: add tqdm\n",
    "model = MLPRegressor(random_state=42)\n",
    "cost_functions = [get_cost, get_cost_new1, get_cost_new1]\n",
    "num_iterations_per_cost_func = 5000\n",
    "total_iterations = num_iterations_per_cost_func * len(cost_functions)\n",
    "\n",
    "# Need to fit at least one data before using.\\n\",\n",
    "model.partial_fit([feature_interaction(\"Tom\", \"morning\", \"politics\")], [1])\n",
    "ctr = run_simulation_multiple_cost_functions(\n",
    "    model,\n",
    "    num_iterations_per_cost_func,\n",
    "    users,\n",
    "    times_of_day,\n",
    "    actions,\n",
    "    cost_functions,\n",
    "    preprocess=feature_interaction,\n",
    ")\n",
    "plot_ctr(total_iterations, ctr)"
   ]
  }
 ],
 "metadata": {
  "kernelspec": {
   "display_name": "Python 3 (ipykernel)",
   "language": "python",
   "name": "python3"
  },
  "language_info": {
   "codemirror_mode": {
    "name": "ipython",
    "version": 3
   },
   "file_extension": ".py",
   "mimetype": "text/x-python",
   "name": "python",
   "nbconvert_exporter": "python",
   "pygments_lexer": "ipython3",
   "version": "3.10.13"
  },
  "widgets": {
   "application/vnd.jupyter.widget-state+json": {
    "state": {},
    "version_major": 2,
    "version_minor": 0
   }
  }
 },
 "nbformat": 4,
 "nbformat_minor": 5
}
