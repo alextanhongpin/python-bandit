{
 "cells": [
  {
   "cell_type": "code",
   "execution_count": 1,
   "id": "a4e0dd6c-b1cd-4604-9491-a5fd31034cd0",
   "metadata": {
    "execution": {
     "iopub.execute_input": "2024-02-13T17:29:27.395958Z",
     "iopub.status.busy": "2024-02-13T17:29:27.391978Z",
     "iopub.status.idle": "2024-02-13T17:29:32.827391Z",
     "shell.execute_reply": "2024-02-13T17:29:32.826626Z",
     "shell.execute_reply.started": "2024-02-13T17:29:27.395882Z"
    }
   },
   "outputs": [
    {
     "name": "stderr",
     "output_type": "stream",
     "text": [
      "/var/folders/7m/74_ct3hx33d878n626w1wxyc0000gn/T/ipykernel_15753/2096907171.py:8: TqdmExperimentalWarning: Using `tqdm.autonotebook.tqdm` in notebook mode. Use `tqdm.tqdm` instead to force console mode (e.g. in jupyter console)\n",
      "  from tqdm.autonotebook import tqdm\n"
     ]
    }
   ],
   "source": [
    "import os\n",
    "\n",
    "import matplotlib.pyplot as plt\n",
    "import numpy as np\n",
    "import pandas as pd\n",
    "import seaborn as sns\n",
    "import torch\n",
    "from tqdm.autonotebook import tqdm\n",
    "\n",
    "import bandit.environment as env\n",
    "from bandit.policy import EGreedy, Softmax\n",
    "from bandit.torch import NeuralBandit, NeuralPerArmBandit, create_model\n",
    "\n",
    "sns.set_theme()"
   ]
  },
  {
   "cell_type": "code",
   "execution_count": 2,
   "id": "2a747fb7-f610-4d0e-afdc-b9738fa22c78",
   "metadata": {
    "execution": {
     "iopub.execute_input": "2024-02-13T17:29:32.832615Z",
     "iopub.status.busy": "2024-02-13T17:29:32.831797Z",
     "iopub.status.idle": "2024-02-13T17:29:32.839902Z",
     "shell.execute_reply": "2024-02-13T17:29:32.836763Z",
     "shell.execute_reply.started": "2024-02-13T17:29:32.832575Z"
    }
   },
   "outputs": [],
   "source": [
    "N = 500"
   ]
  },
  {
   "cell_type": "code",
   "execution_count": 3,
   "id": "c336a243-c183-48d5-aaa1-cd19fb850d99",
   "metadata": {
    "execution": {
     "iopub.execute_input": "2024-02-13T17:29:32.842102Z",
     "iopub.status.busy": "2024-02-13T17:29:32.841336Z",
     "iopub.status.idle": "2024-02-13T17:29:32.888267Z",
     "shell.execute_reply": "2024-02-13T17:29:32.883328Z",
     "shell.execute_reply.started": "2024-02-13T17:29:32.842048Z"
    }
   },
   "outputs": [],
   "source": [
    "def run_simulation(bandit, policy=EGreedy(epsilon=0.0), n=N, dynamic=False):\n",
    "    total_reward = 0\n",
    "    avg_rewards = []\n",
    "    rng = np.random.RandomState(42)\n",
    "\n",
    "    for i in tqdm(range(n), disable=False):\n",
    "        state = env.observe(rng)\n",
    "\n",
    "        # 1. Predict the action.\n",
    "        rewards = bandit.pull(state)\n",
    "\n",
    "        action = policy(rewards)\n",
    "\n",
    "        # 2. Act and get the reward.\n",
    "        if dynamic and i > n // 2:\n",
    "            get_cost = env.get_cost_new\n",
    "        else:\n",
    "            get_cost = env.get_cost\n",
    "        reward = get_cost(state, env.actions[action])\n",
    "        # Change reward to 0 or 1 instead of -1 or 1\n",
    "\n",
    "        # 3. Update the model.\n",
    "        bandit.update(state, action, reward)\n",
    "\n",
    "        # 4. Save the reward.\n",
    "        total_reward += max(0, reward)\n",
    "        avg_rewards.append(total_reward / (i + 1))\n",
    "    return avg_rewards, total_reward"
   ]
  },
  {
   "cell_type": "code",
   "execution_count": 4,
   "id": "994204d9-f482-4f02-aafb-f7b0f055421d",
   "metadata": {
    "execution": {
     "iopub.execute_input": "2024-02-13T17:29:32.891627Z",
     "iopub.status.busy": "2024-02-13T17:29:32.890557Z",
     "iopub.status.idle": "2024-02-13T17:29:35.830533Z",
     "shell.execute_reply": "2024-02-13T17:29:35.829472Z",
     "shell.execute_reply.started": "2024-02-13T17:29:32.891571Z"
    }
   },
   "outputs": [
    {
     "data": {
      "application/vnd.jupyter.widget-view+json": {
       "model_id": "6db39f67655c4e2f89fdb2ac6935633d",
       "version_major": 2,
       "version_minor": 0
      },
      "text/plain": [
       "  0%|          | 0/500 [00:00<?, ?it/s]"
      ]
     },
     "metadata": {},
     "output_type": "display_data"
    },
    {
     "data": {
      "text/plain": [
       "222.0"
      ]
     },
     "execution_count": 4,
     "metadata": {},
     "output_type": "execute_result"
    }
   ],
   "source": [
    "bandit = NeuralBandit(n_arms=len(env.actions), batch=1)\n",
    "# avg_rewards, total_reward = run_simulation(bandit, policy=Softmax(tau=0.1))\n",
    "avg_rewards, total_reward = run_simulation(bandit)\n",
    "total_reward"
   ]
  },
  {
   "cell_type": "code",
   "execution_count": 5,
   "id": "3dfc3a38-c914-4520-93a9-e6427e904213",
   "metadata": {
    "execution": {
     "iopub.execute_input": "2024-02-13T17:29:35.833441Z",
     "iopub.status.busy": "2024-02-13T17:29:35.832660Z",
     "iopub.status.idle": "2024-02-13T17:29:36.195301Z",
     "shell.execute_reply": "2024-02-13T17:29:36.193927Z",
     "shell.execute_reply.started": "2024-02-13T17:29:35.833406Z"
    }
   },
   "outputs": [
    {
     "data": {
      "text/plain": [
       "[<matplotlib.lines.Line2D at 0x128260df0>]"
      ]
     },
     "execution_count": 5,
     "metadata": {},
     "output_type": "execute_result"
    },
    {
     "data": {
      "image/png": "[encoded data removed]",
      "text/plain": [
       "<Figure size 640x480 with 1 Axes>"
      ]
     },
     "metadata": {},
     "output_type": "display_data"
    }
   ],
   "source": [
    "plt.plot(range(N), avg_rewards)"
   ]
  },
  {
   "cell_type": "code",
   "execution_count": 6,
   "id": "06ef7f59-0aab-47ed-b253-ca29f49a2e35",
   "metadata": {
    "execution": {
     "iopub.execute_input": "2024-02-13T17:29:36.198382Z",
     "iopub.status.busy": "2024-02-13T17:29:36.197991Z",
     "iopub.status.idle": "2024-02-13T17:29:37.400077Z",
     "shell.execute_reply": "2024-02-13T17:29:37.398970Z",
     "shell.execute_reply.started": "2024-02-13T17:29:36.198351Z"
    }
   },
   "outputs": [
    {
     "data": {
      "application/vnd.jupyter.widget-view+json": {
       "model_id": "ca34d0aa21124f05a9d7b766d1d36a37",
       "version_major": 2,
       "version_minor": 0
      },
      "text/plain": [
       "  0%|          | 0/500 [00:00<?, ?it/s]"
      ]
     },
     "metadata": {},
     "output_type": "display_data"
    },
    {
     "data": {
      "text/plain": [
       "171.0"
      ]
     },
     "execution_count": 6,
     "metadata": {},
     "output_type": "execute_result"
    }
   ],
   "source": [
    "bandit = NeuralBandit(n_arms=len(env.actions), batch=1)\n",
    "avg_rewards, total_reward = run_simulation(bandit, dynamic=True)\n",
    "total_reward"
   ]
  },
  {
   "cell_type": "code",
   "execution_count": 7,
   "id": "f87a787a-7612-4029-9ed6-e398855cd180",
   "metadata": {
    "execution": {
     "iopub.execute_input": "2024-02-13T17:29:37.408108Z",
     "iopub.status.busy": "2024-02-13T17:29:37.407785Z",
     "iopub.status.idle": "2024-02-13T17:29:37.716656Z",
     "shell.execute_reply": "2024-02-13T17:29:37.715302Z",
     "shell.execute_reply.started": "2024-02-13T17:29:37.408084Z"
    }
   },
   "outputs": [
    {
     "data": {
      "text/plain": [
       "[<matplotlib.lines.Line2D at 0x12ac64d00>]"
      ]
     },
     "execution_count": 7,
     "metadata": {},
     "output_type": "execute_result"
    },
    {
     "data": {
      "image/png": "[encoded data removed]",
      "text/plain": [
       "<Figure size 640x480 with 1 Axes>"
      ]
     },
     "metadata": {},
     "output_type": "display_data"
    }
   ],
   "source": [
    "plt.plot(range(N), avg_rewards)"
   ]
  },
  {
   "cell_type": "markdown",
   "id": "84dc4f76-c23b-4fea-abbc-f205c0c9d744",
   "metadata": {},
   "source": [
    "## Neural Per Arm Bandit - Static"
   ]
  },
  {
   "cell_type": "code",
   "execution_count": 8,
   "id": "c82fbd0d-65d3-4a43-814b-b83b6a244b98",
   "metadata": {
    "execution": {
     "iopub.execute_input": "2024-02-13T17:29:37.720403Z",
     "iopub.status.busy": "2024-02-13T17:29:37.718782Z",
     "iopub.status.idle": "2024-02-13T17:29:38.963498Z",
     "shell.execute_reply": "2024-02-13T17:29:38.962589Z",
     "shell.execute_reply.started": "2024-02-13T17:29:37.719705Z"
    }
   },
   "outputs": [
    {
     "data": {
      "application/vnd.jupyter.widget-view+json": {
       "model_id": "7ef2ec0f08474f20b14928985f13b17b",
       "version_major": 2,
       "version_minor": 0
      },
      "text/plain": [
       "  0%|          | 0/500 [00:00<?, ?it/s]"
      ]
     },
     "metadata": {},
     "output_type": "display_data"
    },
    {
     "data": {
      "text/plain": [
       "479.0"
      ]
     },
     "execution_count": 8,
     "metadata": {},
     "output_type": "execute_result"
    }
   ],
   "source": [
    "bandit = NeuralPerArmBandit()\n",
    "avg_rewards, total_reward = run_simulation(bandit)\n",
    "total_reward"
   ]
  },
  {
   "cell_type": "code",
   "execution_count": 9,
   "id": "1c722af8-5447-4d60-a706-eed408b5054a",
   "metadata": {
    "execution": {
     "iopub.execute_input": "2024-02-13T17:29:38.965587Z",
     "iopub.status.busy": "2024-02-13T17:29:38.965078Z",
     "iopub.status.idle": "2024-02-13T17:29:39.263718Z",
     "shell.execute_reply": "2024-02-13T17:29:39.263007Z",
     "shell.execute_reply.started": "2024-02-13T17:29:38.965545Z"
    }
   },
   "outputs": [
    {
     "data": {
      "text/plain": [
       "[<matplotlib.lines.Line2D at 0x12acd64a0>]"
      ]
     },
     "execution_count": 9,
     "metadata": {},
     "output_type": "execute_result"
    },
    {
     "data": {
      "image/png": "[encoded data removed]",
      "text/plain": [
       "<Figure size 640x480 with 1 Axes>"
      ]
     },
     "metadata": {},
     "output_type": "display_data"
    }
   ],
   "source": [
    "plt.plot(range(N), avg_rewards)"
   ]
  },
  {
   "cell_type": "markdown",
   "id": "a3f6cd2f-1bd8-4493-ba61-324734471aa4",
   "metadata": {
    "execution": {
     "iopub.execute_input": "2024-02-11T14:32:22.386687Z",
     "iopub.status.busy": "2024-02-11T14:32:22.386230Z",
     "iopub.status.idle": "2024-02-11T14:32:22.404652Z",
     "shell.execute_reply": "2024-02-11T14:32:22.403360Z",
     "shell.execute_reply.started": "2024-02-11T14:32:22.386653Z"
    }
   },
   "source": [
    "## Neural Per Arm Bandit - Dynamic"
   ]
  },
  {
   "cell_type": "code",
   "execution_count": 10,
   "id": "36acb43c-7379-4f3d-9a57-30ad723c98e4",
   "metadata": {
    "execution": {
     "iopub.execute_input": "2024-02-13T17:29:39.265856Z",
     "iopub.status.busy": "2024-02-13T17:29:39.265098Z",
     "iopub.status.idle": "2024-02-13T17:29:40.615293Z",
     "shell.execute_reply": "2024-02-13T17:29:40.613929Z",
     "shell.execute_reply.started": "2024-02-13T17:29:39.265816Z"
    }
   },
   "outputs": [
    {
     "data": {
      "application/vnd.jupyter.widget-view+json": {
       "model_id": "238c29876d774ecfa174d959bef336f5",
       "version_major": 2,
       "version_minor": 0
      },
      "text/plain": [
       "  0%|          | 0/500 [00:00<?, ?it/s]"
      ]
     },
     "metadata": {},
     "output_type": "display_data"
    },
    {
     "data": {
      "text/plain": [
       "447.0"
      ]
     },
     "execution_count": 10,
     "metadata": {},
     "output_type": "execute_result"
    }
   ],
   "source": [
    "bandit = NeuralPerArmBandit()\n",
    "avg_rewards, total_reward = run_simulation(bandit, dynamic=True)\n",
    "total_reward"
   ]
  },
  {
   "cell_type": "code",
   "execution_count": 11,
   "id": "8d78800a-d935-4386-a429-427c95d23703",
   "metadata": {
    "execution": {
     "iopub.execute_input": "2024-02-13T17:29:40.617118Z",
     "iopub.status.busy": "2024-02-13T17:29:40.616783Z",
     "iopub.status.idle": "2024-02-13T17:29:41.015095Z",
     "shell.execute_reply": "2024-02-13T17:29:41.014096Z",
     "shell.execute_reply.started": "2024-02-13T17:29:40.617093Z"
    }
   },
   "outputs": [
    {
     "data": {
      "text/plain": [
       "[<matplotlib.lines.Line2D at 0x12ad4b940>]"
      ]
     },
     "execution_count": 11,
     "metadata": {},
     "output_type": "execute_result"
    },
    {
     "data": {
      "image/png": "[encoded data removed]",
      "text/plain": [
       "<Figure size 640x480 with 1 Axes>"
      ]
     },
     "metadata": {},
     "output_type": "display_data"
    }
   ],
   "source": [
    "plt.plot(range(N), avg_rewards)"
   ]
  },
  {
   "cell_type": "code",
   "execution_count": 12,
   "id": "cfd0b1a9-30b1-40af-aa77-11de7e0b255f",
   "metadata": {
    "execution": {
     "iopub.execute_input": "2024-02-13T17:29:41.018604Z",
     "iopub.status.busy": "2024-02-13T17:29:41.017758Z",
     "iopub.status.idle": "2024-02-13T17:29:41.065613Z",
     "shell.execute_reply": "2024-02-13T17:29:41.064533Z",
     "shell.execute_reply.started": "2024-02-13T17:29:41.018559Z"
    }
   },
   "outputs": [
    {
     "name": "stdout",
     "output_type": "stream",
     "text": [
      "rewards [-1.2420452   0.9984168  -0.35861126 -0.46358806 -0.4326533  -0.46654683\n",
      " -0.5520654 ]\n",
      "action 1\n",
      "reward -1.0\n"
     ]
    }
   ],
   "source": [
    "# bandit = NeuralBandit(n_arms=len(env.actions), batch=1)\n",
    "\n",
    "# bandit = NeuralPerArmBandit()\n",
    "\n",
    "policy = EGreedy(epsilon=0.0)\n",
    "rng = np.random.RandomState(42)\n",
    "\n",
    "for i in range(1):\n",
    "    state = env.observe(rng)\n",
    "\n",
    "    rewards = bandit.pull(state)\n",
    "    print(\"rewards\", rewards)\n",
    "\n",
    "    action = policy(rewards)\n",
    "\n",
    "    reward = env.get_cost(state, env.actions[action])\n",
    "    print(\"action\", action)\n",
    "    print(\"reward\", reward)\n",
    "\n",
    "    # 3. Update the model.\n",
    "\n",
    "    bandit.update(state, action, reward)"
   ]
  },
  {
   "cell_type": "markdown",
   "id": "d12e5fcb-fd98-4de1-b427-75bc12a0207d",
   "metadata": {},
   "source": [
    "## Conclusion\n",
    "\n",
    "Per-arm bandit seems to be performing better, for unknown reasons. The feature-interaction doesn't seem to be doing its work when using torch or keras compared to scikit-learn's MLP."
   ]
  }
 ],
 "metadata": {
  "kernelspec": {
   "display_name": "Python 3 (ipykernel)",
   "language": "python",
   "name": "python3"
  },
  "language_info": {
   "codemirror_mode": {
    "name": "ipython",
    "version": 3
   },
   "file_extension": ".py",
   "mimetype": "text/x-python",
   "name": "python",
   "nbconvert_exporter": "python",
   "pygments_lexer": "ipython3",
   "version": "3.10.13"
  },
  "widgets": {
   "application/vnd.jupyter.widget-state+json": {
    "state": {
     "021619e1047f4981a32697cf9b9776b9": {
      "model_module": "@jupyter-widgets/base",
      "model_module_version": "2.0.0",
      "model_name": "LayoutModel",
      "state": {}
     },
     "238c29876d774ecfa174d959bef336f5": {
      "model_module": "@jupyter-widgets/controls",
      "model_module_version": "2.0.0",
      "model_name": "HBoxModel",
      "state": {
       "children": [
        "IPY_MODEL_ab4c3037bcd145ef9dbca7130e481379",
        "IPY_MODEL_295acc4e9ec64d1a8220ee7cd31232bc",
        "IPY_MODEL_f42bb021835a449bb1362ce9b8c67a15"
       ],
       "layout": "IPY_MODEL_021619e1047f4981a32697cf9b9776b9"
      }
     },
     "2573c70474d54f83b2f6858e97399de3": {
      "model_module": "@jupyter-widgets/base",
      "model_module_version": "2.0.0",
      "model_name": "LayoutModel",
      "state": {}
     },
     "295acc4e9ec64d1a8220ee7cd31232bc": {
      "model_module": "@jupyter-widgets/controls",
      "model_module_version": "2.0.0",
      "model_name": "FloatProgressModel",
      "state": {
       "bar_style": "success",
       "layout": "IPY_MODEL_3607ef26d3b54f909c7581c8ac9347a6",
       "max": 500,
       "style": "IPY_MODEL_91f906ec9a9f40b9b4bd48edbf3f5e19",
       "value": 500
      }
     },
     "2e8371295fdc4fdfbe354de0343f800a": {
      "model_module": "@jupyter-widgets/controls",
      "model_module_version": "2.0.0",
      "model_name": "HTMLStyleModel",
      "state": {
       "description_width": "",
       "font_size": null,
       "text_color": null
      }
     },
     "30be05c7ccd74fdca8c54193d46ddc2a": {
      "model_module": "@jupyter-widgets/base",
      "model_module_version": "2.0.0",
      "model_name": "LayoutModel",
      "state": {}
     },
     "32ff689234a94c56a16474370ce3b5f3": {
      "model_module": "@jupyter-widgets/controls",
      "model_module_version": "2.0.0",
      "model_name": "FloatProgressModel",
      "state": {
       "bar_style": "success",
       "layout": "IPY_MODEL_cc76db2de63c4148a92e8a151ecbe186",
       "max": 500,
       "style": "IPY_MODEL_91bd6c006c344cbba8ce621feef4fc7c",
       "value": 500
      }
     },
     "3607ef26d3b54f909c7581c8ac9347a6": {
      "model_module": "@jupyter-widgets/base",
      "model_module_version": "2.0.0",
      "model_name": "LayoutModel",
      "state": {}
     },
     "3b8e6804158349148d8038350d9aff82": {
      "model_module": "@jupyter-widgets/controls",
      "model_module_version": "2.0.0",
      "model_name": "HTMLStyleModel",
      "state": {
       "description_width": "",
       "font_size": null,
       "text_color": null
      }
     },
     "47b4afed6a064eb496700da2c6267d43": {
      "model_module": "@jupyter-widgets/base",
      "model_module_version": "2.0.0",
      "model_name": "LayoutModel",
      "state": {}
     },
     "4972200462b74ae6bd38e75aae0058ff": {
      "model_module": "@jupyter-widgets/base",
      "model_module_version": "2.0.0",
      "model_name": "LayoutModel",
      "state": {}
     },
     "56f6ff18fcae466a91de6bedc764b6f7": {
      "model_module": "@jupyter-widgets/base",
      "model_module_version": "2.0.0",
      "model_name": "LayoutModel",
      "state": {}
     },
     "5726a3d4b6754eb281c60d6f6cafa444": {
      "model_module": "@jupyter-widgets/controls",
      "model_module_version": "2.0.0",
      "model_name": "HTMLModel",
      "state": {
       "layout": "IPY_MODEL_c0ddaaa4c1724db5aeaa670fb1592fa1",
       "style": "IPY_MODEL_8d7a3155c15945488e67dcfe01b5c322",
       "value": "100%"
      }
     },
     "5760739c1a7142d098a77a8af471f5f0": {
      "model_module": "@jupyter-widgets/base",
      "model_module_version": "2.0.0",
      "model_name": "LayoutModel",
      "state": {}
     },
     "66c70bafb12a4b098a64475158312723": {
      "model_module": "@jupyter-widgets/controls",
      "model_module_version": "2.0.0",
      "model_name": "HTMLModel",
      "state": {
       "layout": "IPY_MODEL_30be05c7ccd74fdca8c54193d46ddc2a",
       "style": "IPY_MODEL_e0bff94d66db46cd994cc0ba9dfacf0e",
       "value": " 500/500 [00:01&lt;00:00, 514.81it/s]"
      }
     },
     "6db39f67655c4e2f89fdb2ac6935633d": {
      "model_module": "@jupyter-widgets/controls",
      "model_module_version": "2.0.0",
      "model_name": "HBoxModel",
      "state": {
       "children": [
        "IPY_MODEL_c1e69f5051314aaa9dd4950813ee9013",
        "IPY_MODEL_32ff689234a94c56a16474370ce3b5f3",
        "IPY_MODEL_95baddcb797744ff9f43f742056c55f3"
       ],
       "layout": "IPY_MODEL_56f6ff18fcae466a91de6bedc764b6f7"
      }
     },
     "744a2f5ef6e24302bff79b3bb99d7993": {
      "model_module": "@jupyter-widgets/base",
      "model_module_version": "2.0.0",
      "model_name": "LayoutModel",
      "state": {}
     },
     "7ef2ec0f08474f20b14928985f13b17b": {
      "model_module": "@jupyter-widgets/controls",
      "model_module_version": "2.0.0",
      "model_name": "HBoxModel",
      "state": {
       "children": [
        "IPY_MODEL_5726a3d4b6754eb281c60d6f6cafa444",
        "IPY_MODEL_fcbff24a8f064281832945bed818b873",
        "IPY_MODEL_f32625b78db443f7b9a0aa663de2c121"
       ],
       "layout": "IPY_MODEL_dc853c050f0542dd8078ac0d2b2b400a"
      }
     },
     "83ac1e6922c347b2b9c56cca67080aed": {
      "model_module": "@jupyter-widgets/controls",
      "model_module_version": "2.0.0",
      "model_name": "HTMLStyleModel",
      "state": {
       "description_width": "",
       "font_size": null,
       "text_color": null
      }
     },
     "8c880980ab1b4f27b45b3a3f8280b639": {
      "model_module": "@jupyter-widgets/base",
      "model_module_version": "2.0.0",
      "model_name": "LayoutModel",
      "state": {}
     },
     "8d7a3155c15945488e67dcfe01b5c322": {
      "model_module": "@jupyter-widgets/controls",
      "model_module_version": "2.0.0",
      "model_name": "HTMLStyleModel",
      "state": {
       "description_width": "",
       "font_size": null,
       "text_color": null
      }
     },
     "91bd6c006c344cbba8ce621feef4fc7c": {
      "model_module": "@jupyter-widgets/controls",
      "model_module_version": "2.0.0",
      "model_name": "ProgressStyleModel",
      "state": {
       "description_width": ""
      }
     },
     "91f906ec9a9f40b9b4bd48edbf3f5e19": {
      "model_module": "@jupyter-widgets/controls",
      "model_module_version": "2.0.0",
      "model_name": "ProgressStyleModel",
      "state": {
       "description_width": ""
      }
     },
     "95baddcb797744ff9f43f742056c55f3": {
      "model_module": "@jupyter-widgets/controls",
      "model_module_version": "2.0.0",
      "model_name": "HTMLModel",
      "state": {
       "layout": "IPY_MODEL_5760739c1a7142d098a77a8af471f5f0",
       "style": "IPY_MODEL_e7c4e80242ff4a64a5915d6ce09e1015",
       "value": " 500/500 [00:01&lt;00:00, 500.27it/s]"
      }
     },
     "ab4c3037bcd145ef9dbca7130e481379": {
      "model_module": "@jupyter-widgets/controls",
      "model_module_version": "2.0.0",
      "model_name": "HTMLModel",
      "state": {
       "layout": "IPY_MODEL_fa5fa37570964f8b8846ea959a01f0fd",
       "style": "IPY_MODEL_f0ea6f10571d444799e6be355816fa42",
       "value": "100%"
      }
     },
     "bdb7c66cca404976a90ec7e8efb613b0": {
      "model_module": "@jupyter-widgets/controls",
      "model_module_version": "2.0.0",
      "model_name": "ProgressStyleModel",
      "state": {
       "description_width": ""
      }
     },
     "c0ddaaa4c1724db5aeaa670fb1592fa1": {
      "model_module": "@jupyter-widgets/base",
      "model_module_version": "2.0.0",
      "model_name": "LayoutModel",
      "state": {}
     },
     "c1e69f5051314aaa9dd4950813ee9013": {
      "model_module": "@jupyter-widgets/controls",
      "model_module_version": "2.0.0",
      "model_name": "HTMLModel",
      "state": {
       "layout": "IPY_MODEL_8c880980ab1b4f27b45b3a3f8280b639",
       "style": "IPY_MODEL_83ac1e6922c347b2b9c56cca67080aed",
       "value": "100%"
      }
     },
     "c5243908874b4ad0b1be95bd503d57ac": {
      "model_module": "@jupyter-widgets/base",
      "model_module_version": "2.0.0",
      "model_name": "LayoutModel",
      "state": {}
     },
     "c894f1e51f6b494e9b0bc502d742a4d2": {
      "model_module": "@jupyter-widgets/controls",
      "model_module_version": "2.0.0",
      "model_name": "FloatProgressModel",
      "state": {
       "bar_style": "success",
       "layout": "IPY_MODEL_c5243908874b4ad0b1be95bd503d57ac",
       "max": 500,
       "style": "IPY_MODEL_f1f394cd252647d6bbd6b9b1b42853a8",
       "value": 500
      }
     },
     "ca34d0aa21124f05a9d7b766d1d36a37": {
      "model_module": "@jupyter-widgets/controls",
      "model_module_version": "2.0.0",
      "model_name": "HBoxModel",
      "state": {
       "children": [
        "IPY_MODEL_e5776e8d9c9a4c369631e019dbf1b704",
        "IPY_MODEL_c894f1e51f6b494e9b0bc502d742a4d2",
        "IPY_MODEL_66c70bafb12a4b098a64475158312723"
       ],
       "layout": "IPY_MODEL_e52943b9b10a4e8faf5198c57ab6a52b"
      }
     },
     "cc76db2de63c4148a92e8a151ecbe186": {
      "model_module": "@jupyter-widgets/base",
      "model_module_version": "2.0.0",
      "model_name": "LayoutModel",
      "state": {}
     },
     "ce7e73ab0a194e71a5b498370ecaf279": {
      "model_module": "@jupyter-widgets/controls",
      "model_module_version": "2.0.0",
      "model_name": "HTMLStyleModel",
      "state": {
       "description_width": "",
       "font_size": null,
       "text_color": null
      }
     },
     "dc853c050f0542dd8078ac0d2b2b400a": {
      "model_module": "@jupyter-widgets/base",
      "model_module_version": "2.0.0",
      "model_name": "LayoutModel",
      "state": {}
     },
     "e0bff94d66db46cd994cc0ba9dfacf0e": {
      "model_module": "@jupyter-widgets/controls",
      "model_module_version": "2.0.0",
      "model_name": "HTMLStyleModel",
      "state": {
       "description_width": "",
       "font_size": null,
       "text_color": null
      }
     },
     "e52943b9b10a4e8faf5198c57ab6a52b": {
      "model_module": "@jupyter-widgets/base",
      "model_module_version": "2.0.0",
      "model_name": "LayoutModel",
      "state": {}
     },
     "e5776e8d9c9a4c369631e019dbf1b704": {
      "model_module": "@jupyter-widgets/controls",
      "model_module_version": "2.0.0",
      "model_name": "HTMLModel",
      "state": {
       "layout": "IPY_MODEL_2573c70474d54f83b2f6858e97399de3",
       "style": "IPY_MODEL_ce7e73ab0a194e71a5b498370ecaf279",
       "value": "100%"
      }
     },
     "e7c4e80242ff4a64a5915d6ce09e1015": {
      "model_module": "@jupyter-widgets/controls",
      "model_module_version": "2.0.0",
      "model_name": "HTMLStyleModel",
      "state": {
       "description_width": "",
       "font_size": null,
       "text_color": null
      }
     },
     "f0ea6f10571d444799e6be355816fa42": {
      "model_module": "@jupyter-widgets/controls",
      "model_module_version": "2.0.0",
      "model_name": "HTMLStyleModel",
      "state": {
       "description_width": "",
       "font_size": null,
       "text_color": null
      }
     },
     "f1f394cd252647d6bbd6b9b1b42853a8": {
      "model_module": "@jupyter-widgets/controls",
      "model_module_version": "2.0.0",
      "model_name": "ProgressStyleModel",
      "state": {
       "description_width": ""
      }
     },
     "f32625b78db443f7b9a0aa663de2c121": {
      "model_module": "@jupyter-widgets/controls",
      "model_module_version": "2.0.0",
      "model_name": "HTMLModel",
      "state": {
       "layout": "IPY_MODEL_47b4afed6a064eb496700da2c6267d43",
       "style": "IPY_MODEL_2e8371295fdc4fdfbe354de0343f800a",
       "value": " 500/500 [00:01&lt;00:00, 413.86it/s]"
      }
     },
     "f42bb021835a449bb1362ce9b8c67a15": {
      "model_module": "@jupyter-widgets/controls",
      "model_module_version": "2.0.0",
      "model_name": "HTMLModel",
      "state": {
       "layout": "IPY_MODEL_744a2f5ef6e24302bff79b3bb99d7993",
       "style": "IPY_MODEL_3b8e6804158349148d8038350d9aff82",
       "value": " 500/500 [00:01&lt;00:00, 386.42it/s]"
      }
     },
     "fa5fa37570964f8b8846ea959a01f0fd": {
      "model_module": "@jupyter-widgets/base",
      "model_module_version": "2.0.0",
      "model_name": "LayoutModel",
      "state": {}
     },
     "fcbff24a8f064281832945bed818b873": {
      "model_module": "@jupyter-widgets/controls",
      "model_module_version": "2.0.0",
      "model_name": "FloatProgressModel",
      "state": {
       "bar_style": "success",
       "layout": "IPY_MODEL_4972200462b74ae6bd38e75aae0058ff",
       "max": 500,
       "style": "IPY_MODEL_bdb7c66cca404976a90ec7e8efb613b0",
       "value": 500
      }
     }
    },
    "version_major": 2,
    "version_minor": 0
   }
  }
 },
 "nbformat": 4,
 "nbformat_minor": 5
}
