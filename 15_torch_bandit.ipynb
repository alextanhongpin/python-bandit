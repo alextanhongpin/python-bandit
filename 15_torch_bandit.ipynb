{
 "cells": [
  {
   "cell_type": "code",
   "execution_count": 1,
   "id": "a4e0dd6c-b1cd-4604-9491-a5fd31034cd0",
   "metadata": {
    "execution": {
     "iopub.execute_input": "2024-02-11T15:00:09.110185Z",
     "iopub.status.busy": "2024-02-11T15:00:09.108898Z",
     "iopub.status.idle": "2024-02-11T15:00:14.871500Z",
     "shell.execute_reply": "2024-02-11T15:00:14.870556Z",
     "shell.execute_reply.started": "2024-02-11T15:00:09.110146Z"
    }
   },
   "outputs": [
    {
     "name": "stderr",
     "output_type": "stream",
     "text": [
      "/var/folders/7m/74_ct3hx33d878n626w1wxyc0000gn/T/ipykernel_90415/2096907171.py:8: TqdmExperimentalWarning: Using `tqdm.autonotebook.tqdm` in notebook mode. Use `tqdm.tqdm` instead to force console mode (e.g. in jupyter console)\n",
      "  from tqdm.autonotebook import tqdm\n"
     ]
    }
   ],
   "source": [
    "import os\n",
    "\n",
    "import matplotlib.pyplot as plt\n",
    "import numpy as np\n",
    "import pandas as pd\n",
    "import seaborn as sns\n",
    "import torch\n",
    "from tqdm.autonotebook import tqdm\n",
    "\n",
    "import bandit.environment as env\n",
    "from bandit.policy import EGreedy, Softmax\n",
    "from bandit.torch import NeuralBandit, NeuralPerArmBandit, create_model\n",
    "\n",
    "sns.set_theme()"
   ]
  },
  {
   "cell_type": "code",
   "execution_count": 2,
   "id": "2a747fb7-f610-4d0e-afdc-b9738fa22c78",
   "metadata": {
    "execution": {
     "iopub.execute_input": "2024-02-11T15:00:14.875146Z",
     "iopub.status.busy": "2024-02-11T15:00:14.874655Z",
     "iopub.status.idle": "2024-02-11T15:00:14.893876Z",
     "shell.execute_reply": "2024-02-11T15:00:14.880252Z",
     "shell.execute_reply.started": "2024-02-11T15:00:14.875112Z"
    }
   },
   "outputs": [],
   "source": [
    "N = 500"
   ]
  },
  {
   "cell_type": "code",
   "execution_count": 3,
   "id": "c336a243-c183-48d5-aaa1-cd19fb850d99",
   "metadata": {
    "execution": {
     "iopub.execute_input": "2024-02-11T15:00:14.900813Z",
     "iopub.status.busy": "2024-02-11T15:00:14.897943Z",
     "iopub.status.idle": "2024-02-11T15:00:14.949290Z",
     "shell.execute_reply": "2024-02-11T15:00:14.931803Z",
     "shell.execute_reply.started": "2024-02-11T15:00:14.900663Z"
    }
   },
   "outputs": [],
   "source": [
    "def run_simulation(bandit, policy=EGreedy(epsilon=0.0), n=N, dynamic=False):\n",
    "    total_reward = 0\n",
    "    avg_rewards = []\n",
    "    rng = np.random.RandomState(42)\n",
    "\n",
    "    for i in tqdm(range(n), disable=False):\n",
    "        state = env.observe(rng)\n",
    "\n",
    "        # 1. Predict the action.\n",
    "        rewards = bandit.pull(state)\n",
    "\n",
    "        action = policy(rewards)\n",
    "\n",
    "        # 2. Act and get the reward.\n",
    "        if dynamic and i > n // 2:\n",
    "            get_cost = env.get_cost_new\n",
    "        else:\n",
    "            get_cost = env.get_cost\n",
    "        reward = get_cost(state, env.actions[action])\n",
    "        # Change reward to 0 or 1 instead of -1 or 1\n",
    "\n",
    "        # 3. Update the model.\n",
    "        bandit.update(state, action, reward)\n",
    "\n",
    "        # 4. Save the reward.\n",
    "        total_reward += max(0, reward)\n",
    "        avg_rewards.append(total_reward / (i + 1))\n",
    "    return avg_rewards, total_reward"
   ]
  },
  {
   "cell_type": "code",
   "execution_count": 4,
   "id": "994204d9-f482-4f02-aafb-f7b0f055421d",
   "metadata": {
    "execution": {
     "iopub.execute_input": "2024-02-11T15:00:14.954656Z",
     "iopub.status.busy": "2024-02-11T15:00:14.952007Z",
     "iopub.status.idle": "2024-02-11T15:00:17.058629Z",
     "shell.execute_reply": "2024-02-11T15:00:17.057490Z",
     "shell.execute_reply.started": "2024-02-11T15:00:14.954567Z"
    }
   },
   "outputs": [
    {
     "data": {
      "application/vnd.jupyter.widget-view+json": {
       "model_id": "10eceb5a71af46069f2839f1bbd39bc7",
       "version_major": 2,
       "version_minor": 0
      },
      "text/plain": [
       "  0%|          | 0/500 [00:00<?, ?it/s]"
      ]
     },
     "metadata": {},
     "output_type": "display_data"
    },
    {
     "data": {
      "text/plain": [
       "346.0"
      ]
     },
     "execution_count": 4,
     "metadata": {},
     "output_type": "execute_result"
    }
   ],
   "source": [
    "bandit = NeuralBandit(n_arms=len(env.actions))\n",
    "avg_rewards, total_reward = run_simulation(bandit)\n",
    "total_reward"
   ]
  },
  {
   "cell_type": "code",
   "execution_count": 5,
   "id": "3dfc3a38-c914-4520-93a9-e6427e904213",
   "metadata": {
    "execution": {
     "iopub.execute_input": "2024-02-11T15:00:17.061275Z",
     "iopub.status.busy": "2024-02-11T15:00:17.060419Z",
     "iopub.status.idle": "2024-02-11T15:00:17.394410Z",
     "shell.execute_reply": "2024-02-11T15:00:17.393311Z",
     "shell.execute_reply.started": "2024-02-11T15:00:17.061226Z"
    }
   },
   "outputs": [
    {
     "data": {
      "text/plain": [
       "[<matplotlib.lines.Line2D at 0x120ed4c70>]"
      ]
     },
     "execution_count": 5,
     "metadata": {},
     "output_type": "execute_result"
    },
    {
     "data": {
      "image/png": "[encoded data removed]",
      "text/plain": [
       "<Figure size 640x480 with 1 Axes>"
      ]
     },
     "metadata": {},
     "output_type": "display_data"
    }
   ],
   "source": [
    "plt.plot(range(N), avg_rewards)"
   ]
  },
  {
   "cell_type": "code",
   "execution_count": 6,
   "id": "06ef7f59-0aab-47ed-b253-ca29f49a2e35",
   "metadata": {
    "execution": {
     "iopub.execute_input": "2024-02-11T15:00:17.397085Z",
     "iopub.status.busy": "2024-02-11T15:00:17.395602Z",
     "iopub.status.idle": "2024-02-11T15:00:18.219875Z",
     "shell.execute_reply": "2024-02-11T15:00:18.218878Z",
     "shell.execute_reply.started": "2024-02-11T15:00:17.397051Z"
    }
   },
   "outputs": [
    {
     "data": {
      "application/vnd.jupyter.widget-view+json": {
       "model_id": "7313456c04f24ee7a448d19da202ecfe",
       "version_major": 2,
       "version_minor": 0
      },
      "text/plain": [
       "  0%|          | 0/500 [00:00<?, ?it/s]"
      ]
     },
     "metadata": {},
     "output_type": "display_data"
    },
    {
     "data": {
      "text/plain": [
       "170.0"
      ]
     },
     "execution_count": 6,
     "metadata": {},
     "output_type": "execute_result"
    }
   ],
   "source": [
    "bandit = NeuralBandit(n_arms=len(env.actions))\n",
    "avg_rewards, total_reward = run_simulation(bandit, dynamic=True)\n",
    "total_reward"
   ]
  },
  {
   "cell_type": "code",
   "execution_count": 7,
   "id": "f87a787a-7612-4029-9ed6-e398855cd180",
   "metadata": {
    "execution": {
     "iopub.execute_input": "2024-02-11T15:00:18.225827Z",
     "iopub.status.busy": "2024-02-11T15:00:18.224784Z",
     "iopub.status.idle": "2024-02-11T15:00:18.530470Z",
     "shell.execute_reply": "2024-02-11T15:00:18.529098Z",
     "shell.execute_reply.started": "2024-02-11T15:00:18.225782Z"
    }
   },
   "outputs": [
    {
     "data": {
      "text/plain": [
       "[<matplotlib.lines.Line2D at 0x1238fde10>]"
      ]
     },
     "execution_count": 7,
     "metadata": {},
     "output_type": "execute_result"
    },
    {
     "data": {
      "image/png": "[encoded data removed]",
      "text/plain": [
       "<Figure size 640x480 with 1 Axes>"
      ]
     },
     "metadata": {},
     "output_type": "display_data"
    }
   ],
   "source": [
    "plt.plot(range(N), avg_rewards)"
   ]
  },
  {
   "cell_type": "markdown",
   "id": "84dc4f76-c23b-4fea-abbc-f205c0c9d744",
   "metadata": {},
   "source": [
    "## Neural Per Arm Bandit - Static"
   ]
  },
  {
   "cell_type": "code",
   "execution_count": 8,
   "id": "c82fbd0d-65d3-4a43-814b-b83b6a244b98",
   "metadata": {
    "execution": {
     "iopub.execute_input": "2024-02-11T15:00:18.533165Z",
     "iopub.status.busy": "2024-02-11T15:00:18.532401Z",
     "iopub.status.idle": "2024-02-11T15:00:19.527340Z",
     "shell.execute_reply": "2024-02-11T15:00:19.526256Z",
     "shell.execute_reply.started": "2024-02-11T15:00:18.533124Z"
    }
   },
   "outputs": [
    {
     "data": {
      "application/vnd.jupyter.widget-view+json": {
       "model_id": "ec053b09459345e794d74bb9ad1c4804",
       "version_major": 2,
       "version_minor": 0
      },
      "text/plain": [
       "  0%|          | 0/500 [00:00<?, ?it/s]"
      ]
     },
     "metadata": {},
     "output_type": "display_data"
    },
    {
     "data": {
      "text/plain": [
       "348.0"
      ]
     },
     "execution_count": 8,
     "metadata": {},
     "output_type": "execute_result"
    }
   ],
   "source": [
    "bandit = NeuralPerArmBandit()\n",
    "avg_rewards, total_reward = run_simulation(bandit)\n",
    "total_reward"
   ]
  },
  {
   "cell_type": "code",
   "execution_count": 9,
   "id": "1c722af8-5447-4d60-a706-eed408b5054a",
   "metadata": {
    "execution": {
     "iopub.execute_input": "2024-02-11T15:00:19.529310Z",
     "iopub.status.busy": "2024-02-11T15:00:19.528695Z",
     "iopub.status.idle": "2024-02-11T15:00:19.827296Z",
     "shell.execute_reply": "2024-02-11T15:00:19.826291Z",
     "shell.execute_reply.started": "2024-02-11T15:00:19.529253Z"
    }
   },
   "outputs": [
    {
     "data": {
      "text/plain": [
       "[<matplotlib.lines.Line2D at 0x12397b5e0>]"
      ]
     },
     "execution_count": 9,
     "metadata": {},
     "output_type": "execute_result"
    },
    {
     "data": {
      "image/png": "[encoded data removed]",
      "text/plain": [
       "<Figure size 640x480 with 1 Axes>"
      ]
     },
     "metadata": {},
     "output_type": "display_data"
    }
   ],
   "source": [
    "plt.plot(range(N), avg_rewards)"
   ]
  },
  {
   "cell_type": "markdown",
   "id": "a3f6cd2f-1bd8-4493-ba61-324734471aa4",
   "metadata": {
    "execution": {
     "iopub.execute_input": "2024-02-11T14:32:22.386687Z",
     "iopub.status.busy": "2024-02-11T14:32:22.386230Z",
     "iopub.status.idle": "2024-02-11T14:32:22.404652Z",
     "shell.execute_reply": "2024-02-11T14:32:22.403360Z",
     "shell.execute_reply.started": "2024-02-11T14:32:22.386653Z"
    }
   },
   "source": [
    "## Neural Per Arm Bandit - Dynamic"
   ]
  },
  {
   "cell_type": "code",
   "execution_count": 10,
   "id": "36acb43c-7379-4f3d-9a57-30ad723c98e4",
   "metadata": {
    "execution": {
     "iopub.execute_input": "2024-02-11T15:00:19.830422Z",
     "iopub.status.busy": "2024-02-11T15:00:19.829289Z",
     "iopub.status.idle": "2024-02-11T15:00:20.843606Z",
     "shell.execute_reply": "2024-02-11T15:00:20.842539Z",
     "shell.execute_reply.started": "2024-02-11T15:00:19.830372Z"
    }
   },
   "outputs": [
    {
     "data": {
      "application/vnd.jupyter.widget-view+json": {
       "model_id": "6ec6519674df4b50926aeab785233f3b",
       "version_major": 2,
       "version_minor": 0
      },
      "text/plain": [
       "  0%|          | 0/500 [00:00<?, ?it/s]"
      ]
     },
     "metadata": {},
     "output_type": "display_data"
    },
    {
     "data": {
      "text/plain": [
       "470.0"
      ]
     },
     "execution_count": 10,
     "metadata": {},
     "output_type": "execute_result"
    }
   ],
   "source": [
    "bandit = NeuralPerArmBandit()\n",
    "avg_rewards, total_reward = run_simulation(bandit, dynamic=True)\n",
    "total_reward"
   ]
  },
  {
   "cell_type": "code",
   "execution_count": 11,
   "id": "8d78800a-d935-4386-a429-427c95d23703",
   "metadata": {
    "execution": {
     "iopub.execute_input": "2024-02-11T15:00:20.845718Z",
     "iopub.status.busy": "2024-02-11T15:00:20.845075Z",
     "iopub.status.idle": "2024-02-11T15:00:21.145724Z",
     "shell.execute_reply": "2024-02-11T15:00:21.144769Z",
     "shell.execute_reply.started": "2024-02-11T15:00:20.845675Z"
    }
   },
   "outputs": [
    {
     "data": {
      "text/plain": [
       "[<matplotlib.lines.Line2D at 0x123a09e70>]"
      ]
     },
     "execution_count": 11,
     "metadata": {},
     "output_type": "execute_result"
    },
    {
     "data": {
      "image/png": "[encoded data removed]",
      "text/plain": [
       "<Figure size 640x480 with 1 Axes>"
      ]
     },
     "metadata": {},
     "output_type": "display_data"
    }
   ],
   "source": [
    "plt.plot(range(N), avg_rewards)"
   ]
  },
  {
   "cell_type": "code",
   "execution_count": 12,
   "id": "cfd0b1a9-30b1-40af-aa77-11de7e0b255f",
   "metadata": {
    "execution": {
     "iopub.execute_input": "2024-02-11T15:00:21.148336Z",
     "iopub.status.busy": "2024-02-11T15:00:21.147424Z",
     "iopub.status.idle": "2024-02-11T15:00:21.196647Z",
     "shell.execute_reply": "2024-02-11T15:00:21.191382Z",
     "shell.execute_reply.started": "2024-02-11T15:00:21.148293Z"
    }
   },
   "outputs": [
    {
     "name": "stdout",
     "output_type": "stream",
     "text": [
      "rewards [-0.06754722  0.2109358  -0.13107799  0.06537426 -0.08250759 -0.00643894\n",
      " -0.08250759]\n",
      "action 1\n",
      "reward -1.0\n"
     ]
    }
   ],
   "source": [
    "bandit = NeuralBandit(n_arms=len(env.actions))\n",
    "\n",
    "# bandit = NeuralPerArmBandit()\n",
    "\n",
    "policy = EGreedy(epsilon=0.0)\n",
    "rng = np.random.RandomState(42)\n",
    "state = env.observe(rng)\n",
    "\n",
    "\n",
    "rewards = bandit.pull(state)\n",
    "print(\"rewards\", rewards)\n",
    "\n",
    "action = policy(rewards)\n",
    "\n",
    "reward = env.get_cost(state, env.actions[action])\n",
    "print(\"action\", action)\n",
    "print(\"reward\", reward)\n",
    "\n",
    "# 3. Update the model.\n",
    "\n",
    "bandit.update(state, action, reward)"
   ]
  }
 ],
 "metadata": {
  "kernelspec": {
   "display_name": "Python 3 (ipykernel)",
   "language": "python",
   "name": "python3"
  },
  "language_info": {
   "codemirror_mode": {
    "name": "ipython",
    "version": 3
   },
   "file_extension": ".py",
   "mimetype": "text/x-python",
   "name": "python",
   "nbconvert_exporter": "python",
   "pygments_lexer": "ipython3",
   "version": "3.10.13"
  },
  "widgets": {
   "application/vnd.jupyter.widget-state+json": {
    "state": {
     "006ac33114724bcf9ac605fbb40e8be5": {
      "model_module": "@jupyter-widgets/controls",
      "model_module_version": "2.0.0",
      "model_name": "ProgressStyleModel",
      "state": {
       "description_width": ""
      }
     },
     "0094e6e47d0849c199a1bda6e6765492": {
      "model_module": "@jupyter-widgets/base",
      "model_module_version": "2.0.0",
      "model_name": "LayoutModel",
      "state": {}
     },
     "04fb434b2f6c4bae8e66c4eafd417f19": {
      "model_module": "@jupyter-widgets/base",
      "model_module_version": "2.0.0",
      "model_name": "LayoutModel",
      "state": {}
     },
     "0513684e96914a778bec7d0dc9d54fd0": {
      "model_module": "@jupyter-widgets/controls",
      "model_module_version": "2.0.0",
      "model_name": "HTMLModel",
      "state": {
       "layout": "IPY_MODEL_087422613fd042f090d9adcf562637ef",
       "style": "IPY_MODEL_cdb5a6328cc74d5cbc0f218806222d42",
       "value": "100%"
      }
     },
     "087422613fd042f090d9adcf562637ef": {
      "model_module": "@jupyter-widgets/base",
      "model_module_version": "2.0.0",
      "model_name": "LayoutModel",
      "state": {}
     },
     "0cb62e0d77f449b3a952e469c32082c0": {
      "model_module": "@jupyter-widgets/base",
      "model_module_version": "2.0.0",
      "model_name": "LayoutModel",
      "state": {}
     },
     "10eceb5a71af46069f2839f1bbd39bc7": {
      "model_module": "@jupyter-widgets/controls",
      "model_module_version": "2.0.0",
      "model_name": "HBoxModel",
      "state": {
       "children": [
        "IPY_MODEL_0513684e96914a778bec7d0dc9d54fd0",
        "IPY_MODEL_b1e2bbc0bcf64efa9356edda16f8d71e",
        "IPY_MODEL_f2d3fbdd59e2416cb222808097bc821f"
       ],
       "layout": "IPY_MODEL_2d7b39c5c51b4e898cc654e82f540b16"
      }
     },
     "1a7322a83b1f4369b824958a19489731": {
      "model_module": "@jupyter-widgets/base",
      "model_module_version": "2.0.0",
      "model_name": "LayoutModel",
      "state": {}
     },
     "1ec4577b22564be0b048a587e0c704d4": {
      "model_module": "@jupyter-widgets/base",
      "model_module_version": "2.0.0",
      "model_name": "LayoutModel",
      "state": {}
     },
     "26b5b669cbf54f5bb64342d4522bb159": {
      "model_module": "@jupyter-widgets/controls",
      "model_module_version": "2.0.0",
      "model_name": "FloatProgressModel",
      "state": {
       "bar_style": "success",
       "layout": "IPY_MODEL_04fb434b2f6c4bae8e66c4eafd417f19",
       "max": 500,
       "style": "IPY_MODEL_6efc14b8929841ccade8ee060a9af822",
       "value": 500
      }
     },
     "2d7b39c5c51b4e898cc654e82f540b16": {
      "model_module": "@jupyter-widgets/base",
      "model_module_version": "2.0.0",
      "model_name": "LayoutModel",
      "state": {}
     },
     "3c525a89569b4ad2a60f59a9b795d390": {
      "model_module": "@jupyter-widgets/controls",
      "model_module_version": "2.0.0",
      "model_name": "HTMLStyleModel",
      "state": {
       "description_width": "",
       "font_size": null,
       "text_color": null
      }
     },
     "3de91fe227394d4d94b4a2ac08eb6192": {
      "model_module": "@jupyter-widgets/base",
      "model_module_version": "2.0.0",
      "model_name": "LayoutModel",
      "state": {}
     },
     "4017902676784dee904668c2b2c5cbe9": {
      "model_module": "@jupyter-widgets/controls",
      "model_module_version": "2.0.0",
      "model_name": "HTMLStyleModel",
      "state": {
       "description_width": "",
       "font_size": null,
       "text_color": null
      }
     },
     "4e4cf6d1a5c7409a81145aaf6eb0d0de": {
      "model_module": "@jupyter-widgets/controls",
      "model_module_version": "2.0.0",
      "model_name": "ProgressStyleModel",
      "state": {
       "description_width": ""
      }
     },
     "56ccd0cef1194bd09b48815e1479093c": {
      "model_module": "@jupyter-widgets/base",
      "model_module_version": "2.0.0",
      "model_name": "LayoutModel",
      "state": {}
     },
     "68fc9d2e1b6d4ab6bfab7107a41fbf84": {
      "model_module": "@jupyter-widgets/controls",
      "model_module_version": "2.0.0",
      "model_name": "HTMLStyleModel",
      "state": {
       "description_width": "",
       "font_size": null,
       "text_color": null
      }
     },
     "6ec6519674df4b50926aeab785233f3b": {
      "model_module": "@jupyter-widgets/controls",
      "model_module_version": "2.0.0",
      "model_name": "HBoxModel",
      "state": {
       "children": [
        "IPY_MODEL_8826bb45a3b8452388ce342f5da7f530",
        "IPY_MODEL_c092ce32748b446e8771ba971332282d",
        "IPY_MODEL_dfa42c51126a490bbb3f54e766a0ca51"
       ],
       "layout": "IPY_MODEL_0cb62e0d77f449b3a952e469c32082c0"
      }
     },
     "6ef2d21ef4b841f79e3ace59f84f9b75": {
      "model_module": "@jupyter-widgets/controls",
      "model_module_version": "2.0.0",
      "model_name": "ProgressStyleModel",
      "state": {
       "description_width": ""
      }
     },
     "6efc14b8929841ccade8ee060a9af822": {
      "model_module": "@jupyter-widgets/controls",
      "model_module_version": "2.0.0",
      "model_name": "ProgressStyleModel",
      "state": {
       "description_width": ""
      }
     },
     "7313456c04f24ee7a448d19da202ecfe": {
      "model_module": "@jupyter-widgets/controls",
      "model_module_version": "2.0.0",
      "model_name": "HBoxModel",
      "state": {
       "children": [
        "IPY_MODEL_c8485a373484487baaacc1e95e3a290c",
        "IPY_MODEL_c04c249dc6024f5a82cbd112e7d59a66",
        "IPY_MODEL_eb9ab08d55624b37a1c18b9a41efc07c"
       ],
       "layout": "IPY_MODEL_8ad67e5e3f35473cac48cbdae9593c5e"
      }
     },
     "738404e0d671419eb29c385d7db9b17d": {
      "model_module": "@jupyter-widgets/controls",
      "model_module_version": "2.0.0",
      "model_name": "HTMLStyleModel",
      "state": {
       "description_width": "",
       "font_size": null,
       "text_color": null
      }
     },
     "79ab365f5e394ea6afeaeb626ba1d270": {
      "model_module": "@jupyter-widgets/base",
      "model_module_version": "2.0.0",
      "model_name": "LayoutModel",
      "state": {}
     },
     "8826bb45a3b8452388ce342f5da7f530": {
      "model_module": "@jupyter-widgets/controls",
      "model_module_version": "2.0.0",
      "model_name": "HTMLModel",
      "state": {
       "layout": "IPY_MODEL_fac130f1729d405281074d29e1e4638e",
       "style": "IPY_MODEL_68fc9d2e1b6d4ab6bfab7107a41fbf84",
       "value": "100%"
      }
     },
     "8ad67e5e3f35473cac48cbdae9593c5e": {
      "model_module": "@jupyter-widgets/base",
      "model_module_version": "2.0.0",
      "model_name": "LayoutModel",
      "state": {}
     },
     "953555c6aef74c259fb42b4a2486d0d0": {
      "model_module": "@jupyter-widgets/controls",
      "model_module_version": "2.0.0",
      "model_name": "HTMLStyleModel",
      "state": {
       "description_width": "",
       "font_size": null,
       "text_color": null
      }
     },
     "96002875f16849a895e313ac69ad1eaa": {
      "model_module": "@jupyter-widgets/controls",
      "model_module_version": "2.0.0",
      "model_name": "HTMLModel",
      "state": {
       "layout": "IPY_MODEL_56ccd0cef1194bd09b48815e1479093c",
       "style": "IPY_MODEL_4017902676784dee904668c2b2c5cbe9",
       "value": " 500/500 [00:00&lt;00:00, 548.22it/s]"
      }
     },
     "b1e2bbc0bcf64efa9356edda16f8d71e": {
      "model_module": "@jupyter-widgets/controls",
      "model_module_version": "2.0.0",
      "model_name": "FloatProgressModel",
      "state": {
       "bar_style": "success",
       "layout": "IPY_MODEL_d311806169344884b091163f9a5b4ce2",
       "max": 500,
       "style": "IPY_MODEL_4e4cf6d1a5c7409a81145aaf6eb0d0de",
       "value": 500
      }
     },
     "b8dfe1744a01436e9c5e814ab9339f43": {
      "model_module": "@jupyter-widgets/base",
      "model_module_version": "2.0.0",
      "model_name": "LayoutModel",
      "state": {}
     },
     "bee3592a5d2147c99658fc66ead2285d": {
      "model_module": "@jupyter-widgets/controls",
      "model_module_version": "2.0.0",
      "model_name": "HTMLStyleModel",
      "state": {
       "description_width": "",
       "font_size": null,
       "text_color": null
      }
     },
     "c04c249dc6024f5a82cbd112e7d59a66": {
      "model_module": "@jupyter-widgets/controls",
      "model_module_version": "2.0.0",
      "model_name": "FloatProgressModel",
      "state": {
       "bar_style": "success",
       "layout": "IPY_MODEL_1ec4577b22564be0b048a587e0c704d4",
       "max": 500,
       "style": "IPY_MODEL_6ef2d21ef4b841f79e3ace59f84f9b75",
       "value": 500
      }
     },
     "c092ce32748b446e8771ba971332282d": {
      "model_module": "@jupyter-widgets/controls",
      "model_module_version": "2.0.0",
      "model_name": "FloatProgressModel",
      "state": {
       "bar_style": "success",
       "layout": "IPY_MODEL_3de91fe227394d4d94b4a2ac08eb6192",
       "max": 500,
       "style": "IPY_MODEL_006ac33114724bcf9ac605fbb40e8be5",
       "value": 500
      }
     },
     "c81bce3542f44a58a9dfee6c04990e33": {
      "model_module": "@jupyter-widgets/base",
      "model_module_version": "2.0.0",
      "model_name": "LayoutModel",
      "state": {}
     },
     "c8485a373484487baaacc1e95e3a290c": {
      "model_module": "@jupyter-widgets/controls",
      "model_module_version": "2.0.0",
      "model_name": "HTMLModel",
      "state": {
       "layout": "IPY_MODEL_b8dfe1744a01436e9c5e814ab9339f43",
       "style": "IPY_MODEL_bee3592a5d2147c99658fc66ead2285d",
       "value": "100%"
      }
     },
     "cdb5a6328cc74d5cbc0f218806222d42": {
      "model_module": "@jupyter-widgets/controls",
      "model_module_version": "2.0.0",
      "model_name": "HTMLStyleModel",
      "state": {
       "description_width": "",
       "font_size": null,
       "text_color": null
      }
     },
     "d10f65cea69842839dc812641717d067": {
      "model_module": "@jupyter-widgets/controls",
      "model_module_version": "2.0.0",
      "model_name": "HTMLModel",
      "state": {
       "layout": "IPY_MODEL_d803cb7c356f46028eff178510c75dde",
       "style": "IPY_MODEL_d7eb40e82eec4a51a4acd278c2700f9b",
       "value": "100%"
      }
     },
     "d311806169344884b091163f9a5b4ce2": {
      "model_module": "@jupyter-widgets/base",
      "model_module_version": "2.0.0",
      "model_name": "LayoutModel",
      "state": {}
     },
     "d7eb40e82eec4a51a4acd278c2700f9b": {
      "model_module": "@jupyter-widgets/controls",
      "model_module_version": "2.0.0",
      "model_name": "HTMLStyleModel",
      "state": {
       "description_width": "",
       "font_size": null,
       "text_color": null
      }
     },
     "d803cb7c356f46028eff178510c75dde": {
      "model_module": "@jupyter-widgets/base",
      "model_module_version": "2.0.0",
      "model_name": "LayoutModel",
      "state": {}
     },
     "dfa42c51126a490bbb3f54e766a0ca51": {
      "model_module": "@jupyter-widgets/controls",
      "model_module_version": "2.0.0",
      "model_name": "HTMLModel",
      "state": {
       "layout": "IPY_MODEL_1a7322a83b1f4369b824958a19489731",
       "style": "IPY_MODEL_738404e0d671419eb29c385d7db9b17d",
       "value": " 500/500 [00:00&lt;00:00, 541.28it/s]"
      }
     },
     "eb9ab08d55624b37a1c18b9a41efc07c": {
      "model_module": "@jupyter-widgets/controls",
      "model_module_version": "2.0.0",
      "model_name": "HTMLModel",
      "state": {
       "layout": "IPY_MODEL_0094e6e47d0849c199a1bda6e6765492",
       "style": "IPY_MODEL_953555c6aef74c259fb42b4a2486d0d0",
       "value": " 500/500 [00:00&lt;00:00, 660.27it/s]"
      }
     },
     "ec053b09459345e794d74bb9ad1c4804": {
      "model_module": "@jupyter-widgets/controls",
      "model_module_version": "2.0.0",
      "model_name": "HBoxModel",
      "state": {
       "children": [
        "IPY_MODEL_d10f65cea69842839dc812641717d067",
        "IPY_MODEL_26b5b669cbf54f5bb64342d4522bb159",
        "IPY_MODEL_96002875f16849a895e313ac69ad1eaa"
       ],
       "layout": "IPY_MODEL_79ab365f5e394ea6afeaeb626ba1d270"
      }
     },
     "f2d3fbdd59e2416cb222808097bc821f": {
      "model_module": "@jupyter-widgets/controls",
      "model_module_version": "2.0.0",
      "model_name": "HTMLModel",
      "state": {
       "layout": "IPY_MODEL_c81bce3542f44a58a9dfee6c04990e33",
       "style": "IPY_MODEL_3c525a89569b4ad2a60f59a9b795d390",
       "value": " 500/500 [00:00&lt;00:00, 661.94it/s]"
      }
     },
     "fac130f1729d405281074d29e1e4638e": {
      "model_module": "@jupyter-widgets/base",
      "model_module_version": "2.0.0",
      "model_name": "LayoutModel",
      "state": {}
     }
    },
    "version_major": 2,
    "version_minor": 0
   }
  }
 },
 "nbformat": 4,
 "nbformat_minor": 5
}
