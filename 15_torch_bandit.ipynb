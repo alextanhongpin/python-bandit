{
 "cells": [
  {
   "cell_type": "code",
   "execution_count": 1,
   "id": "a4e0dd6c-b1cd-4604-9491-a5fd31034cd0",
   "metadata": {
    "execution": {
     "iopub.execute_input": "2024-02-12T07:08:02.185866Z",
     "iopub.status.busy": "2024-02-12T07:08:02.185018Z",
     "iopub.status.idle": "2024-02-12T07:08:07.926822Z",
     "shell.execute_reply": "2024-02-12T07:08:07.925587Z",
     "shell.execute_reply.started": "2024-02-12T07:08:02.185806Z"
    }
   },
   "outputs": [
    {
     "name": "stderr",
     "output_type": "stream",
     "text": [
      "/var/folders/7m/74_ct3hx33d878n626w1wxyc0000gn/T/ipykernel_22375/2096907171.py:8: TqdmExperimentalWarning: Using `tqdm.autonotebook.tqdm` in notebook mode. Use `tqdm.tqdm` instead to force console mode (e.g. in jupyter console)\n",
      "  from tqdm.autonotebook import tqdm\n"
     ]
    }
   ],
   "source": [
    "import os\n",
    "\n",
    "import matplotlib.pyplot as plt\n",
    "import numpy as np\n",
    "import pandas as pd\n",
    "import seaborn as sns\n",
    "import torch\n",
    "from tqdm.autonotebook import tqdm\n",
    "\n",
    "import bandit.environment as env\n",
    "from bandit.policy import EGreedy, Softmax\n",
    "from bandit.torch import NeuralBandit, NeuralPerArmBandit, create_model\n",
    "\n",
    "sns.set_theme()"
   ]
  },
  {
   "cell_type": "code",
   "execution_count": 23,
   "id": "2a747fb7-f610-4d0e-afdc-b9738fa22c78",
   "metadata": {
    "execution": {
     "iopub.execute_input": "2024-02-12T07:08:57.944511Z",
     "iopub.status.busy": "2024-02-12T07:08:57.930783Z",
     "iopub.status.idle": "2024-02-12T07:08:58.032037Z",
     "shell.execute_reply": "2024-02-12T07:08:58.024745Z",
     "shell.execute_reply.started": "2024-02-12T07:08:57.944453Z"
    }
   },
   "outputs": [],
   "source": [
    "N = 500"
   ]
  },
  {
   "cell_type": "code",
   "execution_count": 24,
   "id": "c336a243-c183-48d5-aaa1-cd19fb850d99",
   "metadata": {
    "execution": {
     "iopub.execute_input": "2024-02-12T07:08:58.362793Z",
     "iopub.status.busy": "2024-02-12T07:08:58.361600Z",
     "iopub.status.idle": "2024-02-12T07:08:58.384768Z",
     "shell.execute_reply": "2024-02-12T07:08:58.383615Z",
     "shell.execute_reply.started": "2024-02-12T07:08:58.362755Z"
    }
   },
   "outputs": [],
   "source": [
    "def run_simulation(bandit, policy=EGreedy(epsilon=0.0), n=N, dynamic=False):\n",
    "    total_reward = 0\n",
    "    avg_rewards = []\n",
    "    rng = np.random.RandomState(42)\n",
    "\n",
    "    for i in tqdm(range(n), disable=False):\n",
    "        state = env.observe(rng)\n",
    "\n",
    "        # 1. Predict the action.\n",
    "        rewards = bandit.pull(state)\n",
    "\n",
    "        action = policy(rewards)\n",
    "\n",
    "        # 2. Act and get the reward.\n",
    "        if dynamic and i > n // 2:\n",
    "            get_cost = env.get_cost_new\n",
    "        else:\n",
    "            get_cost = env.get_cost\n",
    "        reward = get_cost(state, env.actions[action])\n",
    "        # Change reward to 0 or 1 instead of -1 or 1\n",
    "\n",
    "        # 3. Update the model.\n",
    "        bandit.update(state, action, reward)\n",
    "\n",
    "        # 4. Save the reward.\n",
    "        total_reward += max(0, reward)\n",
    "        avg_rewards.append(total_reward / (i + 1))\n",
    "    return avg_rewards, total_reward"
   ]
  },
  {
   "cell_type": "code",
   "execution_count": 25,
   "id": "994204d9-f482-4f02-aafb-f7b0f055421d",
   "metadata": {
    "execution": {
     "iopub.execute_input": "2024-02-12T07:08:58.915258Z",
     "iopub.status.busy": "2024-02-12T07:08:58.914804Z",
     "iopub.status.idle": "2024-02-12T07:09:00.235893Z",
     "shell.execute_reply": "2024-02-12T07:09:00.233728Z",
     "shell.execute_reply.started": "2024-02-12T07:08:58.915225Z"
    }
   },
   "outputs": [
    {
     "data": {
      "application/vnd.jupyter.widget-view+json": {
       "model_id": "a400122cda1c495ca68487b13c482044",
       "version_major": 2,
       "version_minor": 0
      },
      "text/plain": [
       "  0%|          | 0/500 [00:00<?, ?it/s]"
      ]
     },
     "metadata": {},
     "output_type": "display_data"
    },
    {
     "data": {
      "text/plain": [
       "307.0"
      ]
     },
     "execution_count": 25,
     "metadata": {},
     "output_type": "execute_result"
    }
   ],
   "source": [
    "bandit = NeuralBandit(n_arms=len(env.actions), batch=1)\n",
    "avg_rewards, total_reward = run_simulation(bandit)\n",
    "total_reward"
   ]
  },
  {
   "cell_type": "code",
   "execution_count": 26,
   "id": "3dfc3a38-c914-4520-93a9-e6427e904213",
   "metadata": {
    "execution": {
     "iopub.execute_input": "2024-02-12T07:09:00.240749Z",
     "iopub.status.busy": "2024-02-12T07:09:00.239862Z",
     "iopub.status.idle": "2024-02-12T07:09:00.583142Z",
     "shell.execute_reply": "2024-02-12T07:09:00.582078Z",
     "shell.execute_reply.started": "2024-02-12T07:09:00.240706Z"
    }
   },
   "outputs": [
    {
     "data": {
      "text/plain": [
       "[<matplotlib.lines.Line2D at 0x12649c1c0>]"
      ]
     },
     "execution_count": 26,
     "metadata": {},
     "output_type": "execute_result"
    },
    {
     "data": {
      "image/png": "[encoded data removed]",
      "text/plain": [
       "<Figure size 640x480 with 1 Axes>"
      ]
     },
     "metadata": {},
     "output_type": "display_data"
    }
   ],
   "source": [
    "plt.plot(range(N), avg_rewards)"
   ]
  },
  {
   "cell_type": "code",
   "execution_count": 27,
   "id": "06ef7f59-0aab-47ed-b253-ca29f49a2e35",
   "metadata": {
    "execution": {
     "iopub.execute_input": "2024-02-12T07:09:00.598554Z",
     "iopub.status.busy": "2024-02-12T07:09:00.595210Z",
     "iopub.status.idle": "2024-02-12T07:09:01.949499Z",
     "shell.execute_reply": "2024-02-12T07:09:01.948470Z",
     "shell.execute_reply.started": "2024-02-12T07:09:00.598519Z"
    }
   },
   "outputs": [
    {
     "data": {
      "application/vnd.jupyter.widget-view+json": {
       "model_id": "ed14894f429a4439b0253bcc8042e456",
       "version_major": 2,
       "version_minor": 0
      },
      "text/plain": [
       "  0%|          | 0/500 [00:00<?, ?it/s]"
      ]
     },
     "metadata": {},
     "output_type": "display_data"
    },
    {
     "data": {
      "text/plain": [
       "156.0"
      ]
     },
     "execution_count": 27,
     "metadata": {},
     "output_type": "execute_result"
    }
   ],
   "source": [
    "bandit = NeuralBandit(n_arms=len(env.actions), batch=1)\n",
    "avg_rewards, total_reward = run_simulation(bandit, dynamic=True)\n",
    "total_reward"
   ]
  },
  {
   "cell_type": "code",
   "execution_count": 28,
   "id": "f87a787a-7612-4029-9ed6-e398855cd180",
   "metadata": {
    "execution": {
     "iopub.execute_input": "2024-02-12T07:09:01.955517Z",
     "iopub.status.busy": "2024-02-12T07:09:01.954884Z",
     "iopub.status.idle": "2024-02-12T07:09:02.338961Z",
     "shell.execute_reply": "2024-02-12T07:09:02.337873Z",
     "shell.execute_reply.started": "2024-02-12T07:09:01.955473Z"
    }
   },
   "outputs": [
    {
     "data": {
      "text/plain": [
       "[<matplotlib.lines.Line2D at 0x1264fa950>]"
      ]
     },
     "execution_count": 28,
     "metadata": {},
     "output_type": "execute_result"
    },
    {
     "data": {
      "image/png": "[encoded data removed]",
      "text/plain": [
       "<Figure size 640x480 with 1 Axes>"
      ]
     },
     "metadata": {},
     "output_type": "display_data"
    }
   ],
   "source": [
    "plt.plot(range(N), avg_rewards)"
   ]
  },
  {
   "cell_type": "markdown",
   "id": "84dc4f76-c23b-4fea-abbc-f205c0c9d744",
   "metadata": {},
   "source": [
    "## Neural Per Arm Bandit - Static"
   ]
  },
  {
   "cell_type": "code",
   "execution_count": 29,
   "id": "c82fbd0d-65d3-4a43-814b-b83b6a244b98",
   "metadata": {
    "execution": {
     "iopub.execute_input": "2024-02-12T07:09:02.341937Z",
     "iopub.status.busy": "2024-02-12T07:09:02.340702Z",
     "iopub.status.idle": "2024-02-12T07:09:03.763691Z",
     "shell.execute_reply": "2024-02-12T07:09:03.762119Z",
     "shell.execute_reply.started": "2024-02-12T07:09:02.341870Z"
    }
   },
   "outputs": [
    {
     "data": {
      "application/vnd.jupyter.widget-view+json": {
       "model_id": "c5a5c02092364f21a305b146a5d180d4",
       "version_major": 2,
       "version_minor": 0
      },
      "text/plain": [
       "  0%|          | 0/500 [00:00<?, ?it/s]"
      ]
     },
     "metadata": {},
     "output_type": "display_data"
    },
    {
     "data": {
      "text/plain": [
       "462.0"
      ]
     },
     "execution_count": 29,
     "metadata": {},
     "output_type": "execute_result"
    }
   ],
   "source": [
    "bandit = NeuralPerArmBandit()\n",
    "avg_rewards, total_reward = run_simulation(bandit)\n",
    "total_reward"
   ]
  },
  {
   "cell_type": "code",
   "execution_count": 30,
   "id": "1c722af8-5447-4d60-a706-eed408b5054a",
   "metadata": {
    "execution": {
     "iopub.execute_input": "2024-02-12T07:09:03.765929Z",
     "iopub.status.busy": "2024-02-12T07:09:03.765292Z",
     "iopub.status.idle": "2024-02-12T07:09:04.046602Z",
     "shell.execute_reply": "2024-02-12T07:09:04.045681Z",
     "shell.execute_reply.started": "2024-02-12T07:09:03.765873Z"
    }
   },
   "outputs": [
    {
     "data": {
      "text/plain": [
       "[<matplotlib.lines.Line2D at 0x126591660>]"
      ]
     },
     "execution_count": 30,
     "metadata": {},
     "output_type": "execute_result"
    },
    {
     "data": {
      "image/png": "[encoded data removed]",
      "text/plain": [
       "<Figure size 640x480 with 1 Axes>"
      ]
     },
     "metadata": {},
     "output_type": "display_data"
    }
   ],
   "source": [
    "plt.plot(range(N), avg_rewards)"
   ]
  },
  {
   "cell_type": "markdown",
   "id": "a3f6cd2f-1bd8-4493-ba61-324734471aa4",
   "metadata": {
    "execution": {
     "iopub.execute_input": "2024-02-11T14:32:22.386687Z",
     "iopub.status.busy": "2024-02-11T14:32:22.386230Z",
     "iopub.status.idle": "2024-02-11T14:32:22.404652Z",
     "shell.execute_reply": "2024-02-11T14:32:22.403360Z",
     "shell.execute_reply.started": "2024-02-11T14:32:22.386653Z"
    }
   },
   "source": [
    "## Neural Per Arm Bandit - Dynamic"
   ]
  },
  {
   "cell_type": "code",
   "execution_count": 31,
   "id": "36acb43c-7379-4f3d-9a57-30ad723c98e4",
   "metadata": {
    "execution": {
     "iopub.execute_input": "2024-02-12T07:09:04.063231Z",
     "iopub.status.busy": "2024-02-12T07:09:04.062721Z",
     "iopub.status.idle": "2024-02-12T07:09:05.369904Z",
     "shell.execute_reply": "2024-02-12T07:09:05.368506Z",
     "shell.execute_reply.started": "2024-02-12T07:09:04.063200Z"
    }
   },
   "outputs": [
    {
     "data": {
      "application/vnd.jupyter.widget-view+json": {
       "model_id": "b3bdd6f69527455b99661eb46839132c",
       "version_major": 2,
       "version_minor": 0
      },
      "text/plain": [
       "  0%|          | 0/500 [00:00<?, ?it/s]"
      ]
     },
     "metadata": {},
     "output_type": "display_data"
    },
    {
     "data": {
      "text/plain": [
       "399.0"
      ]
     },
     "execution_count": 31,
     "metadata": {},
     "output_type": "execute_result"
    }
   ],
   "source": [
    "bandit = NeuralPerArmBandit()\n",
    "avg_rewards, total_reward = run_simulation(bandit, dynamic=True)\n",
    "total_reward"
   ]
  },
  {
   "cell_type": "code",
   "execution_count": 32,
   "id": "8d78800a-d935-4386-a429-427c95d23703",
   "metadata": {
    "execution": {
     "iopub.execute_input": "2024-02-12T07:09:05.373155Z",
     "iopub.status.busy": "2024-02-12T07:09:05.371776Z",
     "iopub.status.idle": "2024-02-12T07:09:05.693117Z",
     "shell.execute_reply": "2024-02-12T07:09:05.692157Z",
     "shell.execute_reply.started": "2024-02-12T07:09:05.373108Z"
    }
   },
   "outputs": [
    {
     "data": {
      "text/plain": [
       "[<matplotlib.lines.Line2D at 0x126604f10>]"
      ]
     },
     "execution_count": 32,
     "metadata": {},
     "output_type": "execute_result"
    },
    {
     "data": {
      "image/png": "[encoded data removed]",
      "text/plain": [
       "<Figure size 640x480 with 1 Axes>"
      ]
     },
     "metadata": {},
     "output_type": "display_data"
    }
   ],
   "source": [
    "plt.plot(range(N), avg_rewards)"
   ]
  },
  {
   "cell_type": "code",
   "execution_count": 33,
   "id": "cfd0b1a9-30b1-40af-aa77-11de7e0b255f",
   "metadata": {
    "execution": {
     "iopub.execute_input": "2024-02-12T07:09:05.698250Z",
     "iopub.status.busy": "2024-02-12T07:09:05.694314Z",
     "iopub.status.idle": "2024-02-12T07:09:05.733420Z",
     "shell.execute_reply": "2024-02-12T07:09:05.715194Z",
     "shell.execute_reply.started": "2024-02-12T07:09:05.698213Z"
    }
   },
   "outputs": [
    {
     "name": "stdout",
     "output_type": "stream",
     "text": [
      "rewards [ 0.04031271  1.001804   -0.01953641 -0.11485421 -0.09468305 -0.11983435\n",
      " -0.09446142]\n",
      "action 1\n",
      "reward -1.0\n"
     ]
    }
   ],
   "source": [
    "# bandit = NeuralBandit(n_arms=len(env.actions), batch=1)\n",
    "\n",
    "# bandit = NeuralPerArmBandit()\n",
    "\n",
    "policy = EGreedy(epsilon=0.0)\n",
    "rng = np.random.RandomState(42)\n",
    "\n",
    "for i in range(1):\n",
    "    state = env.observe(rng)\n",
    "\n",
    "    rewards = bandit.pull(state)\n",
    "    print(\"rewards\", rewards)\n",
    "\n",
    "    action = policy(rewards)\n",
    "\n",
    "    reward = env.get_cost(state, env.actions[action])\n",
    "    print(\"action\", action)\n",
    "    print(\"reward\", reward)\n",
    "\n",
    "    # 3. Update the model.\n",
    "\n",
    "    bandit.update(state, action, reward)"
   ]
  },
  {
   "cell_type": "markdown",
   "id": "d12e5fcb-fd98-4de1-b427-75bc12a0207d",
   "metadata": {},
   "source": [
    "## Conclusion\n",
    "\n",
    "Per-arm bandit seems to be performing better, for unknown reasons. The feature-interaction doesn't seem to be doing its work when using torch or keras compared to scikit-learn's MLP."
   ]
  },
  {
   "cell_type": "code",
   "execution_count": null,
   "id": "86bb488e-54e0-468d-806d-2ee8f3a35fcf",
   "metadata": {},
   "outputs": [],
   "source": []
  }
 ],
 "metadata": {
  "kernelspec": {
   "display_name": "Python 3 (ipykernel)",
   "language": "python",
   "name": "python3"
  },
  "language_info": {
   "codemirror_mode": {
    "name": "ipython",
    "version": 3
   },
   "file_extension": ".py",
   "mimetype": "text/x-python",
   "name": "python",
   "nbconvert_exporter": "python",
   "pygments_lexer": "ipython3",
   "version": "3.10.13"
  },
  "widgets": {
   "application/vnd.jupyter.widget-state+json": {
    "state": {
     "012759dfa4234befbae51473c17f23c5": {
      "model_module": "@jupyter-widgets/controls",
      "model_module_version": "2.0.0",
      "model_name": "HTMLStyleModel",
      "state": {
       "description_width": "",
       "font_size": null,
       "text_color": null
      }
     },
     "024375e8793f46c588b971ca60b9c228": {
      "model_module": "@jupyter-widgets/controls",
      "model_module_version": "2.0.0",
      "model_name": "HTMLModel",
      "state": {
       "layout": "IPY_MODEL_17d256dc055842c187f68ef3b2030a6c",
       "style": "IPY_MODEL_2aca6e12904f4e8b97ae2f87a00f8418",
       "value": "100%"
      }
     },
     "026a0db9558e4df08dc579151ab2601a": {
      "model_module": "@jupyter-widgets/base",
      "model_module_version": "2.0.0",
      "model_name": "LayoutModel",
      "state": {}
     },
     "0ac2ddda3a9e40908a58c76a67b5ffa2": {
      "model_module": "@jupyter-widgets/controls",
      "model_module_version": "2.0.0",
      "model_name": "FloatProgressModel",
      "state": {
       "bar_style": "success",
       "layout": "IPY_MODEL_b855e8fa4bef421fb4dad5425efce849",
       "max": 1500,
       "style": "IPY_MODEL_5da163316cd3429397a36a57748a965a",
       "value": 1500
      }
     },
     "0c339be0140d4f08945318c347766b79": {
      "model_module": "@jupyter-widgets/controls",
      "model_module_version": "2.0.0",
      "model_name": "ProgressStyleModel",
      "state": {
       "description_width": ""
      }
     },
     "0d3caad78ba8477bb3f83ba56a475d60": {
      "model_module": "@jupyter-widgets/controls",
      "model_module_version": "2.0.0",
      "model_name": "ProgressStyleModel",
      "state": {
       "description_width": ""
      }
     },
     "0e4a09749f124a798da1bf5177c9dbdc": {
      "model_module": "@jupyter-widgets/base",
      "model_module_version": "2.0.0",
      "model_name": "LayoutModel",
      "state": {}
     },
     "11cc7ad5af2343e482127e9a207b7812": {
      "model_module": "@jupyter-widgets/controls",
      "model_module_version": "2.0.0",
      "model_name": "HTMLStyleModel",
      "state": {
       "description_width": "",
       "font_size": null,
       "text_color": null
      }
     },
     "11ed035211864b54b5422b065cba9e50": {
      "model_module": "@jupyter-widgets/base",
      "model_module_version": "2.0.0",
      "model_name": "LayoutModel",
      "state": {}
     },
     "137d52513df041d09934da16d8933695": {
      "model_module": "@jupyter-widgets/base",
      "model_module_version": "2.0.0",
      "model_name": "LayoutModel",
      "state": {}
     },
     "153a4bfa76af485180ca0931d521b48e": {
      "model_module": "@jupyter-widgets/base",
      "model_module_version": "2.0.0",
      "model_name": "LayoutModel",
      "state": {}
     },
     "17d256dc055842c187f68ef3b2030a6c": {
      "model_module": "@jupyter-widgets/base",
      "model_module_version": "2.0.0",
      "model_name": "LayoutModel",
      "state": {}
     },
     "1836dcf81ac24aa79bc521db950f6058": {
      "model_module": "@jupyter-widgets/base",
      "model_module_version": "2.0.0",
      "model_name": "LayoutModel",
      "state": {}
     },
     "1850f782732e45b5964275ca58a466a0": {
      "model_module": "@jupyter-widgets/base",
      "model_module_version": "2.0.0",
      "model_name": "LayoutModel",
      "state": {}
     },
     "19b03442231542c4896bcf4008cd8bb5": {
      "model_module": "@jupyter-widgets/base",
      "model_module_version": "2.0.0",
      "model_name": "LayoutModel",
      "state": {}
     },
     "1a1f253e684d4401b423b1637f17c8f9": {
      "model_module": "@jupyter-widgets/base",
      "model_module_version": "2.0.0",
      "model_name": "LayoutModel",
      "state": {}
     },
     "1a8effb9a4cd4043b72462b68aa05588": {
      "model_module": "@jupyter-widgets/base",
      "model_module_version": "2.0.0",
      "model_name": "LayoutModel",
      "state": {}
     },
     "1b5ba6e9da08471891e69a699cdf29af": {
      "model_module": "@jupyter-widgets/controls",
      "model_module_version": "2.0.0",
      "model_name": "HTMLStyleModel",
      "state": {
       "description_width": "",
       "font_size": null,
       "text_color": null
      }
     },
     "1c3a02d81e9c4c31bf84691205cb7280": {
      "model_module": "@jupyter-widgets/base",
      "model_module_version": "2.0.0",
      "model_name": "LayoutModel",
      "state": {}
     },
     "1dc6bb1fbd624dc1886305703fed8870": {
      "model_module": "@jupyter-widgets/controls",
      "model_module_version": "2.0.0",
      "model_name": "ProgressStyleModel",
      "state": {
       "description_width": ""
      }
     },
     "23872dd8c63e4ffc9375ac8a397b0251": {
      "model_module": "@jupyter-widgets/controls",
      "model_module_version": "2.0.0",
      "model_name": "HTMLStyleModel",
      "state": {
       "description_width": "",
       "font_size": null,
       "text_color": null
      }
     },
     "26dd592407e34372a096e328a593f7f2": {
      "model_module": "@jupyter-widgets/controls",
      "model_module_version": "2.0.0",
      "model_name": "HTMLModel",
      "state": {
       "layout": "IPY_MODEL_c2d576bd268245f5b74d830701b5abcf",
       "style": "IPY_MODEL_abb6fb82783841c29f82aa20deef47a5",
       "value": "100%"
      }
     },
     "274c137963aa41ef8546dd63b672cb41": {
      "model_module": "@jupyter-widgets/base",
      "model_module_version": "2.0.0",
      "model_name": "LayoutModel",
      "state": {}
     },
     "2991242459c7440489c74ee537dc1318": {
      "model_module": "@jupyter-widgets/controls",
      "model_module_version": "2.0.0",
      "model_name": "FloatProgressModel",
      "state": {
       "bar_style": "success",
       "layout": "IPY_MODEL_f4d2704ca4da44838ee68ed5022f35af",
       "max": 500,
       "style": "IPY_MODEL_a3fdbf4b0107450cb81fd268a679b287",
       "value": 500
      }
     },
     "2aad1d113675436baed119fc85d5c186": {
      "model_module": "@jupyter-widgets/controls",
      "model_module_version": "2.0.0",
      "model_name": "HBoxModel",
      "state": {
       "children": [
        "IPY_MODEL_d55a2c18e0454151b6cd825c1816e964",
        "IPY_MODEL_596ad6ab26cc4836b5db7e57eac69ee7",
        "IPY_MODEL_5a36edb00795407bbc2df6c831065f01"
       ],
       "layout": "IPY_MODEL_5140c77e01ef45a19d82b781791e88bc"
      }
     },
     "2aca6e12904f4e8b97ae2f87a00f8418": {
      "model_module": "@jupyter-widgets/controls",
      "model_module_version": "2.0.0",
      "model_name": "HTMLStyleModel",
      "state": {
       "description_width": "",
       "font_size": null,
       "text_color": null
      }
     },
     "2c93437d58bf4e958d9c4e118e39903a": {
      "model_module": "@jupyter-widgets/controls",
      "model_module_version": "2.0.0",
      "model_name": "HTMLModel",
      "state": {
       "layout": "IPY_MODEL_87a412cab5dc4d29bf32f6d22aee8a36",
       "style": "IPY_MODEL_c5caa32be2534479b16cbf942c2cce7d",
       "value": " 500/500 [00:01&lt;00:00, 424.71it/s]"
      }
     },
     "31644db7037a4feca6aba1ea4adfd31c": {
      "model_module": "@jupyter-widgets/base",
      "model_module_version": "2.0.0",
      "model_name": "LayoutModel",
      "state": {}
     },
     "34d5cca38e5e4509ada380162c75263f": {
      "model_module": "@jupyter-widgets/controls",
      "model_module_version": "2.0.0",
      "model_name": "HTMLModel",
      "state": {
       "layout": "IPY_MODEL_ddf7cae7e091499a89209b5416cb66bc",
       "style": "IPY_MODEL_b0ed2c45e529400a8c076f49c060215b",
       "value": " 500/500 [00:00&lt;00:00, 597.53it/s]"
      }
     },
     "3534a4210e0f4a6a98ef75f89c483a13": {
      "model_module": "@jupyter-widgets/controls",
      "model_module_version": "2.0.0",
      "model_name": "HTMLModel",
      "state": {
       "layout": "IPY_MODEL_1850f782732e45b5964275ca58a466a0",
       "style": "IPY_MODEL_d780395b5e824e02a58363c008ffafc3",
       "value": " 500/500 [00:01&lt;00:00, 352.43it/s]"
      }
     },
     "37b15b1cb86241ad910cc0a2fd019a73": {
      "model_module": "@jupyter-widgets/controls",
      "model_module_version": "2.0.0",
      "model_name": "FloatProgressModel",
      "state": {
       "bar_style": "success",
       "layout": "IPY_MODEL_a468d2b4721642b789a9cbdd70abaac8",
       "max": 1500,
       "style": "IPY_MODEL_0c339be0140d4f08945318c347766b79",
       "value": 1500
      }
     },
     "3c1f12eac39446e08471d649cb12e265": {
      "model_module": "@jupyter-widgets/base",
      "model_module_version": "2.0.0",
      "model_name": "LayoutModel",
      "state": {}
     },
     "3f4ceafe72ac4e169c6c503d02849a65": {
      "model_module": "@jupyter-widgets/base",
      "model_module_version": "2.0.0",
      "model_name": "LayoutModel",
      "state": {}
     },
     "440c89dac9124805b7586a331298089c": {
      "model_module": "@jupyter-widgets/base",
      "model_module_version": "2.0.0",
      "model_name": "LayoutModel",
      "state": {}
     },
     "44dd1d5b41754da491125847c555a240": {
      "model_module": "@jupyter-widgets/controls",
      "model_module_version": "2.0.0",
      "model_name": "HTMLStyleModel",
      "state": {
       "description_width": "",
       "font_size": null,
       "text_color": null
      }
     },
     "47719c895363413d97f0afa6f96d64e1": {
      "model_module": "@jupyter-widgets/base",
      "model_module_version": "2.0.0",
      "model_name": "LayoutModel",
      "state": {}
     },
     "4862d46bb6a042be8a90699545bb600c": {
      "model_module": "@jupyter-widgets/controls",
      "model_module_version": "2.0.0",
      "model_name": "HTMLModel",
      "state": {
       "layout": "IPY_MODEL_440c89dac9124805b7586a331298089c",
       "style": "IPY_MODEL_ad979a2482804296a2e94c65eaff98bc",
       "value": "100%"
      }
     },
     "48c8093700f54bcf8c4056cf8cf4fcc3": {
      "model_module": "@jupyter-widgets/controls",
      "model_module_version": "2.0.0",
      "model_name": "HTMLStyleModel",
      "state": {
       "description_width": "",
       "font_size": null,
       "text_color": null
      }
     },
     "49ef4eac13c1467683814c576300fb19": {
      "model_module": "@jupyter-widgets/controls",
      "model_module_version": "2.0.0",
      "model_name": "FloatProgressModel",
      "state": {
       "bar_style": "success",
       "layout": "IPY_MODEL_53cecb62768d4c319a900a5f94fa708d",
       "max": 500,
       "style": "IPY_MODEL_bb218e01cc2a4ecca2c168ab60538aed",
       "value": 500
      }
     },
     "4bdb3eb5786f4bdeb81573c587e31ca1": {
      "model_module": "@jupyter-widgets/controls",
      "model_module_version": "2.0.0",
      "model_name": "ProgressStyleModel",
      "state": {
       "description_width": ""
      }
     },
     "5139b6b5a60545e2b73be3e124fe214e": {
      "model_module": "@jupyter-widgets/controls",
      "model_module_version": "2.0.0",
      "model_name": "FloatProgressModel",
      "state": {
       "bar_style": "success",
       "layout": "IPY_MODEL_f21369ac27f54f78b5a3dd2b747bee2f",
       "max": 500,
       "style": "IPY_MODEL_0d3caad78ba8477bb3f83ba56a475d60",
       "value": 500
      }
     },
     "5140c77e01ef45a19d82b781791e88bc": {
      "model_module": "@jupyter-widgets/base",
      "model_module_version": "2.0.0",
      "model_name": "LayoutModel",
      "state": {}
     },
     "53cecb62768d4c319a900a5f94fa708d": {
      "model_module": "@jupyter-widgets/base",
      "model_module_version": "2.0.0",
      "model_name": "LayoutModel",
      "state": {}
     },
     "558d0efacece4af5b60f203c01153c14": {
      "model_module": "@jupyter-widgets/controls",
      "model_module_version": "2.0.0",
      "model_name": "HTMLModel",
      "state": {
       "layout": "IPY_MODEL_673dad9763cb4e5eb40f295985bef4e3",
       "style": "IPY_MODEL_f7e5cbaa2c8c4d2794330fd2fa795739",
       "value": " 1500/1500 [00:03&lt;00:00, 430.00it/s]"
      }
     },
     "57280e7655cf4cda998c9867e4f97eed": {
      "model_module": "@jupyter-widgets/controls",
      "model_module_version": "2.0.0",
      "model_name": "HBoxModel",
      "state": {
       "children": [
        "IPY_MODEL_b3f7323a5def4985a341186a156292c6",
        "IPY_MODEL_c1c1db5bea6a404c9bd93ad35fe477d8",
        "IPY_MODEL_558d0efacece4af5b60f203c01153c14"
       ],
       "layout": "IPY_MODEL_8d36520fbb4a4cb5a50899ad7245667b"
      }
     },
     "591e77d05e5046d0b147e0fbe4b40f0e": {
      "model_module": "@jupyter-widgets/base",
      "model_module_version": "2.0.0",
      "model_name": "LayoutModel",
      "state": {}
     },
     "596ad6ab26cc4836b5db7e57eac69ee7": {
      "model_module": "@jupyter-widgets/controls",
      "model_module_version": "2.0.0",
      "model_name": "FloatProgressModel",
      "state": {
       "bar_style": "success",
       "layout": "IPY_MODEL_3c1f12eac39446e08471d649cb12e265",
       "max": 1500,
       "style": "IPY_MODEL_1dc6bb1fbd624dc1886305703fed8870",
       "value": 1500
      }
     },
     "5a36edb00795407bbc2df6c831065f01": {
      "model_module": "@jupyter-widgets/controls",
      "model_module_version": "2.0.0",
      "model_name": "HTMLModel",
      "state": {
       "layout": "IPY_MODEL_95177d1af2b34c1ea9b4fff4766f2957",
       "style": "IPY_MODEL_709839e56f724109908e1b080e717fd8",
       "value": " 1500/1500 [00:02&lt;00:00, 511.92it/s]"
      }
     },
     "5a558f68c2cb4df48631a40351ef3b69": {
      "model_module": "@jupyter-widgets/controls",
      "model_module_version": "2.0.0",
      "model_name": "FloatProgressModel",
      "state": {
       "bar_style": "success",
       "layout": "IPY_MODEL_a49861bc6b9f476da780ea450ebbfee4",
       "max": 500,
       "style": "IPY_MODEL_62c4435e61b44abea5eda5b9845402fa",
       "value": 500
      }
     },
     "5da163316cd3429397a36a57748a965a": {
      "model_module": "@jupyter-widgets/controls",
      "model_module_version": "2.0.0",
      "model_name": "ProgressStyleModel",
      "state": {
       "description_width": ""
      }
     },
     "62963811df6144caa576ccc2b983d443": {
      "model_module": "@jupyter-widgets/controls",
      "model_module_version": "2.0.0",
      "model_name": "HTMLModel",
      "state": {
       "layout": "IPY_MODEL_3f4ceafe72ac4e169c6c503d02849a65",
       "style": "IPY_MODEL_012759dfa4234befbae51473c17f23c5",
       "value": "100%"
      }
     },
     "62c4435e61b44abea5eda5b9845402fa": {
      "model_module": "@jupyter-widgets/controls",
      "model_module_version": "2.0.0",
      "model_name": "ProgressStyleModel",
      "state": {
       "description_width": ""
      }
     },
     "646b79f976374e39979fc7965eda6273": {
      "model_module": "@jupyter-widgets/base",
      "model_module_version": "2.0.0",
      "model_name": "LayoutModel",
      "state": {}
     },
     "66fab34315114992a9bdc313452c84fb": {
      "model_module": "@jupyter-widgets/controls",
      "model_module_version": "2.0.0",
      "model_name": "ProgressStyleModel",
      "state": {
       "description_width": ""
      }
     },
     "673dad9763cb4e5eb40f295985bef4e3": {
      "model_module": "@jupyter-widgets/base",
      "model_module_version": "2.0.0",
      "model_name": "LayoutModel",
      "state": {}
     },
     "69499844052b4d31a7df5e5cc2d6c86e": {
      "model_module": "@jupyter-widgets/controls",
      "model_module_version": "2.0.0",
      "model_name": "HTMLModel",
      "state": {
       "layout": "IPY_MODEL_6ba15e1586f248f98b3dc2c15c660bd4",
       "style": "IPY_MODEL_ed3728cd45b8436f99e7defa0cc486fc",
       "value": " 500/500 [00:01&lt;00:00, 409.30it/s]"
      }
     },
     "6ba15e1586f248f98b3dc2c15c660bd4": {
      "model_module": "@jupyter-widgets/base",
      "model_module_version": "2.0.0",
      "model_name": "LayoutModel",
      "state": {}
     },
     "6d16dc0e724246a683e823bda666b320": {
      "model_module": "@jupyter-widgets/controls",
      "model_module_version": "2.0.0",
      "model_name": "FloatProgressModel",
      "state": {
       "bar_style": "success",
       "layout": "IPY_MODEL_8eea94600b384adb9d26cdd2a7715522",
       "max": 500,
       "style": "IPY_MODEL_cdc1f90201f8457aa036a98e34774bf9",
       "value": 500
      }
     },
     "709839e56f724109908e1b080e717fd8": {
      "model_module": "@jupyter-widgets/controls",
      "model_module_version": "2.0.0",
      "model_name": "HTMLStyleModel",
      "state": {
       "description_width": "",
       "font_size": null,
       "text_color": null
      }
     },
     "76b833560d3146ebb6459b72eb29d032": {
      "model_module": "@jupyter-widgets/controls",
      "model_module_version": "2.0.0",
      "model_name": "HTMLModel",
      "state": {
       "layout": "IPY_MODEL_ffd8014eafd0479184f868f4bad14c2d",
       "style": "IPY_MODEL_11cc7ad5af2343e482127e9a207b7812",
       "value": "100%"
      }
     },
     "7e11060ae42f4e93b9d214600f79f966": {
      "model_module": "@jupyter-widgets/controls",
      "model_module_version": "2.0.0",
      "model_name": "HTMLStyleModel",
      "state": {
       "description_width": "",
       "font_size": null,
       "text_color": null
      }
     },
     "7e767b81983841d8ba490fe4252a1aeb": {
      "model_module": "@jupyter-widgets/controls",
      "model_module_version": "2.0.0",
      "model_name": "FloatProgressModel",
      "state": {
       "bar_style": "success",
       "layout": "IPY_MODEL_d0549d9a18e942bb98c40a277d8bbb2d",
       "max": 500,
       "style": "IPY_MODEL_a3373f9d567848d68240d11eddcfca1c",
       "value": 500
      }
     },
     "80b75d7902e843b2820aa2287be7e29e": {
      "model_module": "@jupyter-widgets/controls",
      "model_module_version": "2.0.0",
      "model_name": "HBoxModel",
      "state": {
       "children": [
        "IPY_MODEL_26dd592407e34372a096e328a593f7f2",
        "IPY_MODEL_d0c40a9bfb284931bb987c9bd154d6f1",
        "IPY_MODEL_3534a4210e0f4a6a98ef75f89c483a13"
       ],
       "layout": "IPY_MODEL_91cdf0d839544a8f9957876ec4eb3651"
      }
     },
     "84df2209dc8f4d39a11a7cfb9fb8097d": {
      "model_module": "@jupyter-widgets/controls",
      "model_module_version": "2.0.0",
      "model_name": "HBoxModel",
      "state": {
       "children": [
        "IPY_MODEL_fbbaa3551d114f319611432debc65d8a",
        "IPY_MODEL_37b15b1cb86241ad910cc0a2fd019a73",
        "IPY_MODEL_bfa4344af72649c6a4947154d41c73e4"
       ],
       "layout": "IPY_MODEL_ec2e398430ec49ef8497d614f19a65cf"
      }
     },
     "87a412cab5dc4d29bf32f6d22aee8a36": {
      "model_module": "@jupyter-widgets/base",
      "model_module_version": "2.0.0",
      "model_name": "LayoutModel",
      "state": {}
     },
     "8d36520fbb4a4cb5a50899ad7245667b": {
      "model_module": "@jupyter-widgets/base",
      "model_module_version": "2.0.0",
      "model_name": "LayoutModel",
      "state": {}
     },
     "8eea94600b384adb9d26cdd2a7715522": {
      "model_module": "@jupyter-widgets/base",
      "model_module_version": "2.0.0",
      "model_name": "LayoutModel",
      "state": {}
     },
     "91cdf0d839544a8f9957876ec4eb3651": {
      "model_module": "@jupyter-widgets/base",
      "model_module_version": "2.0.0",
      "model_name": "LayoutModel",
      "state": {}
     },
     "95177d1af2b34c1ea9b4fff4766f2957": {
      "model_module": "@jupyter-widgets/base",
      "model_module_version": "2.0.0",
      "model_name": "LayoutModel",
      "state": {}
     },
     "966c4b081cd341199ef9dc93f1c1ec1b": {
      "model_module": "@jupyter-widgets/controls",
      "model_module_version": "2.0.0",
      "model_name": "HTMLModel",
      "state": {
       "layout": "IPY_MODEL_9dbfa5f3e3b64eb1810e5c48231e6341",
       "style": "IPY_MODEL_99a117f90b0342e8882aefb8286e1203",
       "value": " 500/500 [00:01&lt;00:00, 411.93it/s]"
      }
     },
     "97a37eb8b90846f1ba095e56a0b9492b": {
      "model_module": "@jupyter-widgets/controls",
      "model_module_version": "2.0.0",
      "model_name": "HTMLModel",
      "state": {
       "layout": "IPY_MODEL_1a1f253e684d4401b423b1637f17c8f9",
       "style": "IPY_MODEL_e60e16ae49ca4007bcc925cd0771c3f3",
       "value": "100%"
      }
     },
     "99a117f90b0342e8882aefb8286e1203": {
      "model_module": "@jupyter-widgets/controls",
      "model_module_version": "2.0.0",
      "model_name": "HTMLStyleModel",
      "state": {
       "description_width": "",
       "font_size": null,
       "text_color": null
      }
     },
     "9dbfa5f3e3b64eb1810e5c48231e6341": {
      "model_module": "@jupyter-widgets/base",
      "model_module_version": "2.0.0",
      "model_name": "LayoutModel",
      "state": {}
     },
     "9f22554ab18e4413ab59bc44dcf496d2": {
      "model_module": "@jupyter-widgets/controls",
      "model_module_version": "2.0.0",
      "model_name": "HTMLModel",
      "state": {
       "layout": "IPY_MODEL_137d52513df041d09934da16d8933695",
       "style": "IPY_MODEL_ca400d18bc9946d282f51bff8f38c934",
       "value": " 1500/1500 [00:03&lt;00:00, 357.52it/s]"
      }
     },
     "a3373f9d567848d68240d11eddcfca1c": {
      "model_module": "@jupyter-widgets/controls",
      "model_module_version": "2.0.0",
      "model_name": "ProgressStyleModel",
      "state": {
       "description_width": ""
      }
     },
     "a3a74eb0ec934b5dbc1dea3b7a666bc8": {
      "model_module": "@jupyter-widgets/controls",
      "model_module_version": "2.0.0",
      "model_name": "HBoxModel",
      "state": {
       "children": [
        "IPY_MODEL_024375e8793f46c588b971ca60b9c228",
        "IPY_MODEL_0ac2ddda3a9e40908a58c76a67b5ffa2",
        "IPY_MODEL_9f22554ab18e4413ab59bc44dcf496d2"
       ],
       "layout": "IPY_MODEL_a3cf66650ac84ca1bfea41564da58a12"
      }
     },
     "a3cf66650ac84ca1bfea41564da58a12": {
      "model_module": "@jupyter-widgets/base",
      "model_module_version": "2.0.0",
      "model_name": "LayoutModel",
      "state": {}
     },
     "a3fdbf4b0107450cb81fd268a679b287": {
      "model_module": "@jupyter-widgets/controls",
      "model_module_version": "2.0.0",
      "model_name": "ProgressStyleModel",
      "state": {
       "description_width": ""
      }
     },
     "a400122cda1c495ca68487b13c482044": {
      "model_module": "@jupyter-widgets/controls",
      "model_module_version": "2.0.0",
      "model_name": "HBoxModel",
      "state": {
       "children": [
        "IPY_MODEL_97a37eb8b90846f1ba095e56a0b9492b",
        "IPY_MODEL_2991242459c7440489c74ee537dc1318",
        "IPY_MODEL_966c4b081cd341199ef9dc93f1c1ec1b"
       ],
       "layout": "IPY_MODEL_11ed035211864b54b5422b065cba9e50"
      }
     },
     "a42cf43482da4c1983f413fed1676037": {
      "model_module": "@jupyter-widgets/controls",
      "model_module_version": "2.0.0",
      "model_name": "HBoxModel",
      "state": {
       "children": [
        "IPY_MODEL_f3ccd5191b504f15812c4cb6234ed0a1",
        "IPY_MODEL_7e767b81983841d8ba490fe4252a1aeb",
        "IPY_MODEL_d53c272b8371425e8756dbf037ebeaeb"
       ],
       "layout": "IPY_MODEL_153a4bfa76af485180ca0931d521b48e"
      }
     },
     "a468d2b4721642b789a9cbdd70abaac8": {
      "model_module": "@jupyter-widgets/base",
      "model_module_version": "2.0.0",
      "model_name": "LayoutModel",
      "state": {}
     },
     "a49861bc6b9f476da780ea450ebbfee4": {
      "model_module": "@jupyter-widgets/base",
      "model_module_version": "2.0.0",
      "model_name": "LayoutModel",
      "state": {}
     },
     "a585394ab5ec4b5c922eed59f9cadfab": {
      "model_module": "@jupyter-widgets/controls",
      "model_module_version": "2.0.0",
      "model_name": "HTMLStyleModel",
      "state": {
       "description_width": "",
       "font_size": null,
       "text_color": null
      }
     },
     "a7f499557150497795a1893564eba9d9": {
      "model_module": "@jupyter-widgets/controls",
      "model_module_version": "2.0.0",
      "model_name": "HTMLStyleModel",
      "state": {
       "description_width": "",
       "font_size": null,
       "text_color": null
      }
     },
     "a970f455a5c7416880816c783275cd6e": {
      "model_module": "@jupyter-widgets/controls",
      "model_module_version": "2.0.0",
      "model_name": "HTMLStyleModel",
      "state": {
       "description_width": "",
       "font_size": null,
       "text_color": null
      }
     },
     "aabc3db5bfda436bbdff48f59a8bc646": {
      "model_module": "@jupyter-widgets/controls",
      "model_module_version": "2.0.0",
      "model_name": "ProgressStyleModel",
      "state": {
       "description_width": ""
      }
     },
     "abb6fb82783841c29f82aa20deef47a5": {
      "model_module": "@jupyter-widgets/controls",
      "model_module_version": "2.0.0",
      "model_name": "HTMLStyleModel",
      "state": {
       "description_width": "",
       "font_size": null,
       "text_color": null
      }
     },
     "ad979a2482804296a2e94c65eaff98bc": {
      "model_module": "@jupyter-widgets/controls",
      "model_module_version": "2.0.0",
      "model_name": "HTMLStyleModel",
      "state": {
       "description_width": "",
       "font_size": null,
       "text_color": null
      }
     },
     "b0505aac70c14379bf24fa21df213b23": {
      "model_module": "@jupyter-widgets/controls",
      "model_module_version": "2.0.0",
      "model_name": "HTMLStyleModel",
      "state": {
       "description_width": "",
       "font_size": null,
       "text_color": null
      }
     },
     "b0ed2c45e529400a8c076f49c060215b": {
      "model_module": "@jupyter-widgets/controls",
      "model_module_version": "2.0.0",
      "model_name": "HTMLStyleModel",
      "state": {
       "description_width": "",
       "font_size": null,
       "text_color": null
      }
     },
     "b1025113fd9749098859248d0de6d605": {
      "model_module": "@jupyter-widgets/base",
      "model_module_version": "2.0.0",
      "model_name": "LayoutModel",
      "state": {}
     },
     "b3bdd6f69527455b99661eb46839132c": {
      "model_module": "@jupyter-widgets/controls",
      "model_module_version": "2.0.0",
      "model_name": "HBoxModel",
      "state": {
       "children": [
        "IPY_MODEL_76b833560d3146ebb6459b72eb29d032",
        "IPY_MODEL_5a558f68c2cb4df48631a40351ef3b69",
        "IPY_MODEL_2c93437d58bf4e958d9c4e118e39903a"
       ],
       "layout": "IPY_MODEL_0e4a09749f124a798da1bf5177c9dbdc"
      }
     },
     "b3f7323a5def4985a341186a156292c6": {
      "model_module": "@jupyter-widgets/controls",
      "model_module_version": "2.0.0",
      "model_name": "HTMLModel",
      "state": {
       "layout": "IPY_MODEL_646b79f976374e39979fc7965eda6273",
       "style": "IPY_MODEL_a585394ab5ec4b5c922eed59f9cadfab",
       "value": "100%"
      }
     },
     "b5ce8788bc2b440493f57a8eb1ad64b8": {
      "model_module": "@jupyter-widgets/base",
      "model_module_version": "2.0.0",
      "model_name": "LayoutModel",
      "state": {}
     },
     "b855e8fa4bef421fb4dad5425efce849": {
      "model_module": "@jupyter-widgets/base",
      "model_module_version": "2.0.0",
      "model_name": "LayoutModel",
      "state": {}
     },
     "ba6c7524527d498aa2e52634c4f1ab5c": {
      "model_module": "@jupyter-widgets/base",
      "model_module_version": "2.0.0",
      "model_name": "LayoutModel",
      "state": {}
     },
     "bb218e01cc2a4ecca2c168ab60538aed": {
      "model_module": "@jupyter-widgets/controls",
      "model_module_version": "2.0.0",
      "model_name": "ProgressStyleModel",
      "state": {
       "description_width": ""
      }
     },
     "bd150a003f6e40a09428aacd96c38eef": {
      "model_module": "@jupyter-widgets/controls",
      "model_module_version": "2.0.0",
      "model_name": "HTMLModel",
      "state": {
       "layout": "IPY_MODEL_c9cecb8dd3824851878011cb76c5f9bc",
       "style": "IPY_MODEL_44dd1d5b41754da491125847c555a240",
       "value": "100%"
      }
     },
     "bf522be6c95942c6b929718cac48da7f": {
      "model_module": "@jupyter-widgets/controls",
      "model_module_version": "2.0.0",
      "model_name": "HBoxModel",
      "state": {
       "children": [
        "IPY_MODEL_dfc10f023d9a4a86a1c3bedd847201cf",
        "IPY_MODEL_5139b6b5a60545e2b73be3e124fe214e",
        "IPY_MODEL_efcafab43d2741f1a828b4c207374d7e"
       ],
       "layout": "IPY_MODEL_f51721fc68534a9cb9aa8c45bec14ce5"
      }
     },
     "bfa4344af72649c6a4947154d41c73e4": {
      "model_module": "@jupyter-widgets/controls",
      "model_module_version": "2.0.0",
      "model_name": "HTMLModel",
      "state": {
       "layout": "IPY_MODEL_c4477745da9c4c6c816b5b454ab11090",
       "style": "IPY_MODEL_a7f499557150497795a1893564eba9d9",
       "value": " 1500/1500 [00:03&lt;00:00, 460.71it/s]"
      }
     },
     "c1c1db5bea6a404c9bd93ad35fe477d8": {
      "model_module": "@jupyter-widgets/controls",
      "model_module_version": "2.0.0",
      "model_name": "FloatProgressModel",
      "state": {
       "bar_style": "success",
       "layout": "IPY_MODEL_19b03442231542c4896bcf4008cd8bb5",
       "max": 1500,
       "style": "IPY_MODEL_66fab34315114992a9bdc313452c84fb",
       "value": 1500
      }
     },
     "c2d576bd268245f5b74d830701b5abcf": {
      "model_module": "@jupyter-widgets/base",
      "model_module_version": "2.0.0",
      "model_name": "LayoutModel",
      "state": {}
     },
     "c4477745da9c4c6c816b5b454ab11090": {
      "model_module": "@jupyter-widgets/base",
      "model_module_version": "2.0.0",
      "model_name": "LayoutModel",
      "state": {}
     },
     "c5a5c02092364f21a305b146a5d180d4": {
      "model_module": "@jupyter-widgets/controls",
      "model_module_version": "2.0.0",
      "model_name": "HBoxModel",
      "state": {
       "children": [
        "IPY_MODEL_bd150a003f6e40a09428aacd96c38eef",
        "IPY_MODEL_6d16dc0e724246a683e823bda666b320",
        "IPY_MODEL_69499844052b4d31a7df5e5cc2d6c86e"
       ],
       "layout": "IPY_MODEL_1c3a02d81e9c4c31bf84691205cb7280"
      }
     },
     "c5caa32be2534479b16cbf942c2cce7d": {
      "model_module": "@jupyter-widgets/controls",
      "model_module_version": "2.0.0",
      "model_name": "HTMLStyleModel",
      "state": {
       "description_width": "",
       "font_size": null,
       "text_color": null
      }
     },
     "c93e8e725b2d40f780f609795ea2fa9c": {
      "model_module": "@jupyter-widgets/controls",
      "model_module_version": "2.0.0",
      "model_name": "HTMLStyleModel",
      "state": {
       "description_width": "",
       "font_size": null,
       "text_color": null
      }
     },
     "c9cecb8dd3824851878011cb76c5f9bc": {
      "model_module": "@jupyter-widgets/base",
      "model_module_version": "2.0.0",
      "model_name": "LayoutModel",
      "state": {}
     },
     "ca400d18bc9946d282f51bff8f38c934": {
      "model_module": "@jupyter-widgets/controls",
      "model_module_version": "2.0.0",
      "model_name": "HTMLStyleModel",
      "state": {
       "description_width": "",
       "font_size": null,
       "text_color": null
      }
     },
     "cdc1f90201f8457aa036a98e34774bf9": {
      "model_module": "@jupyter-widgets/controls",
      "model_module_version": "2.0.0",
      "model_name": "ProgressStyleModel",
      "state": {
       "description_width": ""
      }
     },
     "d0549d9a18e942bb98c40a277d8bbb2d": {
      "model_module": "@jupyter-widgets/base",
      "model_module_version": "2.0.0",
      "model_name": "LayoutModel",
      "state": {}
     },
     "d0c40a9bfb284931bb987c9bd154d6f1": {
      "model_module": "@jupyter-widgets/controls",
      "model_module_version": "2.0.0",
      "model_name": "FloatProgressModel",
      "state": {
       "bar_style": "success",
       "layout": "IPY_MODEL_47719c895363413d97f0afa6f96d64e1",
       "max": 500,
       "style": "IPY_MODEL_aabc3db5bfda436bbdff48f59a8bc646",
       "value": 500
      }
     },
     "d53c272b8371425e8756dbf037ebeaeb": {
      "model_module": "@jupyter-widgets/controls",
      "model_module_version": "2.0.0",
      "model_name": "HTMLModel",
      "state": {
       "layout": "IPY_MODEL_31644db7037a4feca6aba1ea4adfd31c",
       "style": "IPY_MODEL_23872dd8c63e4ffc9375ac8a397b0251",
       "value": " 500/500 [00:01&lt;00:00, 361.14it/s]"
      }
     },
     "d55a2c18e0454151b6cd825c1816e964": {
      "model_module": "@jupyter-widgets/controls",
      "model_module_version": "2.0.0",
      "model_name": "HTMLModel",
      "state": {
       "layout": "IPY_MODEL_274c137963aa41ef8546dd63b672cb41",
       "style": "IPY_MODEL_1b5ba6e9da08471891e69a699cdf29af",
       "value": "100%"
      }
     },
     "d6e2d6e565cf4611beb3010438b821d5": {
      "model_module": "@jupyter-widgets/controls",
      "model_module_version": "2.0.0",
      "model_name": "HBoxModel",
      "state": {
       "children": [
        "IPY_MODEL_62963811df6144caa576ccc2b983d443",
        "IPY_MODEL_f144540252dd408f8d1803c70933dc36",
        "IPY_MODEL_34d5cca38e5e4509ada380162c75263f"
       ],
       "layout": "IPY_MODEL_b1025113fd9749098859248d0de6d605"
      }
     },
     "d780395b5e824e02a58363c008ffafc3": {
      "model_module": "@jupyter-widgets/controls",
      "model_module_version": "2.0.0",
      "model_name": "HTMLStyleModel",
      "state": {
       "description_width": "",
       "font_size": null,
       "text_color": null
      }
     },
     "ddf7cae7e091499a89209b5416cb66bc": {
      "model_module": "@jupyter-widgets/base",
      "model_module_version": "2.0.0",
      "model_name": "LayoutModel",
      "state": {}
     },
     "dfc10f023d9a4a86a1c3bedd847201cf": {
      "model_module": "@jupyter-widgets/controls",
      "model_module_version": "2.0.0",
      "model_name": "HTMLModel",
      "state": {
       "layout": "IPY_MODEL_b5ce8788bc2b440493f57a8eb1ad64b8",
       "style": "IPY_MODEL_7e11060ae42f4e93b9d214600f79f966",
       "value": "100%"
      }
     },
     "e60e16ae49ca4007bcc925cd0771c3f3": {
      "model_module": "@jupyter-widgets/controls",
      "model_module_version": "2.0.0",
      "model_name": "HTMLStyleModel",
      "state": {
       "description_width": "",
       "font_size": null,
       "text_color": null
      }
     },
     "ec2e398430ec49ef8497d614f19a65cf": {
      "model_module": "@jupyter-widgets/base",
      "model_module_version": "2.0.0",
      "model_name": "LayoutModel",
      "state": {}
     },
     "ed14894f429a4439b0253bcc8042e456": {
      "model_module": "@jupyter-widgets/controls",
      "model_module_version": "2.0.0",
      "model_name": "HBoxModel",
      "state": {
       "children": [
        "IPY_MODEL_4862d46bb6a042be8a90699545bb600c",
        "IPY_MODEL_49ef4eac13c1467683814c576300fb19",
        "IPY_MODEL_f7b0ac68db174a538b5d894964f1a906"
       ],
       "layout": "IPY_MODEL_1836dcf81ac24aa79bc521db950f6058"
      }
     },
     "ed3728cd45b8436f99e7defa0cc486fc": {
      "model_module": "@jupyter-widgets/controls",
      "model_module_version": "2.0.0",
      "model_name": "HTMLStyleModel",
      "state": {
       "description_width": "",
       "font_size": null,
       "text_color": null
      }
     },
     "efcafab43d2741f1a828b4c207374d7e": {
      "model_module": "@jupyter-widgets/controls",
      "model_module_version": "2.0.0",
      "model_name": "HTMLModel",
      "state": {
       "layout": "IPY_MODEL_026a0db9558e4df08dc579151ab2601a",
       "style": "IPY_MODEL_c93e8e725b2d40f780f609795ea2fa9c",
       "value": " 500/500 [00:01&lt;00:00, 582.75it/s]"
      }
     },
     "f144540252dd408f8d1803c70933dc36": {
      "model_module": "@jupyter-widgets/controls",
      "model_module_version": "2.0.0",
      "model_name": "FloatProgressModel",
      "state": {
       "bar_style": "success",
       "layout": "IPY_MODEL_1a8effb9a4cd4043b72462b68aa05588",
       "max": 500,
       "style": "IPY_MODEL_4bdb3eb5786f4bdeb81573c587e31ca1",
       "value": 500
      }
     },
     "f21369ac27f54f78b5a3dd2b747bee2f": {
      "model_module": "@jupyter-widgets/base",
      "model_module_version": "2.0.0",
      "model_name": "LayoutModel",
      "state": {}
     },
     "f3ccd5191b504f15812c4cb6234ed0a1": {
      "model_module": "@jupyter-widgets/controls",
      "model_module_version": "2.0.0",
      "model_name": "HTMLModel",
      "state": {
       "layout": "IPY_MODEL_ba6c7524527d498aa2e52634c4f1ab5c",
       "style": "IPY_MODEL_48c8093700f54bcf8c4056cf8cf4fcc3",
       "value": "100%"
      }
     },
     "f4d2704ca4da44838ee68ed5022f35af": {
      "model_module": "@jupyter-widgets/base",
      "model_module_version": "2.0.0",
      "model_name": "LayoutModel",
      "state": {}
     },
     "f51721fc68534a9cb9aa8c45bec14ce5": {
      "model_module": "@jupyter-widgets/base",
      "model_module_version": "2.0.0",
      "model_name": "LayoutModel",
      "state": {}
     },
     "f7b0ac68db174a538b5d894964f1a906": {
      "model_module": "@jupyter-widgets/controls",
      "model_module_version": "2.0.0",
      "model_name": "HTMLModel",
      "state": {
       "layout": "IPY_MODEL_591e77d05e5046d0b147e0fbe4b40f0e",
       "style": "IPY_MODEL_b0505aac70c14379bf24fa21df213b23",
       "value": " 500/500 [00:01&lt;00:00, 481.81it/s]"
      }
     },
     "f7e5cbaa2c8c4d2794330fd2fa795739": {
      "model_module": "@jupyter-widgets/controls",
      "model_module_version": "2.0.0",
      "model_name": "HTMLStyleModel",
      "state": {
       "description_width": "",
       "font_size": null,
       "text_color": null
      }
     },
     "f9931624bc6745b29cf750d5e09867a0": {
      "model_module": "@jupyter-widgets/base",
      "model_module_version": "2.0.0",
      "model_name": "LayoutModel",
      "state": {}
     },
     "fbbaa3551d114f319611432debc65d8a": {
      "model_module": "@jupyter-widgets/controls",
      "model_module_version": "2.0.0",
      "model_name": "HTMLModel",
      "state": {
       "layout": "IPY_MODEL_f9931624bc6745b29cf750d5e09867a0",
       "style": "IPY_MODEL_a970f455a5c7416880816c783275cd6e",
       "value": "100%"
      }
     },
     "ffd8014eafd0479184f868f4bad14c2d": {
      "model_module": "@jupyter-widgets/base",
      "model_module_version": "2.0.0",
      "model_name": "LayoutModel",
      "state": {}
     }
    },
    "version_major": 2,
    "version_minor": 0
   }
  }
 },
 "nbformat": 4,
 "nbformat_minor": 5
}
