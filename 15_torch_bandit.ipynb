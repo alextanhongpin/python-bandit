{
 "cells": [
  {
   "cell_type": "code",
   "execution_count": 1,
   "id": "a4e0dd6c-b1cd-4604-9491-a5fd31034cd0",
   "metadata": {
    "execution": {
     "iopub.execute_input": "2024-02-12T09:06:20.995514Z",
     "iopub.status.busy": "2024-02-12T09:06:20.986468Z",
     "iopub.status.idle": "2024-02-12T09:06:27.272662Z",
     "shell.execute_reply": "2024-02-12T09:06:27.268011Z",
     "shell.execute_reply.started": "2024-02-12T09:06:20.995454Z"
    }
   },
   "outputs": [
    {
     "name": "stderr",
     "output_type": "stream",
     "text": [
      "/var/folders/7m/74_ct3hx33d878n626w1wxyc0000gn/T/ipykernel_31187/2096907171.py:8: TqdmExperimentalWarning: Using `tqdm.autonotebook.tqdm` in notebook mode. Use `tqdm.tqdm` instead to force console mode (e.g. in jupyter console)\n",
      "  from tqdm.autonotebook import tqdm\n"
     ]
    }
   ],
   "source": [
    "import os\n",
    "\n",
    "import matplotlib.pyplot as plt\n",
    "import numpy as np\n",
    "import pandas as pd\n",
    "import seaborn as sns\n",
    "import torch\n",
    "from tqdm.autonotebook import tqdm\n",
    "\n",
    "import bandit.environment as env\n",
    "from bandit.policy import EGreedy, Softmax\n",
    "from bandit.torch import NeuralBandit, NeuralPerArmBandit, create_model\n",
    "\n",
    "sns.set_theme()"
   ]
  },
  {
   "cell_type": "code",
   "execution_count": 2,
   "id": "2a747fb7-f610-4d0e-afdc-b9738fa22c78",
   "metadata": {
    "execution": {
     "iopub.execute_input": "2024-02-12T09:06:27.277981Z",
     "iopub.status.busy": "2024-02-12T09:06:27.276755Z",
     "iopub.status.idle": "2024-02-12T09:06:27.298164Z",
     "shell.execute_reply": "2024-02-12T09:06:27.284827Z",
     "shell.execute_reply.started": "2024-02-12T09:06:27.277947Z"
    }
   },
   "outputs": [],
   "source": [
    "N = 500"
   ]
  },
  {
   "cell_type": "code",
   "execution_count": 3,
   "id": "c336a243-c183-48d5-aaa1-cd19fb850d99",
   "metadata": {
    "execution": {
     "iopub.execute_input": "2024-02-12T09:06:27.349335Z",
     "iopub.status.busy": "2024-02-12T09:06:27.318304Z",
     "iopub.status.idle": "2024-02-12T09:06:27.366817Z",
     "shell.execute_reply": "2024-02-12T09:06:27.364823Z",
     "shell.execute_reply.started": "2024-02-12T09:06:27.349196Z"
    }
   },
   "outputs": [],
   "source": [
    "def run_simulation(bandit, policy=EGreedy(epsilon=0.0), n=N, dynamic=False):\n",
    "    total_reward = 0\n",
    "    avg_rewards = []\n",
    "    rng = np.random.RandomState(42)\n",
    "\n",
    "    for i in tqdm(range(n), disable=False):\n",
    "        state = env.observe(rng)\n",
    "\n",
    "        # 1. Predict the action.\n",
    "        rewards = bandit.pull(state)\n",
    "\n",
    "        action = policy(rewards)\n",
    "\n",
    "        # 2. Act and get the reward.\n",
    "        if dynamic and i > n // 2:\n",
    "            get_cost = env.get_cost_new\n",
    "        else:\n",
    "            get_cost = env.get_cost\n",
    "        reward = get_cost(state, env.actions[action])\n",
    "        # Change reward to 0 or 1 instead of -1 or 1\n",
    "\n",
    "        # 3. Update the model.\n",
    "        bandit.update(state, action, reward)\n",
    "\n",
    "        # 4. Save the reward.\n",
    "        total_reward += max(0, reward)\n",
    "        avg_rewards.append(total_reward / (i + 1))\n",
    "    return avg_rewards, total_reward"
   ]
  },
  {
   "cell_type": "code",
   "execution_count": 23,
   "id": "994204d9-f482-4f02-aafb-f7b0f055421d",
   "metadata": {
    "execution": {
     "iopub.execute_input": "2024-02-12T09:07:22.188180Z",
     "iopub.status.busy": "2024-02-12T09:07:22.184528Z",
     "iopub.status.idle": "2024-02-12T09:07:23.297337Z",
     "shell.execute_reply": "2024-02-12T09:07:23.296350Z",
     "shell.execute_reply.started": "2024-02-12T09:07:22.188120Z"
    }
   },
   "outputs": [
    {
     "data": {
      "application/vnd.jupyter.widget-view+json": {
       "model_id": "c7a8c768f37c41b9adc3281c66255497",
       "version_major": 2,
       "version_minor": 0
      },
      "text/plain": [
       "  0%|          | 0/500 [00:00<?, ?it/s]"
      ]
     },
     "metadata": {},
     "output_type": "display_data"
    },
    {
     "data": {
      "text/plain": [
       "227.0"
      ]
     },
     "execution_count": 23,
     "metadata": {},
     "output_type": "execute_result"
    }
   ],
   "source": [
    "bandit = NeuralBandit(n_arms=len(env.actions), batch=1)\n",
    "# avg_rewards, total_reward = run_simulation(bandit, policy=Softmax(tau=0.1))\n",
    "avg_rewards, total_reward = run_simulation(bandit)\n",
    "total_reward"
   ]
  },
  {
   "cell_type": "code",
   "execution_count": 24,
   "id": "3dfc3a38-c914-4520-93a9-e6427e904213",
   "metadata": {
    "execution": {
     "iopub.execute_input": "2024-02-12T09:07:23.728943Z",
     "iopub.status.busy": "2024-02-12T09:07:23.728386Z",
     "iopub.status.idle": "2024-02-12T09:07:24.274822Z",
     "shell.execute_reply": "2024-02-12T09:07:24.273730Z",
     "shell.execute_reply.started": "2024-02-12T09:07:23.728907Z"
    }
   },
   "outputs": [
    {
     "data": {
      "text/plain": [
       "[<matplotlib.lines.Line2D at 0x1253ea200>]"
      ]
     },
     "execution_count": 24,
     "metadata": {},
     "output_type": "execute_result"
    },
    {
     "data": {
      "image/png": "[encoded data removed]",
      "text/plain": [
       "<Figure size 640x480 with 1 Axes>"
      ]
     },
     "metadata": {},
     "output_type": "display_data"
    }
   ],
   "source": [
    "plt.plot(range(N), avg_rewards)"
   ]
  },
  {
   "cell_type": "code",
   "execution_count": 19,
   "id": "06ef7f59-0aab-47ed-b253-ca29f49a2e35",
   "metadata": {
    "execution": {
     "iopub.execute_input": "2024-02-12T09:06:56.765133Z",
     "iopub.status.busy": "2024-02-12T09:06:56.758424Z",
     "iopub.status.idle": "2024-02-12T09:06:57.908936Z",
     "shell.execute_reply": "2024-02-12T09:06:57.906774Z",
     "shell.execute_reply.started": "2024-02-12T09:06:56.765084Z"
    }
   },
   "outputs": [
    {
     "data": {
      "application/vnd.jupyter.widget-view+json": {
       "model_id": "930f8e69f5cc446494193d32e3463d71",
       "version_major": 2,
       "version_minor": 0
      },
      "text/plain": [
       "  0%|          | 0/500 [00:00<?, ?it/s]"
      ]
     },
     "metadata": {},
     "output_type": "display_data"
    },
    {
     "data": {
      "text/plain": [
       "364.0"
      ]
     },
     "execution_count": 19,
     "metadata": {},
     "output_type": "execute_result"
    }
   ],
   "source": [
    "bandit = NeuralBandit(n_arms=len(env.actions), batch=1)\n",
    "avg_rewards, total_reward = run_simulation(bandit, dynamic=True)\n",
    "total_reward"
   ]
  },
  {
   "cell_type": "code",
   "execution_count": 20,
   "id": "f87a787a-7612-4029-9ed6-e398855cd180",
   "metadata": {
    "execution": {
     "iopub.execute_input": "2024-02-12T09:06:58.456667Z",
     "iopub.status.busy": "2024-02-12T09:06:58.455498Z",
     "iopub.status.idle": "2024-02-12T09:06:58.956779Z",
     "shell.execute_reply": "2024-02-12T09:06:58.955556Z",
     "shell.execute_reply.started": "2024-02-12T09:06:58.456628Z"
    }
   },
   "outputs": [
    {
     "data": {
      "text/plain": [
       "[<matplotlib.lines.Line2D at 0x1252de800>]"
      ]
     },
     "execution_count": 20,
     "metadata": {},
     "output_type": "execute_result"
    },
    {
     "data": {
      "image/png": "[encoded data removed]",
      "text/plain": [
       "<Figure size 640x480 with 1 Axes>"
      ]
     },
     "metadata": {},
     "output_type": "display_data"
    }
   ],
   "source": [
    "plt.plot(range(N), avg_rewards)"
   ]
  },
  {
   "cell_type": "markdown",
   "id": "84dc4f76-c23b-4fea-abbc-f205c0c9d744",
   "metadata": {},
   "source": [
    "## Neural Per Arm Bandit - Static"
   ]
  },
  {
   "cell_type": "code",
   "execution_count": 8,
   "id": "c82fbd0d-65d3-4a43-814b-b83b6a244b98",
   "metadata": {
    "execution": {
     "iopub.execute_input": "2024-02-12T09:06:31.785192Z",
     "iopub.status.busy": "2024-02-12T09:06:31.784736Z",
     "iopub.status.idle": "2024-02-12T09:06:33.181483Z",
     "shell.execute_reply": "2024-02-12T09:06:33.180460Z",
     "shell.execute_reply.started": "2024-02-12T09:06:31.785154Z"
    }
   },
   "outputs": [
    {
     "data": {
      "application/vnd.jupyter.widget-view+json": {
       "model_id": "5e12a106eb244a23b576441ba35a87a1",
       "version_major": 2,
       "version_minor": 0
      },
      "text/plain": [
       "  0%|          | 0/500 [00:00<?, ?it/s]"
      ]
     },
     "metadata": {},
     "output_type": "display_data"
    },
    {
     "data": {
      "text/plain": [
       "466.0"
      ]
     },
     "execution_count": 8,
     "metadata": {},
     "output_type": "execute_result"
    }
   ],
   "source": [
    "bandit = NeuralPerArmBandit()\n",
    "avg_rewards, total_reward = run_simulation(bandit)\n",
    "total_reward"
   ]
  },
  {
   "cell_type": "code",
   "execution_count": 9,
   "id": "1c722af8-5447-4d60-a706-eed408b5054a",
   "metadata": {
    "execution": {
     "iopub.execute_input": "2024-02-12T09:06:33.183780Z",
     "iopub.status.busy": "2024-02-12T09:06:33.183186Z",
     "iopub.status.idle": "2024-02-12T09:06:33.501706Z",
     "shell.execute_reply": "2024-02-12T09:06:33.499979Z",
     "shell.execute_reply.started": "2024-02-12T09:06:33.183736Z"
    }
   },
   "outputs": [
    {
     "data": {
      "text/plain": [
       "[<matplotlib.lines.Line2D at 0x12510a4a0>]"
      ]
     },
     "execution_count": 9,
     "metadata": {},
     "output_type": "execute_result"
    },
    {
     "data": {
      "image/png": "[encoded data removed]",
      "text/plain": [
       "<Figure size 640x480 with 1 Axes>"
      ]
     },
     "metadata": {},
     "output_type": "display_data"
    }
   ],
   "source": [
    "plt.plot(range(N), avg_rewards)"
   ]
  },
  {
   "cell_type": "markdown",
   "id": "a3f6cd2f-1bd8-4493-ba61-324734471aa4",
   "metadata": {
    "execution": {
     "iopub.execute_input": "2024-02-11T14:32:22.386687Z",
     "iopub.status.busy": "2024-02-11T14:32:22.386230Z",
     "iopub.status.idle": "2024-02-11T14:32:22.404652Z",
     "shell.execute_reply": "2024-02-11T14:32:22.403360Z",
     "shell.execute_reply.started": "2024-02-11T14:32:22.386653Z"
    }
   },
   "source": [
    "## Neural Per Arm Bandit - Dynamic"
   ]
  },
  {
   "cell_type": "code",
   "execution_count": 10,
   "id": "36acb43c-7379-4f3d-9a57-30ad723c98e4",
   "metadata": {
    "execution": {
     "iopub.execute_input": "2024-02-12T09:06:33.507480Z",
     "iopub.status.busy": "2024-02-12T09:06:33.506744Z",
     "iopub.status.idle": "2024-02-12T09:06:35.210917Z",
     "shell.execute_reply": "2024-02-12T09:06:35.207615Z",
     "shell.execute_reply.started": "2024-02-12T09:06:33.507447Z"
    }
   },
   "outputs": [
    {
     "data": {
      "application/vnd.jupyter.widget-view+json": {
       "model_id": "f2316d29dcb049ea842e0c52c05c3840",
       "version_major": 2,
       "version_minor": 0
      },
      "text/plain": [
       "  0%|          | 0/500 [00:00<?, ?it/s]"
      ]
     },
     "metadata": {},
     "output_type": "display_data"
    },
    {
     "data": {
      "text/plain": [
       "452.0"
      ]
     },
     "execution_count": 10,
     "metadata": {},
     "output_type": "execute_result"
    }
   ],
   "source": [
    "bandit = NeuralPerArmBandit()\n",
    "avg_rewards, total_reward = run_simulation(bandit, dynamic=True)\n",
    "total_reward"
   ]
  },
  {
   "cell_type": "code",
   "execution_count": 11,
   "id": "8d78800a-d935-4386-a429-427c95d23703",
   "metadata": {
    "execution": {
     "iopub.execute_input": "2024-02-12T09:06:35.214543Z",
     "iopub.status.busy": "2024-02-12T09:06:35.213005Z",
     "iopub.status.idle": "2024-02-12T09:06:35.510305Z",
     "shell.execute_reply": "2024-02-12T09:06:35.509020Z",
     "shell.execute_reply.started": "2024-02-12T09:06:35.214464Z"
    }
   },
   "outputs": [
    {
     "data": {
      "text/plain": [
       "[<matplotlib.lines.Line2D at 0x125176e30>]"
      ]
     },
     "execution_count": 11,
     "metadata": {},
     "output_type": "execute_result"
    },
    {
     "data": {
      "image/png": "[encoded data removed]",
      "text/plain": [
       "<Figure size 640x480 with 1 Axes>"
      ]
     },
     "metadata": {},
     "output_type": "display_data"
    }
   ],
   "source": [
    "plt.plot(range(N), avg_rewards)"
   ]
  },
  {
   "cell_type": "code",
   "execution_count": 12,
   "id": "cfd0b1a9-30b1-40af-aa77-11de7e0b255f",
   "metadata": {
    "execution": {
     "iopub.execute_input": "2024-02-12T09:06:35.513309Z",
     "iopub.status.busy": "2024-02-12T09:06:35.511923Z",
     "iopub.status.idle": "2024-02-12T09:06:35.552159Z",
     "shell.execute_reply": "2024-02-12T09:06:35.542555Z",
     "shell.execute_reply.started": "2024-02-12T09:06:35.513245Z"
    }
   },
   "outputs": [
    {
     "name": "stdout",
     "output_type": "stream",
     "text": [
      "rewards [ 0.00348707  0.9996371   0.2909214  -0.00781755 -0.00839632 -0.01128122\n",
      " -0.01064294]\n",
      "action 1\n",
      "reward -1.0\n"
     ]
    }
   ],
   "source": [
    "# bandit = NeuralBandit(n_arms=len(env.actions), batch=1)\n",
    "\n",
    "# bandit = NeuralPerArmBandit()\n",
    "\n",
    "policy = EGreedy(epsilon=0.0)\n",
    "rng = np.random.RandomState(42)\n",
    "\n",
    "for i in range(1):\n",
    "    state = env.observe(rng)\n",
    "\n",
    "    rewards = bandit.pull(state)\n",
    "    print(\"rewards\", rewards)\n",
    "\n",
    "    action = policy(rewards)\n",
    "\n",
    "    reward = env.get_cost(state, env.actions[action])\n",
    "    print(\"action\", action)\n",
    "    print(\"reward\", reward)\n",
    "\n",
    "    # 3. Update the model.\n",
    "\n",
    "    bandit.update(state, action, reward)"
   ]
  },
  {
   "cell_type": "markdown",
   "id": "d12e5fcb-fd98-4de1-b427-75bc12a0207d",
   "metadata": {},
   "source": [
    "## Conclusion\n",
    "\n",
    "Per-arm bandit seems to be performing better, for unknown reasons. The feature-interaction doesn't seem to be doing its work when using torch or keras compared to scikit-learn's MLP."
   ]
  }
 ],
 "metadata": {
  "kernelspec": {
   "display_name": "Python 3 (ipykernel)",
   "language": "python",
   "name": "python3"
  },
  "language_info": {
   "codemirror_mode": {
    "name": "ipython",
    "version": 3
   },
   "file_extension": ".py",
   "mimetype": "text/x-python",
   "name": "python",
   "nbconvert_exporter": "python",
   "pygments_lexer": "ipython3",
   "version": "3.10.13"
  },
  "widgets": {
   "application/vnd.jupyter.widget-state+json": {
    "state": {
     "020781f436de49b18028880cadadf248": {
      "model_module": "@jupyter-widgets/base",
      "model_module_version": "2.0.0",
      "model_name": "LayoutModel",
      "state": {}
     },
     "0392a7ed8bf34e9694329b05d91501d9": {
      "model_module": "@jupyter-widgets/controls",
      "model_module_version": "2.0.0",
      "model_name": "ProgressStyleModel",
      "state": {
       "description_width": ""
      }
     },
     "045de5789cfd4fe59a5e0039cbb78aec": {
      "model_module": "@jupyter-widgets/base",
      "model_module_version": "2.0.0",
      "model_name": "LayoutModel",
      "state": {}
     },
     "0491b157e6a748af9dd627c6cdb70226": {
      "model_module": "@jupyter-widgets/controls",
      "model_module_version": "2.0.0",
      "model_name": "HTMLStyleModel",
      "state": {
       "description_width": "",
       "font_size": null,
       "text_color": null
      }
     },
     "092eadbe8f1a4a9cab78c7d095f3b24a": {
      "model_module": "@jupyter-widgets/base",
      "model_module_version": "2.0.0",
      "model_name": "LayoutModel",
      "state": {}
     },
     "0a7c1f9a9cfe4532b002747897333ce0": {
      "model_module": "@jupyter-widgets/controls",
      "model_module_version": "2.0.0",
      "model_name": "ProgressStyleModel",
      "state": {
       "description_width": ""
      }
     },
     "0c406060fb5444c6bd0d0f201e73df6b": {
      "model_module": "@jupyter-widgets/base",
      "model_module_version": "2.0.0",
      "model_name": "LayoutModel",
      "state": {}
     },
     "0efed8aef6b44e7d8acd7b1361a7ebea": {
      "model_module": "@jupyter-widgets/controls",
      "model_module_version": "2.0.0",
      "model_name": "HTMLModel",
      "state": {
       "layout": "IPY_MODEL_9597465eb9d74223ac75ef10fe391cbc",
       "style": "IPY_MODEL_28ca868d2ad84572a328b37663ec51c2",
       "value": " 500/500 [00:01&lt;00:00, 499.50it/s]"
      }
     },
     "10bf84314e2e4f8fabb6cf8430ca8935": {
      "model_module": "@jupyter-widgets/base",
      "model_module_version": "2.0.0",
      "model_name": "LayoutModel",
      "state": {}
     },
     "10f0298098ab4948ae4d949ecfb6cb8c": {
      "model_module": "@jupyter-widgets/controls",
      "model_module_version": "2.0.0",
      "model_name": "FloatProgressModel",
      "state": {
       "bar_style": "success",
       "layout": "IPY_MODEL_8b994942790345e1a5d9160a0bf5be57",
       "max": 500,
       "style": "IPY_MODEL_42bc3338c0b94a6e90826b0febf4302d",
       "value": 500
      }
     },
     "12bf8ed16ac148708eefefcaf8f438b0": {
      "model_module": "@jupyter-widgets/controls",
      "model_module_version": "2.0.0",
      "model_name": "ProgressStyleModel",
      "state": {
       "description_width": ""
      }
     },
     "13c33a4fbadc46eaa2c94b6560f80b36": {
      "model_module": "@jupyter-widgets/controls",
      "model_module_version": "2.0.0",
      "model_name": "HBoxModel",
      "state": {
       "children": [
        "IPY_MODEL_66de981ab5654189af06f957301688a0",
        "IPY_MODEL_862b4544d14f4f4d86e8523d8d62e544",
        "IPY_MODEL_9d8952fc10b140a69f8194fd8dd25131"
       ],
       "layout": "IPY_MODEL_da9d512ac966496390634a5e773867e1"
      }
     },
     "145f9111cb9b4e9fb13518320f60c2dc": {
      "model_module": "@jupyter-widgets/controls",
      "model_module_version": "2.0.0",
      "model_name": "HTMLModel",
      "state": {
       "layout": "IPY_MODEL_87b3dd3aa38a4d85893367e4d2570cc1",
       "style": "IPY_MODEL_6ecc6c9f604b4c84a365e15ebd59f089",
       "value": "100%"
      }
     },
     "1621544b0a3e4d2e8320f5c3e6adeb8d": {
      "model_module": "@jupyter-widgets/base",
      "model_module_version": "2.0.0",
      "model_name": "LayoutModel",
      "state": {}
     },
     "1ad0d12829924d348a7d3b7ea010e16d": {
      "model_module": "@jupyter-widgets/base",
      "model_module_version": "2.0.0",
      "model_name": "LayoutModel",
      "state": {}
     },
     "1d30f08f00524bb78c9834b540e8a26a": {
      "model_module": "@jupyter-widgets/controls",
      "model_module_version": "2.0.0",
      "model_name": "HTMLStyleModel",
      "state": {
       "description_width": "",
       "font_size": null,
       "text_color": null
      }
     },
     "247da8472c774425819b52a786b25520": {
      "model_module": "@jupyter-widgets/controls",
      "model_module_version": "2.0.0",
      "model_name": "HTMLStyleModel",
      "state": {
       "description_width": "",
       "font_size": null,
       "text_color": null
      }
     },
     "28ca868d2ad84572a328b37663ec51c2": {
      "model_module": "@jupyter-widgets/controls",
      "model_module_version": "2.0.0",
      "model_name": "HTMLStyleModel",
      "state": {
       "description_width": "",
       "font_size": null,
       "text_color": null
      }
     },
     "300dcf6685284c63b4bc178500615a98": {
      "model_module": "@jupyter-widgets/base",
      "model_module_version": "2.0.0",
      "model_name": "LayoutModel",
      "state": {}
     },
     "389debdd1f24402a97c3e24c04e8de30": {
      "model_module": "@jupyter-widgets/controls",
      "model_module_version": "2.0.0",
      "model_name": "FloatProgressModel",
      "state": {
       "bar_style": "success",
       "layout": "IPY_MODEL_b08d9efea9404cb781725d7a59c4b2dd",
       "max": 500,
       "style": "IPY_MODEL_12bf8ed16ac148708eefefcaf8f438b0",
       "value": 500
      }
     },
     "3a38579b2def4b0eb0ede1aa3cdf152f": {
      "model_module": "@jupyter-widgets/base",
      "model_module_version": "2.0.0",
      "model_name": "LayoutModel",
      "state": {}
     },
     "3ec9e90b32de43558ad7e617c7b2bef5": {
      "model_module": "@jupyter-widgets/controls",
      "model_module_version": "2.0.0",
      "model_name": "ProgressStyleModel",
      "state": {
       "description_width": ""
      }
     },
     "42bc3338c0b94a6e90826b0febf4302d": {
      "model_module": "@jupyter-widgets/controls",
      "model_module_version": "2.0.0",
      "model_name": "ProgressStyleModel",
      "state": {
       "description_width": ""
      }
     },
     "4550dcaae4994eefbb4b212200bcf009": {
      "model_module": "@jupyter-widgets/controls",
      "model_module_version": "2.0.0",
      "model_name": "HTMLStyleModel",
      "state": {
       "description_width": "",
       "font_size": null,
       "text_color": null
      }
     },
     "4605efe064f84b6681309c2e9f0f52cc": {
      "model_module": "@jupyter-widgets/base",
      "model_module_version": "2.0.0",
      "model_name": "LayoutModel",
      "state": {}
     },
     "481c92d1dff846ee832502cddf2abdaf": {
      "model_module": "@jupyter-widgets/controls",
      "model_module_version": "2.0.0",
      "model_name": "HTMLModel",
      "state": {
       "layout": "IPY_MODEL_4a7f26d5a9e148ef951f39bd68af8a09",
       "style": "IPY_MODEL_7ebc1d2d04c84ad789730d529c44168b",
       "value": "100%"
      }
     },
     "4a7f26d5a9e148ef951f39bd68af8a09": {
      "model_module": "@jupyter-widgets/base",
      "model_module_version": "2.0.0",
      "model_name": "LayoutModel",
      "state": {}
     },
     "4b50284982814135a60077e93ae7de10": {
      "model_module": "@jupyter-widgets/controls",
      "model_module_version": "2.0.0",
      "model_name": "ProgressStyleModel",
      "state": {
       "description_width": ""
      }
     },
     "4be02d82cc2745eabc68579be5025511": {
      "model_module": "@jupyter-widgets/controls",
      "model_module_version": "2.0.0",
      "model_name": "HTMLStyleModel",
      "state": {
       "description_width": "",
       "font_size": null,
       "text_color": null
      }
     },
     "4f135c22df6b416d8f3aef520803aaf6": {
      "model_module": "@jupyter-widgets/base",
      "model_module_version": "2.0.0",
      "model_name": "LayoutModel",
      "state": {}
     },
     "4fd29bf921e44240bca4b79850a11ddc": {
      "model_module": "@jupyter-widgets/controls",
      "model_module_version": "2.0.0",
      "model_name": "HTMLModel",
      "state": {
       "layout": "IPY_MODEL_300dcf6685284c63b4bc178500615a98",
       "style": "IPY_MODEL_f6ceef6068894a50b44c2bf39a05df55",
       "value": " 500/500 [00:00&lt;00:00, 488.07it/s]"
      }
     },
     "536f53a5f2174cefa575a4a649880b9a": {
      "model_module": "@jupyter-widgets/controls",
      "model_module_version": "2.0.0",
      "model_name": "HTMLModel",
      "state": {
       "layout": "IPY_MODEL_1621544b0a3e4d2e8320f5c3e6adeb8d",
       "style": "IPY_MODEL_9611516a63954a0193d28abb3ccc7fca",
       "value": " 500/500 [00:01&lt;00:00, 273.06it/s]"
      }
     },
     "5546fed2249d4596adc5ae7bd6246b25": {
      "model_module": "@jupyter-widgets/controls",
      "model_module_version": "2.0.0",
      "model_name": "HBoxModel",
      "state": {
       "children": [
        "IPY_MODEL_145f9111cb9b4e9fb13518320f60c2dc",
        "IPY_MODEL_e4398d0aed8a4a6793e88702d367f965",
        "IPY_MODEL_ba00033d45fd4d32b391c35372a90bf8"
       ],
       "layout": "IPY_MODEL_d65c7c131e33408fa0d09d2ac08ac145"
      }
     },
     "560086f234d342f0a5dae58ca1ef23d2": {
      "model_module": "@jupyter-widgets/controls",
      "model_module_version": "2.0.0",
      "model_name": "HTMLStyleModel",
      "state": {
       "description_width": "",
       "font_size": null,
       "text_color": null
      }
     },
     "568d7bb5b68f42d184dbfe403e583441": {
      "model_module": "@jupyter-widgets/base",
      "model_module_version": "2.0.0",
      "model_name": "LayoutModel",
      "state": {}
     },
     "569e143008f94239bbacb7128eb3d180": {
      "model_module": "@jupyter-widgets/controls",
      "model_module_version": "2.0.0",
      "model_name": "HTMLModel",
      "state": {
       "layout": "IPY_MODEL_e291eb0e2d394b38bf99a5e76fa732bd",
       "style": "IPY_MODEL_a5e20cebf4ad44daabf10dfb24fe9990",
       "value": "100%"
      }
     },
     "5963c4f38d924551870c2ce41e17b724": {
      "model_module": "@jupyter-widgets/controls",
      "model_module_version": "2.0.0",
      "model_name": "HTMLModel",
      "state": {
       "layout": "IPY_MODEL_c6d8059d76db4109a0b7ad67b7f4f4f0",
       "style": "IPY_MODEL_606b50c008874feea2356362bebaa710",
       "value": " 500/500 [00:00&lt;00:00, 884.88it/s]"
      }
     },
     "5a5982956728407192490044ba927eb6": {
      "model_module": "@jupyter-widgets/controls",
      "model_module_version": "2.0.0",
      "model_name": "HTMLStyleModel",
      "state": {
       "description_width": "",
       "font_size": null,
       "text_color": null
      }
     },
     "5c078515a19a42919884372c1f8b0b75": {
      "model_module": "@jupyter-widgets/base",
      "model_module_version": "2.0.0",
      "model_name": "LayoutModel",
      "state": {}
     },
     "5e12a106eb244a23b576441ba35a87a1": {
      "model_module": "@jupyter-widgets/controls",
      "model_module_version": "2.0.0",
      "model_name": "HBoxModel",
      "state": {
       "children": [
        "IPY_MODEL_569e143008f94239bbacb7128eb3d180",
        "IPY_MODEL_b9dc86e1c93a4786862c7ae73e8af7a5",
        "IPY_MODEL_bfb2bb456838469e885f7bf3b8003ac8"
       ],
       "layout": "IPY_MODEL_9434c50b06ba449ab77ec6d897d93792"
      }
     },
     "5e594e6735414c96b9441bda4cc27d95": {
      "model_module": "@jupyter-widgets/base",
      "model_module_version": "2.0.0",
      "model_name": "LayoutModel",
      "state": {}
     },
     "5ef86044384445b98a3599e4543419a2": {
      "model_module": "@jupyter-widgets/controls",
      "model_module_version": "2.0.0",
      "model_name": "HTMLStyleModel",
      "state": {
       "description_width": "",
       "font_size": null,
       "text_color": null
      }
     },
     "606b50c008874feea2356362bebaa710": {
      "model_module": "@jupyter-widgets/controls",
      "model_module_version": "2.0.0",
      "model_name": "HTMLStyleModel",
      "state": {
       "description_width": "",
       "font_size": null,
       "text_color": null
      }
     },
     "66de981ab5654189af06f957301688a0": {
      "model_module": "@jupyter-widgets/controls",
      "model_module_version": "2.0.0",
      "model_name": "HTMLModel",
      "state": {
       "layout": "IPY_MODEL_c3c42f7b104d49289b4961509ff1f161",
       "style": "IPY_MODEL_4550dcaae4994eefbb4b212200bcf009",
       "value": "100%"
      }
     },
     "67a2b9273d574fc7ab6a7eb34ec21039": {
      "model_module": "@jupyter-widgets/controls",
      "model_module_version": "2.0.0",
      "model_name": "HBoxModel",
      "state": {
       "children": [
        "IPY_MODEL_fb4de8ac68734c198e7ee3969298b383",
        "IPY_MODEL_10f0298098ab4948ae4d949ecfb6cb8c",
        "IPY_MODEL_d499968fd03d406c90432071761fd1a8"
       ],
       "layout": "IPY_MODEL_3a38579b2def4b0eb0ede1aa3cdf152f"
      }
     },
     "6a30e1eb742b4efaa9bc1cf10df5ed1c": {
      "model_module": "@jupyter-widgets/controls",
      "model_module_version": "2.0.0",
      "model_name": "HTMLModel",
      "state": {
       "layout": "IPY_MODEL_705a177f252842dfb6319d993ff4e928",
       "style": "IPY_MODEL_0491b157e6a748af9dd627c6cdb70226",
       "value": "100%"
      }
     },
     "6a7af71eb3614b7897bc8522c84dd272": {
      "model_module": "@jupyter-widgets/controls",
      "model_module_version": "2.0.0",
      "model_name": "FloatProgressModel",
      "state": {
       "bar_style": "success",
       "layout": "IPY_MODEL_f6f86a50617c45019f482b360e4a4e00",
       "max": 500,
       "style": "IPY_MODEL_0392a7ed8bf34e9694329b05d91501d9",
       "value": 500
      }
     },
     "6d04fd41a801494bb60d93216afc54e4": {
      "model_module": "@jupyter-widgets/controls",
      "model_module_version": "2.0.0",
      "model_name": "ProgressStyleModel",
      "state": {
       "description_width": ""
      }
     },
     "6ecc6c9f604b4c84a365e15ebd59f089": {
      "model_module": "@jupyter-widgets/controls",
      "model_module_version": "2.0.0",
      "model_name": "HTMLStyleModel",
      "state": {
       "description_width": "",
       "font_size": null,
       "text_color": null
      }
     },
     "6f34a7bebefc4796873259b69b3fd2b6": {
      "model_module": "@jupyter-widgets/controls",
      "model_module_version": "2.0.0",
      "model_name": "HTMLModel",
      "state": {
       "layout": "IPY_MODEL_020781f436de49b18028880cadadf248",
       "style": "IPY_MODEL_5a5982956728407192490044ba927eb6",
       "value": "100%"
      }
     },
     "705a177f252842dfb6319d993ff4e928": {
      "model_module": "@jupyter-widgets/base",
      "model_module_version": "2.0.0",
      "model_name": "LayoutModel",
      "state": {}
     },
     "707e2ca4664142b883b772af77b67609": {
      "model_module": "@jupyter-widgets/base",
      "model_module_version": "2.0.0",
      "model_name": "LayoutModel",
      "state": {}
     },
     "71566b0cc515430e9958c6d05cb838cd": {
      "model_module": "@jupyter-widgets/base",
      "model_module_version": "2.0.0",
      "model_name": "LayoutModel",
      "state": {}
     },
     "73527cf1b86f4a608b5eed24cc9be840": {
      "model_module": "@jupyter-widgets/controls",
      "model_module_version": "2.0.0",
      "model_name": "ProgressStyleModel",
      "state": {
       "description_width": ""
      }
     },
     "77faf13ebfdf4a5e8af873276acd2dfe": {
      "model_module": "@jupyter-widgets/base",
      "model_module_version": "2.0.0",
      "model_name": "LayoutModel",
      "state": {}
     },
     "78c388c7b93b4fec976bdeeede9b56bb": {
      "model_module": "@jupyter-widgets/base",
      "model_module_version": "2.0.0",
      "model_name": "LayoutModel",
      "state": {}
     },
     "7926be24babf45eebfa4e1d3c57b6104": {
      "model_module": "@jupyter-widgets/controls",
      "model_module_version": "2.0.0",
      "model_name": "HTMLStyleModel",
      "state": {
       "description_width": "",
       "font_size": null,
       "text_color": null
      }
     },
     "7bf93f290d34425da871e228d0533689": {
      "model_module": "@jupyter-widgets/base",
      "model_module_version": "2.0.0",
      "model_name": "LayoutModel",
      "state": {}
     },
     "7ebc1d2d04c84ad789730d529c44168b": {
      "model_module": "@jupyter-widgets/controls",
      "model_module_version": "2.0.0",
      "model_name": "HTMLStyleModel",
      "state": {
       "description_width": "",
       "font_size": null,
       "text_color": null
      }
     },
     "823421938bba44a2ac6b3e0447072549": {
      "model_module": "@jupyter-widgets/controls",
      "model_module_version": "2.0.0",
      "model_name": "FloatProgressModel",
      "state": {
       "bar_style": "success",
       "layout": "IPY_MODEL_89f08bb22e3a40b99dd7b99e2ca3ce34",
       "max": 500,
       "style": "IPY_MODEL_cbf96477b0114a59a225bd7b1d57760b",
       "value": 500
      }
     },
     "8534b3172bc648219b65dd2b7db0f29e": {
      "model_module": "@jupyter-widgets/controls",
      "model_module_version": "2.0.0",
      "model_name": "HTMLStyleModel",
      "state": {
       "description_width": "",
       "font_size": null,
       "text_color": null
      }
     },
     "862b4544d14f4f4d86e8523d8d62e544": {
      "model_module": "@jupyter-widgets/controls",
      "model_module_version": "2.0.0",
      "model_name": "FloatProgressModel",
      "state": {
       "bar_style": "success",
       "layout": "IPY_MODEL_4605efe064f84b6681309c2e9f0f52cc",
       "max": 500,
       "style": "IPY_MODEL_73527cf1b86f4a608b5eed24cc9be840",
       "value": 500
      }
     },
     "87b3dd3aa38a4d85893367e4d2570cc1": {
      "model_module": "@jupyter-widgets/base",
      "model_module_version": "2.0.0",
      "model_name": "LayoutModel",
      "state": {}
     },
     "89f08bb22e3a40b99dd7b99e2ca3ce34": {
      "model_module": "@jupyter-widgets/base",
      "model_module_version": "2.0.0",
      "model_name": "LayoutModel",
      "state": {}
     },
     "8a4cc6627f0742748b90ad1098caf59f": {
      "model_module": "@jupyter-widgets/base",
      "model_module_version": "2.0.0",
      "model_name": "LayoutModel",
      "state": {}
     },
     "8b994942790345e1a5d9160a0bf5be57": {
      "model_module": "@jupyter-widgets/base",
      "model_module_version": "2.0.0",
      "model_name": "LayoutModel",
      "state": {}
     },
     "902e8d0d99494723b3dabae57bc604ae": {
      "model_module": "@jupyter-widgets/base",
      "model_module_version": "2.0.0",
      "model_name": "LayoutModel",
      "state": {}
     },
     "930f8e69f5cc446494193d32e3463d71": {
      "model_module": "@jupyter-widgets/controls",
      "model_module_version": "2.0.0",
      "model_name": "HBoxModel",
      "state": {
       "children": [
        "IPY_MODEL_f0e25bec8c854ea19b38ebd18314ead9",
        "IPY_MODEL_823421938bba44a2ac6b3e0447072549",
        "IPY_MODEL_ab64bf92ebb14c7e8dec1976177e1e91"
       ],
       "layout": "IPY_MODEL_5c078515a19a42919884372c1f8b0b75"
      }
     },
     "938aeb32413c48b8bc7c2b875e46d83e": {
      "model_module": "@jupyter-widgets/base",
      "model_module_version": "2.0.0",
      "model_name": "LayoutModel",
      "state": {}
     },
     "9434c50b06ba449ab77ec6d897d93792": {
      "model_module": "@jupyter-widgets/base",
      "model_module_version": "2.0.0",
      "model_name": "LayoutModel",
      "state": {}
     },
     "9597465eb9d74223ac75ef10fe391cbc": {
      "model_module": "@jupyter-widgets/base",
      "model_module_version": "2.0.0",
      "model_name": "LayoutModel",
      "state": {}
     },
     "95e832b6c6a146deaa7cf48fc2170dc7": {
      "model_module": "@jupyter-widgets/controls",
      "model_module_version": "2.0.0",
      "model_name": "HTMLModel",
      "state": {
       "layout": "IPY_MODEL_092eadbe8f1a4a9cab78c7d095f3b24a",
       "style": "IPY_MODEL_8534b3172bc648219b65dd2b7db0f29e",
       "value": "100%"
      }
     },
     "9611516a63954a0193d28abb3ccc7fca": {
      "model_module": "@jupyter-widgets/controls",
      "model_module_version": "2.0.0",
      "model_name": "HTMLStyleModel",
      "state": {
       "description_width": "",
       "font_size": null,
       "text_color": null
      }
     },
     "99ca19a7bc684871967e62d290ee963f": {
      "model_module": "@jupyter-widgets/base",
      "model_module_version": "2.0.0",
      "model_name": "LayoutModel",
      "state": {}
     },
     "9d8952fc10b140a69f8194fd8dd25131": {
      "model_module": "@jupyter-widgets/controls",
      "model_module_version": "2.0.0",
      "model_name": "HTMLModel",
      "state": {
       "layout": "IPY_MODEL_cba6071a5b044d9d81dffa26c4f96721",
       "style": "IPY_MODEL_e14f4cbfd7c94485997f14a302f1eec5",
       "value": " 500/500 [00:00&lt;00:00, 686.46it/s]"
      }
     },
     "9e1d76dc52614c4e91cb5c50d9b5f574": {
      "model_module": "@jupyter-widgets/controls",
      "model_module_version": "2.0.0",
      "model_name": "FloatProgressModel",
      "state": {
       "bar_style": "success",
       "layout": "IPY_MODEL_99ca19a7bc684871967e62d290ee963f",
       "max": 500,
       "style": "IPY_MODEL_3ec9e90b32de43558ad7e617c7b2bef5",
       "value": 500
      }
     },
     "a210db35ca5c46dcbee01bae53e08de8": {
      "model_module": "@jupyter-widgets/controls",
      "model_module_version": "2.0.0",
      "model_name": "HTMLModel",
      "state": {
       "layout": "IPY_MODEL_10bf84314e2e4f8fabb6cf8430ca8935",
       "style": "IPY_MODEL_af7c33e6038a40aa9fd1a3de48fb160d",
       "value": "100%"
      }
     },
     "a23dc3ae558f429495196f8e2926fc08": {
      "model_module": "@jupyter-widgets/controls",
      "model_module_version": "2.0.0",
      "model_name": "FloatProgressModel",
      "state": {
       "bar_style": "success",
       "layout": "IPY_MODEL_a8b7675a246b42b98d1992588b910419",
       "max": 500,
       "style": "IPY_MODEL_a2ee0629932b4cfba04b709967474640",
       "value": 500
      }
     },
     "a2ee0629932b4cfba04b709967474640": {
      "model_module": "@jupyter-widgets/controls",
      "model_module_version": "2.0.0",
      "model_name": "ProgressStyleModel",
      "state": {
       "description_width": ""
      }
     },
     "a5e20cebf4ad44daabf10dfb24fe9990": {
      "model_module": "@jupyter-widgets/controls",
      "model_module_version": "2.0.0",
      "model_name": "HTMLStyleModel",
      "state": {
       "description_width": "",
       "font_size": null,
       "text_color": null
      }
     },
     "a63cfd21157447138e1e5b97d2f6d452": {
      "model_module": "@jupyter-widgets/controls",
      "model_module_version": "2.0.0",
      "model_name": "HBoxModel",
      "state": {
       "children": [
        "IPY_MODEL_d6b9a26fb6c249349077443eec2fcdea",
        "IPY_MODEL_b13d3e1dc23b49ad97ddc2f5caf982bc",
        "IPY_MODEL_5963c4f38d924551870c2ce41e17b724"
       ],
       "layout": "IPY_MODEL_f15f467430164dceaacff90c4ac06e41"
      }
     },
     "a770f3a1bb87472f8ded16e570f5e854": {
      "model_module": "@jupyter-widgets/controls",
      "model_module_version": "2.0.0",
      "model_name": "HBoxModel",
      "state": {
       "children": [
        "IPY_MODEL_95e832b6c6a146deaa7cf48fc2170dc7",
        "IPY_MODEL_6a7af71eb3614b7897bc8522c84dd272",
        "IPY_MODEL_fe14396267c049839b4542d02a392473"
       ],
       "layout": "IPY_MODEL_cd02682e1ee944d7a3be1a0f829eb198"
      }
     },
     "a8b7675a246b42b98d1992588b910419": {
      "model_module": "@jupyter-widgets/base",
      "model_module_version": "2.0.0",
      "model_name": "LayoutModel",
      "state": {}
     },
     "ab64bf92ebb14c7e8dec1976177e1e91": {
      "model_module": "@jupyter-widgets/controls",
      "model_module_version": "2.0.0",
      "model_name": "HTMLModel",
      "state": {
       "layout": "IPY_MODEL_8a4cc6627f0742748b90ad1098caf59f",
       "style": "IPY_MODEL_560086f234d342f0a5dae58ca1ef23d2",
       "value": " 500/500 [00:01&lt;00:00, 523.47it/s]"
      }
     },
     "af7c33e6038a40aa9fd1a3de48fb160d": {
      "model_module": "@jupyter-widgets/controls",
      "model_module_version": "2.0.0",
      "model_name": "HTMLStyleModel",
      "state": {
       "description_width": "",
       "font_size": null,
       "text_color": null
      }
     },
     "b08d9efea9404cb781725d7a59c4b2dd": {
      "model_module": "@jupyter-widgets/base",
      "model_module_version": "2.0.0",
      "model_name": "LayoutModel",
      "state": {}
     },
     "b11f90a91118406c8cf0206de0407346": {
      "model_module": "@jupyter-widgets/controls",
      "model_module_version": "2.0.0",
      "model_name": "HTMLStyleModel",
      "state": {
       "description_width": "",
       "font_size": null,
       "text_color": null
      }
     },
     "b13d3e1dc23b49ad97ddc2f5caf982bc": {
      "model_module": "@jupyter-widgets/controls",
      "model_module_version": "2.0.0",
      "model_name": "FloatProgressModel",
      "state": {
       "bar_style": "success",
       "layout": "IPY_MODEL_f90deb7eb1074eb1b782a21c30af6670",
       "max": 500,
       "style": "IPY_MODEL_6d04fd41a801494bb60d93216afc54e4",
       "value": 500
      }
     },
     "b7649cddc82e459eb9da4bdda8f4d87c": {
      "model_module": "@jupyter-widgets/controls",
      "model_module_version": "2.0.0",
      "model_name": "HBoxModel",
      "state": {
       "children": [
        "IPY_MODEL_6f34a7bebefc4796873259b69b3fd2b6",
        "IPY_MODEL_cb81db62748b44ac9480eb9c03c7c5b1",
        "IPY_MODEL_f8bec954c9d74ce394d2d987c28b71be"
       ],
       "layout": "IPY_MODEL_1ad0d12829924d348a7d3b7ea010e16d"
      }
     },
     "b9dc86e1c93a4786862c7ae73e8af7a5": {
      "model_module": "@jupyter-widgets/controls",
      "model_module_version": "2.0.0",
      "model_name": "FloatProgressModel",
      "state": {
       "bar_style": "success",
       "layout": "IPY_MODEL_5e594e6735414c96b9441bda4cc27d95",
       "max": 500,
       "style": "IPY_MODEL_0a7c1f9a9cfe4532b002747897333ce0",
       "value": 500
      }
     },
     "ba00033d45fd4d32b391c35372a90bf8": {
      "model_module": "@jupyter-widgets/controls",
      "model_module_version": "2.0.0",
      "model_name": "HTMLModel",
      "state": {
       "layout": "IPY_MODEL_78c388c7b93b4fec976bdeeede9b56bb",
       "style": "IPY_MODEL_b11f90a91118406c8cf0206de0407346",
       "value": " 500/500 [00:00&lt;00:00, 696.79it/s]"
      }
     },
     "bf4d102b7cd84bab83481b412911c8b3": {
      "model_module": "@jupyter-widgets/controls",
      "model_module_version": "2.0.0",
      "model_name": "HTMLStyleModel",
      "state": {
       "description_width": "",
       "font_size": null,
       "text_color": null
      }
     },
     "bfb2bb456838469e885f7bf3b8003ac8": {
      "model_module": "@jupyter-widgets/controls",
      "model_module_version": "2.0.0",
      "model_name": "HTMLModel",
      "state": {
       "layout": "IPY_MODEL_902e8d0d99494723b3dabae57bc604ae",
       "style": "IPY_MODEL_4be02d82cc2745eabc68579be5025511",
       "value": " 500/500 [00:01&lt;00:00, 409.25it/s]"
      }
     },
     "c3c42f7b104d49289b4961509ff1f161": {
      "model_module": "@jupyter-widgets/base",
      "model_module_version": "2.0.0",
      "model_name": "LayoutModel",
      "state": {}
     },
     "c63614e74cb54670bf62fe833e79eb3e": {
      "model_module": "@jupyter-widgets/controls",
      "model_module_version": "2.0.0",
      "model_name": "HBoxModel",
      "state": {
       "children": [
        "IPY_MODEL_481c92d1dff846ee832502cddf2abdaf",
        "IPY_MODEL_9e1d76dc52614c4e91cb5c50d9b5f574",
        "IPY_MODEL_4fd29bf921e44240bca4b79850a11ddc"
       ],
       "layout": "IPY_MODEL_7bf93f290d34425da871e228d0533689"
      }
     },
     "c6d8059d76db4109a0b7ad67b7f4f4f0": {
      "model_module": "@jupyter-widgets/base",
      "model_module_version": "2.0.0",
      "model_name": "LayoutModel",
      "state": {}
     },
     "c73ab3aec11840b7bac1121fe10ad35d": {
      "model_module": "@jupyter-widgets/base",
      "model_module_version": "2.0.0",
      "model_name": "LayoutModel",
      "state": {}
     },
     "c7a8c768f37c41b9adc3281c66255497": {
      "model_module": "@jupyter-widgets/controls",
      "model_module_version": "2.0.0",
      "model_name": "HBoxModel",
      "state": {
       "children": [
        "IPY_MODEL_a210db35ca5c46dcbee01bae53e08de8",
        "IPY_MODEL_389debdd1f24402a97c3e24c04e8de30",
        "IPY_MODEL_0efed8aef6b44e7d8acd7b1361a7ebea"
       ],
       "layout": "IPY_MODEL_045de5789cfd4fe59a5e0039cbb78aec"
      }
     },
     "c8b27124b87546cf84c56609f986ebc1": {
      "model_module": "@jupyter-widgets/controls",
      "model_module_version": "2.0.0",
      "model_name": "ProgressStyleModel",
      "state": {
       "description_width": ""
      }
     },
     "cb81db62748b44ac9480eb9c03c7c5b1": {
      "model_module": "@jupyter-widgets/controls",
      "model_module_version": "2.0.0",
      "model_name": "FloatProgressModel",
      "state": {
       "bar_style": "success",
       "layout": "IPY_MODEL_4f135c22df6b416d8f3aef520803aaf6",
       "max": 500,
       "style": "IPY_MODEL_c8b27124b87546cf84c56609f986ebc1",
       "value": 500
      }
     },
     "cba6071a5b044d9d81dffa26c4f96721": {
      "model_module": "@jupyter-widgets/base",
      "model_module_version": "2.0.0",
      "model_name": "LayoutModel",
      "state": {}
     },
     "cbf96477b0114a59a225bd7b1d57760b": {
      "model_module": "@jupyter-widgets/controls",
      "model_module_version": "2.0.0",
      "model_name": "ProgressStyleModel",
      "state": {
       "description_width": ""
      }
     },
     "cd02682e1ee944d7a3be1a0f829eb198": {
      "model_module": "@jupyter-widgets/base",
      "model_module_version": "2.0.0",
      "model_name": "LayoutModel",
      "state": {}
     },
     "d499968fd03d406c90432071761fd1a8": {
      "model_module": "@jupyter-widgets/controls",
      "model_module_version": "2.0.0",
      "model_name": "HTMLModel",
      "state": {
       "layout": "IPY_MODEL_568d7bb5b68f42d184dbfe403e583441",
       "style": "IPY_MODEL_bf4d102b7cd84bab83481b412911c8b3",
       "value": " 500/500 [00:01&lt;00:00, 509.92it/s]"
      }
     },
     "d65c7c131e33408fa0d09d2ac08ac145": {
      "model_module": "@jupyter-widgets/base",
      "model_module_version": "2.0.0",
      "model_name": "LayoutModel",
      "state": {}
     },
     "d6b9a26fb6c249349077443eec2fcdea": {
      "model_module": "@jupyter-widgets/controls",
      "model_module_version": "2.0.0",
      "model_name": "HTMLModel",
      "state": {
       "layout": "IPY_MODEL_0c406060fb5444c6bd0d0f201e73df6b",
       "style": "IPY_MODEL_1d30f08f00524bb78c9834b540e8a26a",
       "value": "100%"
      }
     },
     "d8621d665f51434aab4bf4e8e1750a4c": {
      "model_module": "@jupyter-widgets/controls",
      "model_module_version": "2.0.0",
      "model_name": "HTMLStyleModel",
      "state": {
       "description_width": "",
       "font_size": null,
       "text_color": null
      }
     },
     "da9d512ac966496390634a5e773867e1": {
      "model_module": "@jupyter-widgets/base",
      "model_module_version": "2.0.0",
      "model_name": "LayoutModel",
      "state": {}
     },
     "e14f4cbfd7c94485997f14a302f1eec5": {
      "model_module": "@jupyter-widgets/controls",
      "model_module_version": "2.0.0",
      "model_name": "HTMLStyleModel",
      "state": {
       "description_width": "",
       "font_size": null,
       "text_color": null
      }
     },
     "e291eb0e2d394b38bf99a5e76fa732bd": {
      "model_module": "@jupyter-widgets/base",
      "model_module_version": "2.0.0",
      "model_name": "LayoutModel",
      "state": {}
     },
     "e4398d0aed8a4a6793e88702d367f965": {
      "model_module": "@jupyter-widgets/controls",
      "model_module_version": "2.0.0",
      "model_name": "FloatProgressModel",
      "state": {
       "bar_style": "success",
       "layout": "IPY_MODEL_c73ab3aec11840b7bac1121fe10ad35d",
       "max": 500,
       "style": "IPY_MODEL_4b50284982814135a60077e93ae7de10",
       "value": 500
      }
     },
     "f0e25bec8c854ea19b38ebd18314ead9": {
      "model_module": "@jupyter-widgets/controls",
      "model_module_version": "2.0.0",
      "model_name": "HTMLModel",
      "state": {
       "layout": "IPY_MODEL_77faf13ebfdf4a5e8af873276acd2dfe",
       "style": "IPY_MODEL_d8621d665f51434aab4bf4e8e1750a4c",
       "value": "100%"
      }
     },
     "f15f467430164dceaacff90c4ac06e41": {
      "model_module": "@jupyter-widgets/base",
      "model_module_version": "2.0.0",
      "model_name": "LayoutModel",
      "state": {}
     },
     "f2316d29dcb049ea842e0c52c05c3840": {
      "model_module": "@jupyter-widgets/controls",
      "model_module_version": "2.0.0",
      "model_name": "HBoxModel",
      "state": {
       "children": [
        "IPY_MODEL_6a30e1eb742b4efaa9bc1cf10df5ed1c",
        "IPY_MODEL_a23dc3ae558f429495196f8e2926fc08",
        "IPY_MODEL_536f53a5f2174cefa575a4a649880b9a"
       ],
       "layout": "IPY_MODEL_ffb57fc3f6cb4e208b989ae92cc54701"
      }
     },
     "f6ceef6068894a50b44c2bf39a05df55": {
      "model_module": "@jupyter-widgets/controls",
      "model_module_version": "2.0.0",
      "model_name": "HTMLStyleModel",
      "state": {
       "description_width": "",
       "font_size": null,
       "text_color": null
      }
     },
     "f6f86a50617c45019f482b360e4a4e00": {
      "model_module": "@jupyter-widgets/base",
      "model_module_version": "2.0.0",
      "model_name": "LayoutModel",
      "state": {}
     },
     "f8bec954c9d74ce394d2d987c28b71be": {
      "model_module": "@jupyter-widgets/controls",
      "model_module_version": "2.0.0",
      "model_name": "HTMLModel",
      "state": {
       "layout": "IPY_MODEL_707e2ca4664142b883b772af77b67609",
       "style": "IPY_MODEL_5ef86044384445b98a3599e4543419a2",
       "value": " 500/500 [00:00&lt;00:00, 900.25it/s]"
      }
     },
     "f90deb7eb1074eb1b782a21c30af6670": {
      "model_module": "@jupyter-widgets/base",
      "model_module_version": "2.0.0",
      "model_name": "LayoutModel",
      "state": {}
     },
     "fb4de8ac68734c198e7ee3969298b383": {
      "model_module": "@jupyter-widgets/controls",
      "model_module_version": "2.0.0",
      "model_name": "HTMLModel",
      "state": {
       "layout": "IPY_MODEL_71566b0cc515430e9958c6d05cb838cd",
       "style": "IPY_MODEL_247da8472c774425819b52a786b25520",
       "value": "100%"
      }
     },
     "fe14396267c049839b4542d02a392473": {
      "model_module": "@jupyter-widgets/controls",
      "model_module_version": "2.0.0",
      "model_name": "HTMLModel",
      "state": {
       "layout": "IPY_MODEL_938aeb32413c48b8bc7c2b875e46d83e",
       "style": "IPY_MODEL_7926be24babf45eebfa4e1d3c57b6104",
       "value": " 500/500 [00:00&lt;00:00, 1021.36it/s]"
      }
     },
     "ffb57fc3f6cb4e208b989ae92cc54701": {
      "model_module": "@jupyter-widgets/base",
      "model_module_version": "2.0.0",
      "model_name": "LayoutModel",
      "state": {}
     }
    },
    "version_major": 2,
    "version_minor": 0
   }
  }
 },
 "nbformat": 4,
 "nbformat_minor": 5
}
