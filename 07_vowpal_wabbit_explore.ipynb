{
 "cells": [
  {
   "cell_type": "code",
   "execution_count": 152,
   "id": "be811ed5-d61c-44f7-b3ca-7cb7bb5193e9",
   "metadata": {},
   "outputs": [
    {
     "name": "stderr",
     "output_type": "stream",
     "text": [
      "using no cache\n",
      "Reading datafile = none\n",
      "num sources = 0\n",
      "Num weight bits = 18\n",
      "learning rate = 0.5\n",
      "initial_t = 0\n",
      "power_t = 0.5\n",
      "cb_type = mtr\n",
      "Enabled learners: gd, scorer-identity, csoaa_ldf-rank, cb_adf, cb_explore_adf_bag, shared_feature_merger, cb_to_cbadf\n",
      "Input label = CB\n",
      "Output pred = ACTION_PROBS\n",
      "average  since         example        example        current        current  current\n",
      "loss     last          counter         weight          label        predict features\n",
      "\n",
      "finished run\n",
      "number of examples = 4194\n",
      "weighted example sum = 4194.000000\n",
      "weighted label sum = 0.000000\n",
      "average loss = 0.773963\n",
      "total feature number = 67104\n"
     ]
    }
   ],
   "source": [
    "# !poetry run python -m vowpalwabbit -d train.dat --cb_explore 4 --bag 5\n",
    "import vowpalwabbit\n",
    "\n",
    "vw = vowpalwabbit.Workspace(\"--cb_explore 4 --bag 5\", quiet=False)"
   ]
  },
  {
   "cell_type": "code",
   "execution_count": 153,
   "id": "64fb8c1d-ce0b-4b72-a2a5-fadab1d1eb10",
   "metadata": {},
   "outputs": [],
   "source": [
    "use_train = False\n",
    "if use_train:\n",
    "    with open(\"train.dat\") as f:\n",
    "        for line in f:\n",
    "            line = line.strip()\n",
    "            print(line)\n",
    "            vw.learn(line)"
   ]
  },
  {
   "cell_type": "code",
   "execution_count": 154,
   "id": "39d0f414-f5bb-428c-9d59-a97f5a041129",
   "metadata": {},
   "outputs": [],
   "source": [
    "def sample_custom_pmf(pmf):\n",
    "    total = sum(pmf)\n",
    "    scale = 1 / total\n",
    "    pmf = [x * scale for x in pmf]\n",
    "    draw = random.random()\n",
    "    sum_prob = 0.0\n",
    "    for index, prob in enumerate(pmf):\n",
    "        sum_prob += prob\n",
    "        if sum_prob > draw:\n",
    "            return index, prob"
   ]
  },
  {
   "cell_type": "code",
   "execution_count": 155,
   "id": "b26809a6-a3c2-4b83-91f3-b03f4f657e16",
   "metadata": {},
   "outputs": [],
   "source": [
    "def sample_custom_pmf(pmf):\n",
    "    action = np.argmax(pmf)\n",
    "    return action, pmf[action]"
   ]
  },
  {
   "cell_type": "code",
   "execution_count": 156,
   "id": "83622386-6e31-40a9-9b99-f2acf3a21649",
   "metadata": {},
   "outputs": [],
   "source": [
    "import random\n",
    "\n",
    "import numpy as np\n",
    "\n",
    "while False:\n",
    "    pmf = vw.predict(\"| a b c\")\n",
    "    action, probability = sample_custom_pmf(pmf)\n",
    "    print(\"showing action:\", action + 1)\n",
    "    value = input(\"enter y, n or q:\")\n",
    "    if value == \"q\":\n",
    "        break\n",
    "    # Cost must be -tive for positive rewards.\n",
    "    cost = -1 if value == \"y\" else 1\n",
    "    # Action index starts from 1\n",
    "    vw.learn(f\"{action+1}:{cost}:{probability} | a b c\")\n",
    "    print(f\"{action+1}:{cost}:{probability} | a b c\")"
   ]
  },
  {
   "cell_type": "code",
   "execution_count": 157,
   "id": "2202a85f-23cd-42de-aef9-b16b29a97ad5",
   "metadata": {},
   "outputs": [
    {
     "name": "stderr",
     "output_type": "stream",
     "text": [
      "n.a.     n.a.                1            1.0        unknown         0:0.25       16\n",
      "0.000000 0.000000            2            2.0       0:0:0.25         0:0.25       16\n",
      "0.000000 0.000000            4            4.0       0:0:0.25         0:0.25       16\n",
      "0.000000 0.000000            8            8.0       0:0:0.25         0:0.25       16\n",
      "0.125000 0.250000           16           16.0       1:0:0.32         1:0.32       16\n",
      "0.187500 0.250000           32           32.0       2:1:0.37         2:0.37       16\n",
      "0.500000 0.812500           64           64.0        2:1:0.8          2:0.8       16\n",
      "0.593750 0.687500          128          128.0        2:1:0.6          2:0.6       16\n",
      "0.609375 0.625000          256          256.0        3:1:0.4          3:0.4       16\n",
      "0.613281 0.617188          512          512.0        3:0:0.8          3:0.8       16\n",
      "0.644531 0.675781         1024         1024.0        2:1:0.8          2:0.8       16\n"
     ]
    }
   ],
   "source": [
    "import random\n",
    "from collections import defaultdict\n",
    "\n",
    "import numpy as np\n",
    "\n",
    "cost_sum = 0.0\n",
    "ctr = []\n",
    "success = defaultdict(int)\n",
    "\n",
    "\n",
    "for i in range(1, 1000):\n",
    "    pmf = vw.predict(\"| a b c\")\n",
    "    action, probability = sample_custom_pmf(pmf)\n",
    "    # Cost must be +tive for positive rewards.\n",
    "    cost = np.random.binomial(1, p=probability)\n",
    "    # Action index starts from 1\n",
    "    success[action] += 1\n",
    "    vw.learn(f\"{action+1}:{cost}:{probability} | a b c\")\n",
    "    # print(f\"{action+1}:{cost}:{probability} | a b c\")\n",
    "    cost_sum += cost\n",
    "    ctr.append(cost_sum / i)"
   ]
  },
  {
   "cell_type": "code",
   "execution_count": 158,
   "id": "25bdc4c7-3beb-4fd6-877f-f56707a56441",
   "metadata": {},
   "outputs": [
    {
     "data": {
      "text/plain": [
       "[<matplotlib.lines.Line2D at 0x1181a3640>]"
      ]
     },
     "execution_count": 158,
     "metadata": {},
     "output_type": "execute_result"
    },
    {
     "data": {
      "image/png": "[encoded data removed]",
      "text/plain": [
       "<Figure size 640x480 with 1 Axes>"
      ]
     },
     "metadata": {},
     "output_type": "display_data"
    }
   ],
   "source": [
    "import matplotlib.pyplot as plt\n",
    "\n",
    "plt.plot(range(1, 1000), ctr)"
   ]
  },
  {
   "cell_type": "code",
   "execution_count": 159,
   "id": "8ff63782-fd93-48c4-acce-414a7180799a",
   "metadata": {},
   "outputs": [
    {
     "data": {
      "text/plain": [
       "defaultdict(int, {0: 41, 1: 10, 2: 547, 3: 401})"
      ]
     },
     "execution_count": 159,
     "metadata": {},
     "output_type": "execute_result"
    }
   ],
   "source": [
    "success"
   ]
  },
  {
   "cell_type": "code",
   "execution_count": 151,
   "id": "616ed73f-3cda-43ac-bdad-1a6e9c1a7432",
   "metadata": {},
   "outputs": [
    {
     "data": {
      "text/plain": [
       "802.0"
      ]
     },
     "execution_count": 151,
     "metadata": {},
     "output_type": "execute_result"
    }
   ],
   "source": [
    "cost_sum"
   ]
  },
  {
   "cell_type": "code",
   "execution_count": null,
   "id": "bf1cd51f-08d2-4b9b-9298-29b5ea78949d",
   "metadata": {},
   "outputs": [],
   "source": []
  }
 ],
 "metadata": {
  "kernelspec": {
   "display_name": "Python 3 (ipykernel)",
   "language": "python",
   "name": "python3"
  },
  "language_info": {
   "codemirror_mode": {
    "name": "ipython",
    "version": 3
   },
   "file_extension": ".py",
   "mimetype": "text/x-python",
   "name": "python",
   "nbconvert_exporter": "python",
   "pygments_lexer": "ipython3",
   "version": "3.10.13"
  },
  "widgets": {
   "application/vnd.jupyter.widget-state+json": {
    "state": {},
    "version_major": 2,
    "version_minor": 0
   }
  }
 },
 "nbformat": 4,
 "nbformat_minor": 5
}
