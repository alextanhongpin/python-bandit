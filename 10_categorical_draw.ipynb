{
 "cells": [
  {
   "cell_type": "markdown",
   "id": "73048746-4da3-46c1-b739-447502712f3d",
   "metadata": {},
   "source": [
    "# Categorical Draw\n",
    "\n",
    "What is categorical draw?\n",
    "\n",
    "In simpler terms, a categorical distribution is a type of probability distribution that can be used when a random variable can fall into one of several different categories. Each category has its own separate probability. The categories don't have a specific order, but we often assign numbers to them just to make things easier. The probabilities for each category must be between 0 and 1, and if you add up all the probabilities, the total must be 1. This type of distribution is very flexible and can be used to model any situation where you have a fixed number of discrete outcomes."
   ]
  },
  {
   "cell_type": "code",
   "execution_count": 36,
   "id": "616039d8-02d8-4ac7-bd1a-7b4acdd9cc2c",
   "metadata": {
    "execution": {
     "iopub.execute_input": "2024-01-17T16:47:48.952830Z",
     "iopub.status.busy": "2024-01-17T16:47:48.940010Z",
     "iopub.status.idle": "2024-01-17T16:47:48.973733Z",
     "shell.execute_reply": "2024-01-17T16:47:48.971419Z",
     "shell.execute_reply.started": "2024-01-17T16:47:48.952630Z"
    }
   },
   "outputs": [],
   "source": [
    "from collections import Counter\n",
    "\n",
    "import numpy as np"
   ]
  },
  {
   "cell_type": "markdown",
   "id": "057a38f4-08d9-41e7-b3cc-695e5cce0aa4",
   "metadata": {},
   "source": [
    "The easiest way to implement categorical draw is to use `np.random.choice`, where you can specify the probability `p` of each categories."
   ]
  },
  {
   "cell_type": "code",
   "execution_count": 40,
   "id": "897e6405-3e5d-483f-811a-82fc1731eb96",
   "metadata": {
    "execution": {
     "iopub.execute_input": "2024-01-17T16:49:04.137011Z",
     "iopub.status.busy": "2024-01-17T16:49:04.125889Z",
     "iopub.status.idle": "2024-01-17T16:49:04.213428Z",
     "shell.execute_reply": "2024-01-17T16:49:04.210768Z",
     "shell.execute_reply.started": "2024-01-17T16:49:04.136956Z"
    }
   },
   "outputs": [
    {
     "data": {
      "text/plain": [
       "Counter({'kiwi': 594, 'banana': 309, 'apple': 97})"
      ]
     },
     "execution_count": 40,
     "metadata": {},
     "output_type": "execute_result"
    }
   ],
   "source": [
    "categories = [\"apple\", \"banana\", \"kiwi\"]\n",
    "probabilities = [0.1, 0.3, 0.6]\n",
    "n = 1000\n",
    "Counter(np.random.choice(categories, n, p=probabilities))"
   ]
  },
  {
   "cell_type": "markdown",
   "id": "7a147bdf-0a9e-4b16-bb3b-12afbd9a6d40",
   "metadata": {},
   "source": [
    "To sample a single value, we can just do this:"
   ]
  },
  {
   "cell_type": "code",
   "execution_count": 44,
   "id": "53c979e0-3fce-4b76-9496-1f5d8f340b45",
   "metadata": {
    "execution": {
     "iopub.execute_input": "2024-01-17T18:28:07.135625Z",
     "iopub.status.busy": "2024-01-17T18:28:07.132381Z",
     "iopub.status.idle": "2024-01-17T18:28:07.184030Z",
     "shell.execute_reply": "2024-01-17T18:28:07.181550Z",
     "shell.execute_reply.started": "2024-01-17T18:28:07.135486Z"
    }
   },
   "outputs": [
    {
     "data": {
      "text/plain": [
       "'banana'"
      ]
     },
     "execution_count": 44,
     "metadata": {},
     "output_type": "execute_result"
    }
   ],
   "source": [
    "np.random.choice(categories, p=probabilities)"
   ]
  },
  {
   "cell_type": "code",
   "execution_count": 47,
   "id": "de66c2b3-a7ad-4664-b389-c2737c8cb2ba",
   "metadata": {
    "execution": {
     "iopub.execute_input": "2024-01-17T18:28:32.756085Z",
     "iopub.status.busy": "2024-01-17T18:28:32.748169Z",
     "iopub.status.idle": "2024-01-17T18:28:32.797431Z",
     "shell.execute_reply": "2024-01-17T18:28:32.794449Z",
     "shell.execute_reply.started": "2024-01-17T18:28:32.756003Z"
    }
   },
   "outputs": [
    {
     "data": {
      "text/plain": [
       "Counter({'no': 899, 'yes': 101})"
      ]
     },
     "execution_count": 47,
     "metadata": {},
     "output_type": "execute_result"
    }
   ],
   "source": [
    "Counter(np.random.choice([\"yes\", \"no\"], 1000, p=[0.1, 0.9]))"
   ]
  },
  {
   "cell_type": "markdown",
   "id": "6f0644d7-9aba-4eac-9a8b-83cb12052602",
   "metadata": {},
   "source": [
    "This code is simulating a random process where an event can result in one of three outcomes: \"apple\", \"banana\", or \"kiwi\". The probabilities of these outcomes are 0.1, 0.3, and 0.6 respectively.\n",
    "\n",
    "Here's a step-by-step breakdown:\n",
    "\n",
    "1. It first creates a list of categories and their corresponding probabilities.\n",
    "2. It then initializes a counter dictionary to keep track of the number of times each category is chosen.\n",
    "3. The code then enters a loop that runs `n` times, where `n` the number of draws. Each iteration of the loop represents a single trial of the random process.\n",
    "4. In each trial, it generates a random number `r` between 0 and 1.\n",
    "5. It then goes through each category in order. For each category, it adds the category's probability to a running total `t`. If `t` exceeds `r`, it increments the counter for the current category and breaks out of the loop.\n",
    "6. After all trials are complete, it returns the counter dictionary, which contains the number of times each category was chosen.\n",
    "\n",
    "In essence, this code is a simple simulation of a categorical distribution."
   ]
  },
  {
   "cell_type": "code",
   "execution_count": 43,
   "id": "ccde7a64-20b8-4d9c-aaa4-aa34d1d5d964",
   "metadata": {
    "execution": {
     "iopub.execute_input": "2024-01-17T16:51:48.501685Z",
     "iopub.status.busy": "2024-01-17T16:51:48.500763Z",
     "iopub.status.idle": "2024-01-17T16:51:48.644587Z",
     "shell.execute_reply": "2024-01-17T16:51:48.569461Z",
     "shell.execute_reply.started": "2024-01-17T16:51:48.501637Z"
    }
   },
   "outputs": [
    {
     "data": {
      "text/plain": [
       "{'apple': 94, 'banana': 293, 'kiwi': 613}"
      ]
     },
     "execution_count": 43,
     "metadata": {},
     "output_type": "execute_result"
    }
   ],
   "source": [
    "categories = [\"apple\", \"banana\", \"kiwi\"]\n",
    "probabilities = [0.1, 0.3, 0.6]\n",
    "counter = {cat: 0 for cat in categories}\n",
    "for i in range(n):\n",
    "    r = np.random.uniform()\n",
    "    t = 0\n",
    "    for i, p in enumerate(probabilities):\n",
    "        t += p\n",
    "        if t > r:\n",
    "            counter[categories[i]] += 1\n",
    "            break\n",
    "counter"
   ]
  },
  {
   "cell_type": "markdown",
   "id": "17cb1067-ea7b-4bec-a8ac-6a3f45e4ac27",
   "metadata": {},
   "source": [
    "A smarter but more complicated way to get the result in one line is:"
   ]
  },
  {
   "cell_type": "code",
   "execution_count": null,
   "id": "fac7b23d-e922-4109-828e-d464af8432de",
   "metadata": {},
   "outputs": [],
   "source": [
    "categories = [\"apple\", \"banana\", \"kiwi\"]\n",
    "probabilities = [0.1, 0.3, 0.6]\n",
    "counter = {cat: 0 for cat in categories}\n",
    "for i in range(n):\n",
    "    r = np.random.uniform()\n",
    "    counter[categories[np.argmax(np.cumsum(probabilities) > r)]] += 1\n",
    "counter"
   ]
  }
 ],
 "metadata": {
  "kernelspec": {
   "display_name": "Python 3 (ipykernel)",
   "language": "python",
   "name": "python3"
  },
  "language_info": {
   "codemirror_mode": {
    "name": "ipython",
    "version": 3
   },
   "file_extension": ".py",
   "mimetype": "text/x-python",
   "name": "python",
   "nbconvert_exporter": "python",
   "pygments_lexer": "ipython3",
   "version": "3.10.13"
  },
  "widgets": {
   "application/vnd.jupyter.widget-state+json": {
    "state": {},
    "version_major": 2,
    "version_minor": 0
   }
  }
 },
 "nbformat": 4,
 "nbformat_minor": 5
}
