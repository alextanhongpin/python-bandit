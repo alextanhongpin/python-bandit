{
 "cells": [
  {
   "cell_type": "code",
   "execution_count": null,
   "id": "fb665b59-295a-4a91-bcc0-5e317eae39d1",
   "metadata": {},
   "outputs": [],
   "source": [
    "import numpy as np\n",
    "import tensorflow as tf\n",
    "\n",
    "\n",
    "class ContextualBandit:\n",
    "    def __init__(self, num_actions, state_dim):\n",
    "        self.num_actions = num_actions\n",
    "        self.state_dim = state_dim\n",
    "        self.model = self._build_model()\n",
    "\n",
    "    def _build_model(self):\n",
    "        model = tf.keras.models.Sequential(\n",
    "            [\n",
    "                tf.keras.layers.Dense(\n",
    "                    32, activation=\"relu\", input_shape=(self.state_dim,)\n",
    "                ),\n",
    "                tf.keras.layers.Dense(self.num_actions),\n",
    "            ]\n",
    "        )\n",
    "        model.compile(optimizer=\"adam\", loss=\"mse\")\n",
    "        return model\n",
    "\n",
    "    def get_action(self, state):\n",
    "        logits = self.model.predict(state)\n",
    "        action = np.argmax(logits, axis=1)\n",
    "        return action\n",
    "\n",
    "    def train(self, states, actions, rewards):\n",
    "        self.model.fit(states, actions, sample_weight=rewards, epochs=1, verbose=0)\n",
    "\n",
    "\n",
    "# Usage:\n",
    "bandit = ContextualBandit(num_actions=10, state_dim=5)\n",
    "\n",
    "# Get an action for a given state\n",
    "state = np.random.rand(1, 5)\n",
    "action = bandit.get_action(state)\n",
    "\n",
    "# Train the model with some states, actions and rewards\n",
    "states = np.random.rand(10, 5)\n",
    "actions = np.random.randint(0, 10, size=(10, 1))\n",
    "rewards = np.random.rand(10, 1)\n",
    "bandit.train(states, actions, rewards)"
   ]
  }
 ],
 "metadata": {
  "kernelspec": {
   "display_name": "Python 3 (ipykernel)",
   "language": "python",
   "name": "python3"
  },
  "language_info": {
   "codemirror_mode": {
    "name": "ipython",
    "version": 3
   },
   "file_extension": ".py",
   "mimetype": "text/x-python",
   "name": "python",
   "nbconvert_exporter": "python",
   "pygments_lexer": "ipython3",
   "version": "3.10.13"
  },
  "widgets": {
   "application/vnd.jupyter.widget-state+json": {
    "state": {},
    "version_major": 2,
    "version_minor": 0
   }
  }
 },
 "nbformat": 4,
 "nbformat_minor": 5
}
