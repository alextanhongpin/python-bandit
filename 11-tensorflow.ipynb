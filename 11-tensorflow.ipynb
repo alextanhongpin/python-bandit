{
 "cells": [
  {
   "cell_type": "code",
   "execution_count": 176,
   "id": "fb665b59-295a-4a91-bcc0-5e317eae39d1",
   "metadata": {
    "execution": {
     "iopub.execute_input": "2024-01-19T16:16:15.256103Z",
     "iopub.status.busy": "2024-01-19T16:16:15.255307Z",
     "iopub.status.idle": "2024-01-19T16:16:15.429962Z",
     "shell.execute_reply": "2024-01-19T16:16:15.422041Z",
     "shell.execute_reply.started": "2024-01-19T16:16:15.256060Z"
    }
   },
   "outputs": [],
   "source": [
    "import numpy as np\n",
    "import tensorflow as tf\n",
    "\n",
    "\n",
    "class ContextualBandit:\n",
    "    def __init__(self, num_actions, state_dim):\n",
    "        self.num_actions = num_actions\n",
    "        self.state_dim = state_dim\n",
    "        self.model = self._build_model()\n",
    "\n",
    "    def _build_model(self):\n",
    "        model = tf.keras.models.Sequential(\n",
    "            [\n",
    "                tf.keras.layers.Dense(\n",
    "                    32, activation=\"relu\", input_shape=(self.state_dim,)\n",
    "                ),\n",
    "                tf.keras.layers.Dense(1),\n",
    "            ]\n",
    "        )\n",
    "        model.compile(optimizer=\"adam\", loss=\"mse\")\n",
    "        return model\n",
    "\n",
    "    def get_action(self, state):\n",
    "        state = state.reshape(1, -1)\n",
    "        action_value = self.model.predict(state, verbose=0)\n",
    "        return action_value[0]\n",
    "\n",
    "    def train(self, states, action_values):\n",
    "        X = states.reshape(1, -1)\n",
    "        y = action_values.reshape(1, -1)\n",
    "        self.model.fit(X, y, epochs=1, verbose=0)"
   ]
  },
  {
   "cell_type": "code",
   "execution_count": 179,
   "id": "f8598bf2-9917-40f9-a72d-8cd9210422ba",
   "metadata": {
    "execution": {
     "iopub.execute_input": "2024-01-19T16:16:31.095360Z",
     "iopub.status.busy": "2024-01-19T16:16:31.094864Z",
     "iopub.status.idle": "2024-01-19T16:16:31.209381Z",
     "shell.execute_reply": "2024-01-19T16:16:31.208198Z",
     "shell.execute_reply.started": "2024-01-19T16:16:31.095322Z"
    }
   },
   "outputs": [
    {
     "data": {
      "text/plain": [
       "<module 'bandit.environment' from '/Users/alextanhongpin/Documents/python/python-bandit/bandit/environment.py'>"
      ]
     },
     "execution_count": 179,
     "metadata": {},
     "output_type": "execute_result"
    }
   ],
   "source": [
    "import importlib\n",
    "\n",
    "import bandit.environment as env\n",
    "\n",
    "importlib.reload(env)"
   ]
  },
  {
   "cell_type": "code",
   "execution_count": 183,
   "id": "b0f24051-e82e-4fbc-b903-1b183c34f3b5",
   "metadata": {
    "execution": {
     "iopub.execute_input": "2024-01-19T16:17:58.064047Z",
     "iopub.status.busy": "2024-01-19T16:17:58.061683Z",
     "iopub.status.idle": "2024-01-19T16:18:55.376147Z",
     "shell.execute_reply": "2024-01-19T16:18:55.372447Z",
     "shell.execute_reply.started": "2024-01-19T16:17:58.063994Z"
    }
   },
   "outputs": [
    {
     "name": "stderr",
     "output_type": "stream",
     "text": [
      "100%|████████████████████████████████████████████████████████████████████████████████████████████████████████████████| 100/100 [00:57<00:00,  1.75it/s]\n"
     ]
    }
   ],
   "source": [
    "total_reward = 0\n",
    "avg_rewards = []\n",
    "\n",
    "\n",
    "n_actions = len(env.actions)\n",
    "bandit = ContextualBandit(num_actions=n_actions, state_dim=100)\n",
    "\n",
    "for i, ctx in env.random_context(100):\n",
    "    action_values = [\n",
    "        bandit.get_action(env.preprocess(ctx, action)) for action in env.actions\n",
    "    ]\n",
    "    best_action = np.argmax(action_values)\n",
    "    action = env.actions[best_action]\n",
    "    reward = env.get_cost(ctx, action)\n",
    "\n",
    "    states = env.preprocess(ctx, action)\n",
    "    bandit.train(states, np.array(reward))\n",
    "    total_reward += np.maximum(reward, 0)\n",
    "    avg_rewards.append(total_reward / (i + 1))"
   ]
  },
  {
   "cell_type": "code",
   "execution_count": 184,
   "id": "36d84e1a-d95c-4e5d-82d8-10446adfa319",
   "metadata": {
    "execution": {
     "iopub.execute_input": "2024-01-19T16:18:55.397899Z",
     "iopub.status.busy": "2024-01-19T16:18:55.382271Z",
     "iopub.status.idle": "2024-01-19T16:18:56.145964Z",
     "shell.execute_reply": "2024-01-19T16:18:56.142411Z",
     "shell.execute_reply.started": "2024-01-19T16:18:55.397808Z"
    }
   },
   "outputs": [
    {
     "data": {
      "text/plain": [
       "<Axes: >"
      ]
     },
     "execution_count": 184,
     "metadata": {},
     "output_type": "execute_result"
    },
    {
     "data": {
      "image/png": "[encoded data removed]",
      "text/plain": [
       "<Figure size 640x480 with 1 Axes>"
      ]
     },
     "metadata": {},
     "output_type": "display_data"
    }
   ],
   "source": [
    "import pandas as pd\n",
    "\n",
    "pd.DataFrame({\"avg_rewards\": avg_rewards}).plot()"
   ]
  },
  {
   "cell_type": "code",
   "execution_count": 186,
   "id": "836b3bb0-3b1b-4a57-a5ea-ae8602864255",
   "metadata": {
    "execution": {
     "iopub.execute_input": "2024-01-19T16:19:07.483481Z",
     "iopub.status.busy": "2024-01-19T16:19:07.482172Z",
     "iopub.status.idle": "2024-01-19T16:19:07.599943Z",
     "shell.execute_reply": "2024-01-19T16:19:07.598461Z",
     "shell.execute_reply.started": "2024-01-19T16:19:07.483413Z"
    }
   },
   "outputs": [
    {
     "data": {
      "text/plain": [
       "10.0"
      ]
     },
     "execution_count": 186,
     "metadata": {},
     "output_type": "execute_result"
    }
   ],
   "source": [
    "total_reward"
   ]
  },
  {
   "cell_type": "code",
   "execution_count": null,
   "id": "85deb786-e32e-4108-b9cb-f1d14ba45c90",
   "metadata": {},
   "outputs": [],
   "source": []
  }
 ],
 "metadata": {
  "kernelspec": {
   "display_name": "Python 3 (ipykernel)",
   "language": "python",
   "name": "python3"
  },
  "language_info": {
   "codemirror_mode": {
    "name": "ipython",
    "version": 3
   },
   "file_extension": ".py",
   "mimetype": "text/x-python",
   "name": "python",
   "nbconvert_exporter": "python",
   "pygments_lexer": "ipython3",
   "version": "3.10.13"
  },
  "widgets": {
   "application/vnd.jupyter.widget-state+json": {
    "state": {},
    "version_major": 2,
    "version_minor": 0
   }
  }
 },
 "nbformat": 4,
 "nbformat_minor": 5
}
