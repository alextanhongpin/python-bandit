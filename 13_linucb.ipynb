{
 "cells": [
  {
   "cell_type": "markdown",
   "id": "59ff712d-50a6-411e-9cb0-f7b915cc9d19",
   "metadata": {},
   "source": [
    "# LinUCB\n",
    "\n",
    "### References\n",
    "https://arxiv.org/pdf/1003.0146.pdf\n",
    "\n",
    "- https://github.com/ikatsov/tensor-house/blob/master/promotions/dynamic-content-personalization-rl.ipynb\n",
    "- https://github.com/kfoofw/bandit_simulations/blob/master/python/contextual_bandits/notebooks/LinUCB_disjoint.ipynb"
   ]
  },
  {
   "cell_type": "code",
   "execution_count": 1,
   "id": "16043be7-36e1-46ca-9106-7e6c6b40aa66",
   "metadata": {
    "execution": {
     "iopub.execute_input": "2024-01-22T18:10:57.599216Z",
     "iopub.status.busy": "2024-01-22T18:10:57.590552Z",
     "iopub.status.idle": "2024-01-22T18:10:59.828940Z",
     "shell.execute_reply": "2024-01-22T18:10:59.827962Z",
     "shell.execute_reply.started": "2024-01-22T18:10:57.599171Z"
    }
   },
   "outputs": [
    {
     "name": "stderr",
     "output_type": "stream",
     "text": [
      "/var/folders/7m/74_ct3hx33d878n626w1wxyc0000gn/T/ipykernel_84859/1586460767.py:4: TqdmExperimentalWarning: Using `tqdm.autonotebook.tqdm` in notebook mode. Use `tqdm.tqdm` instead to force console mode (e.g. in jupyter console)\n",
      "  from tqdm.autonotebook import tqdm\n"
     ]
    }
   ],
   "source": [
    "import numpy as np\n",
    "import pandas as pd\n",
    "from sklearn.feature_extraction import FeatureHasher\n",
    "from tqdm.autonotebook import tqdm"
   ]
  },
  {
   "cell_type": "markdown",
   "id": "8c0da0da-d906-423b-a1a3-029a5831baf0",
   "metadata": {
    "execution": {
     "iopub.execute_input": "2024-01-22T15:57:12.739742Z",
     "iopub.status.busy": "2024-01-22T15:57:12.730732Z",
     "iopub.status.idle": "2024-01-22T15:57:12.948301Z",
     "shell.execute_reply": "2024-01-22T15:57:12.932994Z",
     "shell.execute_reply.started": "2024-01-22T15:57:12.739024Z"
    }
   },
   "source": [
    "## Create a Baseline Recommendation Agent - UCB "
   ]
  },
  {
   "cell_type": "code",
   "execution_count": 2,
   "id": "9d992748-6c1e-40a8-9d3d-22fb6d9d9a7e",
   "metadata": {
    "execution": {
     "iopub.execute_input": "2024-01-22T18:10:59.833229Z",
     "iopub.status.busy": "2024-01-22T18:10:59.832656Z",
     "iopub.status.idle": "2024-01-22T18:10:59.864496Z",
     "shell.execute_reply": "2024-01-22T18:10:59.854148Z",
     "shell.execute_reply.started": "2024-01-22T18:10:59.833177Z"
    }
   },
   "outputs": [],
   "source": [
    "class UCBAgent:\n",
    "    def __init__(self, n_actions):\n",
    "        self.n_actions = n_actions\n",
    "        self.action_total_rewards = np.zeros(self.n_actions)\n",
    "        self.action_counters = np.ones(self.n_actions)\n",
    "        self.alpha = 0.5\n",
    "\n",
    "    def pull(\n",
    "        self, state: dict\n",
    "    ) -> np.ndarray:  # state vector is not used (context-free agent)\n",
    "        steps = np.sum(self.action_counters)\n",
    "        mean_reward_a = self.action_total_rewards / steps\n",
    "        bound_a = np.sqrt(self.alpha * np.log(steps) / self.action_counters)\n",
    "        ucbs = mean_reward_a + bound_a\n",
    "        return ucbs\n",
    "\n",
    "    def update(\n",
    "        self, state: dict, action: int, reward: int\n",
    "    ):  # state vector is not used (context-free agent)\n",
    "        self.action_total_rewards[action] += reward\n",
    "        self.action_counters[action] += 1"
   ]
  },
  {
   "cell_type": "code",
   "execution_count": 3,
   "id": "afb9e11d-5a94-4a57-9214-3d31a7352d42",
   "metadata": {
    "execution": {
     "iopub.execute_input": "2024-01-22T18:10:59.869294Z",
     "iopub.status.busy": "2024-01-22T18:10:59.866135Z",
     "iopub.status.idle": "2024-01-22T18:10:59.919983Z",
     "shell.execute_reply": "2024-01-22T18:10:59.897382Z",
     "shell.execute_reply.started": "2024-01-22T18:10:59.869241Z"
    }
   },
   "outputs": [],
   "source": [
    "class RandomAgent:\n",
    "    def __init__(self, n_actions):\n",
    "        self.n_actions = n_actions\n",
    "\n",
    "    def pull(\n",
    "        self, state: dict\n",
    "    ) -> np.ndarray:  # state vector is not used (context-free agent)\n",
    "        return np.random.uniform(size=self.n_actions)\n",
    "\n",
    "    def update(\n",
    "        self, state: dict, action: int, reward: int\n",
    "    ):  # state vector is not used (context-free agent)\n",
    "        pass"
   ]
  },
  {
   "cell_type": "markdown",
   "id": "2a8604d1-1058-44f0-ab2e-33004582aded",
   "metadata": {},
   "source": [
    "## Create a Context-aware Agent - LinUCB"
   ]
  },
  {
   "cell_type": "code",
   "execution_count": 4,
   "id": "6bbbfea1-76b6-47fc-91b5-d15167cf659d",
   "metadata": {
    "execution": {
     "iopub.execute_input": "2024-01-22T18:10:59.942401Z",
     "iopub.status.busy": "2024-01-22T18:10:59.940493Z",
     "iopub.status.idle": "2024-01-22T18:10:59.999329Z",
     "shell.execute_reply": "2024-01-22T18:10:59.990223Z",
     "shell.execute_reply.started": "2024-01-22T18:10:59.942350Z"
    }
   },
   "outputs": [],
   "source": [
    "class LinUCBAgent:\n",
    "    def __init__(\n",
    "        self,\n",
    "        n_actions,\n",
    "        context_size=100,\n",
    "        preprocess=FeatureHasher(100, input_type=\"string\"),\n",
    "    ):\n",
    "        self.n_actions = n_actions\n",
    "        self.alpha = 0.5\n",
    "        self.A = [np.identity(context_size) for a in range(self.n_actions)]\n",
    "        self.b = [np.zeros((context_size, 1)) for a in range(self.n_actions)]\n",
    "        self.preprocess = preprocess\n",
    "\n",
    "    def pull(self, state: dict) -> np.ndarray:  # state vector is used\n",
    "        ucbs = np.zeros(self.n_actions)\n",
    "        for action_idx in range(self.n_actions):\n",
    "            x_a = self.preprocess.transform(\n",
    "                [feature_interaction(state, action_idx)]\n",
    "            ).toarray()[0]\n",
    "            A_inv = np.linalg.inv(self.A[action_idx])\n",
    "            theta_a = np.dot(A_inv, self.b[action_idx])\n",
    "            ucb = np.dot(theta_a.T, x_a) + self.alpha * np.sqrt(\n",
    "                np.linalg.multi_dot([x_a.T, A_inv, x_a])\n",
    "            )\n",
    "            ucbs[action_idx] = ucb[0]\n",
    "        return ucbs\n",
    "\n",
    "    def update(self, state: dict, action: int, reward: int):\n",
    "        x = np.atleast_2d(\n",
    "            self.preprocess.transform([feature_interaction(state, action)]).toarray()\n",
    "        )\n",
    "        self.A[action] += np.dot(x.T, x)\n",
    "        self.b[action] += reward * np.atleast_2d(x).T"
   ]
  },
  {
   "cell_type": "code",
   "execution_count": 5,
   "id": "01d4938e-20a2-4a13-8c2b-0bf4e2a64bc3",
   "metadata": {
    "execution": {
     "iopub.execute_input": "2024-01-22T18:11:00.008779Z",
     "iopub.status.busy": "2024-01-22T18:11:00.002593Z",
     "iopub.status.idle": "2024-01-22T18:11:00.045617Z",
     "shell.execute_reply": "2024-01-22T18:11:00.040263Z",
     "shell.execute_reply.started": "2024-01-22T18:11:00.008614Z"
    }
   },
   "outputs": [],
   "source": [
    "import bandit\n",
    "from bandit.bandit import Bandit, PerArmBandit\n",
    "from bandit.environment import actions, feature_interaction, get_cost, observe\n",
    "from bandit.policy import EGreedy\n",
    "\n",
    "N = 500\n",
    "df = pd.DataFrame(index=range(N))"
   ]
  },
  {
   "cell_type": "code",
   "execution_count": 6,
   "id": "e79eb6ca-a798-4715-ae93-2833fec5dfd5",
   "metadata": {
    "execution": {
     "iopub.execute_input": "2024-01-22T18:11:00.051485Z",
     "iopub.status.busy": "2024-01-22T18:11:00.050785Z",
     "iopub.status.idle": "2024-01-22T18:11:00.066992Z",
     "shell.execute_reply": "2024-01-22T18:11:00.064042Z",
     "shell.execute_reply.started": "2024-01-22T18:11:00.051442Z"
    }
   },
   "outputs": [],
   "source": [
    "def run_simulation(bandit, policy):\n",
    "    rng = np.random.RandomState(42)\n",
    "    total_cost = 0\n",
    "    avg_cost = []\n",
    "    for i in tqdm(range(N)):\n",
    "        state = observe(rng)\n",
    "        rewards = bandit.pull(state)\n",
    "        action = policy(rewards)\n",
    "        reward = get_cost(state, actions[action])\n",
    "        # Sets rewards to 0 or 1 (instead of -1 or 1)\n",
    "        reward = max(reward, 0)\n",
    "        bandit.update(state, action, reward)\n",
    "        total_cost += reward\n",
    "        avg_cost.append(total_cost / (i + 1))\n",
    "    return total_cost, avg_cost"
   ]
  },
  {
   "cell_type": "code",
   "execution_count": 7,
   "id": "efc30369-43ff-4a49-94e5-d0bb482f2d4f",
   "metadata": {
    "execution": {
     "iopub.execute_input": "2024-01-22T18:11:00.079659Z",
     "iopub.status.busy": "2024-01-22T18:11:00.078450Z",
     "iopub.status.idle": "2024-01-22T18:11:02.597997Z",
     "shell.execute_reply": "2024-01-22T18:11:02.595421Z",
     "shell.execute_reply.started": "2024-01-22T18:11:00.079621Z"
    }
   },
   "outputs": [
    {
     "data": {
      "application/vnd.jupyter.widget-view+json": {
       "model_id": "a7b2b341af0f46ef8f04f5bdf698db4b",
       "version_major": 2,
       "version_minor": 0
      },
      "text/plain": [
       "  0%|          | 0/500 [00:00<?, ?it/s]"
      ]
     },
     "metadata": {},
     "output_type": "display_data"
    },
    {
     "name": "stdout",
     "output_type": "stream",
     "text": [
      "RandomAgent 57.0\n"
     ]
    },
    {
     "data": {
      "application/vnd.jupyter.widget-view+json": {
       "model_id": "2017cfd32f944e8485761db3e0e8e98a",
       "version_major": 2,
       "version_minor": 0
      },
      "text/plain": [
       "  0%|          | 0/500 [00:00<?, ?it/s]"
      ]
     },
     "metadata": {},
     "output_type": "display_data"
    },
    {
     "name": "stdout",
     "output_type": "stream",
     "text": [
      "UCBAgent 169.0\n"
     ]
    },
    {
     "data": {
      "application/vnd.jupyter.widget-view+json": {
       "model_id": "726d8d402b244eb1b803a56d98d7c40f",
       "version_major": 2,
       "version_minor": 0
      },
      "text/plain": [
       "  0%|          | 0/500 [00:00<?, ?it/s]"
      ]
     },
     "metadata": {},
     "output_type": "display_data"
    },
    {
     "name": "stdout",
     "output_type": "stream",
     "text": [
      "LinUCBAgent 369.0\n"
     ]
    }
   ],
   "source": [
    "n_arms = len(actions)\n",
    "bandits = [RandomAgent(n_arms), UCBAgent(n_arms), LinUCBAgent(n_arms)]\n",
    "policy = EGreedy(epsilon=0)\n",
    "\n",
    "for bandit in bandits:\n",
    "    name = bandit.__class__.__name__\n",
    "    total_cost, avg_cost = run_simulation(bandit, policy)\n",
    "    print(name, total_cost)\n",
    "    df[name] = avg_cost"
   ]
  },
  {
   "cell_type": "code",
   "execution_count": 8,
   "id": "8ca28791-962d-4795-86f0-3fc6e5534c8f",
   "metadata": {
    "execution": {
     "iopub.execute_input": "2024-01-22T18:11:02.620335Z",
     "iopub.status.busy": "2024-01-22T18:11:02.619503Z",
     "iopub.status.idle": "2024-01-22T18:11:03.655196Z",
     "shell.execute_reply": "2024-01-22T18:11:03.653784Z",
     "shell.execute_reply.started": "2024-01-22T18:11:02.620280Z"
    }
   },
   "outputs": [
    {
     "data": {
      "image/png": "[encoded data removed]",
      "text/plain": [
       "<Figure size 1500x500 with 1 Axes>"
      ]
     },
     "metadata": {},
     "output_type": "display_data"
    }
   ],
   "source": [
    "ax = df.plot(figsize=(15, 5))\n",
    "ax.set_xlabel(\"Time step\")\n",
    "ax.set_ylabel(\"Accuracy\")\n",
    "ax.grid(True)"
   ]
  },
  {
   "cell_type": "markdown",
   "id": "4bbc3f0a-82b3-4f49-840c-4b54de45405e",
   "metadata": {},
   "source": [
    "## Observation\n",
    "\n",
    "Why does UCBAgent fail so miserably? This is because it does not have context (no pun intended) on what is the best arm to pick. UCBAgent works better for a fixed set of actions. Below, we see that it tries to optimize for action `0`, which is politics, because we set in the environment that both Tom and Anna likes `politic` at specific hours."
   ]
  },
  {
   "cell_type": "code",
   "execution_count": 10,
   "id": "7c944754-890c-4605-a126-f18db354befc",
   "metadata": {
    "execution": {
     "iopub.execute_input": "2024-01-22T18:11:14.507313Z",
     "iopub.status.busy": "2024-01-22T18:11:14.506692Z",
     "iopub.status.idle": "2024-01-22T18:11:14.519031Z",
     "shell.execute_reply": "2024-01-22T18:11:14.517493Z",
     "shell.execute_reply.started": "2024-01-22T18:11:14.507275Z"
    }
   },
   "outputs": [
    {
     "data": {
      "text/plain": [
       "{'n_actions': 7,\n",
       " 'action_total_rewards': array([158.,   5.,   6.,   0.,   0.,   0.,   0.]),\n",
       " 'action_counters': array([357.,  27.,  27.,  24.,  24.,  24.,  24.]),\n",
       " 'alpha': 0.5}"
      ]
     },
     "execution_count": 10,
     "metadata": {},
     "output_type": "execute_result"
    }
   ],
   "source": [
    "bandit = bandits[1]\n",
    "bandit.__dict__"
   ]
  }
 ],
 "metadata": {
  "kernelspec": {
   "display_name": "Python 3 (ipykernel)",
   "language": "python",
   "name": "python3"
  },
  "language_info": {
   "codemirror_mode": {
    "name": "ipython",
    "version": 3
   },
   "file_extension": ".py",
   "mimetype": "text/x-python",
   "name": "python",
   "nbconvert_exporter": "python",
   "pygments_lexer": "ipython3",
   "version": "3.10.13"
  },
  "widgets": {
   "application/vnd.jupyter.widget-state+json": {
    "state": {
     "0c0c174c91ac45e3b044fd564808ffe4": {
      "model_module": "@jupyter-widgets/controls",
      "model_module_version": "2.0.0",
      "model_name": "HTMLStyleModel",
      "state": {
       "description_width": "",
       "font_size": null,
       "text_color": null
      }
     },
     "15ddc1842a5d4e7db46a83a80516465f": {
      "model_module": "@jupyter-widgets/base",
      "model_module_version": "2.0.0",
      "model_name": "LayoutModel",
      "state": {}
     },
     "16f32f9fd5534c518dbb7f69e5332379": {
      "model_module": "@jupyter-widgets/controls",
      "model_module_version": "2.0.0",
      "model_name": "HTMLModel",
      "state": {
       "layout": "IPY_MODEL_e65167a14af34637ae97c61760de0a57",
       "style": "IPY_MODEL_500fc865d0f74edf8ed7eeb3fa403bef",
       "value": " 500/500 [00:00&lt;00:00, 2667.20it/s]"
      }
     },
     "2017cfd32f944e8485761db3e0e8e98a": {
      "model_module": "@jupyter-widgets/controls",
      "model_module_version": "2.0.0",
      "model_name": "HBoxModel",
      "state": {
       "children": [
        "IPY_MODEL_e0c6dd06306c4d8cabea669c28442b2d",
        "IPY_MODEL_7a95e122bd1c4c299a110a2113cf52e5",
        "IPY_MODEL_16f32f9fd5534c518dbb7f69e5332379"
       ],
       "layout": "IPY_MODEL_15ddc1842a5d4e7db46a83a80516465f"
      }
     },
     "35d8a9ebfbae4253a018182b1d276229": {
      "model_module": "@jupyter-widgets/controls",
      "model_module_version": "2.0.0",
      "model_name": "ProgressStyleModel",
      "state": {
       "description_width": ""
      }
     },
     "399216051dc94e05a406ef9b0b7f2622": {
      "model_module": "@jupyter-widgets/controls",
      "model_module_version": "2.0.0",
      "model_name": "FloatProgressModel",
      "state": {
       "bar_style": "success",
       "layout": "IPY_MODEL_74a29dc32ede493295c249e499c7d691",
       "max": 500,
       "style": "IPY_MODEL_35d8a9ebfbae4253a018182b1d276229",
       "value": 500
      }
     },
     "3b43064c487f469493be6125ba857dec": {
      "model_module": "@jupyter-widgets/controls",
      "model_module_version": "2.0.0",
      "model_name": "HTMLModel",
      "state": {
       "layout": "IPY_MODEL_a0f02291ccfa49348e9ee70cef1f6a3b",
       "style": "IPY_MODEL_b876b059c1fc435b99390258efe760a7",
       "value": " 500/500 [00:02&lt;00:00, 255.43it/s]"
      }
     },
     "4c70b46520d5425ea9064d4726e372d7": {
      "model_module": "@jupyter-widgets/base",
      "model_module_version": "2.0.0",
      "model_name": "LayoutModel",
      "state": {}
     },
     "500fc865d0f74edf8ed7eeb3fa403bef": {
      "model_module": "@jupyter-widgets/controls",
      "model_module_version": "2.0.0",
      "model_name": "HTMLStyleModel",
      "state": {
       "description_width": "",
       "font_size": null,
       "text_color": null
      }
     },
     "60671a19a0db4c1a8ef84c75cf7d7bba": {
      "model_module": "@jupyter-widgets/base",
      "model_module_version": "2.0.0",
      "model_name": "LayoutModel",
      "state": {}
     },
     "661a866db793452fb6e67cc17b5d787c": {
      "model_module": "@jupyter-widgets/base",
      "model_module_version": "2.0.0",
      "model_name": "LayoutModel",
      "state": {}
     },
     "726d8d402b244eb1b803a56d98d7c40f": {
      "model_module": "@jupyter-widgets/controls",
      "model_module_version": "2.0.0",
      "model_name": "HBoxModel",
      "state": {
       "children": [
        "IPY_MODEL_b8c606c3f8ba4c96b1be8aface154535",
        "IPY_MODEL_7e97fdb3d42748dc93375fd4a82cfba6",
        "IPY_MODEL_3b43064c487f469493be6125ba857dec"
       ],
       "layout": "IPY_MODEL_60671a19a0db4c1a8ef84c75cf7d7bba"
      }
     },
     "74a29dc32ede493295c249e499c7d691": {
      "model_module": "@jupyter-widgets/base",
      "model_module_version": "2.0.0",
      "model_name": "LayoutModel",
      "state": {}
     },
     "7a95e122bd1c4c299a110a2113cf52e5": {
      "model_module": "@jupyter-widgets/controls",
      "model_module_version": "2.0.0",
      "model_name": "FloatProgressModel",
      "state": {
       "bar_style": "success",
       "layout": "IPY_MODEL_661a866db793452fb6e67cc17b5d787c",
       "max": 500,
       "style": "IPY_MODEL_90d60b20ec18498387abe567c0b322d4",
       "value": 500
      }
     },
     "7e97fdb3d42748dc93375fd4a82cfba6": {
      "model_module": "@jupyter-widgets/controls",
      "model_module_version": "2.0.0",
      "model_name": "FloatProgressModel",
      "state": {
       "bar_style": "success",
       "layout": "IPY_MODEL_e4d6ee7c1eb6490f89b6bcc602b4b918",
       "max": 500,
       "style": "IPY_MODEL_94a35d12de8046f3aa238bc056f9f260",
       "value": 500
      }
     },
     "7f852ac78a8e48f1b94d77a6a7895ae2": {
      "model_module": "@jupyter-widgets/controls",
      "model_module_version": "2.0.0",
      "model_name": "HTMLStyleModel",
      "state": {
       "description_width": "",
       "font_size": null,
       "text_color": null
      }
     },
     "90d60b20ec18498387abe567c0b322d4": {
      "model_module": "@jupyter-widgets/controls",
      "model_module_version": "2.0.0",
      "model_name": "ProgressStyleModel",
      "state": {
       "description_width": ""
      }
     },
     "94a35d12de8046f3aa238bc056f9f260": {
      "model_module": "@jupyter-widgets/controls",
      "model_module_version": "2.0.0",
      "model_name": "ProgressStyleModel",
      "state": {
       "description_width": ""
      }
     },
     "a0f02291ccfa49348e9ee70cef1f6a3b": {
      "model_module": "@jupyter-widgets/base",
      "model_module_version": "2.0.0",
      "model_name": "LayoutModel",
      "state": {}
     },
     "a444c3e79fb548919dda5b811af403a3": {
      "model_module": "@jupyter-widgets/controls",
      "model_module_version": "2.0.0",
      "model_name": "HTMLStyleModel",
      "state": {
       "description_width": "",
       "font_size": null,
       "text_color": null
      }
     },
     "a7b2b341af0f46ef8f04f5bdf698db4b": {
      "model_module": "@jupyter-widgets/controls",
      "model_module_version": "2.0.0",
      "model_name": "HBoxModel",
      "state": {
       "children": [
        "IPY_MODEL_d67fed946fec49c593a43a6e0fd58ac3",
        "IPY_MODEL_399216051dc94e05a406ef9b0b7f2622",
        "IPY_MODEL_ba24c0b2c6d1455baf0b8d8203eb09a4"
       ],
       "layout": "IPY_MODEL_f2a787251dad4c19b8659365bc078ebd"
      }
     },
     "b876b059c1fc435b99390258efe760a7": {
      "model_module": "@jupyter-widgets/controls",
      "model_module_version": "2.0.0",
      "model_name": "HTMLStyleModel",
      "state": {
       "description_width": "",
       "font_size": null,
       "text_color": null
      }
     },
     "b8c606c3f8ba4c96b1be8aface154535": {
      "model_module": "@jupyter-widgets/controls",
      "model_module_version": "2.0.0",
      "model_name": "HTMLModel",
      "state": {
       "layout": "IPY_MODEL_4c70b46520d5425ea9064d4726e372d7",
       "style": "IPY_MODEL_bb0ae5fa8989467b8aac273a1ada1b56",
       "value": "100%"
      }
     },
     "ba24c0b2c6d1455baf0b8d8203eb09a4": {
      "model_module": "@jupyter-widgets/controls",
      "model_module_version": "2.0.0",
      "model_name": "HTMLModel",
      "state": {
       "layout": "IPY_MODEL_e4f1bf7ea228414d854857b65710bbc3",
       "style": "IPY_MODEL_7f852ac78a8e48f1b94d77a6a7895ae2",
       "value": " 500/500 [00:00&lt;00:00, 1279.33it/s]"
      }
     },
     "bb0ae5fa8989467b8aac273a1ada1b56": {
      "model_module": "@jupyter-widgets/controls",
      "model_module_version": "2.0.0",
      "model_name": "HTMLStyleModel",
      "state": {
       "description_width": "",
       "font_size": null,
       "text_color": null
      }
     },
     "bdf09e1206c2473cb4f42057ef9e09b0": {
      "model_module": "@jupyter-widgets/base",
      "model_module_version": "2.0.0",
      "model_name": "LayoutModel",
      "state": {}
     },
     "cc7f33486d6b487d89cbc531c62f315f": {
      "model_module": "@jupyter-widgets/base",
      "model_module_version": "2.0.0",
      "model_name": "LayoutModel",
      "state": {}
     },
     "d67fed946fec49c593a43a6e0fd58ac3": {
      "model_module": "@jupyter-widgets/controls",
      "model_module_version": "2.0.0",
      "model_name": "HTMLModel",
      "state": {
       "layout": "IPY_MODEL_cc7f33486d6b487d89cbc531c62f315f",
       "style": "IPY_MODEL_a444c3e79fb548919dda5b811af403a3",
       "value": "100%"
      }
     },
     "e0c6dd06306c4d8cabea669c28442b2d": {
      "model_module": "@jupyter-widgets/controls",
      "model_module_version": "2.0.0",
      "model_name": "HTMLModel",
      "state": {
       "layout": "IPY_MODEL_bdf09e1206c2473cb4f42057ef9e09b0",
       "style": "IPY_MODEL_0c0c174c91ac45e3b044fd564808ffe4",
       "value": "100%"
      }
     },
     "e4d6ee7c1eb6490f89b6bcc602b4b918": {
      "model_module": "@jupyter-widgets/base",
      "model_module_version": "2.0.0",
      "model_name": "LayoutModel",
      "state": {}
     },
     "e4f1bf7ea228414d854857b65710bbc3": {
      "model_module": "@jupyter-widgets/base",
      "model_module_version": "2.0.0",
      "model_name": "LayoutModel",
      "state": {}
     },
     "e65167a14af34637ae97c61760de0a57": {
      "model_module": "@jupyter-widgets/base",
      "model_module_version": "2.0.0",
      "model_name": "LayoutModel",
      "state": {}
     },
     "f2a787251dad4c19b8659365bc078ebd": {
      "model_module": "@jupyter-widgets/base",
      "model_module_version": "2.0.0",
      "model_name": "LayoutModel",
      "state": {}
     }
    },
    "version_major": 2,
    "version_minor": 0
   }
  }
 },
 "nbformat": 4,
 "nbformat_minor": 5
}
