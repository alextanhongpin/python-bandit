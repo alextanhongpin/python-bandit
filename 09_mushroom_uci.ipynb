{
 "cells": [
  {
   "cell_type": "code",
   "execution_count": 1,
   "id": "f2c48f90-2d30-48a6-89eb-bc95c1986ab5",
   "metadata": {
    "execution": {
     "iopub.execute_input": "2024-01-17T18:58:27.048491Z",
     "iopub.status.busy": "2024-01-17T18:58:27.047581Z",
     "iopub.status.idle": "2024-01-17T18:58:35.767164Z",
     "shell.execute_reply": "2024-01-17T18:58:35.735989Z",
     "shell.execute_reply.started": "2024-01-17T18:58:27.048440Z"
    }
   },
   "outputs": [
    {
     "data": {
      "text/plain": [
       "((8124, 22), (8124, 1))"
      ]
     },
     "execution_count": 1,
     "metadata": {},
     "output_type": "execute_result"
    }
   ],
   "source": [
    "from ucimlrepo import fetch_ucirepo\n",
    "\n",
    "# fetch dataset\n",
    "mushroom = fetch_ucirepo(id=73)\n",
    "\n",
    "# data (as pandas dataframes)\n",
    "X = mushroom.data.features\n",
    "y = mushroom.data.targets\n",
    "X.shape, y.shape"
   ]
  },
  {
   "cell_type": "code",
   "execution_count": 2,
   "id": "3876b70c-470c-4ded-9aed-889fa5900d47",
   "metadata": {
    "execution": {
     "iopub.execute_input": "2024-01-17T18:58:35.821626Z",
     "iopub.status.busy": "2024-01-17T18:58:35.820952Z",
     "iopub.status.idle": "2024-01-17T18:58:35.861423Z",
     "shell.execute_reply": "2024-01-17T18:58:35.858655Z",
     "shell.execute_reply.started": "2024-01-17T18:58:35.821574Z"
    }
   },
   "outputs": [
    {
     "data": {
      "text/html": [
       "<div>\n",
       "<style scoped>\n",
       "    .dataframe tbody tr th:only-of-type {\n",
       "        vertical-align: middle;\n",
       "    }\n",
       "\n",
       "    .dataframe tbody tr th {\n",
       "        vertical-align: top;\n",
       "    }\n",
       "\n",
       "    .dataframe thead th {\n",
       "        text-align: right;\n",
       "    }\n",
       "</style>\n",
       "<table border=\"1\" class=\"dataframe\">\n",
       "  <thead>\n",
       "    <tr style=\"text-align: right;\">\n",
       "      <th></th>\n",
       "      <th>0</th>\n",
       "      <th>1</th>\n",
       "      <th>2</th>\n",
       "      <th>3</th>\n",
       "      <th>4</th>\n",
       "    </tr>\n",
       "  </thead>\n",
       "  <tbody>\n",
       "    <tr>\n",
       "      <th>cap-shape</th>\n",
       "      <td>x</td>\n",
       "      <td>x</td>\n",
       "      <td>b</td>\n",
       "      <td>x</td>\n",
       "      <td>x</td>\n",
       "    </tr>\n",
       "    <tr>\n",
       "      <th>cap-surface</th>\n",
       "      <td>s</td>\n",
       "      <td>s</td>\n",
       "      <td>s</td>\n",
       "      <td>y</td>\n",
       "      <td>s</td>\n",
       "    </tr>\n",
       "    <tr>\n",
       "      <th>cap-color</th>\n",
       "      <td>n</td>\n",
       "      <td>y</td>\n",
       "      <td>w</td>\n",
       "      <td>w</td>\n",
       "      <td>g</td>\n",
       "    </tr>\n",
       "    <tr>\n",
       "      <th>bruises</th>\n",
       "      <td>t</td>\n",
       "      <td>t</td>\n",
       "      <td>t</td>\n",
       "      <td>t</td>\n",
       "      <td>f</td>\n",
       "    </tr>\n",
       "    <tr>\n",
       "      <th>odor</th>\n",
       "      <td>p</td>\n",
       "      <td>a</td>\n",
       "      <td>l</td>\n",
       "      <td>p</td>\n",
       "      <td>n</td>\n",
       "    </tr>\n",
       "    <tr>\n",
       "      <th>gill-attachment</th>\n",
       "      <td>f</td>\n",
       "      <td>f</td>\n",
       "      <td>f</td>\n",
       "      <td>f</td>\n",
       "      <td>f</td>\n",
       "    </tr>\n",
       "    <tr>\n",
       "      <th>gill-spacing</th>\n",
       "      <td>c</td>\n",
       "      <td>c</td>\n",
       "      <td>c</td>\n",
       "      <td>c</td>\n",
       "      <td>w</td>\n",
       "    </tr>\n",
       "    <tr>\n",
       "      <th>gill-size</th>\n",
       "      <td>n</td>\n",
       "      <td>b</td>\n",
       "      <td>b</td>\n",
       "      <td>n</td>\n",
       "      <td>b</td>\n",
       "    </tr>\n",
       "    <tr>\n",
       "      <th>gill-color</th>\n",
       "      <td>k</td>\n",
       "      <td>k</td>\n",
       "      <td>n</td>\n",
       "      <td>n</td>\n",
       "      <td>k</td>\n",
       "    </tr>\n",
       "    <tr>\n",
       "      <th>stalk-shape</th>\n",
       "      <td>e</td>\n",
       "      <td>e</td>\n",
       "      <td>e</td>\n",
       "      <td>e</td>\n",
       "      <td>t</td>\n",
       "    </tr>\n",
       "    <tr>\n",
       "      <th>stalk-root</th>\n",
       "      <td>e</td>\n",
       "      <td>c</td>\n",
       "      <td>c</td>\n",
       "      <td>e</td>\n",
       "      <td>e</td>\n",
       "    </tr>\n",
       "    <tr>\n",
       "      <th>stalk-surface-above-ring</th>\n",
       "      <td>s</td>\n",
       "      <td>s</td>\n",
       "      <td>s</td>\n",
       "      <td>s</td>\n",
       "      <td>s</td>\n",
       "    </tr>\n",
       "    <tr>\n",
       "      <th>stalk-surface-below-ring</th>\n",
       "      <td>s</td>\n",
       "      <td>s</td>\n",
       "      <td>s</td>\n",
       "      <td>s</td>\n",
       "      <td>s</td>\n",
       "    </tr>\n",
       "    <tr>\n",
       "      <th>stalk-color-above-ring</th>\n",
       "      <td>w</td>\n",
       "      <td>w</td>\n",
       "      <td>w</td>\n",
       "      <td>w</td>\n",
       "      <td>w</td>\n",
       "    </tr>\n",
       "    <tr>\n",
       "      <th>stalk-color-below-ring</th>\n",
       "      <td>w</td>\n",
       "      <td>w</td>\n",
       "      <td>w</td>\n",
       "      <td>w</td>\n",
       "      <td>w</td>\n",
       "    </tr>\n",
       "    <tr>\n",
       "      <th>veil-type</th>\n",
       "      <td>p</td>\n",
       "      <td>p</td>\n",
       "      <td>p</td>\n",
       "      <td>p</td>\n",
       "      <td>p</td>\n",
       "    </tr>\n",
       "    <tr>\n",
       "      <th>veil-color</th>\n",
       "      <td>w</td>\n",
       "      <td>w</td>\n",
       "      <td>w</td>\n",
       "      <td>w</td>\n",
       "      <td>w</td>\n",
       "    </tr>\n",
       "    <tr>\n",
       "      <th>ring-number</th>\n",
       "      <td>o</td>\n",
       "      <td>o</td>\n",
       "      <td>o</td>\n",
       "      <td>o</td>\n",
       "      <td>o</td>\n",
       "    </tr>\n",
       "    <tr>\n",
       "      <th>ring-type</th>\n",
       "      <td>p</td>\n",
       "      <td>p</td>\n",
       "      <td>p</td>\n",
       "      <td>p</td>\n",
       "      <td>e</td>\n",
       "    </tr>\n",
       "    <tr>\n",
       "      <th>spore-print-color</th>\n",
       "      <td>k</td>\n",
       "      <td>n</td>\n",
       "      <td>n</td>\n",
       "      <td>k</td>\n",
       "      <td>n</td>\n",
       "    </tr>\n",
       "    <tr>\n",
       "      <th>population</th>\n",
       "      <td>s</td>\n",
       "      <td>n</td>\n",
       "      <td>n</td>\n",
       "      <td>s</td>\n",
       "      <td>a</td>\n",
       "    </tr>\n",
       "    <tr>\n",
       "      <th>habitat</th>\n",
       "      <td>u</td>\n",
       "      <td>g</td>\n",
       "      <td>m</td>\n",
       "      <td>u</td>\n",
       "      <td>g</td>\n",
       "    </tr>\n",
       "  </tbody>\n",
       "</table>\n",
       "</div>"
      ],
      "text/plain": [
       "                          0  1  2  3  4\n",
       "cap-shape                 x  x  b  x  x\n",
       "cap-surface               s  s  s  y  s\n",
       "cap-color                 n  y  w  w  g\n",
       "bruises                   t  t  t  t  f\n",
       "odor                      p  a  l  p  n\n",
       "gill-attachment           f  f  f  f  f\n",
       "gill-spacing              c  c  c  c  w\n",
       "gill-size                 n  b  b  n  b\n",
       "gill-color                k  k  n  n  k\n",
       "stalk-shape               e  e  e  e  t\n",
       "stalk-root                e  c  c  e  e\n",
       "stalk-surface-above-ring  s  s  s  s  s\n",
       "stalk-surface-below-ring  s  s  s  s  s\n",
       "stalk-color-above-ring    w  w  w  w  w\n",
       "stalk-color-below-ring    w  w  w  w  w\n",
       "veil-type                 p  p  p  p  p\n",
       "veil-color                w  w  w  w  w\n",
       "ring-number               o  o  o  o  o\n",
       "ring-type                 p  p  p  p  e\n",
       "spore-print-color         k  n  n  k  n\n",
       "population                s  n  n  s  a\n",
       "habitat                   u  g  m  u  g"
      ]
     },
     "execution_count": 2,
     "metadata": {},
     "output_type": "execute_result"
    }
   ],
   "source": [
    "X.head().T"
   ]
  },
  {
   "cell_type": "code",
   "execution_count": 4,
   "id": "4fe9805b-11da-4db8-b10c-553ac08bc967",
   "metadata": {
    "execution": {
     "iopub.execute_input": "2024-01-17T18:59:04.283293Z",
     "iopub.status.busy": "2024-01-17T18:59:04.282849Z",
     "iopub.status.idle": "2024-01-17T18:59:04.292658Z",
     "shell.execute_reply": "2024-01-17T18:59:04.291315Z",
     "shell.execute_reply.started": "2024-01-17T18:59:04.283260Z"
    }
   },
   "outputs": [
    {
     "name": "stdout",
     "output_type": "stream",
     "text": [
      "{\n",
      "  \"uci_id\": 73,\n",
      "  \"name\": \"Mushroom\",\n",
      "  \"repository_url\": \"https://archive.ics.uci.edu/dataset/73/mushroom\",\n",
      "  \"data_url\": \"https://archive.ics.uci.edu/static/public/73/data.csv\",\n",
      "  \"abstract\": \"From Audobon Society Field Guide; mushrooms described in terms of physical characteristics; classification: poisonous or edible\",\n",
      "  \"area\": \"Biology\",\n",
      "  \"tasks\": [\n",
      "    \"Classification\"\n",
      "  ],\n",
      "  \"characteristics\": [\n",
      "    \"Multivariate\"\n",
      "  ],\n",
      "  \"num_instances\": 8124,\n",
      "  \"num_features\": 22,\n",
      "  \"feature_types\": [\n",
      "    \"Categorical\"\n",
      "  ],\n",
      "  \"demographics\": [],\n",
      "  \"target_col\": [\n",
      "    \"poisonous\"\n",
      "  ],\n",
      "  \"index_col\": null,\n",
      "  \"has_missing_values\": \"yes\",\n",
      "  \"missing_values_symbol\": \"NaN\",\n",
      "  \"year_of_dataset_creation\": 1981,\n",
      "  \"last_updated\": \"Thu Aug 10 2023\",\n",
      "  \"dataset_doi\": \"10.24432/C5959T\",\n",
      "  \"creators\": [],\n",
      "  \"intro_paper\": null,\n",
      "  \"additional_info\": {\n",
      "    \"summary\": \"This data set includes descriptions of hypothetical samples corresponding to 23 species of gilled mushrooms in the Agaricus and Lepiota Family (pp. 500-525).  Each species is identified as definitely edible, definitely poisonous, or of unknown edibility and not recommended.  This latter class was combined with the poisonous one.  The Guide clearly states that there is no simple rule for determining the edibility of a mushroom; no rule like ``leaflets three, let it be'' for Poisonous Oak and Ivy.\",\n",
      "    \"purpose\": null,\n",
      "    \"funded_by\": null,\n",
      "    \"instances_represent\": null,\n",
      "    \"recommended_data_splits\": null,\n",
      "    \"sensitive_data\": null,\n",
      "    \"preprocessing_description\": null,\n",
      "    \"variable_info\": \"     1. cap-shape:                bell=b,conical=c,convex=x,flat=f, knobbed=k,sunken=s\\r\\n     2. cap-surface:              fibrous=f,grooves=g,scaly=y,smooth=s\\r\\n     3. cap-color:                brown=n,buff=b,cinnamon=c,gray=g,green=r, pink=p,purple=u,red=e,white=w,yellow=y\\r\\n     4. bruises?:                 bruises=t,no=f\\r\\n     5. odor:                     almond=a,anise=l,creosote=c,fishy=y,foul=f, musty=m,none=n,pungent=p,spicy=s\\r\\n     6. gill-attachment:          attached=a,descending=d,free=f,notched=n\\r\\n     7. gill-spacing:             close=c,crowded=w,distant=d\\r\\n     8. gill-size:                broad=b,narrow=n\\r\\n     9. gill-color:               black=k,brown=n,buff=b,chocolate=h,gray=g, green=r,orange=o,pink=p,purple=u,red=e, white=w,yellow=y\\r\\n    10. stalk-shape:              enlarging=e,tapering=t\\r\\n    11. stalk-root:               bulbous=b,club=c,cup=u,equal=e, rhizomorphs=z,rooted=r,missing=?\\r\\n    12. stalk-surface-above-ring: fibrous=f,scaly=y,silky=k,smooth=s\\r\\n    13. stalk-surface-below-ring: fibrous=f,scaly=y,silky=k,smooth=s\\r\\n    14. stalk-color-above-ring:   brown=n,buff=b,cinnamon=c,gray=g,orange=o, pink=p,red=e,white=w,yellow=y\\r\\n    15. stalk-color-below-ring:   brown=n,buff=b,cinnamon=c,gray=g,orange=o, pink=p,red=e,white=w,yellow=y\\r\\n    16. veil-type:                partial=p,universal=u\\r\\n    17. veil-color:               brown=n,orange=o,white=w,yellow=y\\r\\n    18. ring-number:              none=n,one=o,two=t\\r\\n    19. ring-type:                cobwebby=c,evanescent=e,flaring=f,large=l, none=n,pendant=p,sheathing=s,zone=z\\r\\n    20. spore-print-color:        black=k,brown=n,buff=b,chocolate=h,green=r, orange=o,purple=u,white=w,yellow=y\\r\\n    21. population:               abundant=a,clustered=c,numerous=n, scattered=s,several=v,solitary=y\\r\\n    22. habitat:                  grasses=g,leaves=l,meadows=m,paths=p, urban=u,waste=w,woods=d\",\n",
      "    \"citation\": null\n",
      "  }\n",
      "}\n"
     ]
    }
   ],
   "source": [
    "# metadata\n",
    "import json\n",
    "\n",
    "print(json.dumps(mushroom.metadata, indent=2))"
   ]
  },
  {
   "cell_type": "code",
   "execution_count": 5,
   "id": "fc784f02-56a2-4802-88ba-1c2f98d61fd0",
   "metadata": {
    "execution": {
     "iopub.execute_input": "2024-01-17T18:59:04.912919Z",
     "iopub.status.busy": "2024-01-17T18:59:04.912184Z",
     "iopub.status.idle": "2024-01-17T18:59:04.924180Z",
     "shell.execute_reply": "2024-01-17T18:59:04.921244Z",
     "shell.execute_reply.started": "2024-01-17T18:59:04.912882Z"
    }
   },
   "outputs": [
    {
     "name": "stdout",
     "output_type": "stream",
     "text": [
      "     1. cap-shape:                bell=b,conical=c,convex=x,flat=f, knobbed=k,sunken=s\n",
      "     2. cap-surface:              fibrous=f,grooves=g,scaly=y,smooth=s\n",
      "     3. cap-color:                brown=n,buff=b,cinnamon=c,gray=g,green=r, pink=p,purple=u,red=e,white=w,yellow=y\n",
      "     4. bruises?:                 bruises=t,no=f\n",
      "     5. odor:                     almond=a,anise=l,creosote=c,fishy=y,foul=f, musty=m,none=n,pungent=p,spicy=s\n",
      "     6. gill-attachment:          attached=a,descending=d,free=f,notched=n\n",
      "     7. gill-spacing:             close=c,crowded=w,distant=d\n",
      "     8. gill-size:                broad=b,narrow=n\n",
      "     9. gill-color:               black=k,brown=n,buff=b,chocolate=h,gray=g, green=r,orange=o,pink=p,purple=u,red=e, white=w,yellow=y\n",
      "    10. stalk-shape:              enlarging=e,tapering=t\n",
      "    11. stalk-root:               bulbous=b,club=c,cup=u,equal=e, rhizomorphs=z,rooted=r,missing=?\n",
      "    12. stalk-surface-above-ring: fibrous=f,scaly=y,silky=k,smooth=s\n",
      "    13. stalk-surface-below-ring: fibrous=f,scaly=y,silky=k,smooth=s\n",
      "    14. stalk-color-above-ring:   brown=n,buff=b,cinnamon=c,gray=g,orange=o, pink=p,red=e,white=w,yellow=y\n",
      "    15. stalk-color-below-ring:   brown=n,buff=b,cinnamon=c,gray=g,orange=o, pink=p,red=e,white=w,yellow=y\n",
      "    16. veil-type:                partial=p,universal=u\n",
      "    17. veil-color:               brown=n,orange=o,white=w,yellow=y\n",
      "    18. ring-number:              none=n,one=o,two=t\n",
      "    19. ring-type:                cobwebby=c,evanescent=e,flaring=f,large=l, none=n,pendant=p,sheathing=s,zone=z\n",
      "    20. spore-print-color:        black=k,brown=n,buff=b,chocolate=h,green=r, orange=o,purple=u,white=w,yellow=y\n",
      "    21. population:               abundant=a,clustered=c,numerous=n, scattered=s,several=v,solitary=y\n",
      "    22. habitat:                  grasses=g,leaves=l,meadows=m,paths=p, urban=u,waste=w,woods=d\n"
     ]
    }
   ],
   "source": [
    "print(mushroom.metadata[\"additional_info\"][\"variable_info\"])"
   ]
  },
  {
   "cell_type": "code",
   "execution_count": 6,
   "id": "2d37bb25-8362-4ceb-8847-c9e6efb7aeb8",
   "metadata": {
    "execution": {
     "iopub.execute_input": "2024-01-17T18:59:05.165990Z",
     "iopub.status.busy": "2024-01-17T18:59:05.165369Z",
     "iopub.status.idle": "2024-01-17T18:59:05.183631Z",
     "shell.execute_reply": "2024-01-17T18:59:05.181898Z",
     "shell.execute_reply.started": "2024-01-17T18:59:05.165938Z"
    }
   },
   "outputs": [
    {
     "name": "stdout",
     "output_type": "stream",
     "text": [
      "                        name     role         type demographic  \\\n",
      "0                  poisonous   Target  Categorical        None   \n",
      "1                  cap-shape  Feature  Categorical        None   \n",
      "2                cap-surface  Feature  Categorical        None   \n",
      "3                  cap-color  Feature       Binary        None   \n",
      "4                    bruises  Feature  Categorical        None   \n",
      "5                       odor  Feature  Categorical        None   \n",
      "6            gill-attachment  Feature  Categorical        None   \n",
      "7               gill-spacing  Feature  Categorical        None   \n",
      "8                  gill-size  Feature  Categorical        None   \n",
      "9                 gill-color  Feature  Categorical        None   \n",
      "10               stalk-shape  Feature  Categorical        None   \n",
      "11                stalk-root  Feature  Categorical        None   \n",
      "12  stalk-surface-above-ring  Feature  Categorical        None   \n",
      "13  stalk-surface-below-ring  Feature  Categorical        None   \n",
      "14    stalk-color-above-ring  Feature  Categorical        None   \n",
      "15    stalk-color-below-ring  Feature  Categorical        None   \n",
      "16                 veil-type  Feature       Binary        None   \n",
      "17                veil-color  Feature  Categorical        None   \n",
      "18               ring-number  Feature  Categorical        None   \n",
      "19                 ring-type  Feature  Categorical        None   \n",
      "20         spore-print-color  Feature  Categorical        None   \n",
      "21                population  Feature  Categorical        None   \n",
      "22                   habitat  Feature  Categorical        None   \n",
      "\n",
      "                                          description units missing_values  \n",
      "0                                                None  None             no  \n",
      "1   bell=b,conical=c,convex=x,flat=f, knobbed=k,su...  None             no  \n",
      "2                fibrous=f,grooves=g,scaly=y,smooth=s  None             no  \n",
      "3   brown=n,buff=b,cinnamon=c,gray=g,green=r, pink...  None             no  \n",
      "4                                      bruises=t,no=f  None             no  \n",
      "5   almond=a,anise=l,creosote=c,fishy=y,foul=f, mu...  None             no  \n",
      "6            attached=a,descending=d,free=f,notched=n  None             no  \n",
      "7                         close=c,crowded=w,distant=d  None             no  \n",
      "8                                    broad=b,narrow=n  None             no  \n",
      "9   black=k,brown=n,buff=b,chocolate=h,gray=g, gre...  None             no  \n",
      "10                             enlarging=e,tapering=t  None             no  \n",
      "11  bulbous=b,club=c,cup=u,equal=e, rhizomorphs=z,...  None            yes  \n",
      "12                 fibrous=f,scaly=y,silky=k,smooth=s  None             no  \n",
      "13                 fibrous=f,scaly=y,silky=k,smooth=s  None             no  \n",
      "14  brown=n,buff=b,cinnamon=c,gray=g,orange=o, pin...  None             no  \n",
      "15  brown=n,buff=b,cinnamon=c,gray=g,orange=o, pin...  None             no  \n",
      "16                              partial=p,universal=u  None             no  \n",
      "17                  brown=n,orange=o,white=w,yellow=y  None             no  \n",
      "18                                 none=n,one=o,two=t  None             no  \n",
      "19  cobwebby=c,evanescent=e,flaring=f,large=l, non...  None             no  \n",
      "20  black=k,brown=n,buff=b,chocolate=h,green=r, or...  None             no  \n",
      "21  abundant=a,clustered=c,numerous=n, scattered=s...  None             no  \n",
      "22  grasses=g,leaves=l,meadows=m,paths=p, urban=u,...  None             no  \n"
     ]
    }
   ],
   "source": [
    "# variable information\n",
    "print(mushroom.variables)"
   ]
  },
  {
   "cell_type": "code",
   "execution_count": 7,
   "id": "9d657a6b-43e9-4deb-a05a-e9fbe90b6f5a",
   "metadata": {
    "execution": {
     "iopub.execute_input": "2024-01-17T18:59:05.316395Z",
     "iopub.status.busy": "2024-01-17T18:59:05.315498Z",
     "iopub.status.idle": "2024-01-17T18:59:05.326289Z",
     "shell.execute_reply": "2024-01-17T18:59:05.324759Z",
     "shell.execute_reply.started": "2024-01-17T18:59:05.316355Z"
    }
   },
   "outputs": [
    {
     "data": {
      "text/html": [
       "<div>\n",
       "<style scoped>\n",
       "    .dataframe tbody tr th:only-of-type {\n",
       "        vertical-align: middle;\n",
       "    }\n",
       "\n",
       "    .dataframe tbody tr th {\n",
       "        vertical-align: top;\n",
       "    }\n",
       "\n",
       "    .dataframe thead th {\n",
       "        text-align: right;\n",
       "    }\n",
       "</style>\n",
       "<table border=\"1\" class=\"dataframe\">\n",
       "  <thead>\n",
       "    <tr style=\"text-align: right;\">\n",
       "      <th></th>\n",
       "      <th>poisonous</th>\n",
       "    </tr>\n",
       "  </thead>\n",
       "  <tbody>\n",
       "    <tr>\n",
       "      <th>0</th>\n",
       "      <td>p</td>\n",
       "    </tr>\n",
       "    <tr>\n",
       "      <th>1</th>\n",
       "      <td>e</td>\n",
       "    </tr>\n",
       "    <tr>\n",
       "      <th>2</th>\n",
       "      <td>e</td>\n",
       "    </tr>\n",
       "    <tr>\n",
       "      <th>3</th>\n",
       "      <td>p</td>\n",
       "    </tr>\n",
       "    <tr>\n",
       "      <th>4</th>\n",
       "      <td>e</td>\n",
       "    </tr>\n",
       "  </tbody>\n",
       "</table>\n",
       "</div>"
      ],
      "text/plain": [
       "  poisonous\n",
       "0         p\n",
       "1         e\n",
       "2         e\n",
       "3         p\n",
       "4         e"
      ]
     },
     "execution_count": 7,
     "metadata": {},
     "output_type": "execute_result"
    }
   ],
   "source": [
    "y.head()"
   ]
  },
  {
   "cell_type": "code",
   "execution_count": 8,
   "id": "f8eb1c3d-f53e-4ead-a15d-6322dfaaf74c",
   "metadata": {
    "execution": {
     "iopub.execute_input": "2024-01-17T18:59:05.520097Z",
     "iopub.status.busy": "2024-01-17T18:59:05.518566Z",
     "iopub.status.idle": "2024-01-17T18:59:05.526692Z",
     "shell.execute_reply": "2024-01-17T18:59:05.525504Z",
     "shell.execute_reply.started": "2024-01-17T18:59:05.520041Z"
    }
   },
   "outputs": [],
   "source": [
    "import pandas as pd"
   ]
  },
  {
   "cell_type": "code",
   "execution_count": 9,
   "id": "744dcaa3-df83-4c00-bd96-878797c5ea03",
   "metadata": {
    "execution": {
     "iopub.execute_input": "2024-01-17T18:59:05.728720Z",
     "iopub.status.busy": "2024-01-17T18:59:05.728272Z",
     "iopub.status.idle": "2024-01-17T18:59:05.761181Z",
     "shell.execute_reply": "2024-01-17T18:59:05.759537Z",
     "shell.execute_reply.started": "2024-01-17T18:59:05.728686Z"
    }
   },
   "outputs": [
    {
     "data": {
      "text/html": [
       "<div>\n",
       "<style scoped>\n",
       "    .dataframe tbody tr th:only-of-type {\n",
       "        vertical-align: middle;\n",
       "    }\n",
       "\n",
       "    .dataframe tbody tr th {\n",
       "        vertical-align: top;\n",
       "    }\n",
       "\n",
       "    .dataframe thead th {\n",
       "        text-align: right;\n",
       "    }\n",
       "</style>\n",
       "<table border=\"1\" class=\"dataframe\">\n",
       "  <thead>\n",
       "    <tr style=\"text-align: right;\">\n",
       "      <th></th>\n",
       "      <th>cap-shape</th>\n",
       "      <th>cap-surface</th>\n",
       "      <th>cap-color</th>\n",
       "      <th>bruises</th>\n",
       "      <th>odor</th>\n",
       "      <th>gill-attachment</th>\n",
       "      <th>gill-spacing</th>\n",
       "      <th>gill-size</th>\n",
       "      <th>gill-color</th>\n",
       "      <th>stalk-shape</th>\n",
       "      <th>...</th>\n",
       "      <th>stalk-color-above-ring</th>\n",
       "      <th>stalk-color-below-ring</th>\n",
       "      <th>veil-type</th>\n",
       "      <th>veil-color</th>\n",
       "      <th>ring-number</th>\n",
       "      <th>ring-type</th>\n",
       "      <th>spore-print-color</th>\n",
       "      <th>population</th>\n",
       "      <th>habitat</th>\n",
       "      <th>poisonous</th>\n",
       "    </tr>\n",
       "  </thead>\n",
       "  <tbody>\n",
       "    <tr>\n",
       "      <th>0</th>\n",
       "      <td>x</td>\n",
       "      <td>s</td>\n",
       "      <td>n</td>\n",
       "      <td>t</td>\n",
       "      <td>p</td>\n",
       "      <td>f</td>\n",
       "      <td>c</td>\n",
       "      <td>n</td>\n",
       "      <td>k</td>\n",
       "      <td>e</td>\n",
       "      <td>...</td>\n",
       "      <td>w</td>\n",
       "      <td>w</td>\n",
       "      <td>p</td>\n",
       "      <td>w</td>\n",
       "      <td>o</td>\n",
       "      <td>p</td>\n",
       "      <td>k</td>\n",
       "      <td>s</td>\n",
       "      <td>u</td>\n",
       "      <td>p</td>\n",
       "    </tr>\n",
       "    <tr>\n",
       "      <th>1</th>\n",
       "      <td>x</td>\n",
       "      <td>s</td>\n",
       "      <td>y</td>\n",
       "      <td>t</td>\n",
       "      <td>a</td>\n",
       "      <td>f</td>\n",
       "      <td>c</td>\n",
       "      <td>b</td>\n",
       "      <td>k</td>\n",
       "      <td>e</td>\n",
       "      <td>...</td>\n",
       "      <td>w</td>\n",
       "      <td>w</td>\n",
       "      <td>p</td>\n",
       "      <td>w</td>\n",
       "      <td>o</td>\n",
       "      <td>p</td>\n",
       "      <td>n</td>\n",
       "      <td>n</td>\n",
       "      <td>g</td>\n",
       "      <td>e</td>\n",
       "    </tr>\n",
       "    <tr>\n",
       "      <th>2</th>\n",
       "      <td>b</td>\n",
       "      <td>s</td>\n",
       "      <td>w</td>\n",
       "      <td>t</td>\n",
       "      <td>l</td>\n",
       "      <td>f</td>\n",
       "      <td>c</td>\n",
       "      <td>b</td>\n",
       "      <td>n</td>\n",
       "      <td>e</td>\n",
       "      <td>...</td>\n",
       "      <td>w</td>\n",
       "      <td>w</td>\n",
       "      <td>p</td>\n",
       "      <td>w</td>\n",
       "      <td>o</td>\n",
       "      <td>p</td>\n",
       "      <td>n</td>\n",
       "      <td>n</td>\n",
       "      <td>m</td>\n",
       "      <td>e</td>\n",
       "    </tr>\n",
       "    <tr>\n",
       "      <th>3</th>\n",
       "      <td>x</td>\n",
       "      <td>y</td>\n",
       "      <td>w</td>\n",
       "      <td>t</td>\n",
       "      <td>p</td>\n",
       "      <td>f</td>\n",
       "      <td>c</td>\n",
       "      <td>n</td>\n",
       "      <td>n</td>\n",
       "      <td>e</td>\n",
       "      <td>...</td>\n",
       "      <td>w</td>\n",
       "      <td>w</td>\n",
       "      <td>p</td>\n",
       "      <td>w</td>\n",
       "      <td>o</td>\n",
       "      <td>p</td>\n",
       "      <td>k</td>\n",
       "      <td>s</td>\n",
       "      <td>u</td>\n",
       "      <td>p</td>\n",
       "    </tr>\n",
       "    <tr>\n",
       "      <th>4</th>\n",
       "      <td>x</td>\n",
       "      <td>s</td>\n",
       "      <td>g</td>\n",
       "      <td>f</td>\n",
       "      <td>n</td>\n",
       "      <td>f</td>\n",
       "      <td>w</td>\n",
       "      <td>b</td>\n",
       "      <td>k</td>\n",
       "      <td>t</td>\n",
       "      <td>...</td>\n",
       "      <td>w</td>\n",
       "      <td>w</td>\n",
       "      <td>p</td>\n",
       "      <td>w</td>\n",
       "      <td>o</td>\n",
       "      <td>e</td>\n",
       "      <td>n</td>\n",
       "      <td>a</td>\n",
       "      <td>g</td>\n",
       "      <td>e</td>\n",
       "    </tr>\n",
       "  </tbody>\n",
       "</table>\n",
       "<p>5 rows × 23 columns</p>\n",
       "</div>"
      ],
      "text/plain": [
       "  cap-shape cap-surface cap-color bruises odor gill-attachment gill-spacing  \\\n",
       "0         x           s         n       t    p               f            c   \n",
       "1         x           s         y       t    a               f            c   \n",
       "2         b           s         w       t    l               f            c   \n",
       "3         x           y         w       t    p               f            c   \n",
       "4         x           s         g       f    n               f            w   \n",
       "\n",
       "  gill-size gill-color stalk-shape  ... stalk-color-above-ring  \\\n",
       "0         n          k           e  ...                      w   \n",
       "1         b          k           e  ...                      w   \n",
       "2         b          n           e  ...                      w   \n",
       "3         n          n           e  ...                      w   \n",
       "4         b          k           t  ...                      w   \n",
       "\n",
       "  stalk-color-below-ring veil-type veil-color ring-number ring-type  \\\n",
       "0                      w         p          w           o         p   \n",
       "1                      w         p          w           o         p   \n",
       "2                      w         p          w           o         p   \n",
       "3                      w         p          w           o         p   \n",
       "4                      w         p          w           o         e   \n",
       "\n",
       "  spore-print-color population habitat poisonous  \n",
       "0                 k          s       u         p  \n",
       "1                 n          n       g         e  \n",
       "2                 n          n       m         e  \n",
       "3                 k          s       u         p  \n",
       "4                 n          a       g         e  \n",
       "\n",
       "[5 rows x 23 columns]"
      ]
     },
     "execution_count": 9,
     "metadata": {},
     "output_type": "execute_result"
    }
   ],
   "source": [
    "df = pd.concat([X, y], axis=\"columns\")\n",
    "df.head()"
   ]
  },
  {
   "cell_type": "code",
   "execution_count": 10,
   "id": "b5ed6813-2454-436d-9a8b-d641c407783b",
   "metadata": {
    "execution": {
     "iopub.execute_input": "2024-01-17T18:59:06.001451Z",
     "iopub.status.busy": "2024-01-17T18:59:06.000931Z",
     "iopub.status.idle": "2024-01-17T18:59:07.578751Z",
     "shell.execute_reply": "2024-01-17T18:59:07.577371Z",
     "shell.execute_reply.started": "2024-01-17T18:59:06.001420Z"
    }
   },
   "outputs": [],
   "source": [
    "from sklearn.feature_extraction import FeatureHasher\n",
    "from sklearn.neural_network import MLPRegressor"
   ]
  },
  {
   "cell_type": "code",
   "execution_count": 11,
   "id": "c238dbc0-a2f8-4ec5-84f7-b282a24699d4",
   "metadata": {
    "execution": {
     "iopub.execute_input": "2024-01-17T18:59:07.582777Z",
     "iopub.status.busy": "2024-01-17T18:59:07.582118Z",
     "iopub.status.idle": "2024-01-17T18:59:07.591188Z",
     "shell.execute_reply": "2024-01-17T18:59:07.590172Z",
     "shell.execute_reply.started": "2024-01-17T18:59:07.582742Z"
    }
   },
   "outputs": [],
   "source": [
    "# We set alternate sign to false because we want positive numbers only.\n",
    "# This is important for the training to avoid -tive predictions.\n",
    "hasher = FeatureHasher(n_features=100, input_type=\"string\", alternate_sign=True)\n",
    "\n",
    "\n",
    "def preprocess(state, action):\n",
    "    features = [f\"{key}:{value}^{action}\" for key, value in state.items()]\n",
    "    # features = [f\"{key}:{value}\" for key, value in state.items()]\n",
    "    # features += [action]\n",
    "    # print(features)\n",
    "    return hasher.transform([features]).toarray()[0]"
   ]
  },
  {
   "cell_type": "code",
   "execution_count": 21,
   "id": "a497d51e-bc42-47ad-b3c6-b5d1e3f82e9b",
   "metadata": {
    "execution": {
     "iopub.execute_input": "2024-01-17T19:00:15.639443Z",
     "iopub.status.busy": "2024-01-17T19:00:15.638768Z",
     "iopub.status.idle": "2024-01-17T19:00:15.660103Z",
     "shell.execute_reply": "2024-01-17T19:00:15.657182Z",
     "shell.execute_reply.started": "2024-01-17T19:00:15.639388Z"
    }
   },
   "outputs": [
    {
     "data": {
      "text/plain": [
       "(array([ 1.,  0.,  0., -1., -2.,  0.,  0.,  0., -1.,  0.,  0.,  0.,  0.,\n",
       "         0.,  0.,  0.,  0.,  0.,  0.,  0.,  0.,  0.,  0.,  0.,  0.,  1.,\n",
       "         0.,  0.,  0.,  0.,  0.,  0.,  0.,  0., -1.,  0., -1.,  0.,  0.,\n",
       "        -1.,  0.,  0.,  0.,  0.,  1.,  0.,  0.,  0.,  0.,  0.,  0.,  1.,\n",
       "         0.,  0.,  0.,  0.,  0.,  2.,  0.,  0.,  0.,  0.,  0.,  0.,  0.,\n",
       "         0.,  0.,  0.,  0.,  0.,  0., -1.,  0.,  0.,  0.,  0.,  0.,  0.,\n",
       "        -1.,  0.,  0.,  0.,  0., -1.,  0.,  0.,  0.,  0.,  0.,  0.,  0.,\n",
       "         0.,  0.,  1., -1.,  0.,  0.,  0.,  0.,  0.]),\n",
       " array([ 0.,  0.,  0.,  1.,  1.,  1.,  0.,  0.,  0.,  0.,  0.,  0.,  0.,\n",
       "         0.,  0.,  0.,  0.,  0.,  0.,  0.,  0.,  0.,  0.,  0.,  0.,  0.,\n",
       "         0.,  0.,  0.,  0.,  0.,  0.,  0.,  0.,  0.,  0.,  0.,  0.,  0.,\n",
       "         0., -1.,  0.,  0.,  0.,  0.,  0.,  0.,  0.,  0.,  1.,  1.,  0.,\n",
       "         0.,  1.,  0.,  0.,  0.,  0., -1.,  0.,  1.,  0.,  0.,  1.,  0.,\n",
       "         0.,  0.,  0.,  0.,  0.,  0., -1.,  0., -1.,  0.,  0.,  1.,  0.,\n",
       "         0.,  0.,  0.,  0.,  0., -1.,  0.,  2.,  0.,  0.,  0., -2.,  0.,\n",
       "         0.,  0.,  0.,  0.,  0.,  0.,  0.,  0.,  0.]),\n",
       " poisonous    p\n",
       " Name: 0, dtype: object)"
      ]
     },
     "execution_count": 21,
     "metadata": {},
     "output_type": "execute_result"
    }
   ],
   "source": [
    "X_i = df.iloc[0, :-1]\n",
    "y_i = df.iloc[0, -1:]\n",
    "preprocess(X_i, \"eat\"), preprocess(X_i, \"throw\"), y_i"
   ]
  },
  {
   "cell_type": "markdown",
   "id": "291ba80c-bc0e-4474-b491-b0739dc5cc6f",
   "metadata": {},
   "source": [
    "The MLPRegressor in Scikit-learn does not have a built-in way to restrict the output to non-negative values. However, there are a few workarounds you can use:\n",
    "\n",
    "1. **Post-processing**: After getting the predictions, you can simply set all negative values to zero. This is the simplest method, but it might not be the best solution if a large number of your predictions are negative.\n",
    "\n",
    "```python\n",
    "predictions = model.predict(X)\n",
    "predictions = np.maximum(predictions, 0)\n",
    "```\n",
    "\n",
    "2. **Log transformation**: If your target variable is always positive, you can take the log of the target variable during training, and then exponentiate the predictions. This will ensure that your predictions are always positive.\n",
    "\n",
    "```python\n",
    "# During training\n",
    "model.fit(X, np.log1p(y))\n",
    "\n",
    "# During prediction\n",
    "predictions = np.expm1(model.predict(X))\n",
    "```\n",
    "\n",
    "Note: `np.log1p(y)` is used instead of `np.log(y)` to handle the case where `y` is 0, and `np.expm1(predictions)` is the inverse of `np.log1p(y)`.\n",
    "\n",
    "Remember that these are just workarounds. If your model is predicting a lot of negative values and it shouldn't be, it might be a sign that your model isn't well-suited to your data."
   ]
  },
  {
   "cell_type": "code",
   "execution_count": 13,
   "id": "5ee210cc-9856-41a6-844d-557f6ea969c4",
   "metadata": {
    "execution": {
     "iopub.execute_input": "2024-01-17T18:59:07.617755Z",
     "iopub.status.busy": "2024-01-17T18:59:07.616630Z",
     "iopub.status.idle": "2024-01-17T18:59:07.630019Z",
     "shell.execute_reply": "2024-01-17T18:59:07.629033Z",
     "shell.execute_reply.started": "2024-01-17T18:59:07.617710Z"
    }
   },
   "outputs": [],
   "source": [
    "def softmax(lst, tau=1.0):\n",
    "    lst = np.array(lst) / tau\n",
    "    \"\"\"The softmax function is often used in machine learning to convert a list of real numbers into a list of probabilities that add up to 1.\n",
    "    Note: The softmax function can be unstable if the numbers in the list are very large (due to the exponential function). In practice, a common technique is to subtract the maximum value in the list from all the values to stabilize the computation.\n",
    "    \"\"\"\n",
    "    exps = np.exp(lst)\n",
    "    return exps / np.sum(exps)"
   ]
  },
  {
   "cell_type": "code",
   "execution_count": 14,
   "id": "ae661d49-2207-43f3-81bb-dc7f7cc8f25e",
   "metadata": {
    "execution": {
     "iopub.execute_input": "2024-01-17T18:59:07.639153Z",
     "iopub.status.busy": "2024-01-17T18:59:07.637569Z",
     "iopub.status.idle": "2024-01-17T18:59:32.435362Z",
     "shell.execute_reply": "2024-01-17T18:59:32.432530Z",
     "shell.execute_reply.started": "2024-01-17T18:59:07.639118Z"
    }
   },
   "outputs": [],
   "source": [
    "from collections import defaultdict\n",
    "\n",
    "import numpy as np\n",
    "\n",
    "actions = [\"eat\", \"throw\"]\n",
    "total_reward = 0\n",
    "avg_rewards = []\n",
    "choices = defaultdict(int)\n",
    "\n",
    "n = 100\n",
    "last_n_actions = [\"\"] * n\n",
    "last_n_probabilities = [[0, 0] for i in range(n)]\n",
    "POISONOUS = \"p\"\n",
    "\n",
    "model = MLPRegressor(\n",
    "    random_state=42,\n",
    ")\n",
    "\n",
    "for i, item in df.iterrows():\n",
    "    X_i, y_i = item.iloc[:-1], item.iloc[-1]\n",
    "\n",
    "    if i == 0:\n",
    "        action = np.random.choice(actions)\n",
    "    else:\n",
    "        rewards = model.predict([preprocess(X_i, action) for action in actions])\n",
    "        # Prevents -tive value.\n",
    "        p = softmax(rewards, tau=0.2)\n",
    "        action = np.random.choice(actions, p=p)\n",
    "        last_n_probabilities[i % n] = p\n",
    "\n",
    "    if action == \"eat\":\n",
    "        reward = 0 if y_i == POISONOUS else 1\n",
    "    else:\n",
    "        reward = 1 if y_i == POISONOUS else 0\n",
    "\n",
    "    model.partial_fit([preprocess(X_i, action)], [reward])\n",
    "\n",
    "    choices[action + \"_\" + y_i] += 1\n",
    "    last_n_actions[i % n] = action + \"_\" + y_i\n",
    "    total_reward += reward\n",
    "    avg_rewards.append(total_reward / (i + 1))"
   ]
  },
  {
   "cell_type": "code",
   "execution_count": 15,
   "id": "091cccd6-1ea2-4233-8b59-17ccc9d76ad7",
   "metadata": {
    "execution": {
     "iopub.execute_input": "2024-01-17T18:59:32.449133Z",
     "iopub.status.busy": "2024-01-17T18:59:32.439617Z",
     "iopub.status.idle": "2024-01-17T18:59:33.682909Z",
     "shell.execute_reply": "2024-01-17T18:59:33.681314Z",
     "shell.execute_reply.started": "2024-01-17T18:59:32.449073Z"
    }
   },
   "outputs": [
    {
     "data": {
      "text/plain": [
       "[<matplotlib.lines.Line2D at 0x11cfb7700>]"
      ]
     },
     "execution_count": 15,
     "metadata": {},
     "output_type": "execute_result"
    },
    {
     "data": {
      "image/png": "[encoded data removed]",
      "text/plain": [
       "<Figure size 640x480 with 1 Axes>"
      ]
     },
     "metadata": {},
     "output_type": "display_data"
    }
   ],
   "source": [
    "import matplotlib.pyplot as plt\n",
    "\n",
    "n, _ = df.shape\n",
    "plt.plot(range(n), avg_rewards)"
   ]
  },
  {
   "cell_type": "code",
   "execution_count": 16,
   "id": "7ff9f3cb-c67a-4bf2-94ea-e8d5da94d6ed",
   "metadata": {
    "execution": {
     "iopub.execute_input": "2024-01-17T18:59:33.688937Z",
     "iopub.status.busy": "2024-01-17T18:59:33.686415Z",
     "iopub.status.idle": "2024-01-17T18:59:33.708287Z",
     "shell.execute_reply": "2024-01-17T18:59:33.698012Z",
     "shell.execute_reply.started": "2024-01-17T18:59:33.688903Z"
    }
   },
   "outputs": [
    {
     "data": {
      "text/plain": [
       "8011"
      ]
     },
     "execution_count": 16,
     "metadata": {},
     "output_type": "execute_result"
    }
   ],
   "source": [
    "total_reward"
   ]
  },
  {
   "cell_type": "code",
   "execution_count": 17,
   "id": "aa6d2a7d-e454-452b-b4a6-9f9a734258ce",
   "metadata": {
    "execution": {
     "iopub.execute_input": "2024-01-17T18:59:33.713538Z",
     "iopub.status.busy": "2024-01-17T18:59:33.713012Z",
     "iopub.status.idle": "2024-01-17T18:59:33.738740Z",
     "shell.execute_reply": "2024-01-17T18:59:33.728781Z",
     "shell.execute_reply.started": "2024-01-17T18:59:33.713493Z"
    }
   },
   "outputs": [
    {
     "data": {
      "text/plain": [
       "defaultdict(int, {'throw_p': 3859, 'eat_e': 4152, 'eat_p': 57, 'throw_e': 56})"
      ]
     },
     "execution_count": 17,
     "metadata": {},
     "output_type": "execute_result"
    }
   ],
   "source": [
    "choices"
   ]
  },
  {
   "cell_type": "code",
   "execution_count": 28,
   "id": "607efbb1-e197-4476-902d-9cf6949bc1ca",
   "metadata": {
    "execution": {
     "iopub.execute_input": "2024-01-17T19:04:06.214391Z",
     "iopub.status.busy": "2024-01-17T19:04:06.212032Z",
     "iopub.status.idle": "2024-01-17T19:04:06.282857Z",
     "shell.execute_reply": "2024-01-17T19:04:06.280714Z",
     "shell.execute_reply.started": "2024-01-17T19:04:06.214280Z"
    }
   },
   "outputs": [
    {
     "data": {
      "text/plain": [
       "(poisonous\n",
       " e    4208\n",
       " p    3916\n",
       " Name: count, dtype: int64,\n",
       " (8124, 23))"
      ]
     },
     "execution_count": 28,
     "metadata": {},
     "output_type": "execute_result"
    }
   ],
   "source": [
    "df[\"poisonous\"].value_counts(), df.shape"
   ]
  },
  {
   "cell_type": "code",
   "execution_count": 19,
   "id": "a0e34ce5-49b3-47e6-852d-3c78d40faae9",
   "metadata": {
    "execution": {
     "iopub.execute_input": "2024-01-17T18:59:33.782384Z",
     "iopub.status.busy": "2024-01-17T18:59:33.781763Z",
     "iopub.status.idle": "2024-01-17T18:59:33.816225Z",
     "shell.execute_reply": "2024-01-17T18:59:33.807174Z",
     "shell.execute_reply.started": "2024-01-17T18:59:33.782334Z"
    }
   },
   "outputs": [
    {
     "data": {
      "text/plain": [
       "Counter({'eat_e': 54, 'throw_p': 46})"
      ]
     },
     "execution_count": 19,
     "metadata": {},
     "output_type": "execute_result"
    }
   ],
   "source": [
    "from collections import Counter\n",
    "\n",
    "Counter(last_n_actions)"
   ]
  },
  {
   "cell_type": "code",
   "execution_count": 20,
   "id": "4c2adb94-ed45-456e-9447-249db2b87593",
   "metadata": {
    "execution": {
     "iopub.execute_input": "2024-01-17T18:59:33.819541Z",
     "iopub.status.busy": "2024-01-17T18:59:33.818196Z",
     "iopub.status.idle": "2024-01-17T18:59:33.858890Z",
     "shell.execute_reply": "2024-01-17T18:59:33.845278Z",
     "shell.execute_reply.started": "2024-01-17T18:59:33.819488Z"
    }
   },
   "outputs": [
    {
     "data": {
      "text/plain": [
       "[('throw_p', array([0.00302732, 0.99697268])),\n",
       " ('throw_p', array([0.00389586, 0.99610414])),\n",
       " ('throw_p', array([0.00178094, 0.99821906])),\n",
       " ('throw_p', array([0.00312058, 0.99687942])),\n",
       " ('eat_e', array([0.99575166, 0.00424834])),\n",
       " ('throw_p', array([0.01868132, 0.98131868])),\n",
       " ('eat_e', array([0.99269333, 0.00730667])),\n",
       " ('throw_p', array([8.50716338e-04, 9.99149284e-01])),\n",
       " ('throw_p', array([0.00206233, 0.99793767])),\n",
       " ('eat_e', array([0.9894694, 0.0105306]))]"
      ]
     },
     "execution_count": 20,
     "metadata": {},
     "output_type": "execute_result"
    }
   ],
   "source": [
    "list(zip(last_n_actions[-10:], last_n_probabilities[-10:]))"
   ]
  },
  {
   "cell_type": "code",
   "execution_count": null,
   "id": "dc7b1a0e-c3db-474f-9ac4-bbb04fdbd871",
   "metadata": {},
   "outputs": [],
   "source": []
  },
  {
   "cell_type": "code",
   "execution_count": null,
   "id": "22a2c27e-3db2-43c9-ad52-b3f8363da594",
   "metadata": {},
   "outputs": [],
   "source": []
  }
 ],
 "metadata": {
  "kernelspec": {
   "display_name": "Python 3 (ipykernel)",
   "language": "python",
   "name": "python3"
  },
  "language_info": {
   "codemirror_mode": {
    "name": "ipython",
    "version": 3
   },
   "file_extension": ".py",
   "mimetype": "text/x-python",
   "name": "python",
   "nbconvert_exporter": "python",
   "pygments_lexer": "ipython3",
   "version": "3.10.13"
  },
  "widgets": {
   "application/vnd.jupyter.widget-state+json": {
    "state": {},
    "version_major": 2,
    "version_minor": 0
   }
  }
 },
 "nbformat": 4,
 "nbformat_minor": 5
}
