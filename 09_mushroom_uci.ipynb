{
 "cells": [
  {
   "cell_type": "code",
   "execution_count": 1,
   "id": "f2c48f90-2d30-48a6-89eb-bc95c1986ab5",
   "metadata": {
    "execution": {
     "iopub.execute_input": "2024-01-17T19:18:34.223827Z",
     "iopub.status.busy": "2024-01-17T19:18:34.223322Z",
     "iopub.status.idle": "2024-01-17T19:18:40.752304Z",
     "shell.execute_reply": "2024-01-17T19:18:40.751599Z",
     "shell.execute_reply.started": "2024-01-17T19:18:34.223776Z"
    }
   },
   "outputs": [
    {
     "data": {
      "text/plain": [
       "((8124, 22), (8124, 1))"
      ]
     },
     "execution_count": 1,
     "metadata": {},
     "output_type": "execute_result"
    }
   ],
   "source": [
    "from ucimlrepo import fetch_ucirepo\n",
    "\n",
    "# fetch dataset\n",
    "mushroom = fetch_ucirepo(id=73)\n",
    "\n",
    "# data (as pandas dataframes)\n",
    "X = mushroom.data.features\n",
    "y = mushroom.data.targets\n",
    "X.shape, y.shape"
   ]
  },
  {
   "cell_type": "code",
   "execution_count": 2,
   "id": "3876b70c-470c-4ded-9aed-889fa5900d47",
   "metadata": {
    "execution": {
     "iopub.execute_input": "2024-01-17T19:18:40.756483Z",
     "iopub.status.busy": "2024-01-17T19:18:40.756008Z",
     "iopub.status.idle": "2024-01-17T19:18:40.780670Z",
     "shell.execute_reply": "2024-01-17T19:18:40.779452Z",
     "shell.execute_reply.started": "2024-01-17T19:18:40.756440Z"
    }
   },
   "outputs": [
    {
     "data": {
      "text/html": [
       "<div>\n",
       "<style scoped>\n",
       "    .dataframe tbody tr th:only-of-type {\n",
       "        vertical-align: middle;\n",
       "    }\n",
       "\n",
       "    .dataframe tbody tr th {\n",
       "        vertical-align: top;\n",
       "    }\n",
       "\n",
       "    .dataframe thead th {\n",
       "        text-align: right;\n",
       "    }\n",
       "</style>\n",
       "<table border=\"1\" class=\"dataframe\">\n",
       "  <thead>\n",
       "    <tr style=\"text-align: right;\">\n",
       "      <th></th>\n",
       "      <th>0</th>\n",
       "      <th>1</th>\n",
       "      <th>2</th>\n",
       "      <th>3</th>\n",
       "      <th>4</th>\n",
       "    </tr>\n",
       "  </thead>\n",
       "  <tbody>\n",
       "    <tr>\n",
       "      <th>cap-shape</th>\n",
       "      <td>x</td>\n",
       "      <td>x</td>\n",
       "      <td>b</td>\n",
       "      <td>x</td>\n",
       "      <td>x</td>\n",
       "    </tr>\n",
       "    <tr>\n",
       "      <th>cap-surface</th>\n",
       "      <td>s</td>\n",
       "      <td>s</td>\n",
       "      <td>s</td>\n",
       "      <td>y</td>\n",
       "      <td>s</td>\n",
       "    </tr>\n",
       "    <tr>\n",
       "      <th>cap-color</th>\n",
       "      <td>n</td>\n",
       "      <td>y</td>\n",
       "      <td>w</td>\n",
       "      <td>w</td>\n",
       "      <td>g</td>\n",
       "    </tr>\n",
       "    <tr>\n",
       "      <th>bruises</th>\n",
       "      <td>t</td>\n",
       "      <td>t</td>\n",
       "      <td>t</td>\n",
       "      <td>t</td>\n",
       "      <td>f</td>\n",
       "    </tr>\n",
       "    <tr>\n",
       "      <th>odor</th>\n",
       "      <td>p</td>\n",
       "      <td>a</td>\n",
       "      <td>l</td>\n",
       "      <td>p</td>\n",
       "      <td>n</td>\n",
       "    </tr>\n",
       "    <tr>\n",
       "      <th>gill-attachment</th>\n",
       "      <td>f</td>\n",
       "      <td>f</td>\n",
       "      <td>f</td>\n",
       "      <td>f</td>\n",
       "      <td>f</td>\n",
       "    </tr>\n",
       "    <tr>\n",
       "      <th>gill-spacing</th>\n",
       "      <td>c</td>\n",
       "      <td>c</td>\n",
       "      <td>c</td>\n",
       "      <td>c</td>\n",
       "      <td>w</td>\n",
       "    </tr>\n",
       "    <tr>\n",
       "      <th>gill-size</th>\n",
       "      <td>n</td>\n",
       "      <td>b</td>\n",
       "      <td>b</td>\n",
       "      <td>n</td>\n",
       "      <td>b</td>\n",
       "    </tr>\n",
       "    <tr>\n",
       "      <th>gill-color</th>\n",
       "      <td>k</td>\n",
       "      <td>k</td>\n",
       "      <td>n</td>\n",
       "      <td>n</td>\n",
       "      <td>k</td>\n",
       "    </tr>\n",
       "    <tr>\n",
       "      <th>stalk-shape</th>\n",
       "      <td>e</td>\n",
       "      <td>e</td>\n",
       "      <td>e</td>\n",
       "      <td>e</td>\n",
       "      <td>t</td>\n",
       "    </tr>\n",
       "    <tr>\n",
       "      <th>stalk-root</th>\n",
       "      <td>e</td>\n",
       "      <td>c</td>\n",
       "      <td>c</td>\n",
       "      <td>e</td>\n",
       "      <td>e</td>\n",
       "    </tr>\n",
       "    <tr>\n",
       "      <th>stalk-surface-above-ring</th>\n",
       "      <td>s</td>\n",
       "      <td>s</td>\n",
       "      <td>s</td>\n",
       "      <td>s</td>\n",
       "      <td>s</td>\n",
       "    </tr>\n",
       "    <tr>\n",
       "      <th>stalk-surface-below-ring</th>\n",
       "      <td>s</td>\n",
       "      <td>s</td>\n",
       "      <td>s</td>\n",
       "      <td>s</td>\n",
       "      <td>s</td>\n",
       "    </tr>\n",
       "    <tr>\n",
       "      <th>stalk-color-above-ring</th>\n",
       "      <td>w</td>\n",
       "      <td>w</td>\n",
       "      <td>w</td>\n",
       "      <td>w</td>\n",
       "      <td>w</td>\n",
       "    </tr>\n",
       "    <tr>\n",
       "      <th>stalk-color-below-ring</th>\n",
       "      <td>w</td>\n",
       "      <td>w</td>\n",
       "      <td>w</td>\n",
       "      <td>w</td>\n",
       "      <td>w</td>\n",
       "    </tr>\n",
       "    <tr>\n",
       "      <th>veil-type</th>\n",
       "      <td>p</td>\n",
       "      <td>p</td>\n",
       "      <td>p</td>\n",
       "      <td>p</td>\n",
       "      <td>p</td>\n",
       "    </tr>\n",
       "    <tr>\n",
       "      <th>veil-color</th>\n",
       "      <td>w</td>\n",
       "      <td>w</td>\n",
       "      <td>w</td>\n",
       "      <td>w</td>\n",
       "      <td>w</td>\n",
       "    </tr>\n",
       "    <tr>\n",
       "      <th>ring-number</th>\n",
       "      <td>o</td>\n",
       "      <td>o</td>\n",
       "      <td>o</td>\n",
       "      <td>o</td>\n",
       "      <td>o</td>\n",
       "    </tr>\n",
       "    <tr>\n",
       "      <th>ring-type</th>\n",
       "      <td>p</td>\n",
       "      <td>p</td>\n",
       "      <td>p</td>\n",
       "      <td>p</td>\n",
       "      <td>e</td>\n",
       "    </tr>\n",
       "    <tr>\n",
       "      <th>spore-print-color</th>\n",
       "      <td>k</td>\n",
       "      <td>n</td>\n",
       "      <td>n</td>\n",
       "      <td>k</td>\n",
       "      <td>n</td>\n",
       "    </tr>\n",
       "    <tr>\n",
       "      <th>population</th>\n",
       "      <td>s</td>\n",
       "      <td>n</td>\n",
       "      <td>n</td>\n",
       "      <td>s</td>\n",
       "      <td>a</td>\n",
       "    </tr>\n",
       "    <tr>\n",
       "      <th>habitat</th>\n",
       "      <td>u</td>\n",
       "      <td>g</td>\n",
       "      <td>m</td>\n",
       "      <td>u</td>\n",
       "      <td>g</td>\n",
       "    </tr>\n",
       "  </tbody>\n",
       "</table>\n",
       "</div>"
      ],
      "text/plain": [
       "                          0  1  2  3  4\n",
       "cap-shape                 x  x  b  x  x\n",
       "cap-surface               s  s  s  y  s\n",
       "cap-color                 n  y  w  w  g\n",
       "bruises                   t  t  t  t  f\n",
       "odor                      p  a  l  p  n\n",
       "gill-attachment           f  f  f  f  f\n",
       "gill-spacing              c  c  c  c  w\n",
       "gill-size                 n  b  b  n  b\n",
       "gill-color                k  k  n  n  k\n",
       "stalk-shape               e  e  e  e  t\n",
       "stalk-root                e  c  c  e  e\n",
       "stalk-surface-above-ring  s  s  s  s  s\n",
       "stalk-surface-below-ring  s  s  s  s  s\n",
       "stalk-color-above-ring    w  w  w  w  w\n",
       "stalk-color-below-ring    w  w  w  w  w\n",
       "veil-type                 p  p  p  p  p\n",
       "veil-color                w  w  w  w  w\n",
       "ring-number               o  o  o  o  o\n",
       "ring-type                 p  p  p  p  e\n",
       "spore-print-color         k  n  n  k  n\n",
       "population                s  n  n  s  a\n",
       "habitat                   u  g  m  u  g"
      ]
     },
     "execution_count": 2,
     "metadata": {},
     "output_type": "execute_result"
    }
   ],
   "source": [
    "X.head().T"
   ]
  },
  {
   "cell_type": "code",
   "execution_count": 3,
   "id": "4fe9805b-11da-4db8-b10c-553ac08bc967",
   "metadata": {
    "execution": {
     "iopub.execute_input": "2024-01-17T19:18:40.785547Z",
     "iopub.status.busy": "2024-01-17T19:18:40.784168Z",
     "iopub.status.idle": "2024-01-17T19:18:40.793014Z",
     "shell.execute_reply": "2024-01-17T19:18:40.791506Z",
     "shell.execute_reply.started": "2024-01-17T19:18:40.785480Z"
    }
   },
   "outputs": [
    {
     "name": "stdout",
     "output_type": "stream",
     "text": [
      "{\n",
      "  \"uci_id\": 73,\n",
      "  \"name\": \"Mushroom\",\n",
      "  \"repository_url\": \"https://archive.ics.uci.edu/dataset/73/mushroom\",\n",
      "  \"data_url\": \"https://archive.ics.uci.edu/static/public/73/data.csv\",\n",
      "  \"abstract\": \"From Audobon Society Field Guide; mushrooms described in terms of physical characteristics; classification: poisonous or edible\",\n",
      "  \"area\": \"Biology\",\n",
      "  \"tasks\": [\n",
      "    \"Classification\"\n",
      "  ],\n",
      "  \"characteristics\": [\n",
      "    \"Multivariate\"\n",
      "  ],\n",
      "  \"num_instances\": 8124,\n",
      "  \"num_features\": 22,\n",
      "  \"feature_types\": [\n",
      "    \"Categorical\"\n",
      "  ],\n",
      "  \"demographics\": [],\n",
      "  \"target_col\": [\n",
      "    \"poisonous\"\n",
      "  ],\n",
      "  \"index_col\": null,\n",
      "  \"has_missing_values\": \"yes\",\n",
      "  \"missing_values_symbol\": \"NaN\",\n",
      "  \"year_of_dataset_creation\": 1981,\n",
      "  \"last_updated\": \"Thu Aug 10 2023\",\n",
      "  \"dataset_doi\": \"10.24432/C5959T\",\n",
      "  \"creators\": [],\n",
      "  \"intro_paper\": null,\n",
      "  \"additional_info\": {\n",
      "    \"summary\": \"This data set includes descriptions of hypothetical samples corresponding to 23 species of gilled mushrooms in the Agaricus and Lepiota Family (pp. 500-525).  Each species is identified as definitely edible, definitely poisonous, or of unknown edibility and not recommended.  This latter class was combined with the poisonous one.  The Guide clearly states that there is no simple rule for determining the edibility of a mushroom; no rule like ``leaflets three, let it be'' for Poisonous Oak and Ivy.\",\n",
      "    \"purpose\": null,\n",
      "    \"funded_by\": null,\n",
      "    \"instances_represent\": null,\n",
      "    \"recommended_data_splits\": null,\n",
      "    \"sensitive_data\": null,\n",
      "    \"preprocessing_description\": null,\n",
      "    \"variable_info\": \"     1. cap-shape:                bell=b,conical=c,convex=x,flat=f, knobbed=k,sunken=s\\r\\n     2. cap-surface:              fibrous=f,grooves=g,scaly=y,smooth=s\\r\\n     3. cap-color:                brown=n,buff=b,cinnamon=c,gray=g,green=r, pink=p,purple=u,red=e,white=w,yellow=y\\r\\n     4. bruises?:                 bruises=t,no=f\\r\\n     5. odor:                     almond=a,anise=l,creosote=c,fishy=y,foul=f, musty=m,none=n,pungent=p,spicy=s\\r\\n     6. gill-attachment:          attached=a,descending=d,free=f,notched=n\\r\\n     7. gill-spacing:             close=c,crowded=w,distant=d\\r\\n     8. gill-size:                broad=b,narrow=n\\r\\n     9. gill-color:               black=k,brown=n,buff=b,chocolate=h,gray=g, green=r,orange=o,pink=p,purple=u,red=e, white=w,yellow=y\\r\\n    10. stalk-shape:              enlarging=e,tapering=t\\r\\n    11. stalk-root:               bulbous=b,club=c,cup=u,equal=e, rhizomorphs=z,rooted=r,missing=?\\r\\n    12. stalk-surface-above-ring: fibrous=f,scaly=y,silky=k,smooth=s\\r\\n    13. stalk-surface-below-ring: fibrous=f,scaly=y,silky=k,smooth=s\\r\\n    14. stalk-color-above-ring:   brown=n,buff=b,cinnamon=c,gray=g,orange=o, pink=p,red=e,white=w,yellow=y\\r\\n    15. stalk-color-below-ring:   brown=n,buff=b,cinnamon=c,gray=g,orange=o, pink=p,red=e,white=w,yellow=y\\r\\n    16. veil-type:                partial=p,universal=u\\r\\n    17. veil-color:               brown=n,orange=o,white=w,yellow=y\\r\\n    18. ring-number:              none=n,one=o,two=t\\r\\n    19. ring-type:                cobwebby=c,evanescent=e,flaring=f,large=l, none=n,pendant=p,sheathing=s,zone=z\\r\\n    20. spore-print-color:        black=k,brown=n,buff=b,chocolate=h,green=r, orange=o,purple=u,white=w,yellow=y\\r\\n    21. population:               abundant=a,clustered=c,numerous=n, scattered=s,several=v,solitary=y\\r\\n    22. habitat:                  grasses=g,leaves=l,meadows=m,paths=p, urban=u,waste=w,woods=d\",\n",
      "    \"citation\": null\n",
      "  }\n",
      "}\n"
     ]
    }
   ],
   "source": [
    "# metadata\n",
    "import json\n",
    "\n",
    "print(json.dumps(mushroom.metadata, indent=2))"
   ]
  },
  {
   "cell_type": "code",
   "execution_count": 4,
   "id": "fc784f02-56a2-4802-88ba-1c2f98d61fd0",
   "metadata": {
    "execution": {
     "iopub.execute_input": "2024-01-17T19:18:40.795361Z",
     "iopub.status.busy": "2024-01-17T19:18:40.794932Z",
     "iopub.status.idle": "2024-01-17T19:18:40.802361Z",
     "shell.execute_reply": "2024-01-17T19:18:40.800844Z",
     "shell.execute_reply.started": "2024-01-17T19:18:40.795321Z"
    }
   },
   "outputs": [
    {
     "name": "stdout",
     "output_type": "stream",
     "text": [
      "     1. cap-shape:                bell=b,conical=c,convex=x,flat=f, knobbed=k,sunken=s\n",
      "     2. cap-surface:              fibrous=f,grooves=g,scaly=y,smooth=s\n",
      "     3. cap-color:                brown=n,buff=b,cinnamon=c,gray=g,green=r, pink=p,purple=u,red=e,white=w,yellow=y\n",
      "     4. bruises?:                 bruises=t,no=f\n",
      "     5. odor:                     almond=a,anise=l,creosote=c,fishy=y,foul=f, musty=m,none=n,pungent=p,spicy=s\n",
      "     6. gill-attachment:          attached=a,descending=d,free=f,notched=n\n",
      "     7. gill-spacing:             close=c,crowded=w,distant=d\n",
      "     8. gill-size:                broad=b,narrow=n\n",
      "     9. gill-color:               black=k,brown=n,buff=b,chocolate=h,gray=g, green=r,orange=o,pink=p,purple=u,red=e, white=w,yellow=y\n",
      "    10. stalk-shape:              enlarging=e,tapering=t\n",
      "    11. stalk-root:               bulbous=b,club=c,cup=u,equal=e, rhizomorphs=z,rooted=r,missing=?\n",
      "    12. stalk-surface-above-ring: fibrous=f,scaly=y,silky=k,smooth=s\n",
      "    13. stalk-surface-below-ring: fibrous=f,scaly=y,silky=k,smooth=s\n",
      "    14. stalk-color-above-ring:   brown=n,buff=b,cinnamon=c,gray=g,orange=o, pink=p,red=e,white=w,yellow=y\n",
      "    15. stalk-color-below-ring:   brown=n,buff=b,cinnamon=c,gray=g,orange=o, pink=p,red=e,white=w,yellow=y\n",
      "    16. veil-type:                partial=p,universal=u\n",
      "    17. veil-color:               brown=n,orange=o,white=w,yellow=y\n",
      "    18. ring-number:              none=n,one=o,two=t\n",
      "    19. ring-type:                cobwebby=c,evanescent=e,flaring=f,large=l, none=n,pendant=p,sheathing=s,zone=z\n",
      "    20. spore-print-color:        black=k,brown=n,buff=b,chocolate=h,green=r, orange=o,purple=u,white=w,yellow=y\n",
      "    21. population:               abundant=a,clustered=c,numerous=n, scattered=s,several=v,solitary=y\n",
      "    22. habitat:                  grasses=g,leaves=l,meadows=m,paths=p, urban=u,waste=w,woods=d\n"
     ]
    }
   ],
   "source": [
    "print(mushroom.metadata[\"additional_info\"][\"variable_info\"])"
   ]
  },
  {
   "cell_type": "code",
   "execution_count": 5,
   "id": "2d37bb25-8362-4ceb-8847-c9e6efb7aeb8",
   "metadata": {
    "execution": {
     "iopub.execute_input": "2024-01-17T19:18:40.804406Z",
     "iopub.status.busy": "2024-01-17T19:18:40.803974Z",
     "iopub.status.idle": "2024-01-17T19:18:40.823548Z",
     "shell.execute_reply": "2024-01-17T19:18:40.821468Z",
     "shell.execute_reply.started": "2024-01-17T19:18:40.804363Z"
    }
   },
   "outputs": [
    {
     "name": "stdout",
     "output_type": "stream",
     "text": [
      "                        name     role         type demographic  \\\n",
      "0                  poisonous   Target  Categorical        None   \n",
      "1                  cap-shape  Feature  Categorical        None   \n",
      "2                cap-surface  Feature  Categorical        None   \n",
      "3                  cap-color  Feature       Binary        None   \n",
      "4                    bruises  Feature  Categorical        None   \n",
      "5                       odor  Feature  Categorical        None   \n",
      "6            gill-attachment  Feature  Categorical        None   \n",
      "7               gill-spacing  Feature  Categorical        None   \n",
      "8                  gill-size  Feature  Categorical        None   \n",
      "9                 gill-color  Feature  Categorical        None   \n",
      "10               stalk-shape  Feature  Categorical        None   \n",
      "11                stalk-root  Feature  Categorical        None   \n",
      "12  stalk-surface-above-ring  Feature  Categorical        None   \n",
      "13  stalk-surface-below-ring  Feature  Categorical        None   \n",
      "14    stalk-color-above-ring  Feature  Categorical        None   \n",
      "15    stalk-color-below-ring  Feature  Categorical        None   \n",
      "16                 veil-type  Feature       Binary        None   \n",
      "17                veil-color  Feature  Categorical        None   \n",
      "18               ring-number  Feature  Categorical        None   \n",
      "19                 ring-type  Feature  Categorical        None   \n",
      "20         spore-print-color  Feature  Categorical        None   \n",
      "21                population  Feature  Categorical        None   \n",
      "22                   habitat  Feature  Categorical        None   \n",
      "\n",
      "                                          description units missing_values  \n",
      "0                                                None  None             no  \n",
      "1   bell=b,conical=c,convex=x,flat=f, knobbed=k,su...  None             no  \n",
      "2                fibrous=f,grooves=g,scaly=y,smooth=s  None             no  \n",
      "3   brown=n,buff=b,cinnamon=c,gray=g,green=r, pink...  None             no  \n",
      "4                                      bruises=t,no=f  None             no  \n",
      "5   almond=a,anise=l,creosote=c,fishy=y,foul=f, mu...  None             no  \n",
      "6            attached=a,descending=d,free=f,notched=n  None             no  \n",
      "7                         close=c,crowded=w,distant=d  None             no  \n",
      "8                                    broad=b,narrow=n  None             no  \n",
      "9   black=k,brown=n,buff=b,chocolate=h,gray=g, gre...  None             no  \n",
      "10                             enlarging=e,tapering=t  None             no  \n",
      "11  bulbous=b,club=c,cup=u,equal=e, rhizomorphs=z,...  None            yes  \n",
      "12                 fibrous=f,scaly=y,silky=k,smooth=s  None             no  \n",
      "13                 fibrous=f,scaly=y,silky=k,smooth=s  None             no  \n",
      "14  brown=n,buff=b,cinnamon=c,gray=g,orange=o, pin...  None             no  \n",
      "15  brown=n,buff=b,cinnamon=c,gray=g,orange=o, pin...  None             no  \n",
      "16                              partial=p,universal=u  None             no  \n",
      "17                  brown=n,orange=o,white=w,yellow=y  None             no  \n",
      "18                                 none=n,one=o,two=t  None             no  \n",
      "19  cobwebby=c,evanescent=e,flaring=f,large=l, non...  None             no  \n",
      "20  black=k,brown=n,buff=b,chocolate=h,green=r, or...  None             no  \n",
      "21  abundant=a,clustered=c,numerous=n, scattered=s...  None             no  \n",
      "22  grasses=g,leaves=l,meadows=m,paths=p, urban=u,...  None             no  \n"
     ]
    }
   ],
   "source": [
    "# variable information\n",
    "print(mushroom.variables)"
   ]
  },
  {
   "cell_type": "code",
   "execution_count": 6,
   "id": "9d657a6b-43e9-4deb-a05a-e9fbe90b6f5a",
   "metadata": {
    "execution": {
     "iopub.execute_input": "2024-01-17T19:18:40.826199Z",
     "iopub.status.busy": "2024-01-17T19:18:40.825675Z",
     "iopub.status.idle": "2024-01-17T19:18:40.836392Z",
     "shell.execute_reply": "2024-01-17T19:18:40.835504Z",
     "shell.execute_reply.started": "2024-01-17T19:18:40.826155Z"
    }
   },
   "outputs": [
    {
     "data": {
      "text/html": [
       "<div>\n",
       "<style scoped>\n",
       "    .dataframe tbody tr th:only-of-type {\n",
       "        vertical-align: middle;\n",
       "    }\n",
       "\n",
       "    .dataframe tbody tr th {\n",
       "        vertical-align: top;\n",
       "    }\n",
       "\n",
       "    .dataframe thead th {\n",
       "        text-align: right;\n",
       "    }\n",
       "</style>\n",
       "<table border=\"1\" class=\"dataframe\">\n",
       "  <thead>\n",
       "    <tr style=\"text-align: right;\">\n",
       "      <th></th>\n",
       "      <th>poisonous</th>\n",
       "    </tr>\n",
       "  </thead>\n",
       "  <tbody>\n",
       "    <tr>\n",
       "      <th>0</th>\n",
       "      <td>p</td>\n",
       "    </tr>\n",
       "    <tr>\n",
       "      <th>1</th>\n",
       "      <td>e</td>\n",
       "    </tr>\n",
       "    <tr>\n",
       "      <th>2</th>\n",
       "      <td>e</td>\n",
       "    </tr>\n",
       "    <tr>\n",
       "      <th>3</th>\n",
       "      <td>p</td>\n",
       "    </tr>\n",
       "    <tr>\n",
       "      <th>4</th>\n",
       "      <td>e</td>\n",
       "    </tr>\n",
       "  </tbody>\n",
       "</table>\n",
       "</div>"
      ],
      "text/plain": [
       "  poisonous\n",
       "0         p\n",
       "1         e\n",
       "2         e\n",
       "3         p\n",
       "4         e"
      ]
     },
     "execution_count": 6,
     "metadata": {},
     "output_type": "execute_result"
    }
   ],
   "source": [
    "y.head()"
   ]
  },
  {
   "cell_type": "code",
   "execution_count": 7,
   "id": "f8eb1c3d-f53e-4ead-a15d-6322dfaaf74c",
   "metadata": {
    "execution": {
     "iopub.execute_input": "2024-01-17T19:18:40.843295Z",
     "iopub.status.busy": "2024-01-17T19:18:40.842768Z",
     "iopub.status.idle": "2024-01-17T19:18:40.854644Z",
     "shell.execute_reply": "2024-01-17T19:18:40.853490Z",
     "shell.execute_reply.started": "2024-01-17T19:18:40.843246Z"
    }
   },
   "outputs": [],
   "source": [
    "import pandas as pd"
   ]
  },
  {
   "cell_type": "code",
   "execution_count": 8,
   "id": "744dcaa3-df83-4c00-bd96-878797c5ea03",
   "metadata": {
    "execution": {
     "iopub.execute_input": "2024-01-17T19:18:40.862095Z",
     "iopub.status.busy": "2024-01-17T19:18:40.859491Z",
     "iopub.status.idle": "2024-01-17T19:18:41.001214Z",
     "shell.execute_reply": "2024-01-17T19:18:40.987072Z",
     "shell.execute_reply.started": "2024-01-17T19:18:40.862042Z"
    }
   },
   "outputs": [
    {
     "data": {
      "text/html": [
       "<div>\n",
       "<style scoped>\n",
       "    .dataframe tbody tr th:only-of-type {\n",
       "        vertical-align: middle;\n",
       "    }\n",
       "\n",
       "    .dataframe tbody tr th {\n",
       "        vertical-align: top;\n",
       "    }\n",
       "\n",
       "    .dataframe thead th {\n",
       "        text-align: right;\n",
       "    }\n",
       "</style>\n",
       "<table border=\"1\" class=\"dataframe\">\n",
       "  <thead>\n",
       "    <tr style=\"text-align: right;\">\n",
       "      <th></th>\n",
       "      <th>cap-shape</th>\n",
       "      <th>cap-surface</th>\n",
       "      <th>cap-color</th>\n",
       "      <th>bruises</th>\n",
       "      <th>odor</th>\n",
       "      <th>gill-attachment</th>\n",
       "      <th>gill-spacing</th>\n",
       "      <th>gill-size</th>\n",
       "      <th>gill-color</th>\n",
       "      <th>stalk-shape</th>\n",
       "      <th>...</th>\n",
       "      <th>stalk-color-above-ring</th>\n",
       "      <th>stalk-color-below-ring</th>\n",
       "      <th>veil-type</th>\n",
       "      <th>veil-color</th>\n",
       "      <th>ring-number</th>\n",
       "      <th>ring-type</th>\n",
       "      <th>spore-print-color</th>\n",
       "      <th>population</th>\n",
       "      <th>habitat</th>\n",
       "      <th>poisonous</th>\n",
       "    </tr>\n",
       "  </thead>\n",
       "  <tbody>\n",
       "    <tr>\n",
       "      <th>0</th>\n",
       "      <td>x</td>\n",
       "      <td>s</td>\n",
       "      <td>n</td>\n",
       "      <td>t</td>\n",
       "      <td>p</td>\n",
       "      <td>f</td>\n",
       "      <td>c</td>\n",
       "      <td>n</td>\n",
       "      <td>k</td>\n",
       "      <td>e</td>\n",
       "      <td>...</td>\n",
       "      <td>w</td>\n",
       "      <td>w</td>\n",
       "      <td>p</td>\n",
       "      <td>w</td>\n",
       "      <td>o</td>\n",
       "      <td>p</td>\n",
       "      <td>k</td>\n",
       "      <td>s</td>\n",
       "      <td>u</td>\n",
       "      <td>p</td>\n",
       "    </tr>\n",
       "    <tr>\n",
       "      <th>1</th>\n",
       "      <td>x</td>\n",
       "      <td>s</td>\n",
       "      <td>y</td>\n",
       "      <td>t</td>\n",
       "      <td>a</td>\n",
       "      <td>f</td>\n",
       "      <td>c</td>\n",
       "      <td>b</td>\n",
       "      <td>k</td>\n",
       "      <td>e</td>\n",
       "      <td>...</td>\n",
       "      <td>w</td>\n",
       "      <td>w</td>\n",
       "      <td>p</td>\n",
       "      <td>w</td>\n",
       "      <td>o</td>\n",
       "      <td>p</td>\n",
       "      <td>n</td>\n",
       "      <td>n</td>\n",
       "      <td>g</td>\n",
       "      <td>e</td>\n",
       "    </tr>\n",
       "    <tr>\n",
       "      <th>2</th>\n",
       "      <td>b</td>\n",
       "      <td>s</td>\n",
       "      <td>w</td>\n",
       "      <td>t</td>\n",
       "      <td>l</td>\n",
       "      <td>f</td>\n",
       "      <td>c</td>\n",
       "      <td>b</td>\n",
       "      <td>n</td>\n",
       "      <td>e</td>\n",
       "      <td>...</td>\n",
       "      <td>w</td>\n",
       "      <td>w</td>\n",
       "      <td>p</td>\n",
       "      <td>w</td>\n",
       "      <td>o</td>\n",
       "      <td>p</td>\n",
       "      <td>n</td>\n",
       "      <td>n</td>\n",
       "      <td>m</td>\n",
       "      <td>e</td>\n",
       "    </tr>\n",
       "    <tr>\n",
       "      <th>3</th>\n",
       "      <td>x</td>\n",
       "      <td>y</td>\n",
       "      <td>w</td>\n",
       "      <td>t</td>\n",
       "      <td>p</td>\n",
       "      <td>f</td>\n",
       "      <td>c</td>\n",
       "      <td>n</td>\n",
       "      <td>n</td>\n",
       "      <td>e</td>\n",
       "      <td>...</td>\n",
       "      <td>w</td>\n",
       "      <td>w</td>\n",
       "      <td>p</td>\n",
       "      <td>w</td>\n",
       "      <td>o</td>\n",
       "      <td>p</td>\n",
       "      <td>k</td>\n",
       "      <td>s</td>\n",
       "      <td>u</td>\n",
       "      <td>p</td>\n",
       "    </tr>\n",
       "    <tr>\n",
       "      <th>4</th>\n",
       "      <td>x</td>\n",
       "      <td>s</td>\n",
       "      <td>g</td>\n",
       "      <td>f</td>\n",
       "      <td>n</td>\n",
       "      <td>f</td>\n",
       "      <td>w</td>\n",
       "      <td>b</td>\n",
       "      <td>k</td>\n",
       "      <td>t</td>\n",
       "      <td>...</td>\n",
       "      <td>w</td>\n",
       "      <td>w</td>\n",
       "      <td>p</td>\n",
       "      <td>w</td>\n",
       "      <td>o</td>\n",
       "      <td>e</td>\n",
       "      <td>n</td>\n",
       "      <td>a</td>\n",
       "      <td>g</td>\n",
       "      <td>e</td>\n",
       "    </tr>\n",
       "  </tbody>\n",
       "</table>\n",
       "<p>5 rows × 23 columns</p>\n",
       "</div>"
      ],
      "text/plain": [
       "  cap-shape cap-surface cap-color bruises odor gill-attachment gill-spacing  \\\n",
       "0         x           s         n       t    p               f            c   \n",
       "1         x           s         y       t    a               f            c   \n",
       "2         b           s         w       t    l               f            c   \n",
       "3         x           y         w       t    p               f            c   \n",
       "4         x           s         g       f    n               f            w   \n",
       "\n",
       "  gill-size gill-color stalk-shape  ... stalk-color-above-ring  \\\n",
       "0         n          k           e  ...                      w   \n",
       "1         b          k           e  ...                      w   \n",
       "2         b          n           e  ...                      w   \n",
       "3         n          n           e  ...                      w   \n",
       "4         b          k           t  ...                      w   \n",
       "\n",
       "  stalk-color-below-ring veil-type veil-color ring-number ring-type  \\\n",
       "0                      w         p          w           o         p   \n",
       "1                      w         p          w           o         p   \n",
       "2                      w         p          w           o         p   \n",
       "3                      w         p          w           o         p   \n",
       "4                      w         p          w           o         e   \n",
       "\n",
       "  spore-print-color population habitat poisonous  \n",
       "0                 k          s       u         p  \n",
       "1                 n          n       g         e  \n",
       "2                 n          n       m         e  \n",
       "3                 k          s       u         p  \n",
       "4                 n          a       g         e  \n",
       "\n",
       "[5 rows x 23 columns]"
      ]
     },
     "execution_count": 8,
     "metadata": {},
     "output_type": "execute_result"
    }
   ],
   "source": [
    "df = pd.concat([X, y], axis=\"columns\")\n",
    "df.head()"
   ]
  },
  {
   "cell_type": "code",
   "execution_count": 9,
   "id": "b5ed6813-2454-436d-9a8b-d641c407783b",
   "metadata": {
    "execution": {
     "iopub.execute_input": "2024-01-17T19:18:41.004414Z",
     "iopub.status.busy": "2024-01-17T19:18:41.003957Z",
     "iopub.status.idle": "2024-01-17T19:18:43.499252Z",
     "shell.execute_reply": "2024-01-17T19:18:43.498092Z",
     "shell.execute_reply.started": "2024-01-17T19:18:41.004372Z"
    }
   },
   "outputs": [],
   "source": [
    "from sklearn.feature_extraction import FeatureHasher\n",
    "from sklearn.neural_network import MLPRegressor"
   ]
  },
  {
   "cell_type": "code",
   "execution_count": 10,
   "id": "c238dbc0-a2f8-4ec5-84f7-b282a24699d4",
   "metadata": {
    "execution": {
     "iopub.execute_input": "2024-01-17T19:18:43.505129Z",
     "iopub.status.busy": "2024-01-17T19:18:43.501008Z",
     "iopub.status.idle": "2024-01-17T19:18:43.531052Z",
     "shell.execute_reply": "2024-01-17T19:18:43.524492Z",
     "shell.execute_reply.started": "2024-01-17T19:18:43.505061Z"
    }
   },
   "outputs": [],
   "source": [
    "# We set alternate sign to false because we want positive numbers only.\n",
    "# This is important for the training to avoid -tive predictions.\n",
    "hasher = FeatureHasher(n_features=100, input_type=\"string\", alternate_sign=True)\n",
    "\n",
    "\n",
    "def preprocess(state, action):\n",
    "    features = [f\"{key}:{value}^{action}\" for key, value in state.items()]\n",
    "    # features = [f\"{key}:{value}\" for key, value in state.items()]\n",
    "    # features += [action]\n",
    "    # print(features)\n",
    "    return hasher.transform([features]).toarray()[0]"
   ]
  },
  {
   "cell_type": "code",
   "execution_count": 11,
   "id": "a497d51e-bc42-47ad-b3c6-b5d1e3f82e9b",
   "metadata": {
    "execution": {
     "iopub.execute_input": "2024-01-17T19:18:43.543824Z",
     "iopub.status.busy": "2024-01-17T19:18:43.542084Z",
     "iopub.status.idle": "2024-01-17T19:18:43.661894Z",
     "shell.execute_reply": "2024-01-17T19:18:43.659569Z",
     "shell.execute_reply.started": "2024-01-17T19:18:43.543761Z"
    }
   },
   "outputs": [
    {
     "data": {
      "text/plain": [
       "(array([ 1.,  0.,  0., -1., -2.,  0.,  0.,  0., -1.,  0.,  0.,  0.,  0.,\n",
       "         0.,  0.,  0.,  0.,  0.,  0.,  0.,  0.,  0.,  0.,  0.,  0.,  1.,\n",
       "         0.,  0.,  0.,  0.,  0.,  0.,  0.,  0., -1.,  0., -1.,  0.,  0.,\n",
       "        -1.,  0.,  0.,  0.,  0.,  1.,  0.,  0.,  0.,  0.,  0.,  0.,  1.,\n",
       "         0.,  0.,  0.,  0.,  0.,  2.,  0.,  0.,  0.,  0.,  0.,  0.,  0.,\n",
       "         0.,  0.,  0.,  0.,  0.,  0., -1.,  0.,  0.,  0.,  0.,  0.,  0.,\n",
       "        -1.,  0.,  0.,  0.,  0., -1.,  0.,  0.,  0.,  0.,  0.,  0.,  0.,\n",
       "         0.,  0.,  1., -1.,  0.,  0.,  0.,  0.,  0.]),\n",
       " array([ 0.,  0.,  0.,  1.,  1.,  1.,  0.,  0.,  0.,  0.,  0.,  0.,  0.,\n",
       "         0.,  0.,  0.,  0.,  0.,  0.,  0.,  0.,  0.,  0.,  0.,  0.,  0.,\n",
       "         0.,  0.,  0.,  0.,  0.,  0.,  0.,  0.,  0.,  0.,  0.,  0.,  0.,\n",
       "         0., -1.,  0.,  0.,  0.,  0.,  0.,  0.,  0.,  0.,  1.,  1.,  0.,\n",
       "         0.,  1.,  0.,  0.,  0.,  0., -1.,  0.,  1.,  0.,  0.,  1.,  0.,\n",
       "         0.,  0.,  0.,  0.,  0.,  0., -1.,  0., -1.,  0.,  0.,  1.,  0.,\n",
       "         0.,  0.,  0.,  0.,  0., -1.,  0.,  2.,  0.,  0.,  0., -2.,  0.,\n",
       "         0.,  0.,  0.,  0.,  0.,  0.,  0.,  0.,  0.]),\n",
       " poisonous    p\n",
       " Name: 0, dtype: object)"
      ]
     },
     "execution_count": 11,
     "metadata": {},
     "output_type": "execute_result"
    }
   ],
   "source": [
    "X_i = df.iloc[0, :-1]\n",
    "y_i = df.iloc[0, -1:]\n",
    "preprocess(X_i, \"eat\"), preprocess(X_i, \"throw\"), y_i"
   ]
  },
  {
   "cell_type": "markdown",
   "id": "291ba80c-bc0e-4474-b491-b0739dc5cc6f",
   "metadata": {},
   "source": [
    "The MLPRegressor in Scikit-learn does not have a built-in way to restrict the output to non-negative values. However, there are a few workarounds you can use:\n",
    "\n",
    "1. **Post-processing**: After getting the predictions, you can simply set all negative values to zero. This is the simplest method, but it might not be the best solution if a large number of your predictions are negative.\n",
    "\n",
    "```python\n",
    "predictions = model.predict(X)\n",
    "predictions = np.maximum(predictions, 0)\n",
    "```\n",
    "\n",
    "2. **Log transformation**: If your target variable is always positive, you can take the log of the target variable during training, and then exponentiate the predictions. This will ensure that your predictions are always positive.\n",
    "\n",
    "```python\n",
    "# During training\n",
    "model.fit(X, np.log1p(y))\n",
    "\n",
    "# During prediction\n",
    "predictions = np.expm1(model.predict(X))\n",
    "```\n",
    "\n",
    "Note: `np.log1p(y)` is used instead of `np.log(y)` to handle the case where `y` is 0, and `np.expm1(predictions)` is the inverse of `np.log1p(y)`.\n",
    "\n",
    "Remember that these are just workarounds. If your model is predicting a lot of negative values and it shouldn't be, it might be a sign that your model isn't well-suited to your data."
   ]
  },
  {
   "cell_type": "code",
   "execution_count": 12,
   "id": "5ee210cc-9856-41a6-844d-557f6ea969c4",
   "metadata": {
    "execution": {
     "iopub.execute_input": "2024-01-17T19:18:43.680683Z",
     "iopub.status.busy": "2024-01-17T19:18:43.678150Z",
     "iopub.status.idle": "2024-01-17T19:18:43.701157Z",
     "shell.execute_reply": "2024-01-17T19:18:43.700035Z",
     "shell.execute_reply.started": "2024-01-17T19:18:43.680628Z"
    }
   },
   "outputs": [],
   "source": [
    "def softmax(lst, tau=1.0):\n",
    "    lst = np.array(lst) / tau\n",
    "    \"\"\"The softmax function is often used in machine learning to convert a list of real numbers into a list of probabilities that add up to 1.\n",
    "    Note: The softmax function can be unstable if the numbers in the list are very large (due to the exponential function). In practice, a common technique is to subtract the maximum value in the list from all the values to stabilize the computation.\n",
    "    \"\"\"\n",
    "    exps = np.exp(lst)\n",
    "    return exps / np.sum(exps)"
   ]
  },
  {
   "cell_type": "code",
   "execution_count": 14,
   "id": "ae661d49-2207-43f3-81bb-dc7f7cc8f25e",
   "metadata": {
    "execution": {
     "iopub.execute_input": "2024-01-17T19:19:25.293316Z",
     "iopub.status.busy": "2024-01-17T19:19:25.292004Z",
     "iopub.status.idle": "2024-01-17T19:19:49.829731Z",
     "shell.execute_reply": "2024-01-17T19:19:49.828960Z",
     "shell.execute_reply.started": "2024-01-17T19:19:25.293272Z"
    }
   },
   "outputs": [],
   "source": [
    "from collections import defaultdict\n",
    "\n",
    "import numpy as np\n",
    "\n",
    "actions = [\"eat\", \"throw\"]\n",
    "total_reward = 0\n",
    "avg_rewards = []\n",
    "choices = defaultdict(int)\n",
    "\n",
    "n = 100\n",
    "last_n_actions = [\"\"] * n\n",
    "last_n_probabilities = [[0, 0] for i in range(n)]\n",
    "POISONOUS = \"p\"\n",
    "\n",
    "model = MLPRegressor(\n",
    "    random_state=42,\n",
    ")\n",
    "\n",
    "for i, item in df.iterrows():\n",
    "    X_i, y_i = item.iloc[:-1], item.iloc[-1]\n",
    "\n",
    "    if i == 0:\n",
    "        action = np.random.choice(actions)\n",
    "    else:\n",
    "        rewards = model.predict([preprocess(X_i, action) for action in actions])\n",
    "        action = actions[np.argmax(rewards)]\n",
    "        p = softmax(rewards, tau=0.2)\n",
    "        # action = np.random.choice(actions, p=p)\n",
    "        last_n_probabilities[i % n] = p\n",
    "\n",
    "    if action == \"eat\":\n",
    "        reward = 0 if y_i == POISONOUS else 1\n",
    "    else:\n",
    "        reward = 1 if y_i == POISONOUS else 0\n",
    "\n",
    "    model.partial_fit([preprocess(X_i, action)], [reward])\n",
    "\n",
    "    choices[action + \"_\" + y_i] += 1\n",
    "    last_n_actions[i % n] = action + \"_\" + y_i\n",
    "    total_reward += reward\n",
    "    avg_rewards.append(total_reward / (i + 1))"
   ]
  },
  {
   "cell_type": "code",
   "execution_count": 15,
   "id": "091cccd6-1ea2-4233-8b59-17ccc9d76ad7",
   "metadata": {
    "execution": {
     "iopub.execute_input": "2024-01-17T19:19:49.833140Z",
     "iopub.status.busy": "2024-01-17T19:19:49.831892Z",
     "iopub.status.idle": "2024-01-17T19:19:50.856479Z",
     "shell.execute_reply": "2024-01-17T19:19:50.855507Z",
     "shell.execute_reply.started": "2024-01-17T19:19:49.832989Z"
    }
   },
   "outputs": [
    {
     "data": {
      "text/plain": [
       "[<matplotlib.lines.Line2D at 0x121c1c850>]"
      ]
     },
     "execution_count": 15,
     "metadata": {},
     "output_type": "execute_result"
    },
    {
     "data": {
      "image/png": "[encoded data removed]",
      "text/plain": [
       "<Figure size 640x480 with 1 Axes>"
      ]
     },
     "metadata": {},
     "output_type": "display_data"
    }
   ],
   "source": [
    "import matplotlib.pyplot as plt\n",
    "\n",
    "n, _ = df.shape\n",
    "plt.plot(range(n), avg_rewards)"
   ]
  },
  {
   "cell_type": "code",
   "execution_count": 21,
   "id": "7ff9f3cb-c67a-4bf2-94ea-e8d5da94d6ed",
   "metadata": {
    "execution": {
     "iopub.execute_input": "2024-01-17T19:20:01.714595Z",
     "iopub.status.busy": "2024-01-17T19:20:01.712704Z",
     "iopub.status.idle": "2024-01-17T19:20:01.725513Z",
     "shell.execute_reply": "2024-01-17T19:20:01.724196Z",
     "shell.execute_reply.started": "2024-01-17T19:20:01.714505Z"
    }
   },
   "outputs": [
    {
     "data": {
      "text/plain": [
       "8086"
      ]
     },
     "execution_count": 21,
     "metadata": {},
     "output_type": "execute_result"
    }
   ],
   "source": [
    "total_reward"
   ]
  },
  {
   "cell_type": "code",
   "execution_count": 22,
   "id": "aa6d2a7d-e454-452b-b4a6-9f9a734258ce",
   "metadata": {
    "execution": {
     "iopub.execute_input": "2024-01-17T19:20:02.524487Z",
     "iopub.status.busy": "2024-01-17T19:20:02.523870Z",
     "iopub.status.idle": "2024-01-17T19:20:02.533843Z",
     "shell.execute_reply": "2024-01-17T19:20:02.532103Z",
     "shell.execute_reply.started": "2024-01-17T19:20:02.524428Z"
    }
   },
   "outputs": [
    {
     "data": {
      "text/plain": [
       "defaultdict(int, {'throw_p': 3896, 'eat_e': 4190, 'eat_p': 20, 'throw_e': 18})"
      ]
     },
     "execution_count": 22,
     "metadata": {},
     "output_type": "execute_result"
    }
   ],
   "source": [
    "choices"
   ]
  },
  {
   "cell_type": "code",
   "execution_count": 23,
   "id": "607efbb1-e197-4476-902d-9cf6949bc1ca",
   "metadata": {
    "execution": {
     "iopub.execute_input": "2024-01-17T19:20:03.350703Z",
     "iopub.status.busy": "2024-01-17T19:20:03.350216Z",
     "iopub.status.idle": "2024-01-17T19:20:03.362854Z",
     "shell.execute_reply": "2024-01-17T19:20:03.360864Z",
     "shell.execute_reply.started": "2024-01-17T19:20:03.350669Z"
    }
   },
   "outputs": [
    {
     "data": {
      "text/plain": [
       "(poisonous\n",
       " e    4208\n",
       " p    3916\n",
       " Name: count, dtype: int64,\n",
       " (8124, 23))"
      ]
     },
     "execution_count": 23,
     "metadata": {},
     "output_type": "execute_result"
    }
   ],
   "source": [
    "df[\"poisonous\"].value_counts(), df.shape"
   ]
  },
  {
   "cell_type": "code",
   "execution_count": 24,
   "id": "a0e34ce5-49b3-47e6-852d-3c78d40faae9",
   "metadata": {
    "execution": {
     "iopub.execute_input": "2024-01-17T19:20:05.626720Z",
     "iopub.status.busy": "2024-01-17T19:20:05.624989Z",
     "iopub.status.idle": "2024-01-17T19:20:05.643159Z",
     "shell.execute_reply": "2024-01-17T19:20:05.641477Z",
     "shell.execute_reply.started": "2024-01-17T19:20:05.626659Z"
    }
   },
   "outputs": [
    {
     "data": {
      "text/plain": [
       "Counter({'eat_e': 54, 'throw_p': 46})"
      ]
     },
     "execution_count": 24,
     "metadata": {},
     "output_type": "execute_result"
    }
   ],
   "source": [
    "from collections import Counter\n",
    "\n",
    "Counter(last_n_actions)"
   ]
  },
  {
   "cell_type": "code",
   "execution_count": 25,
   "id": "4c2adb94-ed45-456e-9447-249db2b87593",
   "metadata": {
    "execution": {
     "iopub.execute_input": "2024-01-17T19:20:06.162250Z",
     "iopub.status.busy": "2024-01-17T19:20:06.161635Z",
     "iopub.status.idle": "2024-01-17T19:20:06.180435Z",
     "shell.execute_reply": "2024-01-17T19:20:06.179283Z",
     "shell.execute_reply.started": "2024-01-17T19:20:06.162213Z"
    }
   },
   "outputs": [
    {
     "data": {
      "text/plain": [
       "[('throw_p', array([0.04190506, 0.95809494])),\n",
       " ('throw_p', array([0.0294244, 0.9705756])),\n",
       " ('throw_p', array([0.02187761, 0.97812239])),\n",
       " ('throw_p', array([0.04606314, 0.95393686])),\n",
       " ('eat_e', array([0.96843428, 0.03156572])),\n",
       " ('throw_p', array([0.1371993, 0.8628007])),\n",
       " ('eat_e', array([0.93443274, 0.06556726])),\n",
       " ('throw_p', array([0.01341728, 0.98658272])),\n",
       " ('throw_p', array([0.02796642, 0.97203358])),\n",
       " ('eat_e', array([0.92092305, 0.07907695]))]"
      ]
     },
     "execution_count": 25,
     "metadata": {},
     "output_type": "execute_result"
    }
   ],
   "source": [
    "list(zip(last_n_actions[-10:], last_n_probabilities[-10:]))"
   ]
  },
  {
   "cell_type": "code",
   "execution_count": null,
   "id": "dc7b1a0e-c3db-474f-9ac4-bbb04fdbd871",
   "metadata": {},
   "outputs": [],
   "source": []
  },
  {
   "cell_type": "code",
   "execution_count": null,
   "id": "22a2c27e-3db2-43c9-ad52-b3f8363da594",
   "metadata": {},
   "outputs": [],
   "source": []
  }
 ],
 "metadata": {
  "kernelspec": {
   "display_name": "Python 3 (ipykernel)",
   "language": "python",
   "name": "python3"
  },
  "language_info": {
   "codemirror_mode": {
    "name": "ipython",
    "version": 3
   },
   "file_extension": ".py",
   "mimetype": "text/x-python",
   "name": "python",
   "nbconvert_exporter": "python",
   "pygments_lexer": "ipython3",
   "version": "3.10.13"
  },
  "widgets": {
   "application/vnd.jupyter.widget-state+json": {
    "state": {},
    "version_major": 2,
    "version_minor": 0
   }
  }
 },
 "nbformat": 4,
 "nbformat_minor": 5
}
