{
 "cells": [
  {
   "cell_type": "code",
   "execution_count": 98,
   "id": "f2c48f90-2d30-48a6-89eb-bc95c1986ab5",
   "metadata": {
    "execution": {
     "iopub.execute_input": "2024-01-18T18:13:46.543810Z",
     "iopub.status.busy": "2024-01-18T18:13:46.538541Z",
     "iopub.status.idle": "2024-01-18T18:13:50.215793Z",
     "shell.execute_reply": "2024-01-18T18:13:50.195192Z",
     "shell.execute_reply.started": "2024-01-18T18:13:46.543730Z"
    }
   },
   "outputs": [
    {
     "data": {
      "text/plain": [
       "((8124, 22), (8124, 1))"
      ]
     },
     "execution_count": 98,
     "metadata": {},
     "output_type": "execute_result"
    }
   ],
   "source": [
    "from ucimlrepo import fetch_ucirepo\n",
    "\n",
    "# fetch dataset\n",
    "mushroom = fetch_ucirepo(id=73)\n",
    "\n",
    "# data (as pandas dataframes)\n",
    "X = mushroom.data.features\n",
    "y = mushroom.data.targets\n",
    "X.shape, y.shape"
   ]
  },
  {
   "cell_type": "code",
   "execution_count": 99,
   "id": "3876b70c-470c-4ded-9aed-889fa5900d47",
   "metadata": {
    "execution": {
     "iopub.execute_input": "2024-01-18T18:13:50.227870Z",
     "iopub.status.busy": "2024-01-18T18:13:50.227102Z",
     "iopub.status.idle": "2024-01-18T18:13:50.255442Z",
     "shell.execute_reply": "2024-01-18T18:13:50.253850Z",
     "shell.execute_reply.started": "2024-01-18T18:13:50.227816Z"
    }
   },
   "outputs": [
    {
     "data": {
      "text/html": [
       "<div>\n",
       "<style scoped>\n",
       "    .dataframe tbody tr th:only-of-type {\n",
       "        vertical-align: middle;\n",
       "    }\n",
       "\n",
       "    .dataframe tbody tr th {\n",
       "        vertical-align: top;\n",
       "    }\n",
       "\n",
       "    .dataframe thead th {\n",
       "        text-align: right;\n",
       "    }\n",
       "</style>\n",
       "<table border=\"1\" class=\"dataframe\">\n",
       "  <thead>\n",
       "    <tr style=\"text-align: right;\">\n",
       "      <th></th>\n",
       "      <th>0</th>\n",
       "      <th>1</th>\n",
       "      <th>2</th>\n",
       "      <th>3</th>\n",
       "      <th>4</th>\n",
       "    </tr>\n",
       "  </thead>\n",
       "  <tbody>\n",
       "    <tr>\n",
       "      <th>cap-shape</th>\n",
       "      <td>x</td>\n",
       "      <td>x</td>\n",
       "      <td>b</td>\n",
       "      <td>x</td>\n",
       "      <td>x</td>\n",
       "    </tr>\n",
       "    <tr>\n",
       "      <th>cap-surface</th>\n",
       "      <td>s</td>\n",
       "      <td>s</td>\n",
       "      <td>s</td>\n",
       "      <td>y</td>\n",
       "      <td>s</td>\n",
       "    </tr>\n",
       "    <tr>\n",
       "      <th>cap-color</th>\n",
       "      <td>n</td>\n",
       "      <td>y</td>\n",
       "      <td>w</td>\n",
       "      <td>w</td>\n",
       "      <td>g</td>\n",
       "    </tr>\n",
       "    <tr>\n",
       "      <th>bruises</th>\n",
       "      <td>t</td>\n",
       "      <td>t</td>\n",
       "      <td>t</td>\n",
       "      <td>t</td>\n",
       "      <td>f</td>\n",
       "    </tr>\n",
       "    <tr>\n",
       "      <th>odor</th>\n",
       "      <td>p</td>\n",
       "      <td>a</td>\n",
       "      <td>l</td>\n",
       "      <td>p</td>\n",
       "      <td>n</td>\n",
       "    </tr>\n",
       "    <tr>\n",
       "      <th>gill-attachment</th>\n",
       "      <td>f</td>\n",
       "      <td>f</td>\n",
       "      <td>f</td>\n",
       "      <td>f</td>\n",
       "      <td>f</td>\n",
       "    </tr>\n",
       "    <tr>\n",
       "      <th>gill-spacing</th>\n",
       "      <td>c</td>\n",
       "      <td>c</td>\n",
       "      <td>c</td>\n",
       "      <td>c</td>\n",
       "      <td>w</td>\n",
       "    </tr>\n",
       "    <tr>\n",
       "      <th>gill-size</th>\n",
       "      <td>n</td>\n",
       "      <td>b</td>\n",
       "      <td>b</td>\n",
       "      <td>n</td>\n",
       "      <td>b</td>\n",
       "    </tr>\n",
       "    <tr>\n",
       "      <th>gill-color</th>\n",
       "      <td>k</td>\n",
       "      <td>k</td>\n",
       "      <td>n</td>\n",
       "      <td>n</td>\n",
       "      <td>k</td>\n",
       "    </tr>\n",
       "    <tr>\n",
       "      <th>stalk-shape</th>\n",
       "      <td>e</td>\n",
       "      <td>e</td>\n",
       "      <td>e</td>\n",
       "      <td>e</td>\n",
       "      <td>t</td>\n",
       "    </tr>\n",
       "    <tr>\n",
       "      <th>stalk-root</th>\n",
       "      <td>e</td>\n",
       "      <td>c</td>\n",
       "      <td>c</td>\n",
       "      <td>e</td>\n",
       "      <td>e</td>\n",
       "    </tr>\n",
       "    <tr>\n",
       "      <th>stalk-surface-above-ring</th>\n",
       "      <td>s</td>\n",
       "      <td>s</td>\n",
       "      <td>s</td>\n",
       "      <td>s</td>\n",
       "      <td>s</td>\n",
       "    </tr>\n",
       "    <tr>\n",
       "      <th>stalk-surface-below-ring</th>\n",
       "      <td>s</td>\n",
       "      <td>s</td>\n",
       "      <td>s</td>\n",
       "      <td>s</td>\n",
       "      <td>s</td>\n",
       "    </tr>\n",
       "    <tr>\n",
       "      <th>stalk-color-above-ring</th>\n",
       "      <td>w</td>\n",
       "      <td>w</td>\n",
       "      <td>w</td>\n",
       "      <td>w</td>\n",
       "      <td>w</td>\n",
       "    </tr>\n",
       "    <tr>\n",
       "      <th>stalk-color-below-ring</th>\n",
       "      <td>w</td>\n",
       "      <td>w</td>\n",
       "      <td>w</td>\n",
       "      <td>w</td>\n",
       "      <td>w</td>\n",
       "    </tr>\n",
       "    <tr>\n",
       "      <th>veil-type</th>\n",
       "      <td>p</td>\n",
       "      <td>p</td>\n",
       "      <td>p</td>\n",
       "      <td>p</td>\n",
       "      <td>p</td>\n",
       "    </tr>\n",
       "    <tr>\n",
       "      <th>veil-color</th>\n",
       "      <td>w</td>\n",
       "      <td>w</td>\n",
       "      <td>w</td>\n",
       "      <td>w</td>\n",
       "      <td>w</td>\n",
       "    </tr>\n",
       "    <tr>\n",
       "      <th>ring-number</th>\n",
       "      <td>o</td>\n",
       "      <td>o</td>\n",
       "      <td>o</td>\n",
       "      <td>o</td>\n",
       "      <td>o</td>\n",
       "    </tr>\n",
       "    <tr>\n",
       "      <th>ring-type</th>\n",
       "      <td>p</td>\n",
       "      <td>p</td>\n",
       "      <td>p</td>\n",
       "      <td>p</td>\n",
       "      <td>e</td>\n",
       "    </tr>\n",
       "    <tr>\n",
       "      <th>spore-print-color</th>\n",
       "      <td>k</td>\n",
       "      <td>n</td>\n",
       "      <td>n</td>\n",
       "      <td>k</td>\n",
       "      <td>n</td>\n",
       "    </tr>\n",
       "    <tr>\n",
       "      <th>population</th>\n",
       "      <td>s</td>\n",
       "      <td>n</td>\n",
       "      <td>n</td>\n",
       "      <td>s</td>\n",
       "      <td>a</td>\n",
       "    </tr>\n",
       "    <tr>\n",
       "      <th>habitat</th>\n",
       "      <td>u</td>\n",
       "      <td>g</td>\n",
       "      <td>m</td>\n",
       "      <td>u</td>\n",
       "      <td>g</td>\n",
       "    </tr>\n",
       "  </tbody>\n",
       "</table>\n",
       "</div>"
      ],
      "text/plain": [
       "                          0  1  2  3  4\n",
       "cap-shape                 x  x  b  x  x\n",
       "cap-surface               s  s  s  y  s\n",
       "cap-color                 n  y  w  w  g\n",
       "bruises                   t  t  t  t  f\n",
       "odor                      p  a  l  p  n\n",
       "gill-attachment           f  f  f  f  f\n",
       "gill-spacing              c  c  c  c  w\n",
       "gill-size                 n  b  b  n  b\n",
       "gill-color                k  k  n  n  k\n",
       "stalk-shape               e  e  e  e  t\n",
       "stalk-root                e  c  c  e  e\n",
       "stalk-surface-above-ring  s  s  s  s  s\n",
       "stalk-surface-below-ring  s  s  s  s  s\n",
       "stalk-color-above-ring    w  w  w  w  w\n",
       "stalk-color-below-ring    w  w  w  w  w\n",
       "veil-type                 p  p  p  p  p\n",
       "veil-color                w  w  w  w  w\n",
       "ring-number               o  o  o  o  o\n",
       "ring-type                 p  p  p  p  e\n",
       "spore-print-color         k  n  n  k  n\n",
       "population                s  n  n  s  a\n",
       "habitat                   u  g  m  u  g"
      ]
     },
     "execution_count": 99,
     "metadata": {},
     "output_type": "execute_result"
    }
   ],
   "source": [
    "X.head().T"
   ]
  },
  {
   "cell_type": "code",
   "execution_count": 100,
   "id": "4fe9805b-11da-4db8-b10c-553ac08bc967",
   "metadata": {
    "execution": {
     "iopub.execute_input": "2024-01-18T18:13:50.258139Z",
     "iopub.status.busy": "2024-01-18T18:13:50.257506Z",
     "iopub.status.idle": "2024-01-18T18:13:50.268308Z",
     "shell.execute_reply": "2024-01-18T18:13:50.266732Z",
     "shell.execute_reply.started": "2024-01-18T18:13:50.258091Z"
    }
   },
   "outputs": [
    {
     "name": "stdout",
     "output_type": "stream",
     "text": [
      "{\n",
      "  \"uci_id\": 73,\n",
      "  \"name\": \"Mushroom\",\n",
      "  \"repository_url\": \"https://archive.ics.uci.edu/dataset/73/mushroom\",\n",
      "  \"data_url\": \"https://archive.ics.uci.edu/static/public/73/data.csv\",\n",
      "  \"abstract\": \"From Audobon Society Field Guide; mushrooms described in terms of physical characteristics; classification: poisonous or edible\",\n",
      "  \"area\": \"Biology\",\n",
      "  \"tasks\": [\n",
      "    \"Classification\"\n",
      "  ],\n",
      "  \"characteristics\": [\n",
      "    \"Multivariate\"\n",
      "  ],\n",
      "  \"num_instances\": 8124,\n",
      "  \"num_features\": 22,\n",
      "  \"feature_types\": [\n",
      "    \"Categorical\"\n",
      "  ],\n",
      "  \"demographics\": [],\n",
      "  \"target_col\": [\n",
      "    \"poisonous\"\n",
      "  ],\n",
      "  \"index_col\": null,\n",
      "  \"has_missing_values\": \"yes\",\n",
      "  \"missing_values_symbol\": \"NaN\",\n",
      "  \"year_of_dataset_creation\": 1981,\n",
      "  \"last_updated\": \"Thu Aug 10 2023\",\n",
      "  \"dataset_doi\": \"10.24432/C5959T\",\n",
      "  \"creators\": [],\n",
      "  \"intro_paper\": null,\n",
      "  \"additional_info\": {\n",
      "    \"summary\": \"This data set includes descriptions of hypothetical samples corresponding to 23 species of gilled mushrooms in the Agaricus and Lepiota Family (pp. 500-525).  Each species is identified as definitely edible, definitely poisonous, or of unknown edibility and not recommended.  This latter class was combined with the poisonous one.  The Guide clearly states that there is no simple rule for determining the edibility of a mushroom; no rule like ``leaflets three, let it be'' for Poisonous Oak and Ivy.\",\n",
      "    \"purpose\": null,\n",
      "    \"funded_by\": null,\n",
      "    \"instances_represent\": null,\n",
      "    \"recommended_data_splits\": null,\n",
      "    \"sensitive_data\": null,\n",
      "    \"preprocessing_description\": null,\n",
      "    \"variable_info\": \"     1. cap-shape:                bell=b,conical=c,convex=x,flat=f, knobbed=k,sunken=s\\r\\n     2. cap-surface:              fibrous=f,grooves=g,scaly=y,smooth=s\\r\\n     3. cap-color:                brown=n,buff=b,cinnamon=c,gray=g,green=r, pink=p,purple=u,red=e,white=w,yellow=y\\r\\n     4. bruises?:                 bruises=t,no=f\\r\\n     5. odor:                     almond=a,anise=l,creosote=c,fishy=y,foul=f, musty=m,none=n,pungent=p,spicy=s\\r\\n     6. gill-attachment:          attached=a,descending=d,free=f,notched=n\\r\\n     7. gill-spacing:             close=c,crowded=w,distant=d\\r\\n     8. gill-size:                broad=b,narrow=n\\r\\n     9. gill-color:               black=k,brown=n,buff=b,chocolate=h,gray=g, green=r,orange=o,pink=p,purple=u,red=e, white=w,yellow=y\\r\\n    10. stalk-shape:              enlarging=e,tapering=t\\r\\n    11. stalk-root:               bulbous=b,club=c,cup=u,equal=e, rhizomorphs=z,rooted=r,missing=?\\r\\n    12. stalk-surface-above-ring: fibrous=f,scaly=y,silky=k,smooth=s\\r\\n    13. stalk-surface-below-ring: fibrous=f,scaly=y,silky=k,smooth=s\\r\\n    14. stalk-color-above-ring:   brown=n,buff=b,cinnamon=c,gray=g,orange=o, pink=p,red=e,white=w,yellow=y\\r\\n    15. stalk-color-below-ring:   brown=n,buff=b,cinnamon=c,gray=g,orange=o, pink=p,red=e,white=w,yellow=y\\r\\n    16. veil-type:                partial=p,universal=u\\r\\n    17. veil-color:               brown=n,orange=o,white=w,yellow=y\\r\\n    18. ring-number:              none=n,one=o,two=t\\r\\n    19. ring-type:                cobwebby=c,evanescent=e,flaring=f,large=l, none=n,pendant=p,sheathing=s,zone=z\\r\\n    20. spore-print-color:        black=k,brown=n,buff=b,chocolate=h,green=r, orange=o,purple=u,white=w,yellow=y\\r\\n    21. population:               abundant=a,clustered=c,numerous=n, scattered=s,several=v,solitary=y\\r\\n    22. habitat:                  grasses=g,leaves=l,meadows=m,paths=p, urban=u,waste=w,woods=d\",\n",
      "    \"citation\": null\n",
      "  }\n",
      "}\n"
     ]
    }
   ],
   "source": [
    "# metadata\n",
    "import json\n",
    "\n",
    "print(json.dumps(mushroom.metadata, indent=2))"
   ]
  },
  {
   "cell_type": "code",
   "execution_count": 101,
   "id": "fc784f02-56a2-4802-88ba-1c2f98d61fd0",
   "metadata": {
    "execution": {
     "iopub.execute_input": "2024-01-18T18:13:50.273922Z",
     "iopub.status.busy": "2024-01-18T18:13:50.273247Z",
     "iopub.status.idle": "2024-01-18T18:13:50.280989Z",
     "shell.execute_reply": "2024-01-18T18:13:50.279451Z",
     "shell.execute_reply.started": "2024-01-18T18:13:50.273889Z"
    }
   },
   "outputs": [
    {
     "name": "stdout",
     "output_type": "stream",
     "text": [
      "     1. cap-shape:                bell=b,conical=c,convex=x,flat=f, knobbed=k,sunken=s\n",
      "     2. cap-surface:              fibrous=f,grooves=g,scaly=y,smooth=s\n",
      "     3. cap-color:                brown=n,buff=b,cinnamon=c,gray=g,green=r, pink=p,purple=u,red=e,white=w,yellow=y\n",
      "     4. bruises?:                 bruises=t,no=f\n",
      "     5. odor:                     almond=a,anise=l,creosote=c,fishy=y,foul=f, musty=m,none=n,pungent=p,spicy=s\n",
      "     6. gill-attachment:          attached=a,descending=d,free=f,notched=n\n",
      "     7. gill-spacing:             close=c,crowded=w,distant=d\n",
      "     8. gill-size:                broad=b,narrow=n\n",
      "     9. gill-color:               black=k,brown=n,buff=b,chocolate=h,gray=g, green=r,orange=o,pink=p,purple=u,red=e, white=w,yellow=y\n",
      "    10. stalk-shape:              enlarging=e,tapering=t\n",
      "    11. stalk-root:               bulbous=b,club=c,cup=u,equal=e, rhizomorphs=z,rooted=r,missing=?\n",
      "    12. stalk-surface-above-ring: fibrous=f,scaly=y,silky=k,smooth=s\n",
      "    13. stalk-surface-below-ring: fibrous=f,scaly=y,silky=k,smooth=s\n",
      "    14. stalk-color-above-ring:   brown=n,buff=b,cinnamon=c,gray=g,orange=o, pink=p,red=e,white=w,yellow=y\n",
      "    15. stalk-color-below-ring:   brown=n,buff=b,cinnamon=c,gray=g,orange=o, pink=p,red=e,white=w,yellow=y\n",
      "    16. veil-type:                partial=p,universal=u\n",
      "    17. veil-color:               brown=n,orange=o,white=w,yellow=y\n",
      "    18. ring-number:              none=n,one=o,two=t\n",
      "    19. ring-type:                cobwebby=c,evanescent=e,flaring=f,large=l, none=n,pendant=p,sheathing=s,zone=z\n",
      "    20. spore-print-color:        black=k,brown=n,buff=b,chocolate=h,green=r, orange=o,purple=u,white=w,yellow=y\n",
      "    21. population:               abundant=a,clustered=c,numerous=n, scattered=s,several=v,solitary=y\n",
      "    22. habitat:                  grasses=g,leaves=l,meadows=m,paths=p, urban=u,waste=w,woods=d\n"
     ]
    }
   ],
   "source": [
    "print(mushroom.metadata[\"additional_info\"][\"variable_info\"])"
   ]
  },
  {
   "cell_type": "code",
   "execution_count": 102,
   "id": "2d37bb25-8362-4ceb-8847-c9e6efb7aeb8",
   "metadata": {
    "execution": {
     "iopub.execute_input": "2024-01-18T18:13:50.283844Z",
     "iopub.status.busy": "2024-01-18T18:13:50.283164Z",
     "iopub.status.idle": "2024-01-18T18:13:50.295032Z",
     "shell.execute_reply": "2024-01-18T18:13:50.294314Z",
     "shell.execute_reply.started": "2024-01-18T18:13:50.283740Z"
    }
   },
   "outputs": [
    {
     "name": "stdout",
     "output_type": "stream",
     "text": [
      "                        name     role         type demographic  \\\n",
      "0                  poisonous   Target  Categorical        None   \n",
      "1                  cap-shape  Feature  Categorical        None   \n",
      "2                cap-surface  Feature  Categorical        None   \n",
      "3                  cap-color  Feature       Binary        None   \n",
      "4                    bruises  Feature  Categorical        None   \n",
      "5                       odor  Feature  Categorical        None   \n",
      "6            gill-attachment  Feature  Categorical        None   \n",
      "7               gill-spacing  Feature  Categorical        None   \n",
      "8                  gill-size  Feature  Categorical        None   \n",
      "9                 gill-color  Feature  Categorical        None   \n",
      "10               stalk-shape  Feature  Categorical        None   \n",
      "11                stalk-root  Feature  Categorical        None   \n",
      "12  stalk-surface-above-ring  Feature  Categorical        None   \n",
      "13  stalk-surface-below-ring  Feature  Categorical        None   \n",
      "14    stalk-color-above-ring  Feature  Categorical        None   \n",
      "15    stalk-color-below-ring  Feature  Categorical        None   \n",
      "16                 veil-type  Feature       Binary        None   \n",
      "17                veil-color  Feature  Categorical        None   \n",
      "18               ring-number  Feature  Categorical        None   \n",
      "19                 ring-type  Feature  Categorical        None   \n",
      "20         spore-print-color  Feature  Categorical        None   \n",
      "21                population  Feature  Categorical        None   \n",
      "22                   habitat  Feature  Categorical        None   \n",
      "\n",
      "                                          description units missing_values  \n",
      "0                                                None  None             no  \n",
      "1   bell=b,conical=c,convex=x,flat=f, knobbed=k,su...  None             no  \n",
      "2                fibrous=f,grooves=g,scaly=y,smooth=s  None             no  \n",
      "3   brown=n,buff=b,cinnamon=c,gray=g,green=r, pink...  None             no  \n",
      "4                                      bruises=t,no=f  None             no  \n",
      "5   almond=a,anise=l,creosote=c,fishy=y,foul=f, mu...  None             no  \n",
      "6            attached=a,descending=d,free=f,notched=n  None             no  \n",
      "7                         close=c,crowded=w,distant=d  None             no  \n",
      "8                                    broad=b,narrow=n  None             no  \n",
      "9   black=k,brown=n,buff=b,chocolate=h,gray=g, gre...  None             no  \n",
      "10                             enlarging=e,tapering=t  None             no  \n",
      "11  bulbous=b,club=c,cup=u,equal=e, rhizomorphs=z,...  None            yes  \n",
      "12                 fibrous=f,scaly=y,silky=k,smooth=s  None             no  \n",
      "13                 fibrous=f,scaly=y,silky=k,smooth=s  None             no  \n",
      "14  brown=n,buff=b,cinnamon=c,gray=g,orange=o, pin...  None             no  \n",
      "15  brown=n,buff=b,cinnamon=c,gray=g,orange=o, pin...  None             no  \n",
      "16                              partial=p,universal=u  None             no  \n",
      "17                  brown=n,orange=o,white=w,yellow=y  None             no  \n",
      "18                                 none=n,one=o,two=t  None             no  \n",
      "19  cobwebby=c,evanescent=e,flaring=f,large=l, non...  None             no  \n",
      "20  black=k,brown=n,buff=b,chocolate=h,green=r, or...  None             no  \n",
      "21  abundant=a,clustered=c,numerous=n, scattered=s...  None             no  \n",
      "22  grasses=g,leaves=l,meadows=m,paths=p, urban=u,...  None             no  \n"
     ]
    }
   ],
   "source": [
    "# variable information\n",
    "print(mushroom.variables)"
   ]
  },
  {
   "cell_type": "code",
   "execution_count": 103,
   "id": "9d657a6b-43e9-4deb-a05a-e9fbe90b6f5a",
   "metadata": {
    "execution": {
     "iopub.execute_input": "2024-01-18T18:13:50.297447Z",
     "iopub.status.busy": "2024-01-18T18:13:50.297022Z",
     "iopub.status.idle": "2024-01-18T18:13:50.307285Z",
     "shell.execute_reply": "2024-01-18T18:13:50.305193Z",
     "shell.execute_reply.started": "2024-01-18T18:13:50.297419Z"
    }
   },
   "outputs": [
    {
     "data": {
      "text/html": [
       "<div>\n",
       "<style scoped>\n",
       "    .dataframe tbody tr th:only-of-type {\n",
       "        vertical-align: middle;\n",
       "    }\n",
       "\n",
       "    .dataframe tbody tr th {\n",
       "        vertical-align: top;\n",
       "    }\n",
       "\n",
       "    .dataframe thead th {\n",
       "        text-align: right;\n",
       "    }\n",
       "</style>\n",
       "<table border=\"1\" class=\"dataframe\">\n",
       "  <thead>\n",
       "    <tr style=\"text-align: right;\">\n",
       "      <th></th>\n",
       "      <th>poisonous</th>\n",
       "    </tr>\n",
       "  </thead>\n",
       "  <tbody>\n",
       "    <tr>\n",
       "      <th>0</th>\n",
       "      <td>p</td>\n",
       "    </tr>\n",
       "    <tr>\n",
       "      <th>1</th>\n",
       "      <td>e</td>\n",
       "    </tr>\n",
       "    <tr>\n",
       "      <th>2</th>\n",
       "      <td>e</td>\n",
       "    </tr>\n",
       "    <tr>\n",
       "      <th>3</th>\n",
       "      <td>p</td>\n",
       "    </tr>\n",
       "    <tr>\n",
       "      <th>4</th>\n",
       "      <td>e</td>\n",
       "    </tr>\n",
       "  </tbody>\n",
       "</table>\n",
       "</div>"
      ],
      "text/plain": [
       "  poisonous\n",
       "0         p\n",
       "1         e\n",
       "2         e\n",
       "3         p\n",
       "4         e"
      ]
     },
     "execution_count": 103,
     "metadata": {},
     "output_type": "execute_result"
    }
   ],
   "source": [
    "y.head()"
   ]
  },
  {
   "cell_type": "code",
   "execution_count": 104,
   "id": "f8eb1c3d-f53e-4ead-a15d-6322dfaaf74c",
   "metadata": {
    "execution": {
     "iopub.execute_input": "2024-01-18T18:13:50.310335Z",
     "iopub.status.busy": "2024-01-18T18:13:50.309540Z",
     "iopub.status.idle": "2024-01-18T18:13:50.317061Z",
     "shell.execute_reply": "2024-01-18T18:13:50.316138Z",
     "shell.execute_reply.started": "2024-01-18T18:13:50.310268Z"
    }
   },
   "outputs": [],
   "source": [
    "import pandas as pd"
   ]
  },
  {
   "cell_type": "code",
   "execution_count": 105,
   "id": "744dcaa3-df83-4c00-bd96-878797c5ea03",
   "metadata": {
    "execution": {
     "iopub.execute_input": "2024-01-18T18:13:50.319349Z",
     "iopub.status.busy": "2024-01-18T18:13:50.318908Z",
     "iopub.status.idle": "2024-01-18T18:13:50.353907Z",
     "shell.execute_reply": "2024-01-18T18:13:50.352313Z",
     "shell.execute_reply.started": "2024-01-18T18:13:50.319322Z"
    }
   },
   "outputs": [
    {
     "data": {
      "text/html": [
       "<div>\n",
       "<style scoped>\n",
       "    .dataframe tbody tr th:only-of-type {\n",
       "        vertical-align: middle;\n",
       "    }\n",
       "\n",
       "    .dataframe tbody tr th {\n",
       "        vertical-align: top;\n",
       "    }\n",
       "\n",
       "    .dataframe thead th {\n",
       "        text-align: right;\n",
       "    }\n",
       "</style>\n",
       "<table border=\"1\" class=\"dataframe\">\n",
       "  <thead>\n",
       "    <tr style=\"text-align: right;\">\n",
       "      <th></th>\n",
       "      <th>cap-shape</th>\n",
       "      <th>cap-surface</th>\n",
       "      <th>cap-color</th>\n",
       "      <th>bruises</th>\n",
       "      <th>odor</th>\n",
       "      <th>gill-attachment</th>\n",
       "      <th>gill-spacing</th>\n",
       "      <th>gill-size</th>\n",
       "      <th>gill-color</th>\n",
       "      <th>stalk-shape</th>\n",
       "      <th>...</th>\n",
       "      <th>stalk-color-above-ring</th>\n",
       "      <th>stalk-color-below-ring</th>\n",
       "      <th>veil-type</th>\n",
       "      <th>veil-color</th>\n",
       "      <th>ring-number</th>\n",
       "      <th>ring-type</th>\n",
       "      <th>spore-print-color</th>\n",
       "      <th>population</th>\n",
       "      <th>habitat</th>\n",
       "      <th>poisonous</th>\n",
       "    </tr>\n",
       "  </thead>\n",
       "  <tbody>\n",
       "    <tr>\n",
       "      <th>0</th>\n",
       "      <td>x</td>\n",
       "      <td>s</td>\n",
       "      <td>n</td>\n",
       "      <td>t</td>\n",
       "      <td>p</td>\n",
       "      <td>f</td>\n",
       "      <td>c</td>\n",
       "      <td>n</td>\n",
       "      <td>k</td>\n",
       "      <td>e</td>\n",
       "      <td>...</td>\n",
       "      <td>w</td>\n",
       "      <td>w</td>\n",
       "      <td>p</td>\n",
       "      <td>w</td>\n",
       "      <td>o</td>\n",
       "      <td>p</td>\n",
       "      <td>k</td>\n",
       "      <td>s</td>\n",
       "      <td>u</td>\n",
       "      <td>p</td>\n",
       "    </tr>\n",
       "    <tr>\n",
       "      <th>1</th>\n",
       "      <td>x</td>\n",
       "      <td>s</td>\n",
       "      <td>y</td>\n",
       "      <td>t</td>\n",
       "      <td>a</td>\n",
       "      <td>f</td>\n",
       "      <td>c</td>\n",
       "      <td>b</td>\n",
       "      <td>k</td>\n",
       "      <td>e</td>\n",
       "      <td>...</td>\n",
       "      <td>w</td>\n",
       "      <td>w</td>\n",
       "      <td>p</td>\n",
       "      <td>w</td>\n",
       "      <td>o</td>\n",
       "      <td>p</td>\n",
       "      <td>n</td>\n",
       "      <td>n</td>\n",
       "      <td>g</td>\n",
       "      <td>e</td>\n",
       "    </tr>\n",
       "    <tr>\n",
       "      <th>2</th>\n",
       "      <td>b</td>\n",
       "      <td>s</td>\n",
       "      <td>w</td>\n",
       "      <td>t</td>\n",
       "      <td>l</td>\n",
       "      <td>f</td>\n",
       "      <td>c</td>\n",
       "      <td>b</td>\n",
       "      <td>n</td>\n",
       "      <td>e</td>\n",
       "      <td>...</td>\n",
       "      <td>w</td>\n",
       "      <td>w</td>\n",
       "      <td>p</td>\n",
       "      <td>w</td>\n",
       "      <td>o</td>\n",
       "      <td>p</td>\n",
       "      <td>n</td>\n",
       "      <td>n</td>\n",
       "      <td>m</td>\n",
       "      <td>e</td>\n",
       "    </tr>\n",
       "    <tr>\n",
       "      <th>3</th>\n",
       "      <td>x</td>\n",
       "      <td>y</td>\n",
       "      <td>w</td>\n",
       "      <td>t</td>\n",
       "      <td>p</td>\n",
       "      <td>f</td>\n",
       "      <td>c</td>\n",
       "      <td>n</td>\n",
       "      <td>n</td>\n",
       "      <td>e</td>\n",
       "      <td>...</td>\n",
       "      <td>w</td>\n",
       "      <td>w</td>\n",
       "      <td>p</td>\n",
       "      <td>w</td>\n",
       "      <td>o</td>\n",
       "      <td>p</td>\n",
       "      <td>k</td>\n",
       "      <td>s</td>\n",
       "      <td>u</td>\n",
       "      <td>p</td>\n",
       "    </tr>\n",
       "    <tr>\n",
       "      <th>4</th>\n",
       "      <td>x</td>\n",
       "      <td>s</td>\n",
       "      <td>g</td>\n",
       "      <td>f</td>\n",
       "      <td>n</td>\n",
       "      <td>f</td>\n",
       "      <td>w</td>\n",
       "      <td>b</td>\n",
       "      <td>k</td>\n",
       "      <td>t</td>\n",
       "      <td>...</td>\n",
       "      <td>w</td>\n",
       "      <td>w</td>\n",
       "      <td>p</td>\n",
       "      <td>w</td>\n",
       "      <td>o</td>\n",
       "      <td>e</td>\n",
       "      <td>n</td>\n",
       "      <td>a</td>\n",
       "      <td>g</td>\n",
       "      <td>e</td>\n",
       "    </tr>\n",
       "  </tbody>\n",
       "</table>\n",
       "<p>5 rows × 23 columns</p>\n",
       "</div>"
      ],
      "text/plain": [
       "  cap-shape cap-surface cap-color bruises odor gill-attachment gill-spacing  \\\n",
       "0         x           s         n       t    p               f            c   \n",
       "1         x           s         y       t    a               f            c   \n",
       "2         b           s         w       t    l               f            c   \n",
       "3         x           y         w       t    p               f            c   \n",
       "4         x           s         g       f    n               f            w   \n",
       "\n",
       "  gill-size gill-color stalk-shape  ... stalk-color-above-ring  \\\n",
       "0         n          k           e  ...                      w   \n",
       "1         b          k           e  ...                      w   \n",
       "2         b          n           e  ...                      w   \n",
       "3         n          n           e  ...                      w   \n",
       "4         b          k           t  ...                      w   \n",
       "\n",
       "  stalk-color-below-ring veil-type veil-color ring-number ring-type  \\\n",
       "0                      w         p          w           o         p   \n",
       "1                      w         p          w           o         p   \n",
       "2                      w         p          w           o         p   \n",
       "3                      w         p          w           o         p   \n",
       "4                      w         p          w           o         e   \n",
       "\n",
       "  spore-print-color population habitat poisonous  \n",
       "0                 k          s       u         p  \n",
       "1                 n          n       g         e  \n",
       "2                 n          n       m         e  \n",
       "3                 k          s       u         p  \n",
       "4                 n          a       g         e  \n",
       "\n",
       "[5 rows x 23 columns]"
      ]
     },
     "execution_count": 105,
     "metadata": {},
     "output_type": "execute_result"
    }
   ],
   "source": [
    "df = pd.concat([X, y], axis=\"columns\")\n",
    "df.head()"
   ]
  },
  {
   "cell_type": "code",
   "execution_count": 106,
   "id": "9a37c696-213f-4bad-8e8e-b8d1d96f398e",
   "metadata": {
    "execution": {
     "iopub.execute_input": "2024-01-18T18:13:50.357087Z",
     "iopub.status.busy": "2024-01-18T18:13:50.355902Z",
     "iopub.status.idle": "2024-01-18T18:13:50.367134Z",
     "shell.execute_reply": "2024-01-18T18:13:50.364386Z",
     "shell.execute_reply.started": "2024-01-18T18:13:50.357041Z"
    }
   },
   "outputs": [
    {
     "data": {
      "text/plain": [
       "Index(['cap-shape', 'cap-surface', 'cap-color', 'bruises', 'odor',\n",
       "       'gill-attachment', 'gill-spacing', 'gill-size', 'gill-color',\n",
       "       'stalk-shape', 'stalk-root', 'stalk-surface-above-ring',\n",
       "       'stalk-surface-below-ring', 'stalk-color-above-ring',\n",
       "       'stalk-color-below-ring', 'veil-type', 'veil-color', 'ring-number',\n",
       "       'ring-type', 'spore-print-color', 'population', 'habitat', 'poisonous'],\n",
       "      dtype='object')"
      ]
     },
     "execution_count": 106,
     "metadata": {},
     "output_type": "execute_result"
    }
   ],
   "source": [
    "columns = df.columns\n",
    "columns"
   ]
  },
  {
   "cell_type": "code",
   "execution_count": 107,
   "id": "b5ed6813-2454-436d-9a8b-d641c407783b",
   "metadata": {
    "execution": {
     "iopub.execute_input": "2024-01-18T18:13:50.383457Z",
     "iopub.status.busy": "2024-01-18T18:13:50.382787Z",
     "iopub.status.idle": "2024-01-18T18:13:50.392879Z",
     "shell.execute_reply": "2024-01-18T18:13:50.390627Z",
     "shell.execute_reply.started": "2024-01-18T18:13:50.383416Z"
    }
   },
   "outputs": [],
   "source": [
    "from sklearn.feature_extraction import FeatureHasher\n",
    "from sklearn.neural_network import MLPRegressor"
   ]
  },
  {
   "cell_type": "code",
   "execution_count": 108,
   "id": "c238dbc0-a2f8-4ec5-84f7-b282a24699d4",
   "metadata": {
    "execution": {
     "iopub.execute_input": "2024-01-18T18:13:50.883828Z",
     "iopub.status.busy": "2024-01-18T18:13:50.882967Z",
     "iopub.status.idle": "2024-01-18T18:13:50.892897Z",
     "shell.execute_reply": "2024-01-18T18:13:50.891283Z",
     "shell.execute_reply.started": "2024-01-18T18:13:50.883793Z"
    }
   },
   "outputs": [],
   "source": [
    "# We set alternate sign to false because we want positive numbers only.\n",
    "# This is important for the training to avoid -tive predictions.\n",
    "hasher = FeatureHasher(n_features=100, input_type=\"string\", alternate_sign=True)\n",
    "\n",
    "\n",
    "def preprocess(state, action):\n",
    "    features = [f\"{key}:{value}^{action}\" for key, value in state.items()]\n",
    "    # features = [f\"{key}:{value}\" for key, value in state.items()]\n",
    "    # features += [action]\n",
    "    # print(features)\n",
    "    return hasher.transform([features]).toarray()[0]"
   ]
  },
  {
   "cell_type": "code",
   "execution_count": 109,
   "id": "a497d51e-bc42-47ad-b3c6-b5d1e3f82e9b",
   "metadata": {
    "execution": {
     "iopub.execute_input": "2024-01-18T18:13:51.477165Z",
     "iopub.status.busy": "2024-01-18T18:13:51.476751Z",
     "iopub.status.idle": "2024-01-18T18:13:51.496479Z",
     "shell.execute_reply": "2024-01-18T18:13:51.495120Z",
     "shell.execute_reply.started": "2024-01-18T18:13:51.477134Z"
    }
   },
   "outputs": [
    {
     "data": {
      "text/plain": [
       "(array([ 1.,  0.,  0., -1., -2.,  0.,  0.,  0., -1.,  0.,  0.,  0.,  0.,\n",
       "         0.,  0.,  0.,  0.,  0.,  0.,  0.,  0.,  0.,  0.,  0.,  0.,  1.,\n",
       "         0.,  0.,  0.,  0.,  0.,  0.,  0.,  0., -1.,  0., -1.,  0.,  0.,\n",
       "        -1.,  0.,  0.,  0.,  0.,  1.,  0.,  0.,  0.,  0.,  0.,  0.,  1.,\n",
       "         0.,  0.,  0.,  0.,  0.,  2.,  0.,  0.,  0.,  0.,  0.,  0.,  0.,\n",
       "         0.,  0.,  0.,  0.,  0.,  0., -1.,  0.,  0.,  0.,  0.,  0.,  0.,\n",
       "        -1.,  0.,  0.,  0.,  0., -1.,  0.,  0.,  0.,  0.,  0.,  0.,  0.,\n",
       "         0.,  0.,  1., -1.,  0.,  0.,  0.,  0.,  0.]),\n",
       " array([ 0.,  0.,  0.,  1.,  1.,  1.,  0.,  0.,  0.,  0.,  0.,  0.,  0.,\n",
       "         0.,  0.,  0.,  0.,  0.,  0.,  0.,  0.,  0.,  0.,  0.,  0.,  0.,\n",
       "         0.,  0.,  0.,  0.,  0.,  0.,  0.,  0.,  0.,  0.,  0.,  0.,  0.,\n",
       "         0., -1.,  0.,  0.,  0.,  0.,  0.,  0.,  0.,  0.,  1.,  1.,  0.,\n",
       "         0.,  1.,  0.,  0.,  0.,  0., -1.,  0.,  1.,  0.,  0.,  1.,  0.,\n",
       "         0.,  0.,  0.,  0.,  0.,  0., -1.,  0., -1.,  0.,  0.,  1.,  0.,\n",
       "         0.,  0.,  0.,  0.,  0., -1.,  0.,  2.,  0.,  0.,  0., -2.,  0.,\n",
       "         0.,  0.,  0.,  0.,  0.,  0.,  0.,  0.,  0.]),\n",
       " poisonous    p\n",
       " Name: 0, dtype: object)"
      ]
     },
     "execution_count": 109,
     "metadata": {},
     "output_type": "execute_result"
    }
   ],
   "source": [
    "X_i = df.iloc[0, :-1]\n",
    "y_i = df.iloc[0, -1:]\n",
    "preprocess(X_i, \"eat\"), preprocess(X_i, \"throw\"), y_i"
   ]
  },
  {
   "cell_type": "markdown",
   "id": "291ba80c-bc0e-4474-b491-b0739dc5cc6f",
   "metadata": {},
   "source": [
    "The MLPRegressor in Scikit-learn does not have a built-in way to restrict the output to non-negative values. However, there are a few workarounds you can use:\n",
    "\n",
    "1. **Post-processing**: After getting the predictions, you can simply set all negative values to zero. This is the simplest method, but it might not be the best solution if a large number of your predictions are negative.\n",
    "\n",
    "```python\n",
    "predictions = model.predict(X)\n",
    "predictions = np.maximum(predictions, 0)\n",
    "```\n",
    "\n",
    "2. **Log transformation**: If your target variable is always positive, you can take the log of the target variable during training, and then exponentiate the predictions. This will ensure that your predictions are always positive.\n",
    "\n",
    "```python\n",
    "# During training\n",
    "model.fit(X, np.log1p(y))\n",
    "\n",
    "# During prediction\n",
    "predictions = np.expm1(model.predict(X))\n",
    "```\n",
    "\n",
    "Note: `np.log1p(y)` is used instead of `np.log(y)` to handle the case where `y` is 0, and `np.expm1(predictions)` is the inverse of `np.log1p(y)`.\n",
    "\n",
    "Remember that these are just workarounds. If your model is predicting a lot of negative values and it shouldn't be, it might be a sign that your model isn't well-suited to your data."
   ]
  },
  {
   "cell_type": "code",
   "execution_count": 110,
   "id": "5ee210cc-9856-41a6-844d-557f6ea969c4",
   "metadata": {
    "execution": {
     "iopub.execute_input": "2024-01-18T18:13:52.388137Z",
     "iopub.status.busy": "2024-01-18T18:13:52.387649Z",
     "iopub.status.idle": "2024-01-18T18:13:52.395186Z",
     "shell.execute_reply": "2024-01-18T18:13:52.393858Z",
     "shell.execute_reply.started": "2024-01-18T18:13:52.388102Z"
    }
   },
   "outputs": [],
   "source": [
    "def softmax(lst, tau=1.0):\n",
    "    lst = np.array(lst) / tau\n",
    "    \"\"\"The softmax function is often used in machine learning to convert a list of real numbers into a list of probabilities that add up to 1.\n",
    "    Note: The softmax function can be unstable if the numbers in the list are very large (due to the exponential function). In practice, a common technique is to subtract the maximum value in the list from all the values to stabilize the computation.\n",
    "    \"\"\"\n",
    "    exps = np.exp(lst)\n",
    "    return exps / np.sum(exps)"
   ]
  },
  {
   "cell_type": "code",
   "execution_count": 118,
   "id": "ae661d49-2207-43f3-81bb-dc7f7cc8f25e",
   "metadata": {
    "execution": {
     "iopub.execute_input": "2024-01-18T18:15:13.678072Z",
     "iopub.status.busy": "2024-01-18T18:15:13.677252Z",
     "iopub.status.idle": "2024-01-18T18:15:39.903264Z",
     "shell.execute_reply": "2024-01-18T18:15:39.901584Z",
     "shell.execute_reply.started": "2024-01-18T18:15:13.678018Z"
    }
   },
   "outputs": [
    {
     "data": {
      "application/vnd.jupyter.widget-view+json": {
       "model_id": "64aa4a8bc6184920af17ca6fd112c29f",
       "version_major": 2,
       "version_minor": 0
      },
      "text/plain": [
       "Reading DF:   0%|          | 0/8124 [00:00<?, ?it/s]"
      ]
     },
     "metadata": {},
     "output_type": "display_data"
    }
   ],
   "source": [
    "from collections import defaultdict\n",
    "\n",
    "import numpy as np\n",
    "from tqdm.autonotebook import tqdm\n",
    "\n",
    "tqdm.pandas()\n",
    "\n",
    "actions = [\"eat\", \"throw\"]\n",
    "total_reward = 0\n",
    "avg_rewards = []\n",
    "choices = defaultdict(int)\n",
    "\n",
    "n = 100\n",
    "last_n_actions = [\"\"] * n\n",
    "last_n_probabilities = [[0, 0] for i in range(n)]\n",
    "POISONOUS = \"p\"\n",
    "policies = [\"greedy\", \"softmax\"]\n",
    "model = MLPRegressor(\n",
    "    random_state=42,\n",
    ")\n",
    "\n",
    "for i, item in tqdm(df[columns].iterrows(), total=df.shape[0], desc=\"Reading DF\"):\n",
    "    X_i, y_i = item.iloc[:-1], item.iloc[-1]\n",
    "\n",
    "    if i == 0:\n",
    "        action = np.random.choice(actions)\n",
    "    else:\n",
    "        rewards = model.predict([preprocess(X_i, action) for action in actions])\n",
    "        action = actions[np.argmax(rewards)]\n",
    "\n",
    "        p = softmax(rewards, tau=0.2)\n",
    "        # action = np.random.choice(actions, p=p)\n",
    "        last_n_probabilities[i % n] = p\n",
    "\n",
    "    reward = int(\n",
    "        (action == \"eat\" and y_i != POISONOUS) or (action != \"eat\" and y_i == POISONOUS)\n",
    "    )\n",
    "\n",
    "    model.partial_fit([preprocess(X_i, action)], [reward])\n",
    "    choices[action + \"_\" + y_i] += 1\n",
    "    last_n_actions[i % n] = action + \"_\" + y_i\n",
    "    total_reward += reward\n",
    "    avg_rewards.append(total_reward / (i + 1))"
   ]
  },
  {
   "cell_type": "code",
   "execution_count": 119,
   "id": "091cccd6-1ea2-4233-8b59-17ccc9d76ad7",
   "metadata": {
    "execution": {
     "iopub.execute_input": "2024-01-18T18:15:39.906192Z",
     "iopub.status.busy": "2024-01-18T18:15:39.905584Z",
     "iopub.status.idle": "2024-01-18T18:15:40.429070Z",
     "shell.execute_reply": "2024-01-18T18:15:40.426054Z",
     "shell.execute_reply.started": "2024-01-18T18:15:39.906147Z"
    }
   },
   "outputs": [
    {
     "data": {
      "text/plain": [
       "[<matplotlib.lines.Line2D at 0x125a3f010>]"
      ]
     },
     "execution_count": 119,
     "metadata": {},
     "output_type": "execute_result"
    },
    {
     "data": {
      "image/png": "[encoded data removed]",
      "text/plain": [
       "<Figure size 640x480 with 1 Axes>"
      ]
     },
     "metadata": {},
     "output_type": "display_data"
    }
   ],
   "source": [
    "import matplotlib.pyplot as plt\n",
    "\n",
    "n, _ = df.shape\n",
    "plt.plot(range(n), avg_rewards)"
   ]
  },
  {
   "cell_type": "code",
   "execution_count": 120,
   "id": "7ff9f3cb-c67a-4bf2-94ea-e8d5da94d6ed",
   "metadata": {
    "execution": {
     "iopub.execute_input": "2024-01-18T18:15:46.732973Z",
     "iopub.status.busy": "2024-01-18T18:15:46.730216Z",
     "iopub.status.idle": "2024-01-18T18:15:46.769036Z",
     "shell.execute_reply": "2024-01-18T18:15:46.768156Z",
     "shell.execute_reply.started": "2024-01-18T18:15:46.732924Z"
    }
   },
   "outputs": [
    {
     "data": {
      "text/plain": [
       "8086"
      ]
     },
     "execution_count": 120,
     "metadata": {},
     "output_type": "execute_result"
    }
   ],
   "source": [
    "total_reward"
   ]
  },
  {
   "cell_type": "code",
   "execution_count": 121,
   "id": "aa6d2a7d-e454-452b-b4a6-9f9a734258ce",
   "metadata": {
    "execution": {
     "iopub.execute_input": "2024-01-18T18:15:47.643176Z",
     "iopub.status.busy": "2024-01-18T18:15:47.640655Z",
     "iopub.status.idle": "2024-01-18T18:15:47.727172Z",
     "shell.execute_reply": "2024-01-18T18:15:47.724800Z",
     "shell.execute_reply.started": "2024-01-18T18:15:47.643098Z"
    }
   },
   "outputs": [
    {
     "data": {
      "text/plain": [
       "defaultdict(int, {'throw_p': 3896, 'eat_e': 4190, 'eat_p': 20, 'throw_e': 18})"
      ]
     },
     "execution_count": 121,
     "metadata": {},
     "output_type": "execute_result"
    }
   ],
   "source": [
    "choices"
   ]
  },
  {
   "cell_type": "code",
   "execution_count": 122,
   "id": "607efbb1-e197-4476-902d-9cf6949bc1ca",
   "metadata": {
    "execution": {
     "iopub.execute_input": "2024-01-18T18:15:48.353101Z",
     "iopub.status.busy": "2024-01-18T18:15:48.352688Z",
     "iopub.status.idle": "2024-01-18T18:15:48.371739Z",
     "shell.execute_reply": "2024-01-18T18:15:48.370128Z",
     "shell.execute_reply.started": "2024-01-18T18:15:48.353070Z"
    }
   },
   "outputs": [
    {
     "data": {
      "text/plain": [
       "(poisonous\n",
       " e    4208\n",
       " p    3916\n",
       " Name: count, dtype: int64,\n",
       " (8124, 23))"
      ]
     },
     "execution_count": 122,
     "metadata": {},
     "output_type": "execute_result"
    }
   ],
   "source": [
    "df[\"poisonous\"].value_counts(), df.shape"
   ]
  },
  {
   "cell_type": "code",
   "execution_count": 123,
   "id": "a0e34ce5-49b3-47e6-852d-3c78d40faae9",
   "metadata": {
    "execution": {
     "iopub.execute_input": "2024-01-18T18:15:49.150972Z",
     "iopub.status.busy": "2024-01-18T18:15:49.150557Z",
     "iopub.status.idle": "2024-01-18T18:15:49.170687Z",
     "shell.execute_reply": "2024-01-18T18:15:49.169548Z",
     "shell.execute_reply.started": "2024-01-18T18:15:49.150941Z"
    }
   },
   "outputs": [
    {
     "data": {
      "text/plain": [
       "Counter({'eat_e': 54, 'throw_p': 46})"
      ]
     },
     "execution_count": 123,
     "metadata": {},
     "output_type": "execute_result"
    }
   ],
   "source": [
    "from collections import Counter\n",
    "\n",
    "Counter(last_n_actions)"
   ]
  },
  {
   "cell_type": "code",
   "execution_count": 124,
   "id": "4c2adb94-ed45-456e-9447-249db2b87593",
   "metadata": {
    "execution": {
     "iopub.execute_input": "2024-01-18T18:15:49.922859Z",
     "iopub.status.busy": "2024-01-18T18:15:49.922206Z",
     "iopub.status.idle": "2024-01-18T18:15:49.940875Z",
     "shell.execute_reply": "2024-01-18T18:15:49.939544Z",
     "shell.execute_reply.started": "2024-01-18T18:15:49.922813Z"
    }
   },
   "outputs": [
    {
     "data": {
      "text/plain": [
       "[('throw_p', array([0.04190506, 0.95809494])),\n",
       " ('throw_p', array([0.0294244, 0.9705756])),\n",
       " ('throw_p', array([0.02187761, 0.97812239])),\n",
       " ('throw_p', array([0.04606314, 0.95393686])),\n",
       " ('eat_e', array([0.96843428, 0.03156572])),\n",
       " ('throw_p', array([0.1371993, 0.8628007])),\n",
       " ('eat_e', array([0.93443274, 0.06556726])),\n",
       " ('throw_p', array([0.01341728, 0.98658272])),\n",
       " ('throw_p', array([0.02796642, 0.97203358])),\n",
       " ('eat_e', array([0.92092305, 0.07907695]))]"
      ]
     },
     "execution_count": 124,
     "metadata": {},
     "output_type": "execute_result"
    }
   ],
   "source": [
    "list(zip(last_n_actions[-10:], last_n_probabilities[-10:]))"
   ]
  },
  {
   "cell_type": "code",
   "execution_count": 125,
   "id": "48a2ced8-ca2f-4526-bda6-6849f82c2057",
   "metadata": {
    "execution": {
     "iopub.execute_input": "2024-01-18T18:15:50.671757Z",
     "iopub.status.busy": "2024-01-18T18:15:50.671248Z",
     "iopub.status.idle": "2024-01-18T18:15:50.684708Z",
     "shell.execute_reply": "2024-01-18T18:15:50.682833Z",
     "shell.execute_reply.started": "2024-01-18T18:15:50.671722Z"
    }
   },
   "outputs": [],
   "source": [
    "import seaborn as sns\n",
    "\n",
    "sns.set_theme()"
   ]
  },
  {
   "cell_type": "code",
   "execution_count": null,
   "id": "5bb36804-bf49-494b-b69f-91eb29e6b2eb",
   "metadata": {
    "scrolled": true
   },
   "outputs": [],
   "source": [
    "import numpy as np\n",
    "from tqdm.autonotebook import tqdm\n",
    "\n",
    "tqdm.pandas()\n",
    "\n",
    "POISONOUS = \"p\"\n",
    "actions = [\"eat\", \"throw\"]\n",
    "policies = [\"greedy\", \"softmax_0.5\", \"softmax_0.2\"]\n",
    "\n",
    "for policy in tqdm(policies):\n",
    "    total_reward = 0\n",
    "    avg_rewards = []\n",
    "\n",
    "    model = MLPRegressor(\n",
    "        random_state=42,\n",
    "    )\n",
    "\n",
    "    for i, item in tqdm(df[columns].iterrows(), total=df.shape[0]):\n",
    "        X_i, y_i = item.iloc[:-1], item.iloc[-1]\n",
    "\n",
    "        action = None\n",
    "\n",
    "        if i == 0:\n",
    "            action = np.random.choice(actions)\n",
    "        else:\n",
    "            rewards = model.predict([preprocess(X_i, action) for action in actions])\n",
    "            match policy:\n",
    "                case \"greedy\":\n",
    "                    action = actions[np.argmax(rewards)]\n",
    "                case \"softmax_0.5\":\n",
    "                    p = softmax(rewards, tau=0.5)\n",
    "                    action = np.random.choice(actions, p=p)\n",
    "                case \"softmax_0.2\":\n",
    "                    p = softmax(rewards, tau=0.2)\n",
    "                    action = np.random.choice(actions, p=p)\n",
    "\n",
    "        reward = int(\n",
    "            (action == \"eat\" and y_i != POISONOUS)\n",
    "            or (action != \"eat\" and y_i == POISONOUS)\n",
    "        )\n",
    "\n",
    "        model.partial_fit([preprocess(X_i, action)], [reward])\n",
    "        total_reward += reward\n",
    "        avg_rewards.append(total_reward / (i + 1))\n",
    "    df[policy] = avg_rewards"
   ]
  },
  {
   "cell_type": "code",
   "execution_count": 127,
   "id": "13243b90-88d7-458c-8f7c-4ff0a738c382",
   "metadata": {
    "execution": {
     "iopub.execute_input": "2024-01-18T18:18:05.709429Z",
     "iopub.status.busy": "2024-01-18T18:18:05.702014Z",
     "iopub.status.idle": "2024-01-18T18:18:06.293876Z",
     "shell.execute_reply": "2024-01-18T18:18:06.292025Z",
     "shell.execute_reply.started": "2024-01-18T18:18:05.707851Z"
    }
   },
   "outputs": [
    {
     "data": {
      "text/plain": [
       "<Axes: xlabel='Trials', ylabel='Avg. Rewards'>"
      ]
     },
     "execution_count": 127,
     "metadata": {},
     "output_type": "execute_result"
    },
    {
     "data": {
      "image/png": "[encoded data removed]",
      "text/plain": [
       "<Figure size 640x480 with 1 Axes>"
      ]
     },
     "metadata": {},
     "output_type": "display_data"
    }
   ],
   "source": [
    "df[policies].plot(xlabel=\"Trials\", ylabel=\"Avg. Rewards\")"
   ]
  },
  {
   "cell_type": "code",
   "execution_count": null,
   "id": "e6c02614-7b10-443a-8043-12105e543e4e",
   "metadata": {},
   "outputs": [],
   "source": []
  }
 ],
 "metadata": {
  "kernelspec": {
   "display_name": "Python 3 (ipykernel)",
   "language": "python",
   "name": "python3"
  },
  "language_info": {
   "codemirror_mode": {
    "name": "ipython",
    "version": 3
   },
   "file_extension": ".py",
   "mimetype": "text/x-python",
   "name": "python",
   "nbconvert_exporter": "python",
   "pygments_lexer": "ipython3",
   "version": "3.10.13"
  },
  "widgets": {
   "application/vnd.jupyter.widget-state+json": {
    "state": {
     "010a6369944842039378276f078d7ec5": {
      "model_module": "@jupyter-widgets/base",
      "model_module_version": "2.0.0",
      "model_name": "LayoutModel",
      "state": {}
     },
     "02036c2a886e4e05bc5cd35b60513ed1": {
      "model_module": "@jupyter-widgets/base",
      "model_module_version": "2.0.0",
      "model_name": "LayoutModel",
      "state": {}
     },
     "02aa9036bc924e07be3f4b33133e7e60": {
      "model_module": "@jupyter-widgets/base",
      "model_module_version": "2.0.0",
      "model_name": "LayoutModel",
      "state": {}
     },
     "02d2c53eddd74ee78d22ee62ad06f701": {
      "model_module": "@jupyter-widgets/controls",
      "model_module_version": "2.0.0",
      "model_name": "FloatProgressModel",
      "state": {
       "bar_style": "success",
       "layout": "IPY_MODEL_ab70a8f2c5c6452ab036c3d88bbfc429",
       "max": 8124,
       "style": "IPY_MODEL_2b46db313b964366a6211ed16bd3bde6",
       "value": 8124
      }
     },
     "02ec2bb630e346db95e2468d6614ab30": {
      "model_module": "@jupyter-widgets/base",
      "model_module_version": "2.0.0",
      "model_name": "LayoutModel",
      "state": {}
     },
     "0306d7490de74c09b83eb9fee19ea84e": {
      "model_module": "@jupyter-widgets/controls",
      "model_module_version": "2.0.0",
      "model_name": "ProgressStyleModel",
      "state": {
       "description_width": ""
      }
     },
     "0469fed718cc4d3fae4fce36d8c2506b": {
      "model_module": "@jupyter-widgets/controls",
      "model_module_version": "2.0.0",
      "model_name": "HBoxModel",
      "state": {
       "children": [
        "IPY_MODEL_773d63248ed945f6ae6c572d22788649",
        "IPY_MODEL_e9895d0284f843b6a13a193d1df43cd3",
        "IPY_MODEL_e7595893ca6f4f369946c8cac4e60e72"
       ],
       "layout": "IPY_MODEL_3df7fee4278a42ebaa4464351c2aaa69"
      }
     },
     "047dd88d47444f178c6bce1167420184": {
      "model_module": "@jupyter-widgets/base",
      "model_module_version": "2.0.0",
      "model_name": "LayoutModel",
      "state": {}
     },
     "04e806290a874dc19b919de580f4764e": {
      "model_module": "@jupyter-widgets/controls",
      "model_module_version": "2.0.0",
      "model_name": "FloatProgressModel",
      "state": {
       "bar_style": "success",
       "layout": "IPY_MODEL_803bd7a4007c492f89598a360d196d09",
       "max": 8124,
       "style": "IPY_MODEL_19eb10de420e4d3e9b21697ea5a34ed6",
       "value": 8124
      }
     },
     "056f2fd260c64bfea5d556aad98e09fd": {
      "model_module": "@jupyter-widgets/base",
      "model_module_version": "2.0.0",
      "model_name": "LayoutModel",
      "state": {}
     },
     "0616242c8c4946eaac009f3e5d14436c": {
      "model_module": "@jupyter-widgets/base",
      "model_module_version": "2.0.0",
      "model_name": "LayoutModel",
      "state": {}
     },
     "0643584e212d451b9bfe87b2130d1edb": {
      "model_module": "@jupyter-widgets/base",
      "model_module_version": "2.0.0",
      "model_name": "LayoutModel",
      "state": {}
     },
     "078d8e2ac9b04868a389802442891e23": {
      "model_module": "@jupyter-widgets/base",
      "model_module_version": "2.0.0",
      "model_name": "LayoutModel",
      "state": {}
     },
     "07eaeede2884439787058759d684c24b": {
      "model_module": "@jupyter-widgets/controls",
      "model_module_version": "2.0.0",
      "model_name": "HTMLModel",
      "state": {
       "layout": "IPY_MODEL_8cf6418f3f424aa29365aec51310ef0d",
       "style": "IPY_MODEL_c47a42caeb984137acda768c1dd67185",
       "value": "100%"
      }
     },
     "088f89cbc0974c8d83935568af4a3329": {
      "model_module": "@jupyter-widgets/controls",
      "model_module_version": "2.0.0",
      "model_name": "HTMLModel",
      "state": {
       "layout": "IPY_MODEL_665aea89b7354f308c81cd145e38cb19",
       "style": "IPY_MODEL_4ded12d48658415f9a875344473e108f",
       "value": "100%"
      }
     },
     "08bcca5e1ad543a6b0bd1755c12b6602": {
      "model_module": "@jupyter-widgets/base",
      "model_module_version": "2.0.0",
      "model_name": "LayoutModel",
      "state": {}
     },
     "08d09d2d820d460c8b2b00b09880ce34": {
      "model_module": "@jupyter-widgets/controls",
      "model_module_version": "2.0.0",
      "model_name": "FloatProgressModel",
      "state": {
       "bar_style": "success",
       "layout": "IPY_MODEL_ecd9529472f44397a84240747f56d17c",
       "max": 8124,
       "style": "IPY_MODEL_50baf0eafe5a4a1abb1b90e951828f29",
       "value": 8124
      }
     },
     "09346f3654904822ac78766428583725": {
      "model_module": "@jupyter-widgets/controls",
      "model_module_version": "2.0.0",
      "model_name": "ProgressStyleModel",
      "state": {
       "description_width": ""
      }
     },
     "0a2b849d84a64debbd16b4006654ac3e": {
      "model_module": "@jupyter-widgets/controls",
      "model_module_version": "2.0.0",
      "model_name": "HTMLModel",
      "state": {
       "layout": "IPY_MODEL_483f1313edbe4509885fc0067273da34",
       "style": "IPY_MODEL_c72b4c7908584ceca3d60ee624a7ef20",
       "value": "100%"
      }
     },
     "0b2b96bcf2544efa845e66a9526958f4": {
      "model_module": "@jupyter-widgets/base",
      "model_module_version": "2.0.0",
      "model_name": "LayoutModel",
      "state": {}
     },
     "0b403e4616d7473da496f3f2a82d786c": {
      "model_module": "@jupyter-widgets/base",
      "model_module_version": "2.0.0",
      "model_name": "LayoutModel",
      "state": {}
     },
     "0ba0ae10176e42dfb069ea4ecf063023": {
      "model_module": "@jupyter-widgets/controls",
      "model_module_version": "2.0.0",
      "model_name": "ProgressStyleModel",
      "state": {
       "description_width": ""
      }
     },
     "0cbc210bf58849b69e7f11d365987261": {
      "model_module": "@jupyter-widgets/controls",
      "model_module_version": "2.0.0",
      "model_name": "HTMLStyleModel",
      "state": {
       "description_width": "",
       "font_size": null,
       "text_color": null
      }
     },
     "0e3c4f76814f42cd864decd07c744e5c": {
      "model_module": "@jupyter-widgets/controls",
      "model_module_version": "2.0.0",
      "model_name": "HTMLStyleModel",
      "state": {
       "description_width": "",
       "font_size": null,
       "text_color": null
      }
     },
     "0ef46e25999b4c9a8bd42fba6fed2e2a": {
      "model_module": "@jupyter-widgets/controls",
      "model_module_version": "2.0.0",
      "model_name": "FloatProgressModel",
      "state": {
       "bar_style": "danger",
       "layout": "IPY_MODEL_1bca3a20686049989bdb2c3cc550a1a7",
       "max": 8124,
       "style": "IPY_MODEL_ae1636a0fc9f47b5bc26a2fc7cc493d9"
      }
     },
     "0f0a3893e939459c8661ad8a8060543d": {
      "model_module": "@jupyter-widgets/base",
      "model_module_version": "2.0.0",
      "model_name": "LayoutModel",
      "state": {}
     },
     "0f221f48c43d48f2b1d5b9652a0e648d": {
      "model_module": "@jupyter-widgets/controls",
      "model_module_version": "2.0.0",
      "model_name": "HTMLStyleModel",
      "state": {
       "description_width": "",
       "font_size": null,
       "text_color": null
      }
     },
     "10103130e9244d0ca7b7074f0258226f": {
      "model_module": "@jupyter-widgets/base",
      "model_module_version": "2.0.0",
      "model_name": "LayoutModel",
      "state": {}
     },
     "101d791bb8214ec69b830662be43a988": {
      "model_module": "@jupyter-widgets/controls",
      "model_module_version": "2.0.0",
      "model_name": "HTMLStyleModel",
      "state": {
       "description_width": "",
       "font_size": null,
       "text_color": null
      }
     },
     "10373e53706a4369a4ca955905a29894": {
      "model_module": "@jupyter-widgets/base",
      "model_module_version": "2.0.0",
      "model_name": "LayoutModel",
      "state": {}
     },
     "10e4427d89de483c8053abd20df9b4d5": {
      "model_module": "@jupyter-widgets/base",
      "model_module_version": "2.0.0",
      "model_name": "LayoutModel",
      "state": {}
     },
     "12014831adaa4abd8234cc5dd4162e31": {
      "model_module": "@jupyter-widgets/controls",
      "model_module_version": "2.0.0",
      "model_name": "ProgressStyleModel",
      "state": {
       "description_width": ""
      }
     },
     "121f82164f3d4bb999cabc09945d751d": {
      "model_module": "@jupyter-widgets/controls",
      "model_module_version": "2.0.0",
      "model_name": "HTMLModel",
      "state": {
       "layout": "IPY_MODEL_98b3f148ca1b4e0da53e14c51f256354",
       "style": "IPY_MODEL_b4b68324a13f4164a0ffadee253e4c68",
       "value": " 0/8124 [00:00&lt;?, ?it/s]"
      }
     },
     "1229f963b9424fca946740a50a60d681": {
      "model_module": "@jupyter-widgets/controls",
      "model_module_version": "2.0.0",
      "model_name": "ProgressStyleModel",
      "state": {
       "description_width": ""
      }
     },
     "12656c5eb2ce43e2baeb44a52203180e": {
      "model_module": "@jupyter-widgets/base",
      "model_module_version": "2.0.0",
      "model_name": "LayoutModel",
      "state": {}
     },
     "12a60e5b20364d6c901118f924142610": {
      "model_module": "@jupyter-widgets/controls",
      "model_module_version": "2.0.0",
      "model_name": "HBoxModel",
      "state": {
       "children": [
        "IPY_MODEL_088f89cbc0974c8d83935568af4a3329",
        "IPY_MODEL_02d2c53eddd74ee78d22ee62ad06f701",
        "IPY_MODEL_1dae27b34b474745b5e5ad2a1cfaf3f1"
       ],
       "layout": "IPY_MODEL_5956cf559196466f9e7576718f2e7d02"
      }
     },
     "12d1b4f8c3214de08888e20db1154b93": {
      "model_module": "@jupyter-widgets/base",
      "model_module_version": "2.0.0",
      "model_name": "LayoutModel",
      "state": {}
     },
     "13f05437f4034d9a99e873cac384bfb8": {
      "model_module": "@jupyter-widgets/controls",
      "model_module_version": "2.0.0",
      "model_name": "HTMLStyleModel",
      "state": {
       "description_width": "",
       "font_size": null,
       "text_color": null
      }
     },
     "1442ae44e96643f48dacea9b38a21ac7": {
      "model_module": "@jupyter-widgets/controls",
      "model_module_version": "2.0.0",
      "model_name": "HTMLModel",
      "state": {
       "layout": "IPY_MODEL_056f2fd260c64bfea5d556aad98e09fd",
       "style": "IPY_MODEL_6096db9ee8bd43c4a1874a219ba43fcd",
       "value": "100%"
      }
     },
     "148923af88ee47e0aff163e2b0918646": {
      "model_module": "@jupyter-widgets/controls",
      "model_module_version": "2.0.0",
      "model_name": "FloatProgressModel",
      "state": {
       "bar_style": "success",
       "layout": "IPY_MODEL_bf6a2148ce3442b4845e5b2118c77f0e",
       "max": 8124,
       "style": "IPY_MODEL_4f8b1a6e361e4a7280bb7056ac80b59f",
       "value": 8124
      }
     },
     "14934e648b394385bdebd827c06834c4": {
      "model_module": "@jupyter-widgets/controls",
      "model_module_version": "2.0.0",
      "model_name": "FloatProgressModel",
      "state": {
       "bar_style": "success",
       "layout": "IPY_MODEL_bd17d7dd28a145c6b3493869be1b6760",
       "max": 2,
       "style": "IPY_MODEL_1e911799a294475a97d40822e87d61f2",
       "value": 2
      }
     },
     "14b0365f90a34cc38596ed00364d6804": {
      "model_module": "@jupyter-widgets/controls",
      "model_module_version": "2.0.0",
      "model_name": "HTMLStyleModel",
      "state": {
       "description_width": "",
       "font_size": null,
       "text_color": null
      }
     },
     "1567c7da8bbe4cbcb0c4970a0ff03b99": {
      "model_module": "@jupyter-widgets/controls",
      "model_module_version": "2.0.0",
      "model_name": "FloatProgressModel",
      "state": {
       "bar_style": "danger",
       "layout": "IPY_MODEL_3daf329089964a81a62eb6f949a0039c",
       "max": 8124,
       "style": "IPY_MODEL_56e130346a284f35beafe700811f9273"
      }
     },
     "156b09a7e6aa406ebe0f0a943209fc40": {
      "model_module": "@jupyter-widgets/controls",
      "model_module_version": "2.0.0",
      "model_name": "HBoxModel",
      "state": {
       "children": [
        "IPY_MODEL_824d2e8122324646ae9fb1bb521b99f1",
        "IPY_MODEL_1f6d9bdeea9445b3b66b0f8b470a1010",
        "IPY_MODEL_d51cf8a5c1c940399218db5daa129c66"
       ],
       "layout": "IPY_MODEL_010a6369944842039378276f078d7ec5"
      }
     },
     "174cd7c7935a430e91e3e91332ae003f": {
      "model_module": "@jupyter-widgets/controls",
      "model_module_version": "2.0.0",
      "model_name": "HTMLModel",
      "state": {
       "layout": "IPY_MODEL_95c480eb2bf143ca828d3692b61bd61d",
       "style": "IPY_MODEL_58c0a604d5a64d619e3b12ffd7b399ef",
       "value": "100%"
      }
     },
     "1766119ee34246ff963e805e67d33d3a": {
      "model_module": "@jupyter-widgets/base",
      "model_module_version": "2.0.0",
      "model_name": "LayoutModel",
      "state": {}
     },
     "19eb10de420e4d3e9b21697ea5a34ed6": {
      "model_module": "@jupyter-widgets/controls",
      "model_module_version": "2.0.0",
      "model_name": "ProgressStyleModel",
      "state": {
       "description_width": ""
      }
     },
     "1bca3a20686049989bdb2c3cc550a1a7": {
      "model_module": "@jupyter-widgets/base",
      "model_module_version": "2.0.0",
      "model_name": "LayoutModel",
      "state": {}
     },
     "1c722ae934024c1e8aee3a5bd95f5174": {
      "model_module": "@jupyter-widgets/base",
      "model_module_version": "2.0.0",
      "model_name": "LayoutModel",
      "state": {}
     },
     "1d971b6afcca4b76845249869d3bab7a": {
      "model_module": "@jupyter-widgets/base",
      "model_module_version": "2.0.0",
      "model_name": "LayoutModel",
      "state": {}
     },
     "1dae27b34b474745b5e5ad2a1cfaf3f1": {
      "model_module": "@jupyter-widgets/controls",
      "model_module_version": "2.0.0",
      "model_name": "HTMLModel",
      "state": {
       "layout": "IPY_MODEL_bcdb70a9bf58492491e63dff3cc4785e",
       "style": "IPY_MODEL_ce6c9ce8a7d64dcea330e3b01e6f9450",
       "value": " 8124/8124 [00:20&lt;00:00, 425.65it/s]"
      }
     },
     "1e911799a294475a97d40822e87d61f2": {
      "model_module": "@jupyter-widgets/controls",
      "model_module_version": "2.0.0",
      "model_name": "ProgressStyleModel",
      "state": {
       "description_width": ""
      }
     },
     "1f161c4657374634a809e5179ab23063": {
      "model_module": "@jupyter-widgets/base",
      "model_module_version": "2.0.0",
      "model_name": "LayoutModel",
      "state": {}
     },
     "1f3c9994614644f7bd260f9eaa37f23e": {
      "model_module": "@jupyter-widgets/base",
      "model_module_version": "2.0.0",
      "model_name": "LayoutModel",
      "state": {}
     },
     "1f6d9bdeea9445b3b66b0f8b470a1010": {
      "model_module": "@jupyter-widgets/controls",
      "model_module_version": "2.0.0",
      "model_name": "FloatProgressModel",
      "state": {
       "bar_style": "danger",
       "layout": "IPY_MODEL_ee7fbc8f0e814699b58489850767a307",
       "max": 8124,
       "style": "IPY_MODEL_ef857c11a33a4443923cbd626d06f3d1",
       "value": 1634
      }
     },
     "1f897579e2fc430f8daad72d894cedc2": {
      "model_module": "@jupyter-widgets/base",
      "model_module_version": "2.0.0",
      "model_name": "LayoutModel",
      "state": {}
     },
     "1fcf5e4dd02e46748ed9127c133e5381": {
      "model_module": "@jupyter-widgets/base",
      "model_module_version": "2.0.0",
      "model_name": "LayoutModel",
      "state": {}
     },
     "1fd378b2d36c4f8494067174c02d26c2": {
      "model_module": "@jupyter-widgets/controls",
      "model_module_version": "2.0.0",
      "model_name": "HTMLModel",
      "state": {
       "layout": "IPY_MODEL_f724287a7cd44ce9953fd908835286a0",
       "style": "IPY_MODEL_369cfea0338b4dd3beeb0b38df55e33b",
       "value": " 8124/8124 [00:20&lt;00:00, 399.24it/s]"
      }
     },
     "21404077e7824c21a0039d57a89a9762": {
      "model_module": "@jupyter-widgets/base",
      "model_module_version": "2.0.0",
      "model_name": "LayoutModel",
      "state": {}
     },
     "21f3594bd40448c28c6fce84eb583f2b": {
      "model_module": "@jupyter-widgets/controls",
      "model_module_version": "2.0.0",
      "model_name": "HBoxModel",
      "state": {
       "children": [
        "IPY_MODEL_57f3616a5a274745a52f167f9b3265d4",
        "IPY_MODEL_9cbf95956ae646888f8c64c9cd91ba7a",
        "IPY_MODEL_22c6c637f1f64fe1b32251ea99957b30"
       ],
       "layout": "IPY_MODEL_80ae1170d43f49fd958ea7005ac5412d"
      }
     },
     "223a5fd7db2c4c558f017445fdea597a": {
      "model_module": "@jupyter-widgets/base",
      "model_module_version": "2.0.0",
      "model_name": "LayoutModel",
      "state": {}
     },
     "22c6c637f1f64fe1b32251ea99957b30": {
      "model_module": "@jupyter-widgets/controls",
      "model_module_version": "2.0.0",
      "model_name": "HTMLModel",
      "state": {
       "layout": "IPY_MODEL_02aa9036bc924e07be3f4b33133e7e60",
       "style": "IPY_MODEL_6688d58b08154986aec8628c4d99c8b7",
       "value": " 0/2 [00:03&lt;?, ?it/s]"
      }
     },
     "22df63bbfbb940e69e8fb25dfd0331fe": {
      "model_module": "@jupyter-widgets/controls",
      "model_module_version": "2.0.0",
      "model_name": "FloatProgressModel",
      "state": {
       "bar_style": "success",
       "layout": "IPY_MODEL_08bcca5e1ad543a6b0bd1755c12b6602",
       "max": 8124,
       "style": "IPY_MODEL_6770128955b94e2989abae3d160f8013",
       "value": 8124
      }
     },
     "23141107f684464eb0e65fce431a067c": {
      "model_module": "@jupyter-widgets/base",
      "model_module_version": "2.0.0",
      "model_name": "LayoutModel",
      "state": {
       "width": "20px"
      }
     },
     "2317366b400244b7ae9a83bd0a4f4ed5": {
      "model_module": "@jupyter-widgets/controls",
      "model_module_version": "2.0.0",
      "model_name": "HBoxModel",
      "state": {
       "children": [
        "IPY_MODEL_a3cfd6d44404407aaa63df5bb33716aa",
        "IPY_MODEL_c16b8687805843a29d1270d8e8fcf5e1",
        "IPY_MODEL_8ce75d0f8b8148c1a25ef19c86f96061"
       ],
       "layout": "IPY_MODEL_0643584e212d451b9bfe87b2130d1edb"
      }
     },
     "234ec855caa847eba65a2f7ea927eec0": {
      "model_module": "@jupyter-widgets/controls",
      "model_module_version": "2.0.0",
      "model_name": "FloatProgressModel",
      "state": {
       "bar_style": "danger",
       "layout": "IPY_MODEL_36f6bbdf631845bbbe52e521446b4a8e",
       "max": 8124,
       "style": "IPY_MODEL_1229f963b9424fca946740a50a60d681",
       "value": 4828
      }
     },
     "23a15a64ddeb40b5ad0074acb6fd3f79": {
      "model_module": "@jupyter-widgets/base",
      "model_module_version": "2.0.0",
      "model_name": "LayoutModel",
      "state": {}
     },
     "24c4b968d4444e348eaa449fef33f668": {
      "model_module": "@jupyter-widgets/controls",
      "model_module_version": "2.0.0",
      "model_name": "HTMLStyleModel",
      "state": {
       "description_width": "",
       "font_size": null,
       "text_color": null
      }
     },
     "2509d5d4c5cc41b18b67692f45d42f22": {
      "model_module": "@jupyter-widgets/controls",
      "model_module_version": "2.0.0",
      "model_name": "ProgressStyleModel",
      "state": {
       "description_width": ""
      }
     },
     "259ea47620b84955b99b6ca663bbc23f": {
      "model_module": "@jupyter-widgets/controls",
      "model_module_version": "2.0.0",
      "model_name": "HTMLStyleModel",
      "state": {
       "description_width": "",
       "font_size": null,
       "text_color": null
      }
     },
     "26759eee47604e0a9e8486ffdc834157": {
      "model_module": "@jupyter-widgets/base",
      "model_module_version": "2.0.0",
      "model_name": "LayoutModel",
      "state": {}
     },
     "29402a1ce45c4fd1850c7840a7a14b1b": {
      "model_module": "@jupyter-widgets/controls",
      "model_module_version": "2.0.0",
      "model_name": "HTMLStyleModel",
      "state": {
       "description_width": "",
       "font_size": null,
       "text_color": null
      }
     },
     "29482bceb718460090507f498caa47d6": {
      "model_module": "@jupyter-widgets/base",
      "model_module_version": "2.0.0",
      "model_name": "LayoutModel",
      "state": {}
     },
     "29932980299343b891f2f595111fbec5": {
      "model_module": "@jupyter-widgets/base",
      "model_module_version": "2.0.0",
      "model_name": "LayoutModel",
      "state": {}
     },
     "299fa5fe2c3546e08ecab3f478e54af5": {
      "model_module": "@jupyter-widgets/base",
      "model_module_version": "2.0.0",
      "model_name": "LayoutModel",
      "state": {}
     },
     "2a4b809b4ad1455cb93df611dffb5e39": {
      "model_module": "@jupyter-widgets/controls",
      "model_module_version": "2.0.0",
      "model_name": "ProgressStyleModel",
      "state": {
       "description_width": ""
      }
     },
     "2a7f8b24a03f4ede978638ac69e2813d": {
      "model_module": "@jupyter-widgets/base",
      "model_module_version": "2.0.0",
      "model_name": "LayoutModel",
      "state": {}
     },
     "2ae0667937c04738b2ee469a542a8759": {
      "model_module": "@jupyter-widgets/base",
      "model_module_version": "2.0.0",
      "model_name": "LayoutModel",
      "state": {}
     },
     "2b0f414e8bb94c94965eb61d47fe1707": {
      "model_module": "@jupyter-widgets/controls",
      "model_module_version": "2.0.0",
      "model_name": "HTMLStyleModel",
      "state": {
       "description_width": "",
       "font_size": null,
       "text_color": null
      }
     },
     "2b46db313b964366a6211ed16bd3bde6": {
      "model_module": "@jupyter-widgets/controls",
      "model_module_version": "2.0.0",
      "model_name": "ProgressStyleModel",
      "state": {
       "description_width": ""
      }
     },
     "2bee2970ef614f88a7d4f7241100b0ab": {
      "model_module": "@jupyter-widgets/controls",
      "model_module_version": "2.0.0",
      "model_name": "HTMLModel",
      "state": {
       "layout": "IPY_MODEL_078d8e2ac9b04868a389802442891e23",
       "style": "IPY_MODEL_62263fa91f3948f6a1e3e9c99ae553a9",
       "value": " 2/3 [01:06&lt;00:26, 26.51s/it]"
      }
     },
     "2c592baf65ae4fc681a1172bb43242a6": {
      "model_module": "@jupyter-widgets/controls",
      "model_module_version": "2.0.0",
      "model_name": "HBoxModel",
      "state": {
       "children": [
        "IPY_MODEL_cfdb1098a7a3486fbfbf80578708baf1",
        "IPY_MODEL_fb30ac1c21854566856a01e490e1abc6",
        "IPY_MODEL_ddfd67ffc6a1489e8a85a857d68b9e02"
       ],
       "layout": "IPY_MODEL_609921e5f422469384c7a0e8cadfcf19"
      }
     },
     "2cd37d5e1f554b1baf2bc5f8e58f086f": {
      "model_module": "@jupyter-widgets/controls",
      "model_module_version": "2.0.0",
      "model_name": "HBoxModel",
      "state": {
       "children": [
        "IPY_MODEL_2d6b4df47a3749b586a379593d3059d9",
        "IPY_MODEL_ff0133b87ef44e4f9f5fcf9b723964b6",
        "IPY_MODEL_76255d650de04c95a2dab1fc2cec4e80"
       ],
       "layout": "IPY_MODEL_4c198fa334b64112b849999c00dad79b"
      }
     },
     "2cd396d3c751497baddf419b92775302": {
      "model_module": "@jupyter-widgets/controls",
      "model_module_version": "2.0.0",
      "model_name": "HTMLStyleModel",
      "state": {
       "description_width": "",
       "font_size": null,
       "text_color": null
      }
     },
     "2d6b4df47a3749b586a379593d3059d9": {
      "model_module": "@jupyter-widgets/controls",
      "model_module_version": "2.0.0",
      "model_name": "HTMLModel",
      "state": {
       "layout": "IPY_MODEL_3bc24e44cadb457a9526459c24c1a568",
       "style": "IPY_MODEL_71db2724a6fe464d9a336c23994fc17c",
       "value": "100%"
      }
     },
     "2ff40e05f6124c5d8d2449e88d6c2775": {
      "model_module": "@jupyter-widgets/controls",
      "model_module_version": "2.0.0",
      "model_name": "HBoxModel",
      "state": {
       "children": [
        "IPY_MODEL_174cd7c7935a430e91e3e91332ae003f",
        "IPY_MODEL_22df63bbfbb940e69e8fb25dfd0331fe",
        "IPY_MODEL_c9578f983aee493cbca52682d3df69d7"
       ],
       "layout": "IPY_MODEL_b551b45646894da09d6078bcbdedc507"
      }
     },
     "3040c840ca03441db4d6073b79a90223": {
      "model_module": "@jupyter-widgets/controls",
      "model_module_version": "2.0.0",
      "model_name": "HTMLStyleModel",
      "state": {
       "description_width": "",
       "font_size": null,
       "text_color": null
      }
     },
     "316bc55172dc49d987412599bb867251": {
      "model_module": "@jupyter-widgets/controls",
      "model_module_version": "2.0.0",
      "model_name": "ProgressStyleModel",
      "state": {
       "description_width": ""
      }
     },
     "319b6716de364d5a9bc34436ccb12b5d": {
      "model_module": "@jupyter-widgets/controls",
      "model_module_version": "2.0.0",
      "model_name": "ProgressStyleModel",
      "state": {
       "description_width": ""
      }
     },
     "32b848bb00c74ce1b916db165621a965": {
      "model_module": "@jupyter-widgets/base",
      "model_module_version": "2.0.0",
      "model_name": "LayoutModel",
      "state": {}
     },
     "33372fc8613e4176b34dfd1c44e09e14": {
      "model_module": "@jupyter-widgets/controls",
      "model_module_version": "2.0.0",
      "model_name": "HTMLModel",
      "state": {
       "layout": "IPY_MODEL_4e16cbca2e774a95b51f311925dd87bc",
       "style": "IPY_MODEL_29402a1ce45c4fd1850c7840a7a14b1b",
       "value": " 2/2 [00:39&lt;00:00, 19.87s/it]"
      }
     },
     "33562c1850104cf48a85980ae777b534": {
      "model_module": "@jupyter-widgets/controls",
      "model_module_version": "2.0.0",
      "model_name": "HBoxModel",
      "state": {
       "children": [
        "IPY_MODEL_3c6cf67cd6704b11abeaf47abdcb91af",
        "IPY_MODEL_d877ca6c58d9493f8363c47842ed3bb3",
        "IPY_MODEL_a09d1dcf21484f22ab9603efc90d5a8b"
       ],
       "layout": "IPY_MODEL_efffb7060cca4c9dbca44091f5a85650"
      }
     },
     "33ac077a757f416dad832a9161841c0a": {
      "model_module": "@jupyter-widgets/controls",
      "model_module_version": "2.0.0",
      "model_name": "HTMLModel",
      "state": {
       "layout": "IPY_MODEL_a810ec244822437b87da478f2d4b6dd5",
       "style": "IPY_MODEL_7f2254f950d847b388289d1a38752d08",
       "value": " 8124/8124 [00:27&lt;00:00, 391.81it/s]"
      }
     },
     "350bfb8f91f04a2593955c115305ec59": {
      "model_module": "@jupyter-widgets/controls",
      "model_module_version": "2.0.0",
      "model_name": "HTMLModel",
      "state": {
       "layout": "IPY_MODEL_ec3e891aaa4f47049727726050c74b2d",
       "style": "IPY_MODEL_49ff98fc067e493ab19b399cbb10db32",
       "value": "100%"
      }
     },
     "351b59d32805414488f7da23fbebe309": {
      "model_module": "@jupyter-widgets/base",
      "model_module_version": "2.0.0",
      "model_name": "LayoutModel",
      "state": {}
     },
     "35bd76eff82f4cc5ac16a9c55cf33c56": {
      "model_module": "@jupyter-widgets/controls",
      "model_module_version": "2.0.0",
      "model_name": "FloatProgressModel",
      "state": {
       "bar_style": "success",
       "layout": "IPY_MODEL_d232898ec70a4611b8eb17d65da8cd6e",
       "max": 8124,
       "style": "IPY_MODEL_b0782ca621954cc1bb68a0b3c2c1119e",
       "value": 8124
      }
     },
     "35f5bdb7850a43c1b868c13b16428dd5": {
      "model_module": "@jupyter-widgets/base",
      "model_module_version": "2.0.0",
      "model_name": "LayoutModel",
      "state": {}
     },
     "369cfea0338b4dd3beeb0b38df55e33b": {
      "model_module": "@jupyter-widgets/controls",
      "model_module_version": "2.0.0",
      "model_name": "HTMLStyleModel",
      "state": {
       "description_width": "",
       "font_size": null,
       "text_color": null
      }
     },
     "36b27693923141da8b079db1a720b3c5": {
      "model_module": "@jupyter-widgets/base",
      "model_module_version": "2.0.0",
      "model_name": "LayoutModel",
      "state": {}
     },
     "36f6bbdf631845bbbe52e521446b4a8e": {
      "model_module": "@jupyter-widgets/base",
      "model_module_version": "2.0.0",
      "model_name": "LayoutModel",
      "state": {}
     },
     "36fc18e7af804740ab49029ea3177859": {
      "model_module": "@jupyter-widgets/controls",
      "model_module_version": "2.0.0",
      "model_name": "HTMLStyleModel",
      "state": {
       "description_width": "",
       "font_size": null,
       "text_color": null
      }
     },
     "3963537357bb4b98b2c58cdca16c1ecb": {
      "model_module": "@jupyter-widgets/controls",
      "model_module_version": "2.0.0",
      "model_name": "HBoxModel",
      "state": {
       "children": [
        "IPY_MODEL_9099d4f1ef564813938b91a7df830234",
        "IPY_MODEL_614e4fbaf9fd4db5a21e7bca830bbac8",
        "IPY_MODEL_b6c23d8b499346df9f417cf62bd2aba0"
       ],
       "layout": "IPY_MODEL_7595b9b3b377470d8e6f5014425ee929"
      }
     },
     "3a75425a6e0648bc88922173c88d2916": {
      "model_module": "@jupyter-widgets/base",
      "model_module_version": "2.0.0",
      "model_name": "LayoutModel",
      "state": {}
     },
     "3bc24e44cadb457a9526459c24c1a568": {
      "model_module": "@jupyter-widgets/base",
      "model_module_version": "2.0.0",
      "model_name": "LayoutModel",
      "state": {}
     },
     "3bf57efdfb3145c783681cf1b3100a4c": {
      "model_module": "@jupyter-widgets/controls",
      "model_module_version": "2.0.0",
      "model_name": "HTMLModel",
      "state": {
       "layout": "IPY_MODEL_ad4afb6a488d477e9f6a6afb5c5dd190",
       "style": "IPY_MODEL_c9107c05532443ef98dbe63ec6f3ce8a",
       "value": " 0/8124 [00:00&lt;?, ?it/s]"
      }
     },
     "3c10e7a8d20c4d9796f58e308868cf14": {
      "model_module": "@jupyter-widgets/controls",
      "model_module_version": "2.0.0",
      "model_name": "HBoxModel",
      "state": {
       "children": [
        "IPY_MODEL_49bcca35d4be4898b077cfc88720991f",
        "IPY_MODEL_4c57c695e0194e7e8fc2acdd95b268d5",
        "IPY_MODEL_41bf7a6e64c64a9daa79aeb15bb0e303"
       ],
       "layout": "IPY_MODEL_d4bacfe940c44cee919bc68ff0716de9"
      }
     },
     "3c37350f0a744a63801a9fe144ab32e2": {
      "model_module": "@jupyter-widgets/controls",
      "model_module_version": "2.0.0",
      "model_name": "FloatProgressModel",
      "state": {
       "bar_style": "success",
       "layout": "IPY_MODEL_29932980299343b891f2f595111fbec5",
       "max": 8124,
       "style": "IPY_MODEL_3ec1433263bd4777b60372d8f6d0068c",
       "value": 8124
      }
     },
     "3c6cf67cd6704b11abeaf47abdcb91af": {
      "model_module": "@jupyter-widgets/controls",
      "model_module_version": "2.0.0",
      "model_name": "HTMLModel",
      "state": {
       "layout": "IPY_MODEL_8f5969951d004be9b0a4c2f96a3a9fc0",
       "style": "IPY_MODEL_cb9b918e51b44ef99d1d71337b5e7cc2",
       "value": "100%"
      }
     },
     "3c9f961476ae4c35b777980f6ec1e6ca": {
      "model_module": "@jupyter-widgets/controls",
      "model_module_version": "2.0.0",
      "model_name": "ProgressStyleModel",
      "state": {
       "description_width": ""
      }
     },
     "3cc6c094fc26445989427589c4723e51": {
      "model_module": "@jupyter-widgets/base",
      "model_module_version": "2.0.0",
      "model_name": "LayoutModel",
      "state": {}
     },
     "3daf329089964a81a62eb6f949a0039c": {
      "model_module": "@jupyter-widgets/base",
      "model_module_version": "2.0.0",
      "model_name": "LayoutModel",
      "state": {}
     },
     "3df7fee4278a42ebaa4464351c2aaa69": {
      "model_module": "@jupyter-widgets/base",
      "model_module_version": "2.0.0",
      "model_name": "LayoutModel",
      "state": {}
     },
     "3e1e8e430531483485d92f770aace12f": {
      "model_module": "@jupyter-widgets/controls",
      "model_module_version": "2.0.0",
      "model_name": "HTMLStyleModel",
      "state": {
       "description_width": "",
       "font_size": null,
       "text_color": null
      }
     },
     "3ec1433263bd4777b60372d8f6d0068c": {
      "model_module": "@jupyter-widgets/controls",
      "model_module_version": "2.0.0",
      "model_name": "ProgressStyleModel",
      "state": {
       "description_width": ""
      }
     },
     "3f96eee68a36416c97e7d291d60dcf80": {
      "model_module": "@jupyter-widgets/base",
      "model_module_version": "2.0.0",
      "model_name": "LayoutModel",
      "state": {}
     },
     "3fc28daa06b244b4aaa5adf7faab9bb4": {
      "model_module": "@jupyter-widgets/controls",
      "model_module_version": "2.0.0",
      "model_name": "HTMLStyleModel",
      "state": {
       "description_width": "",
       "font_size": null,
       "text_color": null
      }
     },
     "4140c71fdb6a44fd86c370c81a1a2a25": {
      "model_module": "@jupyter-widgets/controls",
      "model_module_version": "2.0.0",
      "model_name": "HBoxModel",
      "state": {
       "children": [
        "IPY_MODEL_350bfb8f91f04a2593955c115305ec59",
        "IPY_MODEL_ac1c2439dd3c43b1b40a4b2d5a6d5ea6",
        "IPY_MODEL_ca5c739b6ee14e05807688b4020bf555"
       ],
       "layout": "IPY_MODEL_047dd88d47444f178c6bce1167420184"
      }
     },
     "41a4c5b56e0d49ab8658ed8e6abbca59": {
      "model_module": "@jupyter-widgets/base",
      "model_module_version": "2.0.0",
      "model_name": "LayoutModel",
      "state": {}
     },
     "41bf7a6e64c64a9daa79aeb15bb0e303": {
      "model_module": "@jupyter-widgets/controls",
      "model_module_version": "2.0.0",
      "model_name": "HTMLModel",
      "state": {
       "layout": "IPY_MODEL_926fe029813145fba68b87f1753a6fae",
       "style": "IPY_MODEL_8ad4ca8794a74bbb98a8397d196ada14",
       "value": " 0/8124 [00:00&lt;?, ?it/s]"
      }
     },
     "432eca3526bc4f12b30669324af340a6": {
      "model_module": "@jupyter-widgets/controls",
      "model_module_version": "2.0.0",
      "model_name": "HTMLModel",
      "state": {
       "layout": "IPY_MODEL_bf3cd2bb0a4d467e93e74ee3bbc49cf3",
       "style": "IPY_MODEL_9d046f1ead5f45d79c4cadf27cdbb01b",
       "value": " 67%"
      }
     },
     "43b250a79ab44602965703d741a6081f": {
      "model_module": "@jupyter-widgets/base",
      "model_module_version": "2.0.0",
      "model_name": "LayoutModel",
      "state": {}
     },
     "4429412b57bf4685a1fb62d47f2c3c61": {
      "model_module": "@jupyter-widgets/controls",
      "model_module_version": "2.0.0",
      "model_name": "HTMLStyleModel",
      "state": {
       "description_width": "",
       "font_size": null,
       "text_color": null
      }
     },
     "46ddce0caa8d45cc9f7e85782aaeafb6": {
      "model_module": "@jupyter-widgets/controls",
      "model_module_version": "2.0.0",
      "model_name": "HTMLModel",
      "state": {
       "layout": "IPY_MODEL_7b30a078cdbc40ef8facbf1e3c3c6500",
       "style": "IPY_MODEL_76013b8116c049d1ae32a011e07dd272",
       "value": " 2327/? [00:06&lt;00:00, 429.99it/s]"
      }
     },
     "47e7a0d1fc8545daacb9e907a76b130c": {
      "model_module": "@jupyter-widgets/controls",
      "model_module_version": "2.0.0",
      "model_name": "ProgressStyleModel",
      "state": {
       "description_width": ""
      }
     },
     "483f1313edbe4509885fc0067273da34": {
      "model_module": "@jupyter-widgets/base",
      "model_module_version": "2.0.0",
      "model_name": "LayoutModel",
      "state": {}
     },
     "4853c115cea54d6799fd44b5b2cf3756": {
      "model_module": "@jupyter-widgets/controls",
      "model_module_version": "2.0.0",
      "model_name": "HTMLModel",
      "state": {
       "layout": "IPY_MODEL_1f3c9994614644f7bd260f9eaa37f23e",
       "style": "IPY_MODEL_673024fc06564add890283833f1c4ab6",
       "value": " 8124/8124 [00:18&lt;00:00, 453.95it/s]"
      }
     },
     "48c7716f872c4482bf4797fa3a1f0a79": {
      "model_module": "@jupyter-widgets/controls",
      "model_module_version": "2.0.0",
      "model_name": "HBoxModel",
      "state": {
       "children": [
        "IPY_MODEL_d1ee4b054769439bb248305a45f27ea6",
        "IPY_MODEL_9d187dab8e784f5dbb0e76b14818ea7e",
        "IPY_MODEL_d183e838c6584737b8627655f44abbaa"
       ],
       "layout": "IPY_MODEL_6b3447f9aeb644b58b0dcbc876706d76"
      }
     },
     "49bcca35d4be4898b077cfc88720991f": {
      "model_module": "@jupyter-widgets/controls",
      "model_module_version": "2.0.0",
      "model_name": "HTMLModel",
      "state": {
       "layout": "IPY_MODEL_1f897579e2fc430f8daad72d894cedc2",
       "style": "IPY_MODEL_5b5240f38094425789f148831d175b7b",
       "value": "Reading DF:   0%"
      }
     },
     "49ff98fc067e493ab19b399cbb10db32": {
      "model_module": "@jupyter-widgets/controls",
      "model_module_version": "2.0.0",
      "model_name": "HTMLStyleModel",
      "state": {
       "description_width": "",
       "font_size": null,
       "text_color": null
      }
     },
     "4a6f2d816b5d4e77893e78dd6e7b4065": {
      "model_module": "@jupyter-widgets/controls",
      "model_module_version": "2.0.0",
      "model_name": "ProgressStyleModel",
      "state": {
       "description_width": ""
      }
     },
     "4aeed1680e7845c78e40a49ee4de0a90": {
      "model_module": "@jupyter-widgets/controls",
      "model_module_version": "2.0.0",
      "model_name": "HTMLModel",
      "state": {
       "layout": "IPY_MODEL_c98ef274962b434a803d4b98da573245",
       "style": "IPY_MODEL_36fc18e7af804740ab49029ea3177859",
       "value": "100%"
      }
     },
     "4c198fa334b64112b849999c00dad79b": {
      "model_module": "@jupyter-widgets/base",
      "model_module_version": "2.0.0",
      "model_name": "LayoutModel",
      "state": {}
     },
     "4c57c695e0194e7e8fc2acdd95b268d5": {
      "model_module": "@jupyter-widgets/controls",
      "model_module_version": "2.0.0",
      "model_name": "FloatProgressModel",
      "state": {
       "bar_style": "danger",
       "layout": "IPY_MODEL_576818f9a37447d7880fe5103fade141",
       "max": 8124,
       "style": "IPY_MODEL_a108da9e1d29464faa1874c7847fa2d5"
      }
     },
     "4cc6d9c4abdb4882a49efd64309e0557": {
      "model_module": "@jupyter-widgets/base",
      "model_module_version": "2.0.0",
      "model_name": "LayoutModel",
      "state": {}
     },
     "4cdd22376cca458d93a03dfda9dca06e": {
      "model_module": "@jupyter-widgets/base",
      "model_module_version": "2.0.0",
      "model_name": "LayoutModel",
      "state": {}
     },
     "4d2430d61b3147d28d82b91336f0f5a9": {
      "model_module": "@jupyter-widgets/base",
      "model_module_version": "2.0.0",
      "model_name": "LayoutModel",
      "state": {}
     },
     "4d306a22ad90471cb0b3a6067d9e2f23": {
      "model_module": "@jupyter-widgets/base",
      "model_module_version": "2.0.0",
      "model_name": "LayoutModel",
      "state": {}
     },
     "4de0ae51d12c469ead3235d65b6e1a44": {
      "model_module": "@jupyter-widgets/controls",
      "model_module_version": "2.0.0",
      "model_name": "HTMLModel",
      "state": {
       "layout": "IPY_MODEL_0f0a3893e939459c8661ad8a8060543d",
       "style": "IPY_MODEL_8fc0bc7dd5bd4170b2a724ede2938dbe",
       "value": " 0/8124 [00:00&lt;?, ?it/s]"
      }
     },
     "4ded12d48658415f9a875344473e108f": {
      "model_module": "@jupyter-widgets/controls",
      "model_module_version": "2.0.0",
      "model_name": "HTMLStyleModel",
      "state": {
       "description_width": "",
       "font_size": null,
       "text_color": null
      }
     },
     "4e16cbca2e774a95b51f311925dd87bc": {
      "model_module": "@jupyter-widgets/base",
      "model_module_version": "2.0.0",
      "model_name": "LayoutModel",
      "state": {}
     },
     "4efc4cadd8e14c07aa9c790861d8e75a": {
      "model_module": "@jupyter-widgets/base",
      "model_module_version": "2.0.0",
      "model_name": "LayoutModel",
      "state": {}
     },
     "4f8b1a6e361e4a7280bb7056ac80b59f": {
      "model_module": "@jupyter-widgets/controls",
      "model_module_version": "2.0.0",
      "model_name": "ProgressStyleModel",
      "state": {
       "description_width": ""
      }
     },
     "502b911d2f7c4dbab5dc6169657098f0": {
      "model_module": "@jupyter-widgets/base",
      "model_module_version": "2.0.0",
      "model_name": "LayoutModel",
      "state": {}
     },
     "50baf0eafe5a4a1abb1b90e951828f29": {
      "model_module": "@jupyter-widgets/controls",
      "model_module_version": "2.0.0",
      "model_name": "ProgressStyleModel",
      "state": {
       "description_width": ""
      }
     },
     "51bfcf3e9f5f4110b43fc0dc87efc866": {
      "model_module": "@jupyter-widgets/base",
      "model_module_version": "2.0.0",
      "model_name": "LayoutModel",
      "state": {}
     },
     "51d0dcb5f1404db683c34097992c5132": {
      "model_module": "@jupyter-widgets/controls",
      "model_module_version": "2.0.0",
      "model_name": "HTMLModel",
      "state": {
       "layout": "IPY_MODEL_36b27693923141da8b079db1a720b3c5",
       "style": "IPY_MODEL_f5022922a0544e25ba930e792d9f5cce",
       "value": " 4828/8124 [00:12&lt;00:08, 396.03it/s]"
      }
     },
     "5230b4f476e4425f80d7b93bb9d1a697": {
      "model_module": "@jupyter-widgets/controls",
      "model_module_version": "2.0.0",
      "model_name": "HTMLStyleModel",
      "state": {
       "description_width": "",
       "font_size": null,
       "text_color": null
      }
     },
     "53bdc56a8d6845f88ac6c8974c45fe66": {
      "model_module": "@jupyter-widgets/controls",
      "model_module_version": "2.0.0",
      "model_name": "ProgressStyleModel",
      "state": {
       "description_width": ""
      }
     },
     "542ccc835e104c9e9e3c0ff40e91593c": {
      "model_module": "@jupyter-widgets/controls",
      "model_module_version": "2.0.0",
      "model_name": "HTMLModel",
      "state": {
       "layout": "IPY_MODEL_86cb91b1ac284f0cb9f3ab3edd4a77d9",
       "style": "IPY_MODEL_c849f7e6f0344a9bbfa6833fe6dbf61a",
       "value": "100%"
      }
     },
     "563782be9de0422f87813f655e8c92fb": {
      "model_module": "@jupyter-widgets/controls",
      "model_module_version": "2.0.0",
      "model_name": "HTMLModel",
      "state": {
       "layout": "IPY_MODEL_727edbe4dcb4492e86000c840ec52839",
       "style": "IPY_MODEL_3040c840ca03441db4d6073b79a90223",
       "value": "Reading DF: 100%"
      }
     },
     "56e130346a284f35beafe700811f9273": {
      "model_module": "@jupyter-widgets/controls",
      "model_module_version": "2.0.0",
      "model_name": "ProgressStyleModel",
      "state": {
       "description_width": ""
      }
     },
     "576818f9a37447d7880fe5103fade141": {
      "model_module": "@jupyter-widgets/base",
      "model_module_version": "2.0.0",
      "model_name": "LayoutModel",
      "state": {}
     },
     "57a4f15fd7a94ce09a9499ee848197fd": {
      "model_module": "@jupyter-widgets/controls",
      "model_module_version": "2.0.0",
      "model_name": "HTMLStyleModel",
      "state": {
       "description_width": "",
       "font_size": null,
       "text_color": null
      }
     },
     "57f3616a5a274745a52f167f9b3265d4": {
      "model_module": "@jupyter-widgets/controls",
      "model_module_version": "2.0.0",
      "model_name": "HTMLModel",
      "state": {
       "layout": "IPY_MODEL_cc8b633ed70f4c85b153a499d790ede7",
       "style": "IPY_MODEL_3fc28daa06b244b4aaa5adf7faab9bb4",
       "value": "  0%"
      }
     },
     "5820dc9196d94d3b918674bf1e074e4c": {
      "model_module": "@jupyter-widgets/controls",
      "model_module_version": "2.0.0",
      "model_name": "FloatProgressModel",
      "state": {
       "bar_style": "success",
       "layout": "IPY_MODEL_d17e758df6d24ce89496ee7b84ff0199",
       "max": 8124,
       "style": "IPY_MODEL_4a6f2d816b5d4e77893e78dd6e7b4065",
       "value": 8124
      }
     },
     "58c0a604d5a64d619e3b12ffd7b399ef": {
      "model_module": "@jupyter-widgets/controls",
      "model_module_version": "2.0.0",
      "model_name": "HTMLStyleModel",
      "state": {
       "description_width": "",
       "font_size": null,
       "text_color": null
      }
     },
     "58c4bd352e4146e394f47ab79df0fe44": {
      "model_module": "@jupyter-widgets/base",
      "model_module_version": "2.0.0",
      "model_name": "LayoutModel",
      "state": {}
     },
     "5956cf559196466f9e7576718f2e7d02": {
      "model_module": "@jupyter-widgets/base",
      "model_module_version": "2.0.0",
      "model_name": "LayoutModel",
      "state": {}
     },
     "59d18b466dcf490687a405a98d4fadea": {
      "model_module": "@jupyter-widgets/base",
      "model_module_version": "2.0.0",
      "model_name": "LayoutModel",
      "state": {}
     },
     "5a07fc37ee1d4897a65c5436a9695f4e": {
      "model_module": "@jupyter-widgets/controls",
      "model_module_version": "2.0.0",
      "model_name": "HTMLStyleModel",
      "state": {
       "description_width": "",
       "font_size": null,
       "text_color": null
      }
     },
     "5a4638120a664cfd9eb9347ddbc93beb": {
      "model_module": "@jupyter-widgets/base",
      "model_module_version": "2.0.0",
      "model_name": "LayoutModel",
      "state": {}
     },
     "5afbcae9a08f45debb9039ab1567b67d": {
      "model_module": "@jupyter-widgets/base",
      "model_module_version": "2.0.0",
      "model_name": "LayoutModel",
      "state": {}
     },
     "5b511ebffb194ff58f6418a83c0fb0ba": {
      "model_module": "@jupyter-widgets/base",
      "model_module_version": "2.0.0",
      "model_name": "LayoutModel",
      "state": {}
     },
     "5b5240f38094425789f148831d175b7b": {
      "model_module": "@jupyter-widgets/controls",
      "model_module_version": "2.0.0",
      "model_name": "HTMLStyleModel",
      "state": {
       "description_width": "",
       "font_size": null,
       "text_color": null
      }
     },
     "5b671c9e3e254ae0b172a121426a53f0": {
      "model_module": "@jupyter-widgets/base",
      "model_module_version": "2.0.0",
      "model_name": "LayoutModel",
      "state": {}
     },
     "5cb4b60c37974958b7fc557ae0ff27b9": {
      "model_module": "@jupyter-widgets/base",
      "model_module_version": "2.0.0",
      "model_name": "LayoutModel",
      "state": {}
     },
     "5d0cb3a1bb884fe3be673c82f968354a": {
      "model_module": "@jupyter-widgets/controls",
      "model_module_version": "2.0.0",
      "model_name": "HTMLStyleModel",
      "state": {
       "description_width": "",
       "font_size": null,
       "text_color": null
      }
     },
     "5e02f174af684f33b59e6812611b1649": {
      "model_module": "@jupyter-widgets/controls",
      "model_module_version": "2.0.0",
      "model_name": "HTMLStyleModel",
      "state": {
       "description_width": "",
       "font_size": null,
       "text_color": null
      }
     },
     "5e64f84c5d8640409bcc452dc0d969d9": {
      "model_module": "@jupyter-widgets/base",
      "model_module_version": "2.0.0",
      "model_name": "LayoutModel",
      "state": {}
     },
     "5f2aff3937f94aa1923ff787ee3840f1": {
      "model_module": "@jupyter-widgets/controls",
      "model_module_version": "2.0.0",
      "model_name": "HTMLStyleModel",
      "state": {
       "description_width": "",
       "font_size": null,
       "text_color": null
      }
     },
     "6096db9ee8bd43c4a1874a219ba43fcd": {
      "model_module": "@jupyter-widgets/controls",
      "model_module_version": "2.0.0",
      "model_name": "HTMLStyleModel",
      "state": {
       "description_width": "",
       "font_size": null,
       "text_color": null
      }
     },
     "609921e5f422469384c7a0e8cadfcf19": {
      "model_module": "@jupyter-widgets/base",
      "model_module_version": "2.0.0",
      "model_name": "LayoutModel",
      "state": {}
     },
     "609c8f1494d043caa309f14facf5715b": {
      "model_module": "@jupyter-widgets/controls",
      "model_module_version": "2.0.0",
      "model_name": "HBoxModel",
      "state": {
       "children": [
        "IPY_MODEL_f0700ba843874bc289555bb97ef7b98a",
        "IPY_MODEL_0ef46e25999b4c9a8bd42fba6fed2e2a",
        "IPY_MODEL_3bf57efdfb3145c783681cf1b3100a4c"
       ],
       "layout": "IPY_MODEL_9b8488dbacb74882a714a70b09fc27b9"
      }
     },
     "60e4c965de4d406ca3c8db8c66d58b74": {
      "model_module": "@jupyter-widgets/base",
      "model_module_version": "2.0.0",
      "model_name": "LayoutModel",
      "state": {}
     },
     "614e4fbaf9fd4db5a21e7bca830bbac8": {
      "model_module": "@jupyter-widgets/controls",
      "model_module_version": "2.0.0",
      "model_name": "FloatProgressModel",
      "state": {
       "bar_style": "danger",
       "layout": "IPY_MODEL_9f576749328141eeb0ad06e0c7e3f878",
       "max": 8124,
       "style": "IPY_MODEL_0ba0ae10176e42dfb069ea4ecf063023"
      }
     },
     "62263fa91f3948f6a1e3e9c99ae553a9": {
      "model_module": "@jupyter-widgets/controls",
      "model_module_version": "2.0.0",
      "model_name": "HTMLStyleModel",
      "state": {
       "description_width": "",
       "font_size": null,
       "text_color": null
      }
     },
     "62c73ed38b034e68b05d61c876ff40ee": {
      "model_module": "@jupyter-widgets/base",
      "model_module_version": "2.0.0",
      "model_name": "LayoutModel",
      "state": {}
     },
     "63652a2e0a524dd1b68c22bd96a7c749": {
      "model_module": "@jupyter-widgets/controls",
      "model_module_version": "2.0.0",
      "model_name": "HTMLModel",
      "state": {
       "layout": "IPY_MODEL_94cbf72f6fb54deab021747a9d513b1b",
       "style": "IPY_MODEL_d059e6643b224437ac5b32f4fed1e420",
       "value": " 8124/8124 [00:19&lt;00:00, 438.18it/s]"
      }
     },
     "63c693a8f5194d1fb81efae6c51b9e44": {
      "model_module": "@jupyter-widgets/controls",
      "model_module_version": "2.0.0",
      "model_name": "ProgressStyleModel",
      "state": {
       "description_width": ""
      }
     },
     "64aa4a8bc6184920af17ca6fd112c29f": {
      "model_module": "@jupyter-widgets/controls",
      "model_module_version": "2.0.0",
      "model_name": "HBoxModel",
      "state": {
       "children": [
        "IPY_MODEL_563782be9de0422f87813f655e8c92fb",
        "IPY_MODEL_3c37350f0a744a63801a9fe144ab32e2",
        "IPY_MODEL_a91d7e01f1ab4739affd7d10ab1d8e1b"
       ],
       "layout": "IPY_MODEL_6dfa849276de48b9bf818d4ec09bf38f"
      }
     },
     "651575dc4ed145a49d011eca2908d6ed": {
      "model_module": "@jupyter-widgets/base",
      "model_module_version": "2.0.0",
      "model_name": "LayoutModel",
      "state": {}
     },
     "66046b99144a4bcf867c67db3faf11df": {
      "model_module": "@jupyter-widgets/base",
      "model_module_version": "2.0.0",
      "model_name": "LayoutModel",
      "state": {}
     },
     "66351d03c43941e6bac021f718997614": {
      "model_module": "@jupyter-widgets/base",
      "model_module_version": "2.0.0",
      "model_name": "LayoutModel",
      "state": {}
     },
     "665aea89b7354f308c81cd145e38cb19": {
      "model_module": "@jupyter-widgets/base",
      "model_module_version": "2.0.0",
      "model_name": "LayoutModel",
      "state": {}
     },
     "6688d58b08154986aec8628c4d99c8b7": {
      "model_module": "@jupyter-widgets/controls",
      "model_module_version": "2.0.0",
      "model_name": "HTMLStyleModel",
      "state": {
       "description_width": "",
       "font_size": null,
       "text_color": null
      }
     },
     "66b1ef4aea544258b29ca9977684e64e": {
      "model_module": "@jupyter-widgets/controls",
      "model_module_version": "2.0.0",
      "model_name": "HTMLModel",
      "state": {
       "layout": "IPY_MODEL_4efc4cadd8e14c07aa9c790861d8e75a",
       "style": "IPY_MODEL_b75ace3997e446bdba2cbfde95272a3a",
       "value": "100%"
      }
     },
     "673024fc06564add890283833f1c4ab6": {
      "model_module": "@jupyter-widgets/controls",
      "model_module_version": "2.0.0",
      "model_name": "HTMLStyleModel",
      "state": {
       "description_width": "",
       "font_size": null,
       "text_color": null
      }
     },
     "6744183f8f0d4399981e61eec2524e49": {
      "model_module": "@jupyter-widgets/controls",
      "model_module_version": "2.0.0",
      "model_name": "HTMLModel",
      "state": {
       "layout": "IPY_MODEL_223a5fd7db2c4c558f017445fdea597a",
       "style": "IPY_MODEL_bc5e8d195e254f8fa61ca1c6eff08731",
       "value": "100%"
      }
     },
     "6770128955b94e2989abae3d160f8013": {
      "model_module": "@jupyter-widgets/controls",
      "model_module_version": "2.0.0",
      "model_name": "ProgressStyleModel",
      "state": {
       "description_width": ""
      }
     },
     "67b88ecbfd144f009a94adbc2b4dc202": {
      "model_module": "@jupyter-widgets/controls",
      "model_module_version": "2.0.0",
      "model_name": "HBoxModel",
      "state": {
       "children": [
        "IPY_MODEL_dc39c0a0b96d4ae588810316b06eea62",
        "IPY_MODEL_6bc6884190cc4947924e2df4e24c74e1",
        "IPY_MODEL_da46e69e908b476bb18ac1cc389360a0"
       ],
       "layout": "IPY_MODEL_a8c89e33078647d49dc69093e4077c17"
      }
     },
     "68f3e71b6fc54dfea7ce1ab06a7935c8": {
      "model_module": "@jupyter-widgets/controls",
      "model_module_version": "2.0.0",
      "model_name": "HTMLModel",
      "state": {
       "layout": "IPY_MODEL_d089ab7b616c46849d480031f4b88cc6",
       "style": "IPY_MODEL_e8c71179598b40be8a0e168a970630fc",
       "value": " 3/3 [01:08&lt;00:00, 22.06s/it]"
      }
     },
     "69475e87d2ee44f2b7d153c9c7f91f8f": {
      "model_module": "@jupyter-widgets/base",
      "model_module_version": "2.0.0",
      "model_name": "LayoutModel",
      "state": {}
     },
     "69f54484e0d74979b6b9de3020c92a8b": {
      "model_module": "@jupyter-widgets/controls",
      "model_module_version": "2.0.0",
      "model_name": "ProgressStyleModel",
      "state": {
       "description_width": ""
      }
     },
     "6a172ff9c00d42958567fcbbb0f53b74": {
      "model_module": "@jupyter-widgets/controls",
      "model_module_version": "2.0.0",
      "model_name": "HTMLStyleModel",
      "state": {
       "description_width": "",
       "font_size": null,
       "text_color": null
      }
     },
     "6b3447f9aeb644b58b0dcbc876706d76": {
      "model_module": "@jupyter-widgets/base",
      "model_module_version": "2.0.0",
      "model_name": "LayoutModel",
      "state": {}
     },
     "6bc6884190cc4947924e2df4e24c74e1": {
      "model_module": "@jupyter-widgets/controls",
      "model_module_version": "2.0.0",
      "model_name": "FloatProgressModel",
      "state": {
       "bar_style": "danger",
       "layout": "IPY_MODEL_29482bceb718460090507f498caa47d6",
       "max": 8124,
       "style": "IPY_MODEL_69f54484e0d74979b6b9de3020c92a8b"
      }
     },
     "6be38985a04f4f379d03f3d843e9576e": {
      "model_module": "@jupyter-widgets/controls",
      "model_module_version": "2.0.0",
      "model_name": "HTMLModel",
      "state": {
       "layout": "IPY_MODEL_4d306a22ad90471cb0b3a6067d9e2f23",
       "style": "IPY_MODEL_9ed8dd849da34e9dbdf2ffdcc84a6cc5",
       "value": " 649/8124 [00:02&lt;00:28, 262.85it/s]"
      }
     },
     "6c1c9af4f49149ba93128b4db1533556": {
      "model_module": "@jupyter-widgets/base",
      "model_module_version": "2.0.0",
      "model_name": "LayoutModel",
      "state": {}
     },
     "6dfa849276de48b9bf818d4ec09bf38f": {
      "model_module": "@jupyter-widgets/base",
      "model_module_version": "2.0.0",
      "model_name": "LayoutModel",
      "state": {}
     },
     "6e34647ae5a34aaa8e2f32e9a7fbff5c": {
      "model_module": "@jupyter-widgets/controls",
      "model_module_version": "2.0.0",
      "model_name": "HTMLStyleModel",
      "state": {
       "description_width": "",
       "font_size": null,
       "text_color": null
      }
     },
     "6f04dd30df0a491789ef173b4a61d37c": {
      "model_module": "@jupyter-widgets/controls",
      "model_module_version": "2.0.0",
      "model_name": "HBoxModel",
      "state": {
       "children": [
        "IPY_MODEL_dfd63311c512455a9938a845aa92e590",
        "IPY_MODEL_e16f099444444c1c8caa676bc63ee9b8",
        "IPY_MODEL_ca375a1f5a674f5a8daed47951fee8e7"
       ],
       "layout": "IPY_MODEL_fec3b901dfb1433697256a7067cb3bbe"
      }
     },
     "6f940ceb31d34d3bbca26036bf59005f": {
      "model_module": "@jupyter-widgets/base",
      "model_module_version": "2.0.0",
      "model_name": "LayoutModel",
      "state": {}
     },
     "7133385037d140cf93b81204be60086a": {
      "model_module": "@jupyter-widgets/controls",
      "model_module_version": "2.0.0",
      "model_name": "HBoxModel",
      "state": {
       "children": [
        "IPY_MODEL_bc9c29e626d14c2387f3785687d42311",
        "IPY_MODEL_b266ce6dded04226a3b5ee62abeb553d",
        "IPY_MODEL_68f3e71b6fc54dfea7ce1ab06a7935c8"
       ],
       "layout": "IPY_MODEL_43b250a79ab44602965703d741a6081f"
      }
     },
     "719ffa2633e14137837b2e3c8dc643e3": {
      "model_module": "@jupyter-widgets/controls",
      "model_module_version": "2.0.0",
      "model_name": "FloatProgressModel",
      "state": {
       "bar_style": "danger",
       "layout": "IPY_MODEL_351b59d32805414488f7da23fbebe309",
       "max": 8124,
       "style": "IPY_MODEL_63c693a8f5194d1fb81efae6c51b9e44",
       "value": 649
      }
     },
     "71db2724a6fe464d9a336c23994fc17c": {
      "model_module": "@jupyter-widgets/controls",
      "model_module_version": "2.0.0",
      "model_name": "HTMLStyleModel",
      "state": {
       "description_width": "",
       "font_size": null,
       "text_color": null
      }
     },
     "727edbe4dcb4492e86000c840ec52839": {
      "model_module": "@jupyter-widgets/base",
      "model_module_version": "2.0.0",
      "model_name": "LayoutModel",
      "state": {}
     },
     "72d6c6aa8dd64318b4c0db7bb49b2927": {
      "model_module": "@jupyter-widgets/controls",
      "model_module_version": "2.0.0",
      "model_name": "HBoxModel",
      "state": {
       "children": [
        "IPY_MODEL_6744183f8f0d4399981e61eec2524e49",
        "IPY_MODEL_04e806290a874dc19b919de580f4764e",
        "IPY_MODEL_a78b608285464fbabf499588636bb57c"
       ],
       "layout": "IPY_MODEL_02036c2a886e4e05bc5cd35b60513ed1"
      }
     },
     "73f16500fa064da0a5425a1131f6fe84": {
      "model_module": "@jupyter-widgets/controls",
      "model_module_version": "2.0.0",
      "model_name": "HTMLModel",
      "state": {
       "layout": "IPY_MODEL_f50c477d36ac46a09f2791e392517d59",
       "style": "IPY_MODEL_3e1e8e430531483485d92f770aace12f",
       "value": "Reading DF:   0%"
      }
     },
     "74db2e1fdafb45f68a63114056aa84f8": {
      "model_module": "@jupyter-widgets/base",
      "model_module_version": "2.0.0",
      "model_name": "LayoutModel",
      "state": {}
     },
     "7595b9b3b377470d8e6f5014425ee929": {
      "model_module": "@jupyter-widgets/base",
      "model_module_version": "2.0.0",
      "model_name": "LayoutModel",
      "state": {}
     },
     "76013b8116c049d1ae32a011e07dd272": {
      "model_module": "@jupyter-widgets/controls",
      "model_module_version": "2.0.0",
      "model_name": "HTMLStyleModel",
      "state": {
       "description_width": "",
       "font_size": null,
       "text_color": null
      }
     },
     "76255d650de04c95a2dab1fc2cec4e80": {
      "model_module": "@jupyter-widgets/controls",
      "model_module_version": "2.0.0",
      "model_name": "HTMLModel",
      "state": {
       "layout": "IPY_MODEL_1c722ae934024c1e8aee3a5bd95f5174",
       "style": "IPY_MODEL_0f221f48c43d48f2b1d5b9652a0e648d",
       "value": " 8124/8124 [00:19&lt;00:00, 447.01it/s]"
      }
     },
     "767178c6709f4b158a86af5f1f5e6db7": {
      "model_module": "@jupyter-widgets/controls",
      "model_module_version": "2.0.0",
      "model_name": "HTMLStyleModel",
      "state": {
       "description_width": "",
       "font_size": null,
       "text_color": null
      }
     },
     "77280d1f913b46daa25574a7ec78597d": {
      "model_module": "@jupyter-widgets/base",
      "model_module_version": "2.0.0",
      "model_name": "LayoutModel",
      "state": {}
     },
     "773d63248ed945f6ae6c572d22788649": {
      "model_module": "@jupyter-widgets/controls",
      "model_module_version": "2.0.0",
      "model_name": "HTMLModel",
      "state": {
       "layout": "IPY_MODEL_bf6c8d04a20941d995d750f576da69ef",
       "style": "IPY_MODEL_4429412b57bf4685a1fb62d47f2c3c61",
       "value": "100%"
      }
     },
     "78271bc68d1e43c7857be0201ab99559": {
      "model_module": "@jupyter-widgets/base",
      "model_module_version": "2.0.0",
      "model_name": "LayoutModel",
      "state": {}
     },
     "78ae3fad0e4349099fbbeea796f04fb5": {
      "model_module": "@jupyter-widgets/base",
      "model_module_version": "2.0.0",
      "model_name": "LayoutModel",
      "state": {}
     },
     "79901c3d4ef14f018cd7b462e547b6c2": {
      "model_module": "@jupyter-widgets/controls",
      "model_module_version": "2.0.0",
      "model_name": "FloatProgressModel",
      "state": {
       "bar_style": "success",
       "layout": "IPY_MODEL_d6a8e997583045a09a3a22fa18c9b3ae",
       "max": 2,
       "style": "IPY_MODEL_2509d5d4c5cc41b18b67692f45d42f22",
       "value": 2
      }
     },
     "7aca11eecd84469583f0b8ab773bc9ec": {
      "model_module": "@jupyter-widgets/base",
      "model_module_version": "2.0.0",
      "model_name": "LayoutModel",
      "state": {}
     },
     "7b30a078cdbc40ef8facbf1e3c3c6500": {
      "model_module": "@jupyter-widgets/base",
      "model_module_version": "2.0.0",
      "model_name": "LayoutModel",
      "state": {}
     },
     "7b9e4aaccbc64b9eb775a434a1303123": {
      "model_module": "@jupyter-widgets/base",
      "model_module_version": "2.0.0",
      "model_name": "LayoutModel",
      "state": {}
     },
     "7cfd1d40944f4becb342c69820fe0159": {
      "model_module": "@jupyter-widgets/controls",
      "model_module_version": "2.0.0",
      "model_name": "HBoxModel",
      "state": {
       "children": [
        "IPY_MODEL_9526072c1e094551a6ad7ba50333e759",
        "IPY_MODEL_8b4f54d2a0d349d2b9b468861dd78201",
        "IPY_MODEL_9a65d60dc98e49679d84faa37c88a64f"
       ],
       "layout": "IPY_MODEL_5b511ebffb194ff58f6418a83c0fb0ba"
      }
     },
     "7dcb6071005a4bf2937f848ca668e3b7": {
      "model_module": "@jupyter-widgets/controls",
      "model_module_version": "2.0.0",
      "model_name": "HBoxModel",
      "state": {
       "children": [
        "IPY_MODEL_8b7974a15f6b44b08a3a533a63461c66",
        "IPY_MODEL_e894d15e25b04122aae8c9f107c6e201",
        "IPY_MODEL_8307bd6daa824828b23abae894953c75"
       ],
       "layout": "IPY_MODEL_0b2b96bcf2544efa845e66a9526958f4"
      }
     },
     "7f2254f950d847b388289d1a38752d08": {
      "model_module": "@jupyter-widgets/controls",
      "model_module_version": "2.0.0",
      "model_name": "HTMLStyleModel",
      "state": {
       "description_width": "",
       "font_size": null,
       "text_color": null
      }
     },
     "803bd7a4007c492f89598a360d196d09": {
      "model_module": "@jupyter-widgets/base",
      "model_module_version": "2.0.0",
      "model_name": "LayoutModel",
      "state": {}
     },
     "80ae1170d43f49fd958ea7005ac5412d": {
      "model_module": "@jupyter-widgets/base",
      "model_module_version": "2.0.0",
      "model_name": "LayoutModel",
      "state": {}
     },
     "80c09bcca21e4ae48800337b5936cfb4": {
      "model_module": "@jupyter-widgets/controls",
      "model_module_version": "2.0.0",
      "model_name": "HTMLModel",
      "state": {
       "layout": "IPY_MODEL_5afbcae9a08f45debb9039ab1567b67d",
       "style": "IPY_MODEL_ecb2a5b49fad486796e4fb2c7e666008",
       "value": "100%"
      }
     },
     "824d2e8122324646ae9fb1bb521b99f1": {
      "model_module": "@jupyter-widgets/controls",
      "model_module_version": "2.0.0",
      "model_name": "HTMLModel",
      "state": {
       "layout": "IPY_MODEL_8b00316ea8764f8fa1fa2c120831cf83",
       "style": "IPY_MODEL_d1d903c3c0844c6987348699220ca55f",
       "value": "Reading DF:  20%"
      }
     },
     "8307bd6daa824828b23abae894953c75": {
      "model_module": "@jupyter-widgets/controls",
      "model_module_version": "2.0.0",
      "model_name": "HTMLModel",
      "state": {
       "layout": "IPY_MODEL_ef8b725f161a44b297019f1bff2df715",
       "style": "IPY_MODEL_c057f111e2a94fc59bb37c14a2a46b04",
       "value": " 2/2 [00:43&lt;00:00, 21.90s/it]"
      }
     },
     "8556b2e3384d4d3a8b169cb567dc4665": {
      "model_module": "@jupyter-widgets/controls",
      "model_module_version": "2.0.0",
      "model_name": "HTMLModel",
      "state": {
       "layout": "IPY_MODEL_69475e87d2ee44f2b7d153c9c7f91f8f",
       "style": "IPY_MODEL_a87585cccf66486a9e48ec77df1e5fc6",
       "value": "100%"
      }
     },
     "85c2913442ed466bbd0e114b9c4b0e86": {
      "model_module": "@jupyter-widgets/controls",
      "model_module_version": "2.0.0",
      "model_name": "HBoxModel",
      "state": {
       "children": [
        "IPY_MODEL_88c2abc78d504c35a9b5315e225dbf6e",
        "IPY_MODEL_dcf6a4c233ee4c319f77286c9729056f",
        "IPY_MODEL_f291658866f44637a766973e35e38b65"
       ],
       "layout": "IPY_MODEL_10103130e9244d0ca7b7074f0258226f"
      }
     },
     "86cb91b1ac284f0cb9f3ab3edd4a77d9": {
      "model_module": "@jupyter-widgets/base",
      "model_module_version": "2.0.0",
      "model_name": "LayoutModel",
      "state": {}
     },
     "87b26d5938fa4c78ae82e2d6b89b2b0d": {
      "model_module": "@jupyter-widgets/controls",
      "model_module_version": "2.0.0",
      "model_name": "FloatProgressModel",
      "state": {
       "bar_style": "danger",
       "layout": "IPY_MODEL_23141107f684464eb0e65fce431a067c",
       "max": 1,
       "style": "IPY_MODEL_f2e15942f80740f2891b9b629773df9f",
       "value": 1
      }
     },
     "8852d648479f452084c7ef52e65285c6": {
      "model_module": "@jupyter-widgets/controls",
      "model_module_version": "2.0.0",
      "model_name": "HTMLModel",
      "state": {
       "layout": "IPY_MODEL_41a4c5b56e0d49ab8658ed8e6abbca59",
       "style": "IPY_MODEL_e9c2e820391f49a98ade8239ea206b1a",
       "value": "Reading DF:   8%"
      }
     },
     "88c2abc78d504c35a9b5315e225dbf6e": {
      "model_module": "@jupyter-widgets/controls",
      "model_module_version": "2.0.0",
      "model_name": "HTMLModel",
      "state": {
       "layout": "IPY_MODEL_cd213e1ec51d42a687003d844ce2c95a",
       "style": "IPY_MODEL_ff2b9ecd5c134ebb8de529f9c60daedb",
       "value": "100%"
      }
     },
     "8a6f7942eafd48a496a7bce0d0ebbedf": {
      "model_module": "@jupyter-widgets/base",
      "model_module_version": "2.0.0",
      "model_name": "LayoutModel",
      "state": {}
     },
     "8ad4ca8794a74bbb98a8397d196ada14": {
      "model_module": "@jupyter-widgets/controls",
      "model_module_version": "2.0.0",
      "model_name": "HTMLStyleModel",
      "state": {
       "description_width": "",
       "font_size": null,
       "text_color": null
      }
     },
     "8b00316ea8764f8fa1fa2c120831cf83": {
      "model_module": "@jupyter-widgets/base",
      "model_module_version": "2.0.0",
      "model_name": "LayoutModel",
      "state": {}
     },
     "8b4f54d2a0d349d2b9b468861dd78201": {
      "model_module": "@jupyter-widgets/controls",
      "model_module_version": "2.0.0",
      "model_name": "FloatProgressModel",
      "state": {
       "bar_style": "success",
       "layout": "IPY_MODEL_0616242c8c4946eaac009f3e5d14436c",
       "max": 8124,
       "style": "IPY_MODEL_fbef511581584b59827e2b48f066dd67",
       "value": 8124
      }
     },
     "8b7974a15f6b44b08a3a533a63461c66": {
      "model_module": "@jupyter-widgets/controls",
      "model_module_version": "2.0.0",
      "model_name": "HTMLModel",
      "state": {
       "layout": "IPY_MODEL_59d18b466dcf490687a405a98d4fadea",
       "style": "IPY_MODEL_2cd396d3c751497baddf419b92775302",
       "value": "100%"
      }
     },
     "8bcd3d1b3b46493aa05e6accd6b0ed82": {
      "model_module": "@jupyter-widgets/controls",
      "model_module_version": "2.0.0",
      "model_name": "ProgressStyleModel",
      "state": {
       "description_width": ""
      }
     },
     "8c7c3a1f94c740a699e3e5e26b84a059": {
      "model_module": "@jupyter-widgets/controls",
      "model_module_version": "2.0.0",
      "model_name": "HTMLModel",
      "state": {
       "layout": "IPY_MODEL_1fcf5e4dd02e46748ed9127c133e5381",
       "style": "IPY_MODEL_5f2aff3937f94aa1923ff787ee3840f1",
       "value": " 59%"
      }
     },
     "8cc291b6b2a24962a2321dfd1274740b": {
      "model_module": "@jupyter-widgets/base",
      "model_module_version": "2.0.0",
      "model_name": "LayoutModel",
      "state": {}
     },
     "8ce75d0f8b8148c1a25ef19c86f96061": {
      "model_module": "@jupyter-widgets/controls",
      "model_module_version": "2.0.0",
      "model_name": "HTMLModel",
      "state": {
       "layout": "IPY_MODEL_78ae3fad0e4349099fbbeea796f04fb5",
       "style": "IPY_MODEL_5e02f174af684f33b59e6812611b1649",
       "value": " 3/3 [01:01&lt;00:00, 20.52s/it]"
      }
     },
     "8cf6418f3f424aa29365aec51310ef0d": {
      "model_module": "@jupyter-widgets/base",
      "model_module_version": "2.0.0",
      "model_name": "LayoutModel",
      "state": {}
     },
     "8d1d7fe5efc94f21a7ec0d0ee168a9fc": {
      "model_module": "@jupyter-widgets/base",
      "model_module_version": "2.0.0",
      "model_name": "LayoutModel",
      "state": {}
     },
     "8d620089d72940e98f945bf240a1b127": {
      "model_module": "@jupyter-widgets/base",
      "model_module_version": "2.0.0",
      "model_name": "LayoutModel",
      "state": {}
     },
     "8f5969951d004be9b0a4c2f96a3a9fc0": {
      "model_module": "@jupyter-widgets/base",
      "model_module_version": "2.0.0",
      "model_name": "LayoutModel",
      "state": {}
     },
     "8f7d0a903bac49da838e588d1cfbc9ac": {
      "model_module": "@jupyter-widgets/controls",
      "model_module_version": "2.0.0",
      "model_name": "ProgressStyleModel",
      "state": {
       "description_width": ""
      }
     },
     "8fc0bc7dd5bd4170b2a724ede2938dbe": {
      "model_module": "@jupyter-widgets/controls",
      "model_module_version": "2.0.0",
      "model_name": "HTMLStyleModel",
      "state": {
       "description_width": "",
       "font_size": null,
       "text_color": null
      }
     },
     "9099d4f1ef564813938b91a7df830234": {
      "model_module": "@jupyter-widgets/controls",
      "model_module_version": "2.0.0",
      "model_name": "HTMLModel",
      "state": {
       "layout": "IPY_MODEL_66046b99144a4bcf867c67db3faf11df",
       "style": "IPY_MODEL_b9ccad6820764b04a3e4b032307ca10a",
       "value": "Reading DF:   0%"
      }
     },
     "90e8e6bc4e174ecea7347e3078cae36b": {
      "model_module": "@jupyter-widgets/base",
      "model_module_version": "2.0.0",
      "model_name": "LayoutModel",
      "state": {}
     },
     "914206e19325448cb2a558bb26d0a319": {
      "model_module": "@jupyter-widgets/base",
      "model_module_version": "2.0.0",
      "model_name": "LayoutModel",
      "state": {}
     },
     "91504d043e5a42c8831f121efcf23e51": {
      "model_module": "@jupyter-widgets/controls",
      "model_module_version": "2.0.0",
      "model_name": "HTMLStyleModel",
      "state": {
       "description_width": "",
       "font_size": null,
       "text_color": null
      }
     },
     "926fe029813145fba68b87f1753a6fae": {
      "model_module": "@jupyter-widgets/base",
      "model_module_version": "2.0.0",
      "model_name": "LayoutModel",
      "state": {}
     },
     "934cdd49b478407d9dbb4acc9670bf59": {
      "model_module": "@jupyter-widgets/base",
      "model_module_version": "2.0.0",
      "model_name": "LayoutModel",
      "state": {}
     },
     "9486c627c229486fadb4abf6f9751c76": {
      "model_module": "@jupyter-widgets/controls",
      "model_module_version": "2.0.0",
      "model_name": "HBoxModel",
      "state": {
       "children": [
        "IPY_MODEL_ae4daa4c6da645b4a2ace05a6b48182c",
        "IPY_MODEL_c3be108f60644d899e00bcbe9fdbd16c",
        "IPY_MODEL_4de0ae51d12c469ead3235d65b6e1a44"
       ],
       "layout": "IPY_MODEL_2a7f8b24a03f4ede978638ac69e2813d"
      }
     },
     "94cbf72f6fb54deab021747a9d513b1b": {
      "model_module": "@jupyter-widgets/base",
      "model_module_version": "2.0.0",
      "model_name": "LayoutModel",
      "state": {}
     },
     "94ce3b39d9124841b68cebed31490b8a": {
      "model_module": "@jupyter-widgets/controls",
      "model_module_version": "2.0.0",
      "model_name": "HTMLStyleModel",
      "state": {
       "description_width": "",
       "font_size": null,
       "text_color": null
      }
     },
     "9526072c1e094551a6ad7ba50333e759": {
      "model_module": "@jupyter-widgets/controls",
      "model_module_version": "2.0.0",
      "model_name": "HTMLModel",
      "state": {
       "layout": "IPY_MODEL_ad101eeddff140df9177c0eafc222d60",
       "style": "IPY_MODEL_24c4b968d4444e348eaa449fef33f668",
       "value": "Reading DF: 100%"
      }
     },
     "95c480eb2bf143ca828d3692b61bd61d": {
      "model_module": "@jupyter-widgets/base",
      "model_module_version": "2.0.0",
      "model_name": "LayoutModel",
      "state": {}
     },
     "989134f64d49463f9fc5fa9380daba95": {
      "model_module": "@jupyter-widgets/controls",
      "model_module_version": "2.0.0",
      "model_name": "HTMLStyleModel",
      "state": {
       "description_width": "",
       "font_size": null,
       "text_color": null
      }
     },
     "989b1fb7544f44c58db29dcd03173929": {
      "model_module": "@jupyter-widgets/controls",
      "model_module_version": "2.0.0",
      "model_name": "HBoxModel",
      "state": {
       "children": [
        "IPY_MODEL_8c7c3a1f94c740a699e3e5e26b84a059",
        "IPY_MODEL_234ec855caa847eba65a2f7ea927eec0",
        "IPY_MODEL_51d0dcb5f1404db683c34097992c5132"
       ],
       "layout": "IPY_MODEL_dcf609a5e7fe498daf6da64ceb593c32"
      }
     },
     "98b3f148ca1b4e0da53e14c51f256354": {
      "model_module": "@jupyter-widgets/base",
      "model_module_version": "2.0.0",
      "model_name": "LayoutModel",
      "state": {}
     },
     "9943267b1b21499fa8e984be2a57d222": {
      "model_module": "@jupyter-widgets/controls",
      "model_module_version": "2.0.0",
      "model_name": "HTMLModel",
      "state": {
       "layout": "IPY_MODEL_35f5bdb7850a43c1b868c13b16428dd5",
       "style": "IPY_MODEL_5230b4f476e4425f80d7b93bb9d1a697",
       "value": "Reading DF: 100%"
      }
     },
     "9a1eed522af64591a59d8a1d67cd494d": {
      "model_module": "@jupyter-widgets/controls",
      "model_module_version": "2.0.0",
      "model_name": "HBoxModel",
      "state": {
       "children": [
        "IPY_MODEL_80c09bcca21e4ae48800337b5936cfb4",
        "IPY_MODEL_14934e648b394385bdebd827c06834c4",
        "IPY_MODEL_a93d8cc023e34206b20fe717e87b73e5"
       ],
       "layout": "IPY_MODEL_6f940ceb31d34d3bbca26036bf59005f"
      }
     },
     "9a65d60dc98e49679d84faa37c88a64f": {
      "model_module": "@jupyter-widgets/controls",
      "model_module_version": "2.0.0",
      "model_name": "HTMLModel",
      "state": {
       "layout": "IPY_MODEL_4cdd22376cca458d93a03dfda9dca06e",
       "style": "IPY_MODEL_767178c6709f4b158a86af5f1f5e6db7",
       "value": " 8124/8124 [00:21&lt;00:00, 453.00it/s]"
      }
     },
     "9b8488dbacb74882a714a70b09fc27b9": {
      "model_module": "@jupyter-widgets/base",
      "model_module_version": "2.0.0",
      "model_name": "LayoutModel",
      "state": {}
     },
     "9c8b485e62004ec190990ca0f66b1a7a": {
      "model_module": "@jupyter-widgets/controls",
      "model_module_version": "2.0.0",
      "model_name": "HTMLStyleModel",
      "state": {
       "description_width": "",
       "font_size": null,
       "text_color": null
      }
     },
     "9cbf95956ae646888f8c64c9cd91ba7a": {
      "model_module": "@jupyter-widgets/controls",
      "model_module_version": "2.0.0",
      "model_name": "FloatProgressModel",
      "state": {
       "bar_style": "danger",
       "layout": "IPY_MODEL_a6296911660e42b39a3321db78909158",
       "max": 2,
       "style": "IPY_MODEL_8bcd3d1b3b46493aa05e6accd6b0ed82"
      }
     },
     "9cc57f49d88d4d85963300d8a30ccc00": {
      "model_module": "@jupyter-widgets/controls",
      "model_module_version": "2.0.0",
      "model_name": "FloatProgressModel",
      "state": {
       "bar_style": "danger",
       "layout": "IPY_MODEL_6c1c9af4f49149ba93128b4db1533556",
       "max": 3,
       "style": "IPY_MODEL_f518de96453249b99282d6a1066e44f0",
       "value": 2
      }
     },
     "9d046f1ead5f45d79c4cadf27cdbb01b": {
      "model_module": "@jupyter-widgets/controls",
      "model_module_version": "2.0.0",
      "model_name": "HTMLStyleModel",
      "state": {
       "description_width": "",
       "font_size": null,
       "text_color": null
      }
     },
     "9d187dab8e784f5dbb0e76b14818ea7e": {
      "model_module": "@jupyter-widgets/controls",
      "model_module_version": "2.0.0",
      "model_name": "FloatProgressModel",
      "state": {
       "bar_style": "success",
       "layout": "IPY_MODEL_ba5d2c2d05a4493ba1b6a4b3dae4fb05",
       "max": 8124,
       "style": "IPY_MODEL_8f7d0a903bac49da838e588d1cfbc9ac",
       "value": 8124
      }
     },
     "9d7e1f9e28a4413783518b9cad8e4c43": {
      "model_module": "@jupyter-widgets/controls",
      "model_module_version": "2.0.0",
      "model_name": "ProgressStyleModel",
      "state": {
       "description_width": ""
      }
     },
     "9e7249c8484c41a49e99fe836581e852": {
      "model_module": "@jupyter-widgets/base",
      "model_module_version": "2.0.0",
      "model_name": "LayoutModel",
      "state": {}
     },
     "9eb2e2848b984ff0bd52e90f72f64b39": {
      "model_module": "@jupyter-widgets/base",
      "model_module_version": "2.0.0",
      "model_name": "LayoutModel",
      "state": {}
     },
     "9ed8dd849da34e9dbdf2ffdcc84a6cc5": {
      "model_module": "@jupyter-widgets/controls",
      "model_module_version": "2.0.0",
      "model_name": "HTMLStyleModel",
      "state": {
       "description_width": "",
       "font_size": null,
       "text_color": null
      }
     },
     "9f576749328141eeb0ad06e0c7e3f878": {
      "model_module": "@jupyter-widgets/base",
      "model_module_version": "2.0.0",
      "model_name": "LayoutModel",
      "state": {}
     },
     "a09d1dcf21484f22ab9603efc90d5a8b": {
      "model_module": "@jupyter-widgets/controls",
      "model_module_version": "2.0.0",
      "model_name": "HTMLModel",
      "state": {
       "layout": "IPY_MODEL_66351d03c43941e6bac021f718997614",
       "style": "IPY_MODEL_bbe761b9385c4e22bce4a02008c6e61b",
       "value": " 8124/8124 [00:19&lt;00:00, 382.78it/s]"
      }
     },
     "a108da9e1d29464faa1874c7847fa2d5": {
      "model_module": "@jupyter-widgets/controls",
      "model_module_version": "2.0.0",
      "model_name": "ProgressStyleModel",
      "state": {
       "description_width": ""
      }
     },
     "a379828fc2e140809f43d79ce1debee6": {
      "model_module": "@jupyter-widgets/base",
      "model_module_version": "2.0.0",
      "model_name": "LayoutModel",
      "state": {}
     },
     "a3b9a1a345f44fac9e4b1edc6a878308": {
      "model_module": "@jupyter-widgets/controls",
      "model_module_version": "2.0.0",
      "model_name": "HBoxModel",
      "state": {
       "children": [
        "IPY_MODEL_9943267b1b21499fa8e984be2a57d222",
        "IPY_MODEL_b2d783f509ee4365a1bbe97694035e37",
        "IPY_MODEL_33ac077a757f416dad832a9161841c0a"
       ],
       "layout": "IPY_MODEL_b71a56a40bb14ab58125f457e08206b2"
      }
     },
     "a3cfd6d44404407aaa63df5bb33716aa": {
      "model_module": "@jupyter-widgets/controls",
      "model_module_version": "2.0.0",
      "model_name": "HTMLModel",
      "state": {
       "layout": "IPY_MODEL_914206e19325448cb2a558bb26d0a319",
       "style": "IPY_MODEL_a9b1f4faf3ba48a4b52d62f1f901d2dd",
       "value": "100%"
      }
     },
     "a5359d60ab26429e9985ae7e15a93911": {
      "model_module": "@jupyter-widgets/controls",
      "model_module_version": "2.0.0",
      "model_name": "HBoxModel",
      "state": {
       "children": [
        "IPY_MODEL_1442ae44e96643f48dacea9b38a21ac7",
        "IPY_MODEL_79901c3d4ef14f018cd7b462e547b6c2",
        "IPY_MODEL_33372fc8613e4176b34dfd1c44e09e14"
       ],
       "layout": "IPY_MODEL_e150bcf210854743822bdc02a5069e2a"
      }
     },
     "a6296911660e42b39a3321db78909158": {
      "model_module": "@jupyter-widgets/base",
      "model_module_version": "2.0.0",
      "model_name": "LayoutModel",
      "state": {}
     },
     "a6a7d327bf6e49f1b5a4e7f80a9f5a91": {
      "model_module": "@jupyter-widgets/controls",
      "model_module_version": "2.0.0",
      "model_name": "HTMLStyleModel",
      "state": {
       "description_width": "",
       "font_size": null,
       "text_color": null
      }
     },
     "a78b608285464fbabf499588636bb57c": {
      "model_module": "@jupyter-widgets/controls",
      "model_module_version": "2.0.0",
      "model_name": "HTMLModel",
      "state": {
       "layout": "IPY_MODEL_fcf3925421a94712b58ff3c2c950c49a",
       "style": "IPY_MODEL_f8cd2a9f63b041a19fc8a9a33c0cc706",
       "value": " 8124/8124 [00:21&lt;00:00, 426.32it/s]"
      }
     },
     "a810ec244822437b87da478f2d4b6dd5": {
      "model_module": "@jupyter-widgets/base",
      "model_module_version": "2.0.0",
      "model_name": "LayoutModel",
      "state": {}
     },
     "a873f0f0adde4c6cb63c20643fe47516": {
      "model_module": "@jupyter-widgets/base",
      "model_module_version": "2.0.0",
      "model_name": "LayoutModel",
      "state": {}
     },
     "a87585cccf66486a9e48ec77df1e5fc6": {
      "model_module": "@jupyter-widgets/controls",
      "model_module_version": "2.0.0",
      "model_name": "HTMLStyleModel",
      "state": {
       "description_width": "",
       "font_size": null,
       "text_color": null
      }
     },
     "a8c89e33078647d49dc69093e4077c17": {
      "model_module": "@jupyter-widgets/base",
      "model_module_version": "2.0.0",
      "model_name": "LayoutModel",
      "state": {}
     },
     "a91d7e01f1ab4739affd7d10ab1d8e1b": {
      "model_module": "@jupyter-widgets/controls",
      "model_module_version": "2.0.0",
      "model_name": "HTMLModel",
      "state": {
       "layout": "IPY_MODEL_dc15824735524d5a9674cc5dd1c62e40",
       "style": "IPY_MODEL_6e34647ae5a34aaa8e2f32e9a7fbff5c",
       "value": " 8124/8124 [00:26&lt;00:00, 401.48it/s]"
      }
     },
     "a93d8cc023e34206b20fe717e87b73e5": {
      "model_module": "@jupyter-widgets/controls",
      "model_module_version": "2.0.0",
      "model_name": "HTMLModel",
      "state": {
       "layout": "IPY_MODEL_5b671c9e3e254ae0b172a121426a53f0",
       "style": "IPY_MODEL_f90762a74ad94d67951eb5d698d95d95",
       "value": " 2/2 [00:41&lt;00:00, 20.53s/it]"
      }
     },
     "a9b1f4faf3ba48a4b52d62f1f901d2dd": {
      "model_module": "@jupyter-widgets/controls",
      "model_module_version": "2.0.0",
      "model_name": "HTMLStyleModel",
      "state": {
       "description_width": "",
       "font_size": null,
       "text_color": null
      }
     },
     "a9e7f8f10ed24dcbb4bc71c6081d2532": {
      "model_module": "@jupyter-widgets/controls",
      "model_module_version": "2.0.0",
      "model_name": "HTMLModel",
      "state": {
       "layout": "IPY_MODEL_4cc6d9c4abdb4882a49efd64309e0557",
       "style": "IPY_MODEL_bb0302e960794bb499dbd79be92e85a0",
       "value": " 8124/8124 [00:20&lt;00:00, 395.61it/s]"
      }
     },
     "ab70a8f2c5c6452ab036c3d88bbfc429": {
      "model_module": "@jupyter-widgets/base",
      "model_module_version": "2.0.0",
      "model_name": "LayoutModel",
      "state": {}
     },
     "ac1c2439dd3c43b1b40a4b2d5a6d5ea6": {
      "model_module": "@jupyter-widgets/controls",
      "model_module_version": "2.0.0",
      "model_name": "FloatProgressModel",
      "state": {
       "bar_style": "success",
       "layout": "IPY_MODEL_934cdd49b478407d9dbb4acc9670bf59",
       "max": 8124,
       "style": "IPY_MODEL_316bc55172dc49d987412599bb867251",
       "value": 8124
      }
     },
     "ad101eeddff140df9177c0eafc222d60": {
      "model_module": "@jupyter-widgets/base",
      "model_module_version": "2.0.0",
      "model_name": "LayoutModel",
      "state": {}
     },
     "ad4afb6a488d477e9f6a6afb5c5dd190": {
      "model_module": "@jupyter-widgets/base",
      "model_module_version": "2.0.0",
      "model_name": "LayoutModel",
      "state": {}
     },
     "ae02c107155b417e8564ae3d4cb8ceeb": {
      "model_module": "@jupyter-widgets/controls",
      "model_module_version": "2.0.0",
      "model_name": "ProgressStyleModel",
      "state": {
       "description_width": ""
      }
     },
     "ae1636a0fc9f47b5bc26a2fc7cc493d9": {
      "model_module": "@jupyter-widgets/controls",
      "model_module_version": "2.0.0",
      "model_name": "ProgressStyleModel",
      "state": {
       "description_width": ""
      }
     },
     "ae4daa4c6da645b4a2ace05a6b48182c": {
      "model_module": "@jupyter-widgets/controls",
      "model_module_version": "2.0.0",
      "model_name": "HTMLModel",
      "state": {
       "layout": "IPY_MODEL_74db2e1fdafb45f68a63114056aa84f8",
       "style": "IPY_MODEL_fdcf54dcdca740abaef0be0a39f2b767",
       "value": "Reading DF:   0%"
      }
     },
     "b0782ca621954cc1bb68a0b3c2c1119e": {
      "model_module": "@jupyter-widgets/controls",
      "model_module_version": "2.0.0",
      "model_name": "ProgressStyleModel",
      "state": {
       "description_width": ""
      }
     },
     "b2358b3768564390b32476a042f89265": {
      "model_module": "@jupyter-widgets/controls",
      "model_module_version": "2.0.0",
      "model_name": "FloatProgressModel",
      "state": {
       "bar_style": "success",
       "layout": "IPY_MODEL_77280d1f913b46daa25574a7ec78597d",
       "max": 8124,
       "style": "IPY_MODEL_3c9f961476ae4c35b777980f6ec1e6ca",
       "value": 8124
      }
     },
     "b266ce6dded04226a3b5ee62abeb553d": {
      "model_module": "@jupyter-widgets/controls",
      "model_module_version": "2.0.0",
      "model_name": "FloatProgressModel",
      "state": {
       "bar_style": "success",
       "layout": "IPY_MODEL_5cb4b60c37974958b7fc557ae0ff27b9",
       "max": 3,
       "style": "IPY_MODEL_0306d7490de74c09b83eb9fee19ea84e",
       "value": 3
      }
     },
     "b2bc1c7a965a4dbaafc841c117fc6887": {
      "model_module": "@jupyter-widgets/controls",
      "model_module_version": "2.0.0",
      "model_name": "HBoxModel",
      "state": {
       "children": [
        "IPY_MODEL_8556b2e3384d4d3a8b169cb567dc4665",
        "IPY_MODEL_5820dc9196d94d3b918674bf1e074e4c",
        "IPY_MODEL_63652a2e0a524dd1b68c22bd96a7c749"
       ],
       "layout": "IPY_MODEL_0b403e4616d7473da496f3f2a82d786c"
      }
     },
     "b2d783f509ee4365a1bbe97694035e37": {
      "model_module": "@jupyter-widgets/controls",
      "model_module_version": "2.0.0",
      "model_name": "FloatProgressModel",
      "state": {
       "bar_style": "success",
       "layout": "IPY_MODEL_502b911d2f7c4dbab5dc6169657098f0",
       "max": 8124,
       "style": "IPY_MODEL_09346f3654904822ac78766428583725",
       "value": 8124
      }
     },
     "b4b68324a13f4164a0ffadee253e4c68": {
      "model_module": "@jupyter-widgets/controls",
      "model_module_version": "2.0.0",
      "model_name": "HTMLStyleModel",
      "state": {
       "description_width": "",
       "font_size": null,
       "text_color": null
      }
     },
     "b5367eb57d9e469eb3ad3cc5f5b4e4d0": {
      "model_module": "@jupyter-widgets/controls",
      "model_module_version": "2.0.0",
      "model_name": "HBoxModel",
      "state": {
       "children": [
        "IPY_MODEL_0a2b849d84a64debbd16b4006654ac3e",
        "IPY_MODEL_dea483e95c464e119d635093cb4d69c3",
        "IPY_MODEL_d4f6829a2bff49c7bf5721a7d8d27c6f"
       ],
       "layout": "IPY_MODEL_60e4c965de4d406ca3c8db8c66d58b74"
      }
     },
     "b551b45646894da09d6078bcbdedc507": {
      "model_module": "@jupyter-widgets/base",
      "model_module_version": "2.0.0",
      "model_name": "LayoutModel",
      "state": {}
     },
     "b63e58915bc64754b6e9d0f7913f0de8": {
      "model_module": "@jupyter-widgets/controls",
      "model_module_version": "2.0.0",
      "model_name": "ProgressStyleModel",
      "state": {
       "description_width": ""
      }
     },
     "b6c23d8b499346df9f417cf62bd2aba0": {
      "model_module": "@jupyter-widgets/controls",
      "model_module_version": "2.0.0",
      "model_name": "HTMLModel",
      "state": {
       "layout": "IPY_MODEL_8d620089d72940e98f945bf240a1b127",
       "style": "IPY_MODEL_d59a61ab1c9e4f5e9ebb420db45afe50",
       "value": " 0/8124 [00:00&lt;?, ?it/s]"
      }
     },
     "b71a56a40bb14ab58125f457e08206b2": {
      "model_module": "@jupyter-widgets/base",
      "model_module_version": "2.0.0",
      "model_name": "LayoutModel",
      "state": {}
     },
     "b75ace3997e446bdba2cbfde95272a3a": {
      "model_module": "@jupyter-widgets/controls",
      "model_module_version": "2.0.0",
      "model_name": "HTMLStyleModel",
      "state": {
       "description_width": "",
       "font_size": null,
       "text_color": null
      }
     },
     "b91cecf22b4948e885c18901d2644ea6": {
      "model_module": "@jupyter-widgets/controls",
      "model_module_version": "2.0.0",
      "model_name": "FloatProgressModel",
      "state": {
       "bar_style": "danger",
       "layout": "IPY_MODEL_a379828fc2e140809f43d79ce1debee6",
       "max": 8124,
       "style": "IPY_MODEL_ae02c107155b417e8564ae3d4cb8ceeb"
      }
     },
     "b9ccad6820764b04a3e4b032307ca10a": {
      "model_module": "@jupyter-widgets/controls",
      "model_module_version": "2.0.0",
      "model_name": "HTMLStyleModel",
      "state": {
       "description_width": "",
       "font_size": null,
       "text_color": null
      }
     },
     "ba5d2c2d05a4493ba1b6a4b3dae4fb05": {
      "model_module": "@jupyter-widgets/base",
      "model_module_version": "2.0.0",
      "model_name": "LayoutModel",
      "state": {}
     },
     "bb0302e960794bb499dbd79be92e85a0": {
      "model_module": "@jupyter-widgets/controls",
      "model_module_version": "2.0.0",
      "model_name": "HTMLStyleModel",
      "state": {
       "description_width": "",
       "font_size": null,
       "text_color": null
      }
     },
     "bb2d8b2f9c2a49498286b656a85a7e4e": {
      "model_module": "@jupyter-widgets/base",
      "model_module_version": "2.0.0",
      "model_name": "LayoutModel",
      "state": {}
     },
     "bbe761b9385c4e22bce4a02008c6e61b": {
      "model_module": "@jupyter-widgets/controls",
      "model_module_version": "2.0.0",
      "model_name": "HTMLStyleModel",
      "state": {
       "description_width": "",
       "font_size": null,
       "text_color": null
      }
     },
     "bc04454df049472e9082dd7ae4d95d55": {
      "model_module": "@jupyter-widgets/base",
      "model_module_version": "2.0.0",
      "model_name": "LayoutModel",
      "state": {}
     },
     "bc5e8d195e254f8fa61ca1c6eff08731": {
      "model_module": "@jupyter-widgets/controls",
      "model_module_version": "2.0.0",
      "model_name": "HTMLStyleModel",
      "state": {
       "description_width": "",
       "font_size": null,
       "text_color": null
      }
     },
     "bc9c29e626d14c2387f3785687d42311": {
      "model_module": "@jupyter-widgets/controls",
      "model_module_version": "2.0.0",
      "model_name": "HTMLModel",
      "state": {
       "layout": "IPY_MODEL_32b848bb00c74ce1b916db165621a965",
       "style": "IPY_MODEL_6a172ff9c00d42958567fcbbb0f53b74",
       "value": "100%"
      }
     },
     "bcdb70a9bf58492491e63dff3cc4785e": {
      "model_module": "@jupyter-widgets/base",
      "model_module_version": "2.0.0",
      "model_name": "LayoutModel",
      "state": {}
     },
     "bd17d7dd28a145c6b3493869be1b6760": {
      "model_module": "@jupyter-widgets/base",
      "model_module_version": "2.0.0",
      "model_name": "LayoutModel",
      "state": {}
     },
     "bf3cd2bb0a4d467e93e74ee3bbc49cf3": {
      "model_module": "@jupyter-widgets/base",
      "model_module_version": "2.0.0",
      "model_name": "LayoutModel",
      "state": {}
     },
     "bf6a2148ce3442b4845e5b2118c77f0e": {
      "model_module": "@jupyter-widgets/base",
      "model_module_version": "2.0.0",
      "model_name": "LayoutModel",
      "state": {}
     },
     "bf6c8d04a20941d995d750f576da69ef": {
      "model_module": "@jupyter-widgets/base",
      "model_module_version": "2.0.0",
      "model_name": "LayoutModel",
      "state": {}
     },
     "bfb68e5f494c4c8f9813c010f5f06d29": {
      "model_module": "@jupyter-widgets/controls",
      "model_module_version": "2.0.0",
      "model_name": "HBoxModel",
      "state": {
       "children": [
        "IPY_MODEL_07eaeede2884439787058759d684c24b",
        "IPY_MODEL_c3e3f2dc9e8a4e25b3e533c4db4800ac",
        "IPY_MODEL_1fd378b2d36c4f8494067174c02d26c2"
       ],
       "layout": "IPY_MODEL_26759eee47604e0a9e8486ffdc834157"
      }
     },
     "bfbb3f25c9ae4c9a81d0df1eab96610f": {
      "model_module": "@jupyter-widgets/controls",
      "model_module_version": "2.0.0",
      "model_name": "HTMLStyleModel",
      "state": {
       "description_width": "",
       "font_size": null,
       "text_color": null
      }
     },
     "c057f111e2a94fc59bb37c14a2a46b04": {
      "model_module": "@jupyter-widgets/controls",
      "model_module_version": "2.0.0",
      "model_name": "HTMLStyleModel",
      "state": {
       "description_width": "",
       "font_size": null,
       "text_color": null
      }
     },
     "c16b8687805843a29d1270d8e8fcf5e1": {
      "model_module": "@jupyter-widgets/controls",
      "model_module_version": "2.0.0",
      "model_name": "FloatProgressModel",
      "state": {
       "bar_style": "success",
       "layout": "IPY_MODEL_5e64f84c5d8640409bcc452dc0d969d9",
       "max": 3,
       "style": "IPY_MODEL_c3d197ee83aa408a90456a51b1985740",
       "value": 3
      }
     },
     "c17c68cc31904eb6839efe5c1ca34544": {
      "model_module": "@jupyter-widgets/controls",
      "model_module_version": "2.0.0",
      "model_name": "HBoxModel",
      "state": {
       "children": [
        "IPY_MODEL_8852d648479f452084c7ef52e65285c6",
        "IPY_MODEL_719ffa2633e14137837b2e3c8dc643e3",
        "IPY_MODEL_6be38985a04f4f379d03f3d843e9576e"
       ],
       "layout": "IPY_MODEL_9e7249c8484c41a49e99fe836581e852"
      }
     },
     "c22319f149594c3f8cff601b20a40a84": {
      "model_module": "@jupyter-widgets/controls",
      "model_module_version": "2.0.0",
      "model_name": "HTMLStyleModel",
      "state": {
       "description_width": "",
       "font_size": null,
       "text_color": null
      }
     },
     "c3be108f60644d899e00bcbe9fdbd16c": {
      "model_module": "@jupyter-widgets/controls",
      "model_module_version": "2.0.0",
      "model_name": "FloatProgressModel",
      "state": {
       "bar_style": "danger",
       "layout": "IPY_MODEL_c94f9a61ccbb47edbf4c7b1efa6afb65",
       "max": 8124,
       "style": "IPY_MODEL_53bdc56a8d6845f88ac6c8974c45fe66"
      }
     },
     "c3d197ee83aa408a90456a51b1985740": {
      "model_module": "@jupyter-widgets/controls",
      "model_module_version": "2.0.0",
      "model_name": "ProgressStyleModel",
      "state": {
       "description_width": ""
      }
     },
     "c3e3f2dc9e8a4e25b3e533c4db4800ac": {
      "model_module": "@jupyter-widgets/controls",
      "model_module_version": "2.0.0",
      "model_name": "FloatProgressModel",
      "state": {
       "bar_style": "success",
       "layout": "IPY_MODEL_8a6f7942eafd48a496a7bce0d0ebbedf",
       "max": 8124,
       "style": "IPY_MODEL_47e7a0d1fc8545daacb9e907a76b130c",
       "value": 8124
      }
     },
     "c47a42caeb984137acda768c1dd67185": {
      "model_module": "@jupyter-widgets/controls",
      "model_module_version": "2.0.0",
      "model_name": "HTMLStyleModel",
      "state": {
       "description_width": "",
       "font_size": null,
       "text_color": null
      }
     },
     "c72b4c7908584ceca3d60ee624a7ef20": {
      "model_module": "@jupyter-widgets/controls",
      "model_module_version": "2.0.0",
      "model_name": "HTMLStyleModel",
      "state": {
       "description_width": "",
       "font_size": null,
       "text_color": null
      }
     },
     "c80999a7c44d4d5ba087e63b67d4f2ab": {
      "model_module": "@jupyter-widgets/base",
      "model_module_version": "2.0.0",
      "model_name": "LayoutModel",
      "state": {}
     },
     "c836f1a95bd9415f8acc8128235ca23c": {
      "model_module": "@jupyter-widgets/controls",
      "model_module_version": "2.0.0",
      "model_name": "HBoxModel",
      "state": {
       "children": [
        "IPY_MODEL_e0dba974331648a7878e2c3672070c34",
        "IPY_MODEL_35bd76eff82f4cc5ac16a9c55cf33c56",
        "IPY_MODEL_d7e8ea0819c646e98dd3a65d243b3b22"
       ],
       "layout": "IPY_MODEL_62c73ed38b034e68b05d61c876ff40ee"
      }
     },
     "c849f7e6f0344a9bbfa6833fe6dbf61a": {
      "model_module": "@jupyter-widgets/controls",
      "model_module_version": "2.0.0",
      "model_name": "HTMLStyleModel",
      "state": {
       "description_width": "",
       "font_size": null,
       "text_color": null
      }
     },
     "c8c514c782014e4bb39dfc98f0271198": {
      "model_module": "@jupyter-widgets/controls",
      "model_module_version": "2.0.0",
      "model_name": "HTMLModel",
      "state": {
       "layout": "IPY_MODEL_10373e53706a4369a4ca955905a29894",
       "style": "IPY_MODEL_0e3c4f76814f42cd864decd07c744e5c",
       "value": " 8124/8124 [00:28&lt;00:00, 410.52it/s]"
      }
     },
     "c9107c05532443ef98dbe63ec6f3ce8a": {
      "model_module": "@jupyter-widgets/controls",
      "model_module_version": "2.0.0",
      "model_name": "HTMLStyleModel",
      "state": {
       "description_width": "",
       "font_size": null,
       "text_color": null
      }
     },
     "c94f9a61ccbb47edbf4c7b1efa6afb65": {
      "model_module": "@jupyter-widgets/base",
      "model_module_version": "2.0.0",
      "model_name": "LayoutModel",
      "state": {}
     },
     "c9578f983aee493cbca52682d3df69d7": {
      "model_module": "@jupyter-widgets/controls",
      "model_module_version": "2.0.0",
      "model_name": "HTMLModel",
      "state": {
       "layout": "IPY_MODEL_7b9e4aaccbc64b9eb775a434a1303123",
       "style": "IPY_MODEL_a6a7d327bf6e49f1b5a4e7f80a9f5a91",
       "value": " 8124/8124 [00:19&lt;00:00, 458.40it/s]"
      }
     },
     "c98ef274962b434a803d4b98da573245": {
      "model_module": "@jupyter-widgets/base",
      "model_module_version": "2.0.0",
      "model_name": "LayoutModel",
      "state": {}
     },
     "ca375a1f5a674f5a8daed47951fee8e7": {
      "model_module": "@jupyter-widgets/controls",
      "model_module_version": "2.0.0",
      "model_name": "HTMLModel",
      "state": {
       "layout": "IPY_MODEL_3a75425a6e0648bc88922173c88d2916",
       "style": "IPY_MODEL_0cbc210bf58849b69e7f11d365987261",
       "value": " 0/2 [00:06&lt;?, ?it/s]"
      }
     },
     "ca5c739b6ee14e05807688b4020bf555": {
      "model_module": "@jupyter-widgets/controls",
      "model_module_version": "2.0.0",
      "model_name": "HTMLModel",
      "state": {
       "layout": "IPY_MODEL_7aca11eecd84469583f0b8ab773bc9ec",
       "style": "IPY_MODEL_5a07fc37ee1d4897a65c5436a9695f4e",
       "value": " 8124/8124 [00:20&lt;00:00, 434.06it/s]"
      }
     },
     "cb9b918e51b44ef99d1d71337b5e7cc2": {
      "model_module": "@jupyter-widgets/controls",
      "model_module_version": "2.0.0",
      "model_name": "HTMLStyleModel",
      "state": {
       "description_width": "",
       "font_size": null,
       "text_color": null
      }
     },
     "cbd15c2991fb4abc975a49426c3dbb6d": {
      "model_module": "@jupyter-widgets/controls",
      "model_module_version": "2.0.0",
      "model_name": "HTMLModel",
      "state": {
       "layout": "IPY_MODEL_1f161c4657374634a809e5179ab23063",
       "style": "IPY_MODEL_5d0cb3a1bb884fe3be673c82f968354a",
       "value": " 0/8124 [00:00&lt;?, ?it/s]"
      }
     },
     "cc8b633ed70f4c85b153a499d790ede7": {
      "model_module": "@jupyter-widgets/base",
      "model_module_version": "2.0.0",
      "model_name": "LayoutModel",
      "state": {}
     },
     "cd213e1ec51d42a687003d844ce2c95a": {
      "model_module": "@jupyter-widgets/base",
      "model_module_version": "2.0.0",
      "model_name": "LayoutModel",
      "state": {}
     },
     "ce5b6c8ef478456b866e9a21f9de8118": {
      "model_module": "@jupyter-widgets/controls",
      "model_module_version": "2.0.0",
      "model_name": "HTMLModel",
      "state": {
       "layout": "IPY_MODEL_3cc6c094fc26445989427589c4723e51",
       "style": "IPY_MODEL_57a4f15fd7a94ce09a9499ee848197fd"
      }
     },
     "ce6c9ce8a7d64dcea330e3b01e6f9450": {
      "model_module": "@jupyter-widgets/controls",
      "model_module_version": "2.0.0",
      "model_name": "HTMLStyleModel",
      "state": {
       "description_width": "",
       "font_size": null,
       "text_color": null
      }
     },
     "cfdb1098a7a3486fbfbf80578708baf1": {
      "model_module": "@jupyter-widgets/controls",
      "model_module_version": "2.0.0",
      "model_name": "HTMLModel",
      "state": {
       "layout": "IPY_MODEL_3f96eee68a36416c97e7d291d60dcf80",
       "style": "IPY_MODEL_9c8b485e62004ec190990ca0f66b1a7a",
       "value": "  0%"
      }
     },
     "d059e6643b224437ac5b32f4fed1e420": {
      "model_module": "@jupyter-widgets/controls",
      "model_module_version": "2.0.0",
      "model_name": "HTMLStyleModel",
      "state": {
       "description_width": "",
       "font_size": null,
       "text_color": null
      }
     },
     "d089ab7b616c46849d480031f4b88cc6": {
      "model_module": "@jupyter-widgets/base",
      "model_module_version": "2.0.0",
      "model_name": "LayoutModel",
      "state": {}
     },
     "d17e758df6d24ce89496ee7b84ff0199": {
      "model_module": "@jupyter-widgets/base",
      "model_module_version": "2.0.0",
      "model_name": "LayoutModel",
      "state": {}
     },
     "d183e838c6584737b8627655f44abbaa": {
      "model_module": "@jupyter-widgets/controls",
      "model_module_version": "2.0.0",
      "model_name": "HTMLModel",
      "state": {
       "layout": "IPY_MODEL_651575dc4ed145a49d011eca2908d6ed",
       "style": "IPY_MODEL_14b0365f90a34cc38596ed00364d6804",
       "value": " 8124/8124 [00:20&lt;00:00, 404.91it/s]"
      }
     },
     "d1d903c3c0844c6987348699220ca55f": {
      "model_module": "@jupyter-widgets/controls",
      "model_module_version": "2.0.0",
      "model_name": "HTMLStyleModel",
      "state": {
       "description_width": "",
       "font_size": null,
       "text_color": null
      }
     },
     "d1ee4b054769439bb248305a45f27ea6": {
      "model_module": "@jupyter-widgets/controls",
      "model_module_version": "2.0.0",
      "model_name": "HTMLModel",
      "state": {
       "layout": "IPY_MODEL_58c4bd352e4146e394f47ab79df0fe44",
       "style": "IPY_MODEL_101d791bb8214ec69b830662be43a988",
       "value": "100%"
      }
     },
     "d232898ec70a4611b8eb17d65da8cd6e": {
      "model_module": "@jupyter-widgets/base",
      "model_module_version": "2.0.0",
      "model_name": "LayoutModel",
      "state": {}
     },
     "d39047d6861d4812bc6c691af9936d66": {
      "model_module": "@jupyter-widgets/controls",
      "model_module_version": "2.0.0",
      "model_name": "HTMLStyleModel",
      "state": {
       "description_width": "",
       "font_size": null,
       "text_color": null
      }
     },
     "d4056b0492044afb94cacac981e8614f": {
      "model_module": "@jupyter-widgets/controls",
      "model_module_version": "2.0.0",
      "model_name": "ProgressStyleModel",
      "state": {
       "description_width": ""
      }
     },
     "d4bacfe940c44cee919bc68ff0716de9": {
      "model_module": "@jupyter-widgets/base",
      "model_module_version": "2.0.0",
      "model_name": "LayoutModel",
      "state": {}
     },
     "d4f6829a2bff49c7bf5721a7d8d27c6f": {
      "model_module": "@jupyter-widgets/controls",
      "model_module_version": "2.0.0",
      "model_name": "HTMLModel",
      "state": {
       "layout": "IPY_MODEL_90e8e6bc4e174ecea7347e3078cae36b",
       "style": "IPY_MODEL_d39047d6861d4812bc6c691af9936d66",
       "value": " 8124/8124 [00:22&lt;00:00, 418.41it/s]"
      }
     },
     "d51cf8a5c1c940399218db5daa129c66": {
      "model_module": "@jupyter-widgets/controls",
      "model_module_version": "2.0.0",
      "model_name": "HTMLModel",
      "state": {
       "layout": "IPY_MODEL_5a4638120a664cfd9eb9347ddbc93beb",
       "style": "IPY_MODEL_91504d043e5a42c8831f121efcf23e51",
       "value": " 1634/8124 [00:05&lt;00:22, 289.68it/s]"
      }
     },
     "d59a61ab1c9e4f5e9ebb420db45afe50": {
      "model_module": "@jupyter-widgets/controls",
      "model_module_version": "2.0.0",
      "model_name": "HTMLStyleModel",
      "state": {
       "description_width": "",
       "font_size": null,
       "text_color": null
      }
     },
     "d5cc320c2c684861a1c073dead947247": {
      "model_module": "@jupyter-widgets/controls",
      "model_module_version": "2.0.0",
      "model_name": "HTMLModel",
      "state": {
       "layout": "IPY_MODEL_51bfcf3e9f5f4110b43fc0dc87efc866",
       "style": "IPY_MODEL_fd82ba47bc8946648b167070c2234979",
       "value": "Reading DF:   0%"
      }
     },
     "d5ec0a9ae7f14f2cb70c9f48413af8e0": {
      "model_module": "@jupyter-widgets/controls",
      "model_module_version": "2.0.0",
      "model_name": "HTMLStyleModel",
      "state": {
       "description_width": "",
       "font_size": null,
       "text_color": null
      }
     },
     "d6a8e997583045a09a3a22fa18c9b3ae": {
      "model_module": "@jupyter-widgets/base",
      "model_module_version": "2.0.0",
      "model_name": "LayoutModel",
      "state": {}
     },
     "d719148f8ca245179d9cf71d0bb13695": {
      "model_module": "@jupyter-widgets/controls",
      "model_module_version": "2.0.0",
      "model_name": "HBoxModel",
      "state": {
       "children": [
        "IPY_MODEL_d5cc320c2c684861a1c073dead947247",
        "IPY_MODEL_1567c7da8bbe4cbcb0c4970a0ff03b99",
        "IPY_MODEL_121f82164f3d4bb999cabc09945d751d"
       ],
       "layout": "IPY_MODEL_fe24c52905d54816ae1dd9a0cc5fa404"
      }
     },
     "d7e8ea0819c646e98dd3a65d243b3b22": {
      "model_module": "@jupyter-widgets/controls",
      "model_module_version": "2.0.0",
      "model_name": "HTMLModel",
      "state": {
       "layout": "IPY_MODEL_c80999a7c44d4d5ba087e63b67d4f2ab",
       "style": "IPY_MODEL_13f05437f4034d9a99e873cac384bfb8",
       "value": " 8124/8124 [00:24&lt;00:00, 362.13it/s]"
      }
     },
     "d877ca6c58d9493f8363c47842ed3bb3": {
      "model_module": "@jupyter-widgets/controls",
      "model_module_version": "2.0.0",
      "model_name": "FloatProgressModel",
      "state": {
       "bar_style": "success",
       "layout": "IPY_MODEL_1766119ee34246ff963e805e67d33d3a",
       "max": 8124,
       "style": "IPY_MODEL_9d7e1f9e28a4413783518b9cad8e4c43",
       "value": 8124
      }
     },
     "da46e69e908b476bb18ac1cc389360a0": {
      "model_module": "@jupyter-widgets/controls",
      "model_module_version": "2.0.0",
      "model_name": "HTMLModel",
      "state": {
       "layout": "IPY_MODEL_9eb2e2848b984ff0bd52e90f72f64b39",
       "style": "IPY_MODEL_94ce3b39d9124841b68cebed31490b8a",
       "value": " 0/8124 [00:00&lt;?, ?it/s]"
      }
     },
     "dbae1a1acb7947019683c7e69716f8a5": {
      "model_module": "@jupyter-widgets/base",
      "model_module_version": "2.0.0",
      "model_name": "LayoutModel",
      "state": {}
     },
     "dc15824735524d5a9674cc5dd1c62e40": {
      "model_module": "@jupyter-widgets/base",
      "model_module_version": "2.0.0",
      "model_name": "LayoutModel",
      "state": {}
     },
     "dc1ce1a1fae445359e9b74dea798eb92": {
      "model_module": "@jupyter-widgets/base",
      "model_module_version": "2.0.0",
      "model_name": "LayoutModel",
      "state": {}
     },
     "dc39c0a0b96d4ae588810316b06eea62": {
      "model_module": "@jupyter-widgets/controls",
      "model_module_version": "2.0.0",
      "model_name": "HTMLModel",
      "state": {
       "layout": "IPY_MODEL_10e4427d89de483c8053abd20df9b4d5",
       "style": "IPY_MODEL_989134f64d49463f9fc5fa9380daba95",
       "value": "Reading DF:   0%"
      }
     },
     "dcf609a5e7fe498daf6da64ceb593c32": {
      "model_module": "@jupyter-widgets/base",
      "model_module_version": "2.0.0",
      "model_name": "LayoutModel",
      "state": {}
     },
     "dcf6a4c233ee4c319f77286c9729056f": {
      "model_module": "@jupyter-widgets/controls",
      "model_module_version": "2.0.0",
      "model_name": "FloatProgressModel",
      "state": {
       "bar_style": "success",
       "layout": "IPY_MODEL_299fa5fe2c3546e08ecab3f478e54af5",
       "max": 3,
       "style": "IPY_MODEL_2a4b809b4ad1455cb93df611dffb5e39",
       "value": 3
      }
     },
     "ddc0ea912db04a42a5244c799b2b94e8": {
      "model_module": "@jupyter-widgets/controls",
      "model_module_version": "2.0.0",
      "model_name": "HTMLStyleModel",
      "state": {
       "description_width": "",
       "font_size": null,
       "text_color": null
      }
     },
     "ddfd67ffc6a1489e8a85a857d68b9e02": {
      "model_module": "@jupyter-widgets/controls",
      "model_module_version": "2.0.0",
      "model_name": "HTMLModel",
      "state": {
       "layout": "IPY_MODEL_8cc291b6b2a24962a2321dfd1274740b",
       "style": "IPY_MODEL_ddc0ea912db04a42a5244c799b2b94e8",
       "value": " 0/2 [00:00&lt;?, ?it/s]"
      }
     },
     "de062f9e4025457ba0dc9f20bddbb867": {
      "model_module": "@jupyter-widgets/base",
      "model_module_version": "2.0.0",
      "model_name": "LayoutModel",
      "state": {}
     },
     "dea483e95c464e119d635093cb4d69c3": {
      "model_module": "@jupyter-widgets/controls",
      "model_module_version": "2.0.0",
      "model_name": "FloatProgressModel",
      "state": {
       "bar_style": "success",
       "layout": "IPY_MODEL_4d2430d61b3147d28d82b91336f0f5a9",
       "max": 8124,
       "style": "IPY_MODEL_f66f1b85fb4140f4b167107d8519c2f8",
       "value": 8124
      }
     },
     "dfd63311c512455a9938a845aa92e590": {
      "model_module": "@jupyter-widgets/controls",
      "model_module_version": "2.0.0",
      "model_name": "HTMLModel",
      "state": {
       "layout": "IPY_MODEL_de062f9e4025457ba0dc9f20bddbb867",
       "style": "IPY_MODEL_c22319f149594c3f8cff601b20a40a84",
       "value": "  0%"
      }
     },
     "e0dba974331648a7878e2c3672070c34": {
      "model_module": "@jupyter-widgets/controls",
      "model_module_version": "2.0.0",
      "model_name": "HTMLModel",
      "state": {
       "layout": "IPY_MODEL_21404077e7824c21a0039d57a89a9762",
       "style": "IPY_MODEL_bfbb3f25c9ae4c9a81d0df1eab96610f",
       "value": "100%"
      }
     },
     "e150bcf210854743822bdc02a5069e2a": {
      "model_module": "@jupyter-widgets/base",
      "model_module_version": "2.0.0",
      "model_name": "LayoutModel",
      "state": {}
     },
     "e16f099444444c1c8caa676bc63ee9b8": {
      "model_module": "@jupyter-widgets/controls",
      "model_module_version": "2.0.0",
      "model_name": "FloatProgressModel",
      "state": {
       "bar_style": "danger",
       "layout": "IPY_MODEL_a873f0f0adde4c6cb63c20643fe47516",
       "max": 2,
       "style": "IPY_MODEL_b63e58915bc64754b6e9d0f7913f0de8"
      }
     },
     "e687edbc503a415a8754b2f8188e1b9f": {
      "model_module": "@jupyter-widgets/controls",
      "model_module_version": "2.0.0",
      "model_name": "HBoxModel",
      "state": {
       "children": [
        "IPY_MODEL_73f16500fa064da0a5425a1131f6fe84",
        "IPY_MODEL_b91cecf22b4948e885c18901d2644ea6",
        "IPY_MODEL_cbd15c2991fb4abc975a49426c3dbb6d"
       ],
       "layout": "IPY_MODEL_8d1d7fe5efc94f21a7ec0d0ee168a9fc"
      }
     },
     "e7595893ca6f4f369946c8cac4e60e72": {
      "model_module": "@jupyter-widgets/controls",
      "model_module_version": "2.0.0",
      "model_name": "HTMLModel",
      "state": {
       "layout": "IPY_MODEL_bc04454df049472e9082dd7ae4d95d55",
       "style": "IPY_MODEL_2b0f414e8bb94c94965eb61d47fe1707",
       "value": " 8124/8124 [00:29&lt;00:00, 413.10it/s]"
      }
     },
     "e894d15e25b04122aae8c9f107c6e201": {
      "model_module": "@jupyter-widgets/controls",
      "model_module_version": "2.0.0",
      "model_name": "FloatProgressModel",
      "state": {
       "bar_style": "success",
       "layout": "IPY_MODEL_ed798c907acd4938978a2caf4935dc77",
       "max": 2,
       "style": "IPY_MODEL_319b6716de364d5a9bc34436ccb12b5d",
       "value": 2
      }
     },
     "e8c71179598b40be8a0e168a970630fc": {
      "model_module": "@jupyter-widgets/controls",
      "model_module_version": "2.0.0",
      "model_name": "HTMLStyleModel",
      "state": {
       "description_width": "",
       "font_size": null,
       "text_color": null
      }
     },
     "e9895d0284f843b6a13a193d1df43cd3": {
      "model_module": "@jupyter-widgets/controls",
      "model_module_version": "2.0.0",
      "model_name": "FloatProgressModel",
      "state": {
       "bar_style": "success",
       "layout": "IPY_MODEL_bb2d8b2f9c2a49498286b656a85a7e4e",
       "max": 8124,
       "style": "IPY_MODEL_12014831adaa4abd8234cc5dd4162e31",
       "value": 8124
      }
     },
     "e9c2e820391f49a98ade8239ea206b1a": {
      "model_module": "@jupyter-widgets/controls",
      "model_module_version": "2.0.0",
      "model_name": "HTMLStyleModel",
      "state": {
       "description_width": "",
       "font_size": null,
       "text_color": null
      }
     },
     "ec3e891aaa4f47049727726050c74b2d": {
      "model_module": "@jupyter-widgets/base",
      "model_module_version": "2.0.0",
      "model_name": "LayoutModel",
      "state": {}
     },
     "ecb2a5b49fad486796e4fb2c7e666008": {
      "model_module": "@jupyter-widgets/controls",
      "model_module_version": "2.0.0",
      "model_name": "HTMLStyleModel",
      "state": {
       "description_width": "",
       "font_size": null,
       "text_color": null
      }
     },
     "ecd9529472f44397a84240747f56d17c": {
      "model_module": "@jupyter-widgets/base",
      "model_module_version": "2.0.0",
      "model_name": "LayoutModel",
      "state": {}
     },
     "ed798c907acd4938978a2caf4935dc77": {
      "model_module": "@jupyter-widgets/base",
      "model_module_version": "2.0.0",
      "model_name": "LayoutModel",
      "state": {}
     },
     "ee7fbc8f0e814699b58489850767a307": {
      "model_module": "@jupyter-widgets/base",
      "model_module_version": "2.0.0",
      "model_name": "LayoutModel",
      "state": {}
     },
     "ef27893bf1ca40488eef8684cbd218fb": {
      "model_module": "@jupyter-widgets/controls",
      "model_module_version": "2.0.0",
      "model_name": "ProgressStyleModel",
      "state": {
       "description_width": ""
      }
     },
     "ef483c386d164adcba12d40f088e0768": {
      "model_module": "@jupyter-widgets/controls",
      "model_module_version": "2.0.0",
      "model_name": "HBoxModel",
      "state": {
       "children": [
        "IPY_MODEL_ce5b6c8ef478456b866e9a21f9de8118",
        "IPY_MODEL_87b26d5938fa4c78ae82e2d6b89b2b0d",
        "IPY_MODEL_46ddce0caa8d45cc9f7e85782aaeafb6"
       ],
       "layout": "IPY_MODEL_dbae1a1acb7947019683c7e69716f8a5"
      }
     },
     "ef857c11a33a4443923cbd626d06f3d1": {
      "model_module": "@jupyter-widgets/controls",
      "model_module_version": "2.0.0",
      "model_name": "ProgressStyleModel",
      "state": {
       "description_width": ""
      }
     },
     "ef8b725f161a44b297019f1bff2df715": {
      "model_module": "@jupyter-widgets/base",
      "model_module_version": "2.0.0",
      "model_name": "LayoutModel",
      "state": {}
     },
     "efffb7060cca4c9dbca44091f5a85650": {
      "model_module": "@jupyter-widgets/base",
      "model_module_version": "2.0.0",
      "model_name": "LayoutModel",
      "state": {}
     },
     "f0700ba843874bc289555bb97ef7b98a": {
      "model_module": "@jupyter-widgets/controls",
      "model_module_version": "2.0.0",
      "model_name": "HTMLModel",
      "state": {
       "layout": "IPY_MODEL_2ae0667937c04738b2ee469a542a8759",
       "style": "IPY_MODEL_d5ec0a9ae7f14f2cb70c9f48413af8e0",
       "value": "Reading DF:   0%"
      }
     },
     "f1939db10cff4d00af203ace385a0b67": {
      "model_module": "@jupyter-widgets/controls",
      "model_module_version": "2.0.0",
      "model_name": "HBoxModel",
      "state": {
       "children": [
        "IPY_MODEL_542ccc835e104c9e9e3c0ff40e91593c",
        "IPY_MODEL_08d09d2d820d460c8b2b00b09880ce34",
        "IPY_MODEL_a9e7f8f10ed24dcbb4bc71c6081d2532"
       ],
       "layout": "IPY_MODEL_02ec2bb630e346db95e2468d6614ab30"
      }
     },
     "f291658866f44637a766973e35e38b65": {
      "model_module": "@jupyter-widgets/controls",
      "model_module_version": "2.0.0",
      "model_name": "HTMLModel",
      "state": {
       "layout": "IPY_MODEL_dc1ce1a1fae445359e9b74dea798eb92",
       "style": "IPY_MODEL_259ea47620b84955b99b6ca663bbc23f",
       "value": " 3/3 [01:00&lt;00:00, 20.16s/it]"
      }
     },
     "f2e15942f80740f2891b9b629773df9f": {
      "model_module": "@jupyter-widgets/controls",
      "model_module_version": "2.0.0",
      "model_name": "ProgressStyleModel",
      "state": {
       "description_width": ""
      }
     },
     "f5022922a0544e25ba930e792d9f5cce": {
      "model_module": "@jupyter-widgets/controls",
      "model_module_version": "2.0.0",
      "model_name": "HTMLStyleModel",
      "state": {
       "description_width": "",
       "font_size": null,
       "text_color": null
      }
     },
     "f50c477d36ac46a09f2791e392517d59": {
      "model_module": "@jupyter-widgets/base",
      "model_module_version": "2.0.0",
      "model_name": "LayoutModel",
      "state": {}
     },
     "f518de96453249b99282d6a1066e44f0": {
      "model_module": "@jupyter-widgets/controls",
      "model_module_version": "2.0.0",
      "model_name": "ProgressStyleModel",
      "state": {
       "description_width": ""
      }
     },
     "f563b54ff2f542c1a13adc7ed4e9df57": {
      "model_module": "@jupyter-widgets/controls",
      "model_module_version": "2.0.0",
      "model_name": "HBoxModel",
      "state": {
       "children": [
        "IPY_MODEL_66b1ef4aea544258b29ca9977684e64e",
        "IPY_MODEL_b2358b3768564390b32476a042f89265",
        "IPY_MODEL_4853c115cea54d6799fd44b5b2cf3756"
       ],
       "layout": "IPY_MODEL_1d971b6afcca4b76845249869d3bab7a"
      }
     },
     "f619f90afbb24ebd86e77a0c3bd36f8c": {
      "model_module": "@jupyter-widgets/controls",
      "model_module_version": "2.0.0",
      "model_name": "HBoxModel",
      "state": {
       "children": [
        "IPY_MODEL_432eca3526bc4f12b30669324af340a6",
        "IPY_MODEL_9cc57f49d88d4d85963300d8a30ccc00",
        "IPY_MODEL_2bee2970ef614f88a7d4f7241100b0ab"
       ],
       "layout": "IPY_MODEL_78271bc68d1e43c7857be0201ab99559"
      }
     },
     "f66f1b85fb4140f4b167107d8519c2f8": {
      "model_module": "@jupyter-widgets/controls",
      "model_module_version": "2.0.0",
      "model_name": "ProgressStyleModel",
      "state": {
       "description_width": ""
      }
     },
     "f724287a7cd44ce9953fd908835286a0": {
      "model_module": "@jupyter-widgets/base",
      "model_module_version": "2.0.0",
      "model_name": "LayoutModel",
      "state": {}
     },
     "f83d6e3468734264a71c37d47898459a": {
      "model_module": "@jupyter-widgets/controls",
      "model_module_version": "2.0.0",
      "model_name": "HBoxModel",
      "state": {
       "children": [
        "IPY_MODEL_4aeed1680e7845c78e40a49ee4de0a90",
        "IPY_MODEL_148923af88ee47e0aff163e2b0918646",
        "IPY_MODEL_c8c514c782014e4bb39dfc98f0271198"
       ],
       "layout": "IPY_MODEL_12d1b4f8c3214de08888e20db1154b93"
      }
     },
     "f8cd2a9f63b041a19fc8a9a33c0cc706": {
      "model_module": "@jupyter-widgets/controls",
      "model_module_version": "2.0.0",
      "model_name": "HTMLStyleModel",
      "state": {
       "description_width": "",
       "font_size": null,
       "text_color": null
      }
     },
     "f90762a74ad94d67951eb5d698d95d95": {
      "model_module": "@jupyter-widgets/controls",
      "model_module_version": "2.0.0",
      "model_name": "HTMLStyleModel",
      "state": {
       "description_width": "",
       "font_size": null,
       "text_color": null
      }
     },
     "fb30ac1c21854566856a01e490e1abc6": {
      "model_module": "@jupyter-widgets/controls",
      "model_module_version": "2.0.0",
      "model_name": "FloatProgressModel",
      "state": {
       "bar_style": "danger",
       "layout": "IPY_MODEL_12656c5eb2ce43e2baeb44a52203180e",
       "max": 2,
       "style": "IPY_MODEL_ef27893bf1ca40488eef8684cbd218fb"
      }
     },
     "fbef511581584b59827e2b48f066dd67": {
      "model_module": "@jupyter-widgets/controls",
      "model_module_version": "2.0.0",
      "model_name": "ProgressStyleModel",
      "state": {
       "description_width": ""
      }
     },
     "fcf3925421a94712b58ff3c2c950c49a": {
      "model_module": "@jupyter-widgets/base",
      "model_module_version": "2.0.0",
      "model_name": "LayoutModel",
      "state": {}
     },
     "fd82ba47bc8946648b167070c2234979": {
      "model_module": "@jupyter-widgets/controls",
      "model_module_version": "2.0.0",
      "model_name": "HTMLStyleModel",
      "state": {
       "description_width": "",
       "font_size": null,
       "text_color": null
      }
     },
     "fdcf54dcdca740abaef0be0a39f2b767": {
      "model_module": "@jupyter-widgets/controls",
      "model_module_version": "2.0.0",
      "model_name": "HTMLStyleModel",
      "state": {
       "description_width": "",
       "font_size": null,
       "text_color": null
      }
     },
     "fe24c52905d54816ae1dd9a0cc5fa404": {
      "model_module": "@jupyter-widgets/base",
      "model_module_version": "2.0.0",
      "model_name": "LayoutModel",
      "state": {}
     },
     "fec3b901dfb1433697256a7067cb3bbe": {
      "model_module": "@jupyter-widgets/base",
      "model_module_version": "2.0.0",
      "model_name": "LayoutModel",
      "state": {}
     },
     "ff0133b87ef44e4f9f5fcf9b723964b6": {
      "model_module": "@jupyter-widgets/controls",
      "model_module_version": "2.0.0",
      "model_name": "FloatProgressModel",
      "state": {
       "bar_style": "success",
       "layout": "IPY_MODEL_23a15a64ddeb40b5ad0074acb6fd3f79",
       "max": 8124,
       "style": "IPY_MODEL_d4056b0492044afb94cacac981e8614f",
       "value": 8124
      }
     },
     "ff2b9ecd5c134ebb8de529f9c60daedb": {
      "model_module": "@jupyter-widgets/controls",
      "model_module_version": "2.0.0",
      "model_name": "HTMLStyleModel",
      "state": {
       "description_width": "",
       "font_size": null,
       "text_color": null
      }
     }
    },
    "version_major": 2,
    "version_minor": 0
   }
  }
 },
 "nbformat": 4,
 "nbformat_minor": 5
}
