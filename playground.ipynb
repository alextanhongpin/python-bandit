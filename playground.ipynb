{
 "cells": [
  {
   "cell_type": "code",
   "execution_count": 1,
   "id": "d78f6d30-ea6e-41c3-a3a4-e7130158fc80",
   "metadata": {
    "execution": {
     "iopub.execute_input": "2024-01-21T13:29:46.421357Z",
     "iopub.status.busy": "2024-01-21T13:29:46.420467Z",
     "iopub.status.idle": "2024-01-21T13:29:49.396768Z",
     "shell.execute_reply": "2024-01-21T13:29:49.396010Z",
     "shell.execute_reply.started": "2024-01-21T13:29:46.421308Z"
    }
   },
   "outputs": [],
   "source": [
    "from sklearn.linear_model import LogisticRegression\n",
    "from sklearn.neighbors import KNeighborsRegressor\n",
    "from sklearn.neural_network import MLPRegressor\n",
    "from sklearn.tree import DecisionTreeRegressor\n",
    "\n",
    "import bandit\n",
    "from bandit.bandit import Bandit, PerArmBandit\n",
    "from bandit.environment import actions, get_cost, observe\n",
    "from bandit.policy import Softmax"
   ]
  },
  {
   "cell_type": "code",
   "execution_count": 2,
   "id": "c3132c14-17be-4559-9d68-0e5029460c20",
   "metadata": {
    "execution": {
     "iopub.execute_input": "2024-01-21T13:29:49.421178Z",
     "iopub.status.busy": "2024-01-21T13:29:49.417525Z",
     "iopub.status.idle": "2024-01-21T13:29:50.781369Z",
     "shell.execute_reply": "2024-01-21T13:29:50.780367Z",
     "shell.execute_reply.started": "2024-01-21T13:29:49.421143Z"
    }
   },
   "outputs": [
    {
     "name": "stdout",
     "output_type": "stream",
     "text": [
      "0\n",
      "100\n",
      "200\n",
      "300\n",
      "400\n"
     ]
    }
   ],
   "source": [
    "import numpy as np\n",
    "from sklearn.feature_extraction import FeatureHasher\n",
    "\n",
    "N = 500\n",
    "n_arms = len(actions)\n",
    "# model = LogisticRegression(random_state=42)\n",
    "# model = KNeighborsRegressor(3)\n",
    "model = MLPRegressor(random_state=42)\n",
    "bandit = Bandit(model, n_arms)\n",
    "# bandit = PerArmBandit([MLPRegressor(random_state=42) for i in range(n_arms)])\n",
    "rng = np.random.RandomState(42)\n",
    "\n",
    "policy = Softmax(tau=0.2, rng=rng)\n",
    "policy\n",
    "total_cost = 0\n",
    "avg_cost = []\n",
    "for i in range(N):\n",
    "    if i % 100 == 0:\n",
    "        print(i)\n",
    "    state = observe(rng)\n",
    "    rewards = bandit.pull(state)\n",
    "    action = policy(rewards)\n",
    "    reward = get_cost(state, actions[action])\n",
    "    bandit.update(state, action, reward)\n",
    "    total_cost += np.maximum(reward, 0)\n",
    "    avg_cost.append(total_cost / (i + 1))"
   ]
  },
  {
   "cell_type": "code",
   "execution_count": 3,
   "id": "956e5651-075f-4487-8cf5-72ad98158875",
   "metadata": {
    "execution": {
     "iopub.execute_input": "2024-01-21T13:29:50.784107Z",
     "iopub.status.busy": "2024-01-21T13:29:50.783289Z",
     "iopub.status.idle": "2024-01-21T13:29:50.794246Z",
     "shell.execute_reply": "2024-01-21T13:29:50.793275Z",
     "shell.execute_reply.started": "2024-01-21T13:29:50.784060Z"
    }
   },
   "outputs": [
    {
     "data": {
      "text/plain": [
       "368.0"
      ]
     },
     "execution_count": 3,
     "metadata": {},
     "output_type": "execute_result"
    }
   ],
   "source": [
    "total_cost"
   ]
  },
  {
   "cell_type": "code",
   "execution_count": 4,
   "id": "7647bffd-1ded-4c5b-a733-40f34358099b",
   "metadata": {
    "execution": {
     "iopub.execute_input": "2024-01-21T13:29:50.796335Z",
     "iopub.status.busy": "2024-01-21T13:29:50.795897Z",
     "iopub.status.idle": "2024-01-21T13:29:52.195487Z",
     "shell.execute_reply": "2024-01-21T13:29:52.193936Z",
     "shell.execute_reply.started": "2024-01-21T13:29:50.796307Z"
    }
   },
   "outputs": [
    {
     "data": {
      "text/plain": [
       "[<matplotlib.lines.Line2D at 0x1223fbc40>]"
      ]
     },
     "execution_count": 4,
     "metadata": {},
     "output_type": "execute_result"
    },
    {
     "data": {
      "image/png": "[encoded data removed]",
      "text/plain": [
       "<Figure size 640x480 with 1 Axes>"
      ]
     },
     "metadata": {},
     "output_type": "display_data"
    }
   ],
   "source": [
    "import matplotlib.pyplot as plt\n",
    "\n",
    "plt.plot(range(N), avg_cost)"
   ]
  },
  {
   "cell_type": "code",
   "execution_count": 5,
   "id": "7ec05108-afcf-4533-8a62-9e906873a1cf",
   "metadata": {
    "execution": {
     "iopub.execute_input": "2024-01-21T13:29:52.201755Z",
     "iopub.status.busy": "2024-01-21T13:29:52.201207Z",
     "iopub.status.idle": "2024-01-21T13:29:52.223401Z",
     "shell.execute_reply": "2024-01-21T13:29:52.222138Z",
     "shell.execute_reply.started": "2024-01-21T13:29:52.201715Z"
    }
   },
   "outputs": [
    {
     "data": {
      "text/plain": [
       "({'user': 'Anna', 'time_of_day': 'morning'}, 'sports', 1.0)"
      ]
     },
     "execution_count": 5,
     "metadata": {},
     "output_type": "execute_result"
    }
   ],
   "source": [
    "state = {\"user\": \"Anna\", \"time_of_day\": \"morning\"}\n",
    "rewards = bandit.pull(state)\n",
    "action = policy(rewards)\n",
    "reward = get_cost(state, actions[action])\n",
    "state, actions[action], reward"
   ]
  }
 ],
 "metadata": {
  "kernelspec": {
   "display_name": "Python 3 (ipykernel)",
   "language": "python",
   "name": "python3"
  },
  "language_info": {
   "codemirror_mode": {
    "name": "ipython",
    "version": 3
   },
   "file_extension": ".py",
   "mimetype": "text/x-python",
   "name": "python",
   "nbconvert_exporter": "python",
   "pygments_lexer": "ipython3",
   "version": "3.10.13"
  },
  "widgets": {
   "application/vnd.jupyter.widget-state+json": {
    "state": {},
    "version_major": 2,
    "version_minor": 0
   }
  }
 },
 "nbformat": 4,
 "nbformat_minor": 5
}
