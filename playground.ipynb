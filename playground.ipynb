{
 "cells": [
  {
   "cell_type": "code",
   "execution_count": 96,
   "id": "d78f6d30-ea6e-41c3-a3a4-e7130158fc80",
   "metadata": {
    "execution": {
     "iopub.execute_input": "2024-01-21T10:24:08.533094Z",
     "iopub.status.busy": "2024-01-21T10:24:08.532199Z",
     "iopub.status.idle": "2024-01-21T10:24:08.568200Z",
     "shell.execute_reply": "2024-01-21T10:24:08.558702Z",
     "shell.execute_reply.started": "2024-01-21T10:24:08.533049Z"
    }
   },
   "outputs": [],
   "source": [
    "import bandit\n",
    "from bandit.environment import actions, get_cost, preprocess, random_state\n",
    "from bandit.logistic import LogisticBandit, LogisticPerArmBandit\n",
    "from bandit.tree import TreeBandit, TreePerArmBandit\n",
    "from bandit.policy import Softmax"
   ]
  },
  {
   "cell_type": "code",
   "execution_count": 97,
   "id": "c5598d85-e93d-4f3f-93cc-c6ebf1bae59e",
   "metadata": {
    "execution": {
     "iopub.execute_input": "2024-01-21T10:24:08.704318Z",
     "iopub.status.busy": "2024-01-21T10:24:08.703515Z",
     "iopub.status.idle": "2024-01-21T10:24:08.720020Z",
     "shell.execute_reply": "2024-01-21T10:24:08.718778Z",
     "shell.execute_reply.started": "2024-01-21T10:24:08.704235Z"
    }
   },
   "outputs": [],
   "source": [
    "import importlib\n",
    "\n",
    "importlib.reload(bandit)\n",
    "importlib.reload(bandit.base)\n",
    "importlib.reload(bandit.logistic)\n",
    "importlib.reload(bandit.policy)\n",
    "\n",
    "from bandit.environment import get_cost, preprocess, random_state\n",
    "from bandit.logistic import LogisticBandit, LogisticPerArmBandit\n",
    "from bandit.policy import Softmax"
   ]
  },
  {
   "cell_type": "code",
   "execution_count": null,
   "id": "1f46525d-5edf-40b4-b852-5215ce12051b",
   "metadata": {},
   "outputs": [],
   "source": []
  },
  {
   "cell_type": "code",
   "execution_count": 98,
   "id": "c3132c14-17be-4559-9d68-0e5029460c20",
   "metadata": {
    "execution": {
     "iopub.execute_input": "2024-01-21T10:24:09.267173Z",
     "iopub.status.busy": "2024-01-21T10:24:09.266663Z",
     "iopub.status.idle": "2024-01-21T10:24:09.340549Z",
     "shell.execute_reply": "2024-01-21T10:24:09.337889Z",
     "shell.execute_reply.started": "2024-01-21T10:24:09.267138Z"
    }
   },
   "outputs": [
    {
     "name": "stdout",
     "output_type": "stream",
     "text": [
      "0\n"
     ]
    },
    {
     "ename": "IndexError",
     "evalue": "too many indices for array: array is 1-dimensional, but 2 were indexed",
     "output_type": "error",
     "traceback": [
      "\u001b[0;31m---------------------------------------------------------------------------\u001b[0m",
      "\u001b[0;31mIndexError\u001b[0m                                Traceback (most recent call last)",
      "Cell \u001b[0;32mIn[98], line 17\u001b[0m\n\u001b[1;32m     15\u001b[0m     \u001b[38;5;28mprint\u001b[39m(i)\n\u001b[1;32m     16\u001b[0m state \u001b[38;5;241m=\u001b[39m random_state(rng)\n\u001b[0;32m---> 17\u001b[0m rewards \u001b[38;5;241m=\u001b[39m \u001b[43mbandit\u001b[49m\u001b[38;5;241;43m.\u001b[39;49m\u001b[43mpull\u001b[49m\u001b[43m(\u001b[49m\u001b[43mstate\u001b[49m\u001b[43m)\u001b[49m\n\u001b[1;32m     18\u001b[0m action \u001b[38;5;241m=\u001b[39m policy(rewards)\n\u001b[1;32m     19\u001b[0m reward \u001b[38;5;241m=\u001b[39m get_cost(state, actions[action])\n",
      "File \u001b[0;32m~/Documents/python/python-bandit/bandit/tree.py:45\u001b[0m, in \u001b[0;36mTreeBandit.pull\u001b[0;34m(self, state)\u001b[0m\n\u001b[1;32m     41\u001b[0m \u001b[38;5;28;01mtry\u001b[39;00m:\n\u001b[1;32m     42\u001b[0m     X \u001b[38;5;241m=\u001b[39m \u001b[38;5;28mself\u001b[39m\u001b[38;5;241m.\u001b[39mpreprocess\u001b[38;5;241m.\u001b[39mtransform(\n\u001b[1;32m     43\u001b[0m         [extract_features(state, i) \u001b[38;5;28;01mfor\u001b[39;00m i \u001b[38;5;129;01min\u001b[39;00m \u001b[38;5;28mrange\u001b[39m(\u001b[38;5;28mself\u001b[39m\u001b[38;5;241m.\u001b[39mn_arms)]\n\u001b[1;32m     44\u001b[0m     )\n\u001b[0;32m---> 45\u001b[0m     \u001b[38;5;28;01mreturn\u001b[39;00m \u001b[38;5;28;43mself\u001b[39;49m\u001b[38;5;241;43m.\u001b[39;49m\u001b[43mmodel\u001b[49m\u001b[38;5;241;43m.\u001b[39;49m\u001b[43mpredict\u001b[49m\u001b[43m(\u001b[49m\u001b[43mX\u001b[49m\u001b[43m)\u001b[49m\u001b[43m[\u001b[49m\n\u001b[1;32m     46\u001b[0m \u001b[43m        \u001b[49m\u001b[43m:\u001b[49m\u001b[43m,\u001b[49m\u001b[43m \u001b[49m\u001b[38;5;241;43m-\u001b[39;49m\u001b[38;5;241;43m1\u001b[39;49m\n\u001b[1;32m     47\u001b[0m \u001b[43m    \u001b[49m\u001b[43m]\u001b[49m  \u001b[38;5;66;03m# The last class should be the positive class.\u001b[39;00m\n\u001b[1;32m     48\u001b[0m \u001b[38;5;28;01mexcept\u001b[39;00m NotFittedError:\n\u001b[1;32m     49\u001b[0m     \u001b[38;5;66;03m# This is the recommended way to generate random distribution.\u001b[39;00m\n\u001b[1;32m     50\u001b[0m     \u001b[38;5;66;03m# If you are wondering why we did not use random.uniform():\u001b[39;00m\n\u001b[1;32m     51\u001b[0m     \u001b[38;5;66;03m# https://stackoverflow.com/questions/47231852/np-random-rand-vs-np-random-random\u001b[39;00m\n\u001b[1;32m     52\u001b[0m     \u001b[38;5;28;01mreturn\u001b[39;00m \u001b[38;5;28mself\u001b[39m\u001b[38;5;241m.\u001b[39mrng\u001b[38;5;241m.\u001b[39mrandom(\u001b[38;5;28mself\u001b[39m\u001b[38;5;241m.\u001b[39mn_arms)\n",
      "\u001b[0;31mIndexError\u001b[0m: too many indices for array: array is 1-dimensional, but 2 were indexed"
     ]
    }
   ],
   "source": [
    "import numpy as np\n",
    "from sklearn.feature_extraction import FeatureHasher\n",
    "\n",
    "N = 500\n",
    "n_arms = len(actions)\n",
    "bandit = TreeBandit(n_arms)\n",
    "rng = np.random.RandomState(42)\n",
    "\n",
    "policy = Softmax(tau=0.2, rng=rng)\n",
    "policy\n",
    "total_cost = 0\n",
    "avg_cost = []\n",
    "for i in range(N):\n",
    "    if i % 100 == 0:\n",
    "        print(i)\n",
    "    state = random_state(rng)\n",
    "    rewards = bandit.pull(state)\n",
    "    action = policy(rewards)\n",
    "    reward = get_cost(state, actions[action])\n",
    "    bandit.update(state, action, reward)\n",
    "    total_cost += np.maximum(reward, 0)\n",
    "    avg_cost.append(total_cost / (i + 1))"
   ]
  },
  {
   "cell_type": "code",
   "execution_count": 92,
   "id": "956e5651-075f-4487-8cf5-72ad98158875",
   "metadata": {
    "execution": {
     "iopub.execute_input": "2024-01-21T10:16:39.581690Z",
     "iopub.status.busy": "2024-01-21T10:16:39.579864Z",
     "iopub.status.idle": "2024-01-21T10:16:39.637678Z",
     "shell.execute_reply": "2024-01-21T10:16:39.634533Z",
     "shell.execute_reply.started": "2024-01-21T10:16:39.581631Z"
    }
   },
   "outputs": [
    {
     "data": {
      "text/plain": [
       "304.0"
      ]
     },
     "execution_count": 92,
     "metadata": {},
     "output_type": "execute_result"
    }
   ],
   "source": [
    "total_cost"
   ]
  },
  {
   "cell_type": "code",
   "execution_count": 93,
   "id": "7647bffd-1ded-4c5b-a733-40f34358099b",
   "metadata": {
    "execution": {
     "iopub.execute_input": "2024-01-21T10:16:41.131895Z",
     "iopub.status.busy": "2024-01-21T10:16:41.131483Z",
     "iopub.status.idle": "2024-01-21T10:16:41.453359Z",
     "shell.execute_reply": "2024-01-21T10:16:41.451786Z",
     "shell.execute_reply.started": "2024-01-21T10:16:41.131866Z"
    }
   },
   "outputs": [
    {
     "data": {
      "text/plain": [
       "[<matplotlib.lines.Line2D at 0x127a89ff0>]"
      ]
     },
     "execution_count": 93,
     "metadata": {},
     "output_type": "execute_result"
    },
    {
     "data": {
      "image/png": "[encoded data removed]",
      "text/plain": [
       "<Figure size 640x480 with 1 Axes>"
      ]
     },
     "metadata": {},
     "output_type": "display_data"
    }
   ],
   "source": [
    "import matplotlib.pyplot as plt\n",
    "\n",
    "plt.plot(range(N), avg_cost)"
   ]
  },
  {
   "cell_type": "code",
   "execution_count": null,
   "id": "7ec05108-afcf-4533-8a62-9e906873a1cf",
   "metadata": {
    "execution": {
     "iopub.status.busy": "2024-01-21T10:13:22.607734Z",
     "iopub.status.idle": "2024-01-21T10:13:22.608574Z",
     "shell.execute_reply": "2024-01-21T10:13:22.608379Z",
     "shell.execute_reply.started": "2024-01-21T10:13:22.608359Z"
    }
   },
   "outputs": [],
   "source": [
    "acts = []\n",
    "for i in range(10):\n",
    "    state = {\"user\": \"Anna\", \"time_of_day\": \"morning\"}\n",
    "    rewards = bandit.pull(state)\n",
    "    action = policy(rewards)\n",
    "    reward = get_cost(state, actions[action])\n",
    "    rewards, action, actions[action], reward, policy.softmax(rewards), np.random.choice(\n",
    "        range(n_arms), p=policy.softmax(rewards)\n",
    "    )\n",
    "    acts.append(actions[action])\n",
    "acts"
   ]
  },
  {
   "cell_type": "code",
   "execution_count": 9,
   "id": "e5f529a0-84d0-425f-b7b1-6136a6f93019",
   "metadata": {
    "execution": {
     "iopub.execute_input": "2024-01-21T09:58:24.911567Z",
     "iopub.status.busy": "2024-01-21T09:58:24.909511Z",
     "iopub.status.idle": "2024-01-21T09:58:24.935267Z",
     "shell.execute_reply": "2024-01-21T09:58:24.933832Z",
     "shell.execute_reply.started": "2024-01-21T09:58:24.911513Z"
    }
   },
   "outputs": [
    {
     "data": {
      "text/plain": [
       "array([0.44780092, 0.72917191, 0.09078952, 0.06593016, 0.0845519 ,\n",
       "       0.10971673, 0.09669983])"
      ]
     },
     "execution_count": 9,
     "metadata": {},
     "output_type": "execute_result"
    }
   ],
   "source": [
    "X = bandit.preprocess.transform([{\"_action\": i} | state for i in range(n_arms)])\n",
    "bandit.model.predict_proba(X)[:, -1]"
   ]
  },
  {
   "cell_type": "code",
   "execution_count": 10,
   "id": "9789108a-5bb9-4f0b-afa9-c001d3da1499",
   "metadata": {
    "execution": {
     "iopub.execute_input": "2024-01-21T09:58:24.946081Z",
     "iopub.status.busy": "2024-01-21T09:58:24.944889Z",
     "iopub.status.idle": "2024-01-21T09:58:24.968617Z",
     "shell.execute_reply": "2024-01-21T09:58:24.963851Z",
     "shell.execute_reply.started": "2024-01-21T09:58:24.946038Z"
    }
   },
   "outputs": [
    {
     "data": {
      "text/plain": [
       "1.0"
      ]
     },
     "execution_count": 10,
     "metadata": {},
     "output_type": "execute_result"
    }
   ],
   "source": [
    "reward = get_cost(state, \"sports\")\n",
    "reward"
   ]
  },
  {
   "cell_type": "code",
   "execution_count": 11,
   "id": "ed910d8d-4583-47de-80f8-fca95a81bbbf",
   "metadata": {
    "execution": {
     "iopub.execute_input": "2024-01-21T09:58:24.977882Z",
     "iopub.status.busy": "2024-01-21T09:58:24.977242Z",
     "iopub.status.idle": "2024-01-21T09:58:24.989132Z",
     "shell.execute_reply": "2024-01-21T09:58:24.984469Z",
     "shell.execute_reply.started": "2024-01-21T09:58:24.977830Z"
    }
   },
   "outputs": [],
   "source": [
    "# for i in range(100):\n",
    "#     bandit.update(state, 1, 1)"
   ]
  },
  {
   "cell_type": "code",
   "execution_count": 12,
   "id": "77e1d318-b6aa-4839-ad23-f149b96fc943",
   "metadata": {
    "execution": {
     "iopub.execute_input": "2024-01-21T09:58:25.011760Z",
     "iopub.status.busy": "2024-01-21T09:58:25.009591Z",
     "iopub.status.idle": "2024-01-21T09:58:25.040168Z",
     "shell.execute_reply": "2024-01-21T09:58:25.035831Z",
     "shell.execute_reply.started": "2024-01-21T09:58:25.011676Z"
    }
   },
   "outputs": [
    {
     "data": {
      "text/plain": [
       "array([-1.,  1.])"
      ]
     },
     "execution_count": 12,
     "metadata": {},
     "output_type": "execute_result"
    }
   ],
   "source": [
    "bandit.model.classes_"
   ]
  },
  {
   "cell_type": "code",
   "execution_count": 35,
   "id": "666c3cf1-8ac6-41df-a0c5-ba66fe891871",
   "metadata": {
    "execution": {
     "iopub.execute_input": "2024-01-21T10:04:21.258736Z",
     "iopub.status.busy": "2024-01-21T10:04:21.257930Z",
     "iopub.status.idle": "2024-01-21T10:04:21.296054Z",
     "shell.execute_reply": "2024-01-21T10:04:21.286042Z",
     "shell.execute_reply.started": "2024-01-21T10:04:21.258678Z"
    }
   },
   "outputs": [
    {
     "name": "stdout",
     "output_type": "stream",
     "text": [
      "user:Anna^action:1\n",
      "time_of_day:morning^action:1\n"
     ]
    }
   ],
   "source": [
    "from itertools import product\n",
    "\n",
    "state = {\"user\": \"Anna\", \"time_of_day\": \"morning\"}\n",
    "\n",
    "for kvs in product(state.items(), [(\"action\", 1)]):\n",
    "    print(\"^\".join([f\"{k}:{v}\" for k, v in kvs]))"
   ]
  },
  {
   "cell_type": "code",
   "execution_count": null,
   "id": "d77d4eb4-34dc-4b1e-bd21-c4a98bb04522",
   "metadata": {},
   "outputs": [],
   "source": []
  }
 ],
 "metadata": {
  "kernelspec": {
   "display_name": "Python 3 (ipykernel)",
   "language": "python",
   "name": "python3"
  },
  "language_info": {
   "codemirror_mode": {
    "name": "ipython",
    "version": 3
   },
   "file_extension": ".py",
   "mimetype": "text/x-python",
   "name": "python",
   "nbconvert_exporter": "python",
   "pygments_lexer": "ipython3",
   "version": "3.10.13"
  },
  "widgets": {
   "application/vnd.jupyter.widget-state+json": {
    "state": {},
    "version_major": 2,
    "version_minor": 0
   }
  }
 },
 "nbformat": 4,
 "nbformat_minor": 5
}
