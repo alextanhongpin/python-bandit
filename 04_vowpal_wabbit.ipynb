{
 "cells": [
  {
   "cell_type": "markdown",
   "id": "3fc55806-6e1a-4e57-8889-c63103467a20",
   "metadata": {},
   "source": [
    "# Contextual Bandit using Vowpal Wabbit\n",
    "\n",
    "https://vowpalwabbit.org/docs/vowpal_wabbit/python/latest/tutorials/python_Contextual_bandits_and_Vowpal_Wabbit.html"
   ]
  },
  {
   "cell_type": "code",
   "execution_count": 1,
   "id": "18416dba-12d0-429c-8a85-9578139579e9",
   "metadata": {},
   "outputs": [],
   "source": [
    "import pandas as pd"
   ]
  },
  {
   "cell_type": "code",
   "execution_count": 2,
   "id": "150d5bca-0825-4448-be43-65f94668f7cc",
   "metadata": {},
   "outputs": [
    {
     "data": {
      "text/html": [
       "<div>\n",
       "<style scoped>\n",
       "    .dataframe tbody tr th:only-of-type {\n",
       "        vertical-align: middle;\n",
       "    }\n",
       "\n",
       "    .dataframe tbody tr th {\n",
       "        vertical-align: top;\n",
       "    }\n",
       "\n",
       "    .dataframe thead th {\n",
       "        text-align: right;\n",
       "    }\n",
       "</style>\n",
       "<table border=\"1\" class=\"dataframe\">\n",
       "  <thead>\n",
       "    <tr style=\"text-align: right;\">\n",
       "      <th></th>\n",
       "      <th>action</th>\n",
       "      <th>cost</th>\n",
       "      <th>probability</th>\n",
       "      <th>feature1</th>\n",
       "      <th>feature2</th>\n",
       "      <th>feature3</th>\n",
       "    </tr>\n",
       "    <tr>\n",
       "      <th>index</th>\n",
       "      <th></th>\n",
       "      <th></th>\n",
       "      <th></th>\n",
       "      <th></th>\n",
       "      <th></th>\n",
       "      <th></th>\n",
       "    </tr>\n",
       "  </thead>\n",
       "  <tbody>\n",
       "    <tr>\n",
       "      <th>1</th>\n",
       "      <td>1</td>\n",
       "      <td>2</td>\n",
       "      <td>0.4</td>\n",
       "      <td>a</td>\n",
       "      <td>c</td>\n",
       "      <td></td>\n",
       "    </tr>\n",
       "    <tr>\n",
       "      <th>2</th>\n",
       "      <td>3</td>\n",
       "      <td>0</td>\n",
       "      <td>0.2</td>\n",
       "      <td>b</td>\n",
       "      <td>d</td>\n",
       "      <td></td>\n",
       "    </tr>\n",
       "    <tr>\n",
       "      <th>3</th>\n",
       "      <td>4</td>\n",
       "      <td>1</td>\n",
       "      <td>0.5</td>\n",
       "      <td>a</td>\n",
       "      <td>b</td>\n",
       "      <td></td>\n",
       "    </tr>\n",
       "    <tr>\n",
       "      <th>4</th>\n",
       "      <td>2</td>\n",
       "      <td>1</td>\n",
       "      <td>0.3</td>\n",
       "      <td>a</td>\n",
       "      <td>b</td>\n",
       "      <td>c</td>\n",
       "    </tr>\n",
       "    <tr>\n",
       "      <th>5</th>\n",
       "      <td>3</td>\n",
       "      <td>1</td>\n",
       "      <td>0.7</td>\n",
       "      <td>a</td>\n",
       "      <td>d</td>\n",
       "      <td></td>\n",
       "    </tr>\n",
       "  </tbody>\n",
       "</table>\n",
       "</div>"
      ],
      "text/plain": [
       "       action  cost  probability feature1 feature2 feature3\n",
       "index                                                      \n",
       "1           1     2          0.4        a        c         \n",
       "2           3     0          0.2        b        d         \n",
       "3           4     1          0.5        a        b         \n",
       "4           2     1          0.3        a        b        c\n",
       "5           3     1          0.7        a        d         "
      ]
     },
     "execution_count": 2,
     "metadata": {},
     "output_type": "execute_result"
    }
   ],
   "source": [
    "train_data = [\n",
    "    {\n",
    "        \"action\": 1,\n",
    "        \"cost\": 2,\n",
    "        \"probability\": 0.4,\n",
    "        \"feature1\": \"a\",\n",
    "        \"feature2\": \"c\",\n",
    "        \"feature3\": \"\",\n",
    "    },\n",
    "    {\n",
    "        \"action\": 3,\n",
    "        \"cost\": 0,\n",
    "        \"probability\": 0.2,\n",
    "        \"feature1\": \"b\",\n",
    "        \"feature2\": \"d\",\n",
    "        \"feature3\": \"\",\n",
    "    },\n",
    "    {\n",
    "        \"action\": 4,\n",
    "        \"cost\": 1,\n",
    "        \"probability\": 0.5,\n",
    "        \"feature1\": \"a\",\n",
    "        \"feature2\": \"b\",\n",
    "        \"feature3\": \"\",\n",
    "    },\n",
    "    {\n",
    "        \"action\": 2,\n",
    "        \"cost\": 1,\n",
    "        \"probability\": 0.3,\n",
    "        \"feature1\": \"a\",\n",
    "        \"feature2\": \"b\",\n",
    "        \"feature3\": \"c\",\n",
    "    },\n",
    "    {\n",
    "        \"action\": 3,\n",
    "        \"cost\": 1,\n",
    "        \"probability\": 0.7,\n",
    "        \"feature1\": \"a\",\n",
    "        \"feature2\": \"d\",\n",
    "        \"feature3\": \"\",\n",
    "    },\n",
    "]\n",
    "\n",
    "train_df = pd.DataFrame(train_data)\n",
    "\n",
    "# Add index to data frame\n",
    "train_df[\"index\"] = range(1, len(train_df) + 1)\n",
    "train_df = train_df.set_index(\"index\")\n",
    "train_df"
   ]
  },
  {
   "cell_type": "code",
   "execution_count": 3,
   "id": "0081d0bb-617e-4e1e-ae08-912da05e912b",
   "metadata": {},
   "outputs": [
    {
     "data": {
      "text/html": [
       "<div>\n",
       "<style scoped>\n",
       "    .dataframe tbody tr th:only-of-type {\n",
       "        vertical-align: middle;\n",
       "    }\n",
       "\n",
       "    .dataframe tbody tr th {\n",
       "        vertical-align: top;\n",
       "    }\n",
       "\n",
       "    .dataframe thead th {\n",
       "        text-align: right;\n",
       "    }\n",
       "</style>\n",
       "<table border=\"1\" class=\"dataframe\">\n",
       "  <thead>\n",
       "    <tr style=\"text-align: right;\">\n",
       "      <th></th>\n",
       "      <th>feature1</th>\n",
       "      <th>feature2</th>\n",
       "      <th>feature3</th>\n",
       "    </tr>\n",
       "    <tr>\n",
       "      <th>index</th>\n",
       "      <th></th>\n",
       "      <th></th>\n",
       "      <th></th>\n",
       "    </tr>\n",
       "  </thead>\n",
       "  <tbody>\n",
       "    <tr>\n",
       "      <th>1</th>\n",
       "      <td>b</td>\n",
       "      <td>c</td>\n",
       "      <td></td>\n",
       "    </tr>\n",
       "    <tr>\n",
       "      <th>2</th>\n",
       "      <td>a</td>\n",
       "      <td></td>\n",
       "      <td>b</td>\n",
       "    </tr>\n",
       "    <tr>\n",
       "      <th>3</th>\n",
       "      <td>b</td>\n",
       "      <td>b</td>\n",
       "      <td></td>\n",
       "    </tr>\n",
       "    <tr>\n",
       "      <th>4</th>\n",
       "      <td>a</td>\n",
       "      <td></td>\n",
       "      <td>b</td>\n",
       "    </tr>\n",
       "  </tbody>\n",
       "</table>\n",
       "</div>"
      ],
      "text/plain": [
       "      feature1 feature2 feature3\n",
       "index                           \n",
       "1            b        c         \n",
       "2            a                 b\n",
       "3            b        b         \n",
       "4            a                 b"
      ]
     },
     "execution_count": 3,
     "metadata": {},
     "output_type": "execute_result"
    }
   ],
   "source": [
    "test_data = [\n",
    "    {\"feature1\": \"b\", \"feature2\": \"c\", \"feature3\": \"\"},\n",
    "    {\"feature1\": \"a\", \"feature2\": \"\", \"feature3\": \"b\"},\n",
    "    {\"feature1\": \"b\", \"feature2\": \"b\", \"feature3\": \"\"},\n",
    "    {\"feature1\": \"a\", \"feature2\": \"\", \"feature3\": \"b\"},\n",
    "]\n",
    "\n",
    "test_df = pd.DataFrame(test_data)\n",
    "\n",
    "# Add index to data frame\n",
    "test_df[\"index\"] = range(1, len(test_df) + 1)\n",
    "test_df = test_df.set_index(\"index\")\n",
    "test_df"
   ]
  },
  {
   "cell_type": "code",
   "execution_count": 4,
   "id": "297fd342-1b3a-4861-b88a-94e5628c4d3a",
   "metadata": {},
   "outputs": [
    {
     "name": "stderr",
     "output_type": "stream",
     "text": [
      "using no cache\n",
      "Reading datafile = none\n",
      "num sources = 0\n",
      "Num weight bits = 18\n",
      "learning rate = 0.5\n",
      "initial_t = 0\n",
      "power_t = 0.5\n",
      "cb_type = mtr\n",
      "Enabled learners: gd, scorer-identity, csoaa_ldf-rank, cb_adf, shared_feature_merger, cb_to_cbadf\n",
      "Input label = CB\n",
      "Output pred = MULTICLASS\n",
      "average  since         example        example        current        current  current\n",
      "loss     last          counter         weight          label        predict features\n"
     ]
    }
   ],
   "source": [
    "import vowpalwabbit\n",
    "\n",
    "vw = vowpalwabbit.Workspace(\"--cb 4\", quiet=False)"
   ]
  },
  {
   "cell_type": "code",
   "execution_count": 5,
   "id": "5e59a977-229c-4aa1-8aaa-250aaaf2d135",
   "metadata": {},
   "outputs": [
    {
     "name": "stderr",
     "output_type": "stream",
     "text": [
      "5.000000 5.000000            1            1.0        0:2:0.4            0:0       12\n",
      "2.500000 0.000000            2            2.0        2:0:0.2            1:0       12\n",
      "2.083333 1.666667            4            4.0        1:1:0.3            1:0       16\n"
     ]
    }
   ],
   "source": [
    "for i in train_df.index:\n",
    "    action, cost, probability, feature1, feature2, feature3 = train_df.loc[i]\n",
    "\n",
    "    # Construct the example in the required vw format.\n",
    "    learn_example = f\"{action}:{cost}:{probability} | {feature1} {feature2} {feature3}\"\n",
    "\n",
    "    # Here we do the actual learning.\n",
    "    vw.learn(learn_example)"
   ]
  },
  {
   "cell_type": "code",
   "execution_count": 6,
   "id": "3a8d7319-3cf2-4157-adcd-b916ed8ed1e1",
   "metadata": {},
   "outputs": [
    {
     "name": "stdout",
     "output_type": "stream",
     "text": [
      "1 3\n",
      "2 3\n",
      "3 3\n",
      "4 3\n"
     ]
    },
    {
     "name": "stderr",
     "output_type": "stream",
     "text": [
      "1.952381 1.428571            8            8.0        unknown         2:0.13       12\n"
     ]
    }
   ],
   "source": [
    "for j in test_df.index:\n",
    "    feature1, feature2, feature3 = test_df.loc[j]\n",
    "    test_example = f\"| {feature1} {feature2} {feature3}\"\n",
    "    choice = vw.predict(test_example)\n",
    "    print(j, choice)"
   ]
  },
  {
   "cell_type": "code",
   "execution_count": 7,
   "id": "0a29c968-6995-46c1-8dd3-1a5631e7b47b",
   "metadata": {},
   "outputs": [
    {
     "name": "stdout",
     "output_type": "stream",
     "text": [
      "3\n"
     ]
    },
    {
     "name": "stderr",
     "output_type": "stream",
     "text": [
      "\n",
      "finished run\n",
      "number of examples = 9\n",
      "weighted example sum = 9.000000\n",
      "weighted label sum = 0.000000\n",
      "average loss = 1.952381\n",
      "total feature number = 112\n"
     ]
    }
   ],
   "source": [
    "vw.save(\"cb.model\")\n",
    "del vw\n",
    "\n",
    "vw = vowpalwabbit.Workspace(\"--cb 4 -i cb.model\", quiet=True)\n",
    "print(vw.predict(\"| a b\"))"
   ]
  },
  {
   "cell_type": "code",
   "execution_count": 8,
   "id": "d95872e0-4bea-4445-81ce-de3d0dfaf6c7",
   "metadata": {},
   "outputs": [
    {
     "name": "stdout",
     "output_type": "stream",
     "text": [
      "3\n"
     ]
    }
   ],
   "source": [
    "print(vw.predict(\"| a\"))"
   ]
  },
  {
   "cell_type": "code",
   "execution_count": 9,
   "id": "4db3cc77-5c49-45c8-b3e0-7e0f9c442c45",
   "metadata": {},
   "outputs": [
    {
     "name": "stdout",
     "output_type": "stream",
     "text": [
      "3\n"
     ]
    }
   ],
   "source": [
    "print(vw.predict(\"| b\"))"
   ]
  },
  {
   "cell_type": "code",
   "execution_count": 10,
   "id": "421229bf-9876-4ebf-9839-3af90ca917c5",
   "metadata": {},
   "outputs": [
    {
     "name": "stdout",
     "output_type": "stream",
     "text": [
      "3\n"
     ]
    }
   ],
   "source": [
    "print(vw.predict(\"| a b c\"))"
   ]
  },
  {
   "cell_type": "code",
   "execution_count": 11,
   "id": "ec804c91-31f3-4720-9075-ccf12049c747",
   "metadata": {},
   "outputs": [
    {
     "name": "stdout",
     "output_type": "stream",
     "text": [
      "4\n"
     ]
    }
   ],
   "source": [
    "print(vw.predict(\"| a d\"))"
   ]
  },
  {
   "cell_type": "code",
   "execution_count": 12,
   "id": "1dd611a9-e711-448e-b9c0-5315d2d7173d",
   "metadata": {},
   "outputs": [
    {
     "name": "stdin",
     "output_type": "stream",
     "text": [
      "enter a number between 1 to 4: -1\n"
     ]
    }
   ],
   "source": [
    "while True:\n",
    "    n = input(\"enter a number between 1 to 4:\") or \"1\"\n",
    "    action, cost, probability = int(n), 1, 0.25\n",
    "    if action < 0:\n",
    "        break\n",
    "    # Construct the example in the required vw format.\n",
    "    learn_example = f\"{action}:{cost}:{probability} | a b\"\n",
    "\n",
    "    # Here we do the actual learning.\n",
    "    vw.learn(learn_example)\n",
    "\n",
    "    print(vw.predict(\"| a b\"))"
   ]
  }
 ],
 "metadata": {
  "kernelspec": {
   "display_name": "Python 3 (ipykernel)",
   "language": "python",
   "name": "python3"
  },
  "language_info": {
   "codemirror_mode": {
    "name": "ipython",
    "version": 3
   },
   "file_extension": ".py",
   "mimetype": "text/x-python",
   "name": "python",
   "nbconvert_exporter": "python",
   "pygments_lexer": "ipython3",
   "version": "3.10.13"
  },
  "widgets": {
   "application/vnd.jupyter.widget-state+json": {
    "state": {},
    "version_major": 2,
    "version_minor": 0
   }
  }
 },
 "nbformat": 4,
 "nbformat_minor": 5
}
